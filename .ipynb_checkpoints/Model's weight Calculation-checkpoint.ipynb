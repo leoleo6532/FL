{
 "cells": [
  {
   "cell_type": "code",
   "execution_count": 1,
   "metadata": {},
   "outputs": [
    {
     "name": "stderr",
     "output_type": "stream",
     "text": [
      "/home/leo6532/.local/lib/python3.6/site-packages/tensorflow/python/framework/dtypes.py:516: FutureWarning: Passing (type, 1) or '1type' as a synonym of type is deprecated; in a future version of numpy, it will be understood as (type, (1,)) / '(1,)type'.\n",
      "  _np_qint8 = np.dtype([(\"qint8\", np.int8, 1)])\n",
      "/home/leo6532/.local/lib/python3.6/site-packages/tensorflow/python/framework/dtypes.py:517: FutureWarning: Passing (type, 1) or '1type' as a synonym of type is deprecated; in a future version of numpy, it will be understood as (type, (1,)) / '(1,)type'.\n",
      "  _np_quint8 = np.dtype([(\"quint8\", np.uint8, 1)])\n",
      "/home/leo6532/.local/lib/python3.6/site-packages/tensorflow/python/framework/dtypes.py:518: FutureWarning: Passing (type, 1) or '1type' as a synonym of type is deprecated; in a future version of numpy, it will be understood as (type, (1,)) / '(1,)type'.\n",
      "  _np_qint16 = np.dtype([(\"qint16\", np.int16, 1)])\n",
      "/home/leo6532/.local/lib/python3.6/site-packages/tensorflow/python/framework/dtypes.py:519: FutureWarning: Passing (type, 1) or '1type' as a synonym of type is deprecated; in a future version of numpy, it will be understood as (type, (1,)) / '(1,)type'.\n",
      "  _np_quint16 = np.dtype([(\"quint16\", np.uint16, 1)])\n",
      "/home/leo6532/.local/lib/python3.6/site-packages/tensorflow/python/framework/dtypes.py:520: FutureWarning: Passing (type, 1) or '1type' as a synonym of type is deprecated; in a future version of numpy, it will be understood as (type, (1,)) / '(1,)type'.\n",
      "  _np_qint32 = np.dtype([(\"qint32\", np.int32, 1)])\n",
      "/home/leo6532/.local/lib/python3.6/site-packages/tensorflow/python/framework/dtypes.py:525: FutureWarning: Passing (type, 1) or '1type' as a synonym of type is deprecated; in a future version of numpy, it will be understood as (type, (1,)) / '(1,)type'.\n",
      "  np_resource = np.dtype([(\"resource\", np.ubyte, 1)])\n",
      "/home/leo6532/.local/lib/python3.6/site-packages/tensorboard/compat/tensorflow_stub/dtypes.py:541: FutureWarning: Passing (type, 1) or '1type' as a synonym of type is deprecated; in a future version of numpy, it will be understood as (type, (1,)) / '(1,)type'.\n",
      "  _np_qint8 = np.dtype([(\"qint8\", np.int8, 1)])\n",
      "/home/leo6532/.local/lib/python3.6/site-packages/tensorboard/compat/tensorflow_stub/dtypes.py:542: FutureWarning: Passing (type, 1) or '1type' as a synonym of type is deprecated; in a future version of numpy, it will be understood as (type, (1,)) / '(1,)type'.\n",
      "  _np_quint8 = np.dtype([(\"quint8\", np.uint8, 1)])\n",
      "/home/leo6532/.local/lib/python3.6/site-packages/tensorboard/compat/tensorflow_stub/dtypes.py:543: FutureWarning: Passing (type, 1) or '1type' as a synonym of type is deprecated; in a future version of numpy, it will be understood as (type, (1,)) / '(1,)type'.\n",
      "  _np_qint16 = np.dtype([(\"qint16\", np.int16, 1)])\n",
      "/home/leo6532/.local/lib/python3.6/site-packages/tensorboard/compat/tensorflow_stub/dtypes.py:544: FutureWarning: Passing (type, 1) or '1type' as a synonym of type is deprecated; in a future version of numpy, it will be understood as (type, (1,)) / '(1,)type'.\n",
      "  _np_quint16 = np.dtype([(\"quint16\", np.uint16, 1)])\n",
      "/home/leo6532/.local/lib/python3.6/site-packages/tensorboard/compat/tensorflow_stub/dtypes.py:545: FutureWarning: Passing (type, 1) or '1type' as a synonym of type is deprecated; in a future version of numpy, it will be understood as (type, (1,)) / '(1,)type'.\n",
      "  _np_qint32 = np.dtype([(\"qint32\", np.int32, 1)])\n",
      "/home/leo6532/.local/lib/python3.6/site-packages/tensorboard/compat/tensorflow_stub/dtypes.py:550: FutureWarning: Passing (type, 1) or '1type' as a synonym of type is deprecated; in a future version of numpy, it will be understood as (type, (1,)) / '(1,)type'.\n",
      "  np_resource = np.dtype([(\"resource\", np.ubyte, 1)])\n"
     ]
    }
   ],
   "source": [
    "import syft as sy\n",
    "import copy\n",
    "import torch\n",
    "import torch.nn as nn\n",
    "from torchvision import datasets ,models,transforms\n",
    "from torch.utils.data.sampler import SubsetRandomSampler\n",
    "from torch.optim import lr_scheduler\n",
    "from pathlib import Path\n",
    "from matplotlib import pyplot as plt\n",
    "import numpy as np\n",
    "import torch.nn.functional as F\n",
    "from torch.autograd import Variable\n",
    "from sklearn.model_selection import train_test_split\n",
    "import matplotlib.pyplot as plt"
   ]
  },
  {
   "cell_type": "code",
   "execution_count": 2,
   "metadata": {},
   "outputs": [
    {
     "name": "stdout",
     "output_type": "stream",
     "text": [
      "CUDA is available!  Training on GPU ...\n"
     ]
    }
   ],
   "source": [
    "#Determine if there is a GPU\n",
    "train_on_gpu = torch.cuda.is_available()\n",
    "#device = torch.device('cuda' if torch.cuda.is_available() else 'cpu')\n",
    "if not train_on_gpu:\n",
    "    print('CUDA is not available.  Training on CPU ...')\n",
    "else:\n",
    "    print('CUDA is available!  Training on GPU ...')"
   ]
  },
  {
   "cell_type": "code",
   "execution_count": 3,
   "metadata": {},
   "outputs": [],
   "source": [
    "PATH_train=\"./train\"\n",
    "PATH_val=\"./val\"\n",
    "PATH_test=\"./test\""
   ]
  },
  {
   "cell_type": "code",
   "execution_count": 4,
   "metadata": {},
   "outputs": [
    {
     "name": "stdout",
     "output_type": "stream",
     "text": [
      "train\n",
      "val\n",
      "test\n"
     ]
    }
   ],
   "source": [
    "TRAIN =Path(PATH_train)\n",
    "VALID = Path(PATH_val)\n",
    "TEST=Path(PATH_test)\n",
    "print(TRAIN)\n",
    "print(VALID)\n",
    "print(TEST)"
   ]
  },
  {
   "cell_type": "code",
   "execution_count": 5,
   "metadata": {},
   "outputs": [],
   "source": [
    "# number of subprocesses to use for data loading\n",
    "num_workers = 0\n",
    "# how many samples per batch to load\n",
    "batch_size = 32\n",
    "# learning rate\n",
    "LR = 0.001"
   ]
  },
  {
   "cell_type": "code",
   "execution_count": 6,
   "metadata": {},
   "outputs": [],
   "source": [
    "# convert data to a normalized torch.FloatTensor\n",
    "train_transforms = transforms.Compose([transforms.Resize((50,50)),\n",
    "                                      transforms.ToTensor(),\n",
    "                                      transforms.Normalize([0.485, 0.456, 0.406],\n",
    "                                                           [0.229, 0.224, 0.225])])\n",
    "\n",
    "valid_transforms = transforms.Compose([transforms.Resize((50,50)),\n",
    "                                      transforms.ToTensor(),\n",
    "                                      transforms.Normalize([0.485, 0.456, 0.406],\n",
    "                                                           [0.229, 0.224, 0.225])])\n",
    "\n",
    "test_transforms = transforms.Compose([transforms.Resize((50,50)),\n",
    "                                      transforms.ToTensor(),\n",
    "                                      transforms.Normalize([0.485, 0.456, 0.406],\n",
    "                                                           [0.229, 0.224, 0.225])])"
   ]
  },
  {
   "cell_type": "code",
   "execution_count": 7,
   "metadata": {},
   "outputs": [],
   "source": [
    "# choose the training and test datasets\n",
    "train_data = datasets.ImageFolder(TRAIN, transform=train_transforms)\n",
    "valid_data = datasets.ImageFolder(VALID,transform=valid_transforms)\n",
    "test_data = datasets.ImageFolder(TEST, transform=test_transforms)\n"
   ]
  },
  {
   "cell_type": "code",
   "execution_count": 8,
   "metadata": {},
   "outputs": [
    {
     "data": {
      "text/plain": [
       "Dataset ImageFolder\n",
       "    Number of datapoints: 1622\n",
       "    Root location: test\n",
       "    StandardTransform\n",
       "Transform: Compose(\n",
       "               Resize(size=(50, 50), interpolation=PIL.Image.BILINEAR)\n",
       "               ToTensor()\n",
       "               Normalize(mean=[0.485, 0.456, 0.406], std=[0.229, 0.224, 0.225])\n",
       "           )"
      ]
     },
     "execution_count": 8,
     "metadata": {},
     "output_type": "execute_result"
    }
   ],
   "source": [
    "test_data"
   ]
  },
  {
   "cell_type": "code",
   "execution_count": 9,
   "metadata": {},
   "outputs": [
    {
     "name": "stdout",
     "output_type": "stream",
     "text": [
      "{'sick': 0, 'unsick': 1}\n",
      "{'sick': 0, 'unsick': 1}\n",
      "{'sick': 0, 'unsick': 1}\n"
     ]
    }
   ],
   "source": [
    "print(train_data.class_to_idx)\n",
    "print(valid_data.class_to_idx)\n",
    "print(test_data.class_to_idx)"
   ]
  },
  {
   "cell_type": "code",
   "execution_count": 10,
   "metadata": {},
   "outputs": [],
   "source": [
    "# prepare data loaders (combine dataset and sampler)\n",
    "train_loader = torch.utils.data.DataLoader(train_data, batch_size=batch_size, num_workers=num_workers,shuffle=True)\n",
    "valid_loader = torch.utils.data.DataLoader(valid_data, batch_size=batch_size,  num_workers=num_workers,shuffle=True)\n",
    "test_loader = torch.utils.data.DataLoader(test_data, batch_size=batch_size,  num_workers=num_workers)"
   ]
  },
  {
   "cell_type": "code",
   "execution_count": 11,
   "metadata": {},
   "outputs": [
    {
     "data": {
      "text/plain": [
       "(torch.Size([32, 3, 50, 50]), torch.Size([32]))"
      ]
     },
     "execution_count": 11,
     "metadata": {},
     "output_type": "execute_result"
    }
   ],
   "source": [
    "images,labels=next(iter(train_loader))\n",
    "images.shape,labels.shape"
   ]
  },
  {
   "cell_type": "code",
   "execution_count": 12,
   "metadata": {},
   "outputs": [],
   "source": [
    "import matplotlib.pyplot as plt\n",
    "%matplotlib inline\n",
    "classes = ['sick','unsick']\n",
    "mean , std = torch.tensor([0.485, 0.456, 0.406]),torch.tensor([0.229, 0.224, 0.225])\n",
    "\n",
    "\n",
    "def denormalize(image):\n",
    "  image = transforms.Normalize(-mean/std,1/std)(image) #denormalize\n",
    "  image = image.permute(1,2,0) #Changing from 3x224x224 to 224x224x3\n",
    "  image = torch.clamp(image,0,1)\n",
    "  return image\n",
    "\n",
    "# helper function to un-normalize and display an image\n",
    "def imshow(img):\n",
    "    img = denormalize(img) \n",
    "    plt.imshow(img)"
   ]
  },
  {
   "cell_type": "code",
   "execution_count": 13,
   "metadata": {},
   "outputs": [
    {
     "data": {
      "image/png": "[encoded data removed]",
      "text/plain": [
       "<Figure size 432x288 with 1 Axes>"
      ]
     },
     "metadata": {
      "needs_background": "light"
     },
     "output_type": "display_data"
    }
   ],
   "source": [
    "imshow(images[0])"
   ]
  },
  {
   "cell_type": "code",
   "execution_count": 14,
   "metadata": {},
   "outputs": [],
   "source": [
    "#imshow(images[2])"
   ]
  },
  {
   "cell_type": "code",
   "execution_count": 15,
   "metadata": {},
   "outputs": [
    {
     "name": "stderr",
     "output_type": "stream",
     "text": [
      "/home/leo6532/.local/lib/python3.6/site-packages/ipykernel_launcher.py:10: MatplotlibDeprecationWarning: Passing non-integers as three-element position specification is deprecated since 3.3 and will be removed two minor releases later.\n",
      "  # Remove the CWD from sys.path while we load stuff.\n"
     ]
    },
    {
     "data": {
      "image/png": "[encoded data removed]",
      "text/plain": [
       "<Figure size 1800x576 with 20 Axes>"
      ]
     },
     "metadata": {},
     "output_type": "display_data"
    }
   ],
   "source": [
    "# obtain one batch of training images\n",
    "dataiter = iter(train_loader)\n",
    "images, labels = dataiter.next()\n",
    " # convert images to numpy for display\n",
    "\n",
    "# plot the images in the batch, along with the corresponding labels\n",
    "fig = plt.figure(figsize=(25, 8))\n",
    "#display 20 images\n",
    "for idx in np.arange(20):\n",
    "     ax = fig.add_subplot(2, 20/2, idx+1, xticks=[], yticks=[])\n",
    "     imshow(images[idx])\n",
    "     ax.set_title(\"{} \".format( classes[labels[idx]]))"
   ]
  },
  {
   "cell_type": "code",
   "execution_count": 16,
   "metadata": {},
   "outputs": [],
   "source": [
    "# Create CNN Model\n",
    "class CNN_Model(nn.Module):\n",
    "    def __init__(self):\n",
    "        super(CNN_Model, self).__init__()\n",
    "        self.cnn1 = nn.Conv2d(in_channels=3, out_channels=16, kernel_size=3, stride=1, padding=0) #output_shape=(16,220,220) 48\n",
    "        #(224-5+1)/1 #(weigh-kernel+1)/stride 無條件進位\n",
    "        self.relu1 = nn.ReLU()\n",
    "        self.maxpool1 = nn.MaxPool2d(kernel_size=2) #output_shape=(16,110,110) #(220/2) 16 24 24\n",
    "        self.cnn2 = nn.Conv2d(in_channels=16, out_channels=32, kernel_size=3, stride=1, padding=0) #output_shape=(32,106,106) 20 20\n",
    "        self.relu2 = nn.ReLU()\n",
    "        self.maxpool2 = nn.MaxPool2d(kernel_size=1) #output_shape=(32,53,53) 10 10\n",
    "        self.cnn3 = nn.Conv2d(in_channels=32, out_channels=16, kernel_size=1, stride=1, padding=0) #output_shape=(16,51,51) 10 10\n",
    "        self.relu3 = nn.ReLU()\n",
    "        self.maxpool3 = nn.MaxPool2d(kernel_size=1) #output_shape=(16,25,25) 5 5\n",
    "        self.cnn4 = nn.Conv2d(in_channels=16, out_channels=8, kernel_size=1, stride=1, padding=0) #output_shape=(8,23,23) 5 5\n",
    "        self.relu4 = nn.ReLU()\n",
    "        self.maxpool4 = nn.MaxPool2d(kernel_size=2) #output_shape=(8,11,11) 8 5 5\n",
    "        # Fully connected 1 ,#input_shape=(8*12*12)\n",
    "        self.fc1 = nn.Linear(8 * 11 * 11, 512) \n",
    "        #self.relu5 = nn.ReLU() # activation\n",
    "        self.fc2 = nn.Linear(512, 2) \n",
    "        #self.output = nn.Softmax(dim=1)\n",
    "        \n",
    "    \n",
    "    def forward(self, x):\n",
    "        out = self.cnn1(x) # Convolution 1\n",
    "        out = self.relu1(out)\n",
    "        out = self.maxpool1(out)# Max pool 1\n",
    "        out = self.cnn2(out) # Convolution 2\n",
    "        out = self.relu2(out) \n",
    "        out = self.maxpool2(out) # Max pool 2\n",
    "        out = self.cnn3(out) # Convolution 3\n",
    "        out = self.relu3(out)\n",
    "        out = self.maxpool3(out) # Max pool 3\n",
    "        out = self.cnn4(out) # Convolution 4\n",
    "        out = self.relu4(out)\n",
    "        out = self.maxpool4(out) # Max pool 4\n",
    "        out = out.view(out.size(0), -1) # last CNN faltten con. Linear NN\n",
    "        out = self.fc1(out) # Linear function (readout)\n",
    "        out = self.fc2(out)\n",
    "        #out = self.output(out)\n",
    "\n",
    "        return out"
   ]
  },
  {
   "cell_type": "code",
   "execution_count": 17,
   "metadata": {},
   "outputs": [
    {
     "name": "stdout",
     "output_type": "stream",
     "text": [
      "----------------------------------------------------------------\n",
      "        Layer (type)               Output Shape         Param #\n",
      "================================================================\n",
      "            Conv2d-1           [-1, 16, 48, 48]             448\n",
      "              ReLU-2           [-1, 16, 48, 48]               0\n",
      "         MaxPool2d-3           [-1, 16, 24, 24]               0\n",
      "            Conv2d-4           [-1, 32, 22, 22]           4,640\n",
      "              ReLU-5           [-1, 32, 22, 22]               0\n",
      "         MaxPool2d-6           [-1, 32, 22, 22]               0\n",
      "            Conv2d-7           [-1, 16, 22, 22]             528\n",
      "              ReLU-8           [-1, 16, 22, 22]               0\n",
      "         MaxPool2d-9           [-1, 16, 22, 22]               0\n",
      "           Conv2d-10            [-1, 8, 22, 22]             136\n",
      "             ReLU-11            [-1, 8, 22, 22]               0\n",
      "        MaxPool2d-12            [-1, 8, 11, 11]               0\n",
      "           Linear-13                  [-1, 512]         496,128\n",
      "           Linear-14                    [-1, 2]           1,026\n",
      "================================================================\n",
      "Total params: 502,906\n",
      "Trainable params: 502,906\n",
      "Non-trainable params: 0\n",
      "----------------------------------------------------------------\n",
      "Input size (MB): 0.03\n",
      "Forward/backward pass size (MB): 1.23\n",
      "Params size (MB): 1.92\n",
      "Estimated Total Size (MB): 3.18\n",
      "----------------------------------------------------------------\n"
     ]
    }
   ],
   "source": [
    "model = CNN_Model()\n",
    "from torchsummary import summary\n",
    "summary(model.cuda(), (3, 50, 50))\n",
    "#summary(model, (3, 50, 50),device = \"cpu\")"
   ]
  },
  {
   "cell_type": "code",
   "execution_count": 18,
   "metadata": {},
   "outputs": [],
   "source": [
    "#from tqdm import tqdm_notebook as tqdm\n",
    "from tqdm.notebook import tqdm"
   ]
  },
  {
   "cell_type": "code",
   "execution_count": 19,
   "metadata": {},
   "outputs": [],
   "source": [
    "import torch.optim as optim    \n",
    "optimizer = torch.optim.Adam(model.parameters(), lr=LR) \n",
    "criterion = nn.CrossEntropyLoss() "
   ]
  },
  {
   "cell_type": "code",
   "execution_count": 20,
   "metadata": {},
   "outputs": [
    {
     "name": "stdout",
     "output_type": "stream",
     "text": [
      "running epoch: 1\n"
     ]
    },
    {
     "data": {
      "application/vnd.jupyter.widget-view+json": {
       "model_id": "ac0d6aff22a845d7ae8856f888a1f480",
       "version_major": 2,
       "version_minor": 0
      },
      "text/plain": [
       "HBox(children=(HTML(value=''), FloatProgress(value=0.0, max=163.0), HTML(value='')))"
      ]
     },
     "metadata": {},
     "output_type": "display_data"
    },
    {
     "name": "stdout",
     "output_type": "stream",
     "text": [
      "\n"
     ]
    },
    {
     "data": {
      "application/vnd.jupyter.widget-view+json": {
       "model_id": "87de2db192ea449fa5f49a06688f0bf8",
       "version_major": 2,
       "version_minor": 0
      },
      "text/plain": [
       "HBox(children=(HTML(value=''), FloatProgress(value=0.0, max=41.0), HTML(value='')))"
      ]
     },
     "metadata": {},
     "output_type": "display_data"
    },
    {
     "name": "stdout",
     "output_type": "stream",
     "text": [
      "\n",
      "\tTraining Loss: 0.421461 \tValidation Loss: 0.385728\n",
      "Validation loss decreased (inf --> 0.385728).  Saving model ...\n",
      "[0.42146073048207167]\n",
      "[0.38572842337667895]\n"
     ]
    },
    {
     "name": "stderr",
     "output_type": "stream",
     "text": [
      "/home/leo6532/.local/lib/python3.6/site-packages/torch/serialization.py:360: UserWarning: Couldn't retrieve source code for container of type CNN_Model. It won't be checked for correctness upon loading.\n",
      "  \"type \" + obj.__name__ + \". It won't be checked \"\n"
     ]
    },
    {
     "data": {
      "image/png": "[encoded data removed]",
      "text/plain": [
       "<Figure size 432x288 with 1 Axes>"
      ]
     },
     "metadata": {
      "needs_background": "light"
     },
     "output_type": "display_data"
    }
   ],
   "source": [
    "if train_on_gpu:\n",
    "    model.cuda()\n",
    "# number of epochs to train the model\n",
    "n_epochs = 1 #170\n",
    "\n",
    "\n",
    "valid_loss_min = np.Inf # track change in validation loss\n",
    "\n",
    "#train_losses,valid_losses=[],[]\n",
    "\n",
    "train_loss_i = [] \n",
    "valid_loss_i = []\n",
    "for epoch in range(1, n_epochs+1):\n",
    "\n",
    "    # keep track of training and validation loss\n",
    "    train_loss = 0.0\n",
    "    valid_loss = 0.0\n",
    "    print('running epoch: {}'.format(epoch))\n",
    "    ###################\n",
    "    # train the model #\n",
    "    ###################\n",
    "    model.train()\n",
    "    for data, target in tqdm(train_loader):\n",
    "        # move tensors to GPU if CUDA is available\n",
    "        if train_on_gpu:\n",
    "            data, target = data.cuda(), target.cuda()\n",
    "        # clear the gradients of all optimized variables\n",
    "        optimizer.zero_grad()\n",
    "        # forward pass: compute predicted outputs by passing inputs to the model\n",
    "        output = model(data)\n",
    "        # calculate the batch loss\n",
    "        loss = criterion(output, target)\n",
    "        # backward pass: compute gradient of the loss with respect to model parameters\n",
    "        loss.backward()\n",
    "        # perform a single optimization step (parameter update)\n",
    "        optimizer.step()\n",
    "        # update training loss\n",
    "        train_loss += loss.item()*data.size(0)\n",
    "        \n",
    "    ######################    \n",
    "    # validate the model #\n",
    "    ######################\n",
    "    model.eval()\n",
    "    for data, target in tqdm(valid_loader):\n",
    "        # move tensors to GPU if CUDA is available\n",
    "        if train_on_gpu:\n",
    "            data, target = data.cuda(), target.cuda()\n",
    "        # forward pass: compute predicted outputs by passing inputs to the model\n",
    "        \n",
    "        with torch.no_grad():\n",
    "            output = model(data)\n",
    "        # calculate the batch loss\n",
    "        loss = criterion(output, target)\n",
    "        # update average validation loss \n",
    "        valid_loss += loss.item()*data.size(0)\n",
    "    \n",
    "    # calculate average losses\n",
    "    #train_losses.append(train_loss/len(train_loader.dataset))\n",
    "    #valid_losses.append(valid_loss.item()/len(valid_loader.dataset)\n",
    "    train_loss = train_loss/len(train_loader.dataset)\n",
    "    valid_loss = valid_loss/len(valid_loader.dataset)\n",
    "        \n",
    "    # print training/validation statistics \n",
    "    print('\\tTraining Loss: {:.6f} \\tValidation Loss: {:.6f}'.format(\n",
    "        train_loss, valid_loss))\n",
    "    \n",
    "    #作圖接收矩陣\n",
    "    train_loss_i.append(train_loss)\n",
    "    valid_loss_i.append(valid_loss)\n",
    "\n",
    "    # save model if validation loss has decreased\n",
    "    if valid_loss <= valid_loss_min:\n",
    "        print('Validation loss decreased ({:.6f} --> {:.6f}).  Saving model ...'.format(\n",
    "        valid_loss_min,\n",
    "        valid_loss))\n",
    "        torch.save(model.state_dict(), 'model_CNN.pth')\n",
    "        torch.save(model, \"o_model.pth\")\n",
    "        valid_loss_min = valid_loss\n",
    "#作圖區\n",
    "print(train_loss_i) \n",
    "print(valid_loss_i)\n",
    "\n",
    "plt.plot(range(n_epochs), train_loss_i,'b-', label='Training_loss')\n",
    "plt.plot(range(n_epochs), valid_loss_i,'g-', label='validation_loss')\n",
    "plt.title('Training & Validation loss')\n",
    "plt.xlabel('Number of epochs')\n",
    "plt.ylabel('Loss')\n",
    "plt.legend()\n",
    "plt.show()"
   ]
  },
  {
   "cell_type": "markdown",
   "metadata": {},
   "source": [
    "#TEST MODEL"
   ]
  },
  {
   "cell_type": "code",
   "execution_count": 21,
   "metadata": {},
   "outputs": [],
   "source": [
    "def test(loaders, model, criterion, use_cuda):\n",
    "\n",
    "    # monitor test loss and accuracy\n",
    "    test_loss = 0.\n",
    "    correct = 0.\n",
    "    total = 0.\n",
    "\n",
    "    model.eval()\n",
    "    for batch_idx, (data, target) in enumerate(loaders):\n",
    "        # move to GPU\n",
    "        if use_cuda:\n",
    "            data, target = data.cuda(), target.cuda()\n",
    "        # forward pass: compute predicted outputs by passing inputs to the model\n",
    "        output = model(data)\n",
    "        # calculate the loss\n",
    "        loss = criterion(output, target)\n",
    "        # update average test loss \n",
    "        test_loss = test_loss + ((1 / (batch_idx + 1)) * (loss.data - test_loss))\n",
    "        # convert output probabilities to predicted class\n",
    "        pred = output.data.max(1, keepdim=True)[1]\n",
    "        # compare predictions to true label\n",
    "        correct += np.sum(np.squeeze(pred.eq(target.data.view_as(pred))).cpu().numpy())\n",
    "        total += data.size(0)\n",
    "            \n",
    "    print('Test Loss: {:.6f}'.format(test_loss))\n",
    "\n",
    "    print('Test Accuracy: %2d%% (%2d/%2d)' % (\n",
    "        100. * correct / total, correct, total))"
   ]
  },
  {
   "cell_type": "code",
   "execution_count": 22,
   "metadata": {},
   "outputs": [
    {
     "name": "stdout",
     "output_type": "stream",
     "text": [
      "Test Loss: 0.383676\n",
      "Test Accuracy: 82% (1346/1622)\n"
     ]
    }
   ],
   "source": [
    "use_cuda = torch.cuda.is_available()\n",
    "model.cuda()\n",
    "test(test_loader, model, criterion, use_cuda)"
   ]
  },
  {
   "cell_type": "code",
   "execution_count": 23,
   "metadata": {},
   "outputs": [],
   "source": [
    "model_1 = torch.load('model_CNN.pth')"
   ]
  },
  {
   "cell_type": "code",
   "execution_count": 24,
   "metadata": {},
   "outputs": [
    {
     "data": {
      "text/plain": [
       "OrderedDict([('cnn1.weight',\n",
       "              tensor([[[[-0.0057, -0.0729,  0.0592],\n",
       "                        [-0.0369,  0.1763,  0.0600],\n",
       "                        [-0.1146, -0.0773,  0.0672]],\n",
       "              \n",
       "                       [[-0.1188,  0.1380,  0.0196],\n",
       "                        [ 0.0015,  0.0611,  0.1306],\n",
       "                        [ 0.1057, -0.0995, -0.0269]],\n",
       "              \n",
       "                       [[ 0.1482,  0.1764, -0.0236],\n",
       "                        [ 0.1273, -0.1591,  0.0329],\n",
       "                        [-0.1526, -0.1879,  0.0622]]],\n",
       "              \n",
       "              \n",
       "                      [[[ 0.0679,  0.1982, -0.0927],\n",
       "                        [-0.1555, -0.1300,  0.1772],\n",
       "                        [ 0.1245,  0.1135,  0.1994]],\n",
       "              \n",
       "                       [[ 0.0994,  0.0816, -0.0998],\n",
       "                        [ 0.0166, -0.1114,  0.0298],\n",
       "                        [-0.0860, -0.1526, -0.0114]],\n",
       "              \n",
       "                       [[-0.1530, -0.0120,  0.1701],\n",
       "                        [-0.1249, -0.1180, -0.0765],\n",
       "                        [-0.1447,  0.0748,  0.1741]]],\n",
       "              \n",
       "              \n",
       "                      [[[-0.0056, -0.0328, -0.1118],\n",
       "                        [-0.1335,  0.1954,  0.1704],\n",
       "                        [ 0.0248,  0.1674, -0.1791]],\n",
       "              \n",
       "                       [[-0.0548, -0.0556,  0.0864],\n",
       "                        [-0.1520, -0.0534,  0.1039],\n",
       "                        [-0.0138, -0.0492, -0.0715]],\n",
       "              \n",
       "                       [[-0.0126,  0.0652, -0.0187],\n",
       "                        [-0.0268,  0.1900, -0.1245],\n",
       "                        [ 0.0652,  0.0009,  0.0198]]],\n",
       "              \n",
       "              \n",
       "                      [[[ 0.1516, -0.1731,  0.1250],\n",
       "                        [-0.0087, -0.0019, -0.1706],\n",
       "                        [ 0.1924, -0.0781,  0.0936]],\n",
       "              \n",
       "                       [[-0.1628,  0.0151,  0.1823],\n",
       "                        [ 0.1573,  0.0152, -0.1059],\n",
       "                        [-0.0080,  0.0693,  0.0219]],\n",
       "              \n",
       "                       [[-0.1269, -0.1165, -0.0889],\n",
       "                        [ 0.0665,  0.0184, -0.0728],\n",
       "                        [ 0.1692, -0.0664,  0.1745]]],\n",
       "              \n",
       "              \n",
       "                      [[[-0.1460, -0.1864,  0.1499],\n",
       "                        [-0.0048, -0.0748, -0.0501],\n",
       "                        [-0.0795,  0.1639,  0.0196]],\n",
       "              \n",
       "                       [[-0.1266, -0.0964,  0.0272],\n",
       "                        [ 0.1805, -0.1522,  0.0574],\n",
       "                        [ 0.1024, -0.0882, -0.0918]],\n",
       "              \n",
       "                       [[-0.0190,  0.0155, -0.1175],\n",
       "                        [-0.1647,  0.0253,  0.1546],\n",
       "                        [-0.0873,  0.1262, -0.0253]]],\n",
       "              \n",
       "              \n",
       "                      [[[-0.0584, -0.1536,  0.1925],\n",
       "                        [ 0.1023, -0.1273,  0.1467],\n",
       "                        [-0.0605, -0.0683,  0.0592]],\n",
       "              \n",
       "                       [[ 0.0500,  0.1773, -0.1593],\n",
       "                        [ 0.0486,  0.0931,  0.1278],\n",
       "                        [-0.1266, -0.0694,  0.1037]],\n",
       "              \n",
       "                       [[ 0.0389, -0.1142, -0.0111],\n",
       "                        [ 0.1368, -0.0150, -0.0665],\n",
       "                        [-0.0790, -0.0418, -0.0125]]],\n",
       "              \n",
       "              \n",
       "                      [[[-0.0423, -0.1225,  0.0262],\n",
       "                        [ 0.0050,  0.1411, -0.1328],\n",
       "                        [ 0.1848,  0.1679,  0.1050]],\n",
       "              \n",
       "                       [[-0.0413, -0.1282, -0.1508],\n",
       "                        [-0.0789,  0.1296,  0.0445],\n",
       "                        [ 0.0254, -0.0136, -0.1155]],\n",
       "              \n",
       "                       [[-0.0398, -0.0915, -0.1561],\n",
       "                        [ 0.1609, -0.0433, -0.1543],\n",
       "                        [ 0.0908,  0.0503,  0.1161]]],\n",
       "              \n",
       "              \n",
       "                      [[[-0.0569,  0.1003,  0.0142],\n",
       "                        [-0.0859,  0.1344,  0.0069],\n",
       "                        [-0.1155, -0.1496, -0.0797]],\n",
       "              \n",
       "                       [[-0.0865,  0.0495, -0.1154],\n",
       "                        [-0.0275,  0.0616,  0.1580],\n",
       "                        [ 0.0822, -0.0141,  0.1445]],\n",
       "              \n",
       "                       [[-0.1091, -0.1436,  0.0732],\n",
       "                        [ 0.1467, -0.1572,  0.0634],\n",
       "                        [-0.0547, -0.0962,  0.0161]]],\n",
       "              \n",
       "              \n",
       "                      [[[ 0.1389,  0.0500, -0.0395],\n",
       "                        [ 0.1121, -0.2117, -0.1617],\n",
       "                        [ 0.1081,  0.1527,  0.1362]],\n",
       "              \n",
       "                       [[-0.0416, -0.1450,  0.1007],\n",
       "                        [-0.0165,  0.1027,  0.0814],\n",
       "                        [ 0.0702,  0.1541, -0.0042]],\n",
       "              \n",
       "                       [[-0.1357,  0.0436,  0.1439],\n",
       "                        [-0.1544, -0.0080, -0.1619],\n",
       "                        [-0.1913, -0.1192, -0.0444]]],\n",
       "              \n",
       "              \n",
       "                      [[[ 0.0471, -0.1362,  0.0221],\n",
       "                        [ 0.0822, -0.0141, -0.1034],\n",
       "                        [-0.0210, -0.0872, -0.1217]],\n",
       "              \n",
       "                       [[-0.0007, -0.1564, -0.0614],\n",
       "                        [-0.0042,  0.0129,  0.1318],\n",
       "                        [-0.1263,  0.1834,  0.1697]],\n",
       "              \n",
       "                       [[ 0.0633,  0.0136,  0.1004],\n",
       "                        [-0.1802,  0.1361, -0.1132],\n",
       "                        [ 0.0150,  0.0957, -0.0813]]],\n",
       "              \n",
       "              \n",
       "                      [[[-0.0096, -0.1117,  0.0732],\n",
       "                        [ 0.0831, -0.1565, -0.1593],\n",
       "                        [-0.0762, -0.0338,  0.0443]],\n",
       "              \n",
       "                       [[ 0.1894, -0.0307, -0.1590],\n",
       "                        [ 0.1741, -0.1091, -0.1055],\n",
       "                        [ 0.0688, -0.0949, -0.0186]],\n",
       "              \n",
       "                       [[-0.1055,  0.1984,  0.0249],\n",
       "                        [ 0.1018, -0.1200,  0.0720],\n",
       "                        [-0.0450,  0.0946,  0.1127]]],\n",
       "              \n",
       "              \n",
       "                      [[[ 0.1525, -0.1062, -0.1467],\n",
       "                        [-0.1094,  0.0239, -0.0104],\n",
       "                        [ 0.0366,  0.1267,  0.1162]],\n",
       "              \n",
       "                       [[ 0.1919,  0.0174,  0.0318],\n",
       "                        [ 0.0120,  0.0655,  0.1421],\n",
       "                        [ 0.1660, -0.1210,  0.0479]],\n",
       "              \n",
       "                       [[ 0.0773, -0.0955,  0.1972],\n",
       "                        [ 0.1262,  0.0880,  0.1961],\n",
       "                        [ 0.1154,  0.1484,  0.0618]]],\n",
       "              \n",
       "              \n",
       "                      [[[ 0.0827, -0.1721, -0.1663],\n",
       "                        [ 0.1675,  0.0031, -0.0539],\n",
       "                        [ 0.0055, -0.0482,  0.1356]],\n",
       "              \n",
       "                       [[ 0.0394,  0.1326, -0.0894],\n",
       "                        [ 0.1393,  0.1231,  0.0607],\n",
       "                        [ 0.1655,  0.1412, -0.1001]],\n",
       "              \n",
       "                       [[ 0.0036,  0.0780,  0.1591],\n",
       "                        [-0.1425,  0.0785,  0.0338],\n",
       "                        [-0.1542,  0.1306,  0.1764]]],\n",
       "              \n",
       "              \n",
       "                      [[[ 0.0043,  0.1168,  0.2050],\n",
       "                        [ 0.0403,  0.1744, -0.0780],\n",
       "                        [-0.1518, -0.1621, -0.0493]],\n",
       "              \n",
       "                       [[-0.1425,  0.1263,  0.0974],\n",
       "                        [ 0.0435, -0.1189,  0.0715],\n",
       "                        [-0.1051, -0.1455, -0.0093]],\n",
       "              \n",
       "                       [[ 0.0143,  0.1869,  0.0020],\n",
       "                        [-0.0977,  0.0869,  0.0619],\n",
       "                        [-0.0051, -0.0115, -0.1543]]],\n",
       "              \n",
       "              \n",
       "                      [[[ 0.0377,  0.1160,  0.0586],\n",
       "                        [ 0.1982,  0.0606,  0.1239],\n",
       "                        [-0.0011, -0.1819, -0.0898]],\n",
       "              \n",
       "                       [[-0.0679,  0.2012, -0.1294],\n",
       "                        [-0.0457, -0.1098,  0.0946],\n",
       "                        [-0.0619,  0.1647, -0.1097]],\n",
       "              \n",
       "                       [[ 0.0222, -0.1215, -0.0872],\n",
       "                        [ 0.1557, -0.1413,  0.0205],\n",
       "                        [-0.0598,  0.0098, -0.0258]]],\n",
       "              \n",
       "              \n",
       "                      [[[-0.0487,  0.1123, -0.2069],\n",
       "                        [-0.0376, -0.1104,  0.1297],\n",
       "                        [ 0.1739,  0.1054, -0.1054]],\n",
       "              \n",
       "                       [[-0.0504, -0.1977,  0.0824],\n",
       "                        [-0.0009, -0.0986,  0.0128],\n",
       "                        [-0.1418,  0.1607,  0.0443]],\n",
       "              \n",
       "                       [[-0.0870,  0.0511, -0.0347],\n",
       "                        [-0.0762,  0.0946,  0.0053],\n",
       "                        [-0.0449,  0.1506,  0.0739]]]], device='cuda:0')),\n",
       "             ('cnn1.bias',\n",
       "              tensor([-0.0900,  0.0153, -0.1685,  0.0384, -0.1631, -0.1128,  0.1217,  0.0658,\n",
       "                      -0.0647,  0.1691, -0.1387,  0.0368,  0.1331, -0.0322, -0.1539,  0.1118],\n",
       "                     device='cuda:0')),\n",
       "             ('cnn2.weight',\n",
       "              tensor([[[[-0.0038, -0.0599,  0.0473],\n",
       "                        [-0.0741, -0.0639, -0.0718],\n",
       "                        [ 0.0390,  0.0729, -0.0336]],\n",
       "              \n",
       "                       [[-0.0313, -0.0474, -0.0377],\n",
       "                        [-0.0751, -0.0272, -0.0198],\n",
       "                        [ 0.0638,  0.0118, -0.0665]],\n",
       "              \n",
       "                       [[ 0.0540,  0.0706,  0.0641],\n",
       "                        [ 0.0504, -0.0593, -0.0266],\n",
       "                        [-0.0881,  0.0601,  0.0213]],\n",
       "              \n",
       "                       ...,\n",
       "              \n",
       "                       [[-0.0575, -0.0352,  0.0542],\n",
       "                        [ 0.0668, -0.0610, -0.0005],\n",
       "                        [ 0.0230,  0.0705, -0.0590]],\n",
       "              \n",
       "                       [[ 0.0393, -0.0467, -0.0057],\n",
       "                        [ 0.0243,  0.0505,  0.0483],\n",
       "                        [-0.0456, -0.0410,  0.0412]],\n",
       "              \n",
       "                       [[-0.0294,  0.0818, -0.0132],\n",
       "                        [ 0.0640, -0.0590, -0.0019],\n",
       "                        [-0.0167, -0.0191, -0.0525]]],\n",
       "              \n",
       "              \n",
       "                      [[[ 0.0688,  0.0144, -0.0610],\n",
       "                        [ 0.0663, -0.0300,  0.0910],\n",
       "                        [ 0.0327,  0.0502, -0.0149]],\n",
       "              \n",
       "                       [[-0.0110, -0.0500, -0.0535],\n",
       "                        [-0.0611, -0.0752, -0.0685],\n",
       "                        [-0.0445, -0.0103,  0.0676]],\n",
       "              \n",
       "                       [[-0.0095,  0.0371, -0.0480],\n",
       "                        [ 0.0060, -0.0015, -0.0368],\n",
       "                        [ 0.0676, -0.0312, -0.0711]],\n",
       "              \n",
       "                       ...,\n",
       "              \n",
       "                       [[-0.0101,  0.0320,  0.0523],\n",
       "                        [ 0.0876,  0.0434, -0.0312],\n",
       "                        [-0.0007, -0.0131, -0.0434]],\n",
       "              \n",
       "                       [[-0.0099, -0.0866, -0.0785],\n",
       "                        [ 0.0802, -0.0518, -0.0338],\n",
       "                        [ 0.0187, -0.0684, -0.0108]],\n",
       "              \n",
       "                       [[ 0.0681,  0.0331,  0.0393],\n",
       "                        [-0.0084,  0.0826,  0.0921],\n",
       "                        [ 0.0320, -0.0230,  0.0300]]],\n",
       "              \n",
       "              \n",
       "                      [[[-0.0545, -0.0202, -0.0659],\n",
       "                        [ 0.0370, -0.0794,  0.0375],\n",
       "                        [-0.0706, -0.0767,  0.0208]],\n",
       "              \n",
       "                       [[-0.0140, -0.0360,  0.0639],\n",
       "                        [-0.0823, -0.0663,  0.0628],\n",
       "                        [ 0.0169, -0.0845, -0.0775]],\n",
       "              \n",
       "                       [[-0.0550,  0.0550,  0.0486],\n",
       "                        [-0.0851, -0.0244, -0.0031],\n",
       "                        [ 0.0343,  0.0187, -0.0884]],\n",
       "              \n",
       "                       ...,\n",
       "              \n",
       "                       [[-0.0383, -0.0258, -0.0053],\n",
       "                        [ 0.0356, -0.0433, -0.0245],\n",
       "                        [-0.0570,  0.0485,  0.0314]],\n",
       "              \n",
       "                       [[-0.0676, -0.0737,  0.0331],\n",
       "                        [-0.0002, -0.0898, -0.0438],\n",
       "                        [ 0.0092,  0.0022, -0.0366]],\n",
       "              \n",
       "                       [[ 0.0577,  0.0338, -0.0078],\n",
       "                        [ 0.0225, -0.0813, -0.0277],\n",
       "                        [ 0.0207, -0.0534,  0.0475]]],\n",
       "              \n",
       "              \n",
       "                      ...,\n",
       "              \n",
       "              \n",
       "                      [[[ 0.0325, -0.0494, -0.0040],\n",
       "                        [ 0.0138,  0.0170, -0.0519],\n",
       "                        [ 0.0426,  0.0114,  0.0588]],\n",
       "              \n",
       "                       [[ 0.0737,  0.0660, -0.0634],\n",
       "                        [ 0.0644,  0.0906, -0.0583],\n",
       "                        [-0.0038,  0.0504,  0.0174]],\n",
       "              \n",
       "                       [[-0.0035,  0.0421, -0.0288],\n",
       "                        [ 0.0510, -0.0118,  0.0314],\n",
       "                        [-0.0301, -0.0271,  0.0243]],\n",
       "              \n",
       "                       ...,\n",
       "              \n",
       "                       [[-0.0022,  0.0064,  0.0650],\n",
       "                        [ 0.0253, -0.0228,  0.0828],\n",
       "                        [ 0.0446,  0.0632,  0.0349]],\n",
       "              \n",
       "                       [[ 0.0540,  0.0203, -0.0286],\n",
       "                        [-0.0553, -0.0584,  0.0863],\n",
       "                        [ 0.0777,  0.0612,  0.0675]],\n",
       "              \n",
       "                       [[-0.0799,  0.0681,  0.0627],\n",
       "                        [-0.0658,  0.0577,  0.0718],\n",
       "                        [ 0.0027, -0.0073,  0.0835]]],\n",
       "              \n",
       "              \n",
       "                      [[[-0.0669,  0.0591, -0.0141],\n",
       "                        [-0.0366,  0.0297,  0.0718],\n",
       "                        [-0.0371,  0.0640,  0.0817]],\n",
       "              \n",
       "                       [[ 0.0842,  0.0845,  0.0972],\n",
       "                        [ 0.0595, -0.0024,  0.0558],\n",
       "                        [-0.0361,  0.0747, -0.0204]],\n",
       "              \n",
       "                       [[ 0.0062,  0.0301,  0.0358],\n",
       "                        [ 0.0419,  0.0400,  0.0657],\n",
       "                        [ 0.0117, -0.0670, -0.0048]],\n",
       "              \n",
       "                       ...,\n",
       "              \n",
       "                       [[-0.0363, -0.0236,  0.0165],\n",
       "                        [-0.0726,  0.0539, -0.0716],\n",
       "                        [-0.0248, -0.0065,  0.0899]],\n",
       "              \n",
       "                       [[ 0.0267,  0.0866,  0.0319],\n",
       "                        [ 0.0498,  0.0768, -0.0109],\n",
       "                        [-0.0165,  0.0436,  0.0318]],\n",
       "              \n",
       "                       [[-0.0635, -0.0199, -0.0354],\n",
       "                        [ 0.0408,  0.0268,  0.0345],\n",
       "                        [ 0.0564,  0.0240, -0.0050]]],\n",
       "              \n",
       "              \n",
       "                      [[[ 0.0025, -0.0530,  0.0150],\n",
       "                        [ 0.0418, -0.0605, -0.0257],\n",
       "                        [ 0.0461,  0.0451,  0.0714]],\n",
       "              \n",
       "                       [[ 0.0631, -0.0441, -0.0279],\n",
       "                        [ 0.0088, -0.0551, -0.0678],\n",
       "                        [ 0.0550, -0.0613, -0.0504]],\n",
       "              \n",
       "                       [[-0.0144, -0.0322,  0.0649],\n",
       "                        [-0.0671, -0.0232,  0.0029],\n",
       "                        [-0.0439,  0.0269, -0.0486]],\n",
       "              \n",
       "                       ...,\n",
       "              \n",
       "                       [[ 0.0035,  0.0437, -0.0574],\n",
       "                        [-0.0182, -0.0194, -0.0617],\n",
       "                        [ 0.0642, -0.0144, -0.0705]],\n",
       "              \n",
       "                       [[-0.0448, -0.0622, -0.0223],\n",
       "                        [-0.0075,  0.0461, -0.0451],\n",
       "                        [-0.0477, -0.0605,  0.0103]],\n",
       "              \n",
       "                       [[ 0.0076,  0.0044, -0.0139],\n",
       "                        [ 0.0444,  0.0056,  0.0692],\n",
       "                        [-0.0627, -0.0270, -0.0593]]]], device='cuda:0')),\n",
       "             ('cnn2.bias',\n",
       "              tensor([-5.1808e-02, -3.1971e-02, -6.6619e-02,  5.9245e-02,  5.1499e-03,\n",
       "                       7.6964e-05,  4.9512e-02,  2.2584e-02,  8.3519e-02,  5.4230e-02,\n",
       "                       3.4816e-02, -5.0394e-02, -1.6219e-02, -9.0688e-03,  7.5800e-02,\n",
       "                       3.2552e-02,  3.8901e-03,  6.5002e-02, -1.7279e-02, -4.1635e-02,\n",
       "                       3.8971e-02, -2.2797e-02, -6.8188e-02,  2.0588e-02,  1.7905e-02,\n",
       "                      -5.2974e-02,  6.2868e-02, -7.1487e-02,  7.9481e-02, -5.8397e-02,\n",
       "                       5.0647e-02,  4.1665e-02], device='cuda:0')),\n",
       "             ('cnn3.weight',\n",
       "              tensor([[[[-0.0681]],\n",
       "              \n",
       "                       [[ 0.1337]],\n",
       "              \n",
       "                       [[-0.0656]],\n",
       "              \n",
       "                       [[-0.1663]],\n",
       "              \n",
       "                       [[ 0.0010]],\n",
       "              \n",
       "                       [[-0.0648]],\n",
       "              \n",
       "                       [[-0.1267]],\n",
       "              \n",
       "                       [[-0.0575]],\n",
       "              \n",
       "                       [[ 0.0698]],\n",
       "              \n",
       "                       [[-0.0043]],\n",
       "              \n",
       "                       [[ 0.1100]],\n",
       "              \n",
       "                       [[ 0.1447]],\n",
       "              \n",
       "                       [[ 0.1700]],\n",
       "              \n",
       "                       [[-0.0629]],\n",
       "              \n",
       "                       [[ 0.0406]],\n",
       "              \n",
       "                       [[ 0.0127]],\n",
       "              \n",
       "                       [[-0.1653]],\n",
       "              \n",
       "                       [[ 0.0835]],\n",
       "              \n",
       "                       [[-0.1565]],\n",
       "              \n",
       "                       [[-0.1475]],\n",
       "              \n",
       "                       [[-0.1174]],\n",
       "              \n",
       "                       [[-0.1009]],\n",
       "              \n",
       "                       [[-0.0927]],\n",
       "              \n",
       "                       [[-0.0826]],\n",
       "              \n",
       "                       [[ 0.1716]],\n",
       "              \n",
       "                       [[ 0.0014]],\n",
       "              \n",
       "                       [[-0.1203]],\n",
       "              \n",
       "                       [[ 0.0017]],\n",
       "              \n",
       "                       [[-0.0870]],\n",
       "              \n",
       "                       [[ 0.1082]],\n",
       "              \n",
       "                       [[-0.1537]],\n",
       "              \n",
       "                       [[-0.0657]]],\n",
       "              \n",
       "              \n",
       "                      [[[-0.1313]],\n",
       "              \n",
       "                       [[ 0.1701]],\n",
       "              \n",
       "                       [[-0.1658]],\n",
       "              \n",
       "                       [[ 0.1291]],\n",
       "              \n",
       "                       [[-0.0450]],\n",
       "              \n",
       "                       [[-0.0954]],\n",
       "              \n",
       "                       [[ 0.1124]],\n",
       "              \n",
       "                       [[-0.0582]],\n",
       "              \n",
       "                       [[ 0.1392]],\n",
       "              \n",
       "                       [[ 0.1718]],\n",
       "              \n",
       "                       [[ 0.1350]],\n",
       "              \n",
       "                       [[-0.1676]],\n",
       "              \n",
       "                       [[ 0.1458]],\n",
       "              \n",
       "                       [[-0.0031]],\n",
       "              \n",
       "                       [[ 0.1413]],\n",
       "              \n",
       "                       [[ 0.1304]],\n",
       "              \n",
       "                       [[ 0.0806]],\n",
       "              \n",
       "                       [[-0.1353]],\n",
       "              \n",
       "                       [[-0.0263]],\n",
       "              \n",
       "                       [[-0.1316]],\n",
       "              \n",
       "                       [[-0.1252]],\n",
       "              \n",
       "                       [[-0.0976]],\n",
       "              \n",
       "                       [[ 0.1652]],\n",
       "              \n",
       "                       [[ 0.0133]],\n",
       "              \n",
       "                       [[ 0.0410]],\n",
       "              \n",
       "                       [[-0.1569]],\n",
       "              \n",
       "                       [[ 0.0873]],\n",
       "              \n",
       "                       [[ 0.0676]],\n",
       "              \n",
       "                       [[ 0.0011]],\n",
       "              \n",
       "                       [[ 0.0764]],\n",
       "              \n",
       "                       [[ 0.0306]],\n",
       "              \n",
       "                       [[-0.1748]]],\n",
       "              \n",
       "              \n",
       "                      [[[-0.0192]],\n",
       "              \n",
       "                       [[ 0.0845]],\n",
       "              \n",
       "                       [[ 0.0966]],\n",
       "              \n",
       "                       [[ 0.0350]],\n",
       "              \n",
       "                       [[-0.0331]],\n",
       "              \n",
       "                       [[ 0.1253]],\n",
       "              \n",
       "                       [[-0.1379]],\n",
       "              \n",
       "                       [[ 0.1647]],\n",
       "              \n",
       "                       [[-0.0111]],\n",
       "              \n",
       "                       [[ 0.1766]],\n",
       "              \n",
       "                       [[-0.0307]],\n",
       "              \n",
       "                       [[ 0.0341]],\n",
       "              \n",
       "                       [[-0.1363]],\n",
       "              \n",
       "                       [[ 0.0582]],\n",
       "              \n",
       "                       [[ 0.0068]],\n",
       "              \n",
       "                       [[-0.0458]],\n",
       "              \n",
       "                       [[ 0.0328]],\n",
       "              \n",
       "                       [[-0.1572]],\n",
       "              \n",
       "                       [[-0.1644]],\n",
       "              \n",
       "                       [[-0.0772]],\n",
       "              \n",
       "                       [[ 0.1051]],\n",
       "              \n",
       "                       [[ 0.1509]],\n",
       "              \n",
       "                       [[ 0.0449]],\n",
       "              \n",
       "                       [[-0.1722]],\n",
       "              \n",
       "                       [[ 0.1303]],\n",
       "              \n",
       "                       [[-0.1761]],\n",
       "              \n",
       "                       [[ 0.1384]],\n",
       "              \n",
       "                       [[-0.0379]],\n",
       "              \n",
       "                       [[ 0.1381]],\n",
       "              \n",
       "                       [[ 0.1232]],\n",
       "              \n",
       "                       [[-0.1361]],\n",
       "              \n",
       "                       [[-0.1599]]],\n",
       "              \n",
       "              \n",
       "                      [[[-0.1619]],\n",
       "              \n",
       "                       [[ 0.1703]],\n",
       "              \n",
       "                       [[ 0.1391]],\n",
       "              \n",
       "                       [[-0.0448]],\n",
       "              \n",
       "                       [[ 0.0786]],\n",
       "              \n",
       "                       [[ 0.2179]],\n",
       "              \n",
       "                       [[-0.1076]],\n",
       "              \n",
       "                       [[-0.0356]],\n",
       "              \n",
       "                       [[ 0.1726]],\n",
       "              \n",
       "                       [[ 0.1434]],\n",
       "              \n",
       "                       [[-0.0611]],\n",
       "              \n",
       "                       [[-0.0142]],\n",
       "              \n",
       "                       [[-0.0071]],\n",
       "              \n",
       "                       [[-0.1589]],\n",
       "              \n",
       "                       [[ 0.0215]],\n",
       "              \n",
       "                       [[-0.0996]],\n",
       "              \n",
       "                       [[ 0.0596]],\n",
       "              \n",
       "                       [[ 0.0039]],\n",
       "              \n",
       "                       [[ 0.1585]],\n",
       "              \n",
       "                       [[ 0.0622]],\n",
       "              \n",
       "                       [[ 0.0942]],\n",
       "              \n",
       "                       [[ 0.0261]],\n",
       "              \n",
       "                       [[-0.1075]],\n",
       "              \n",
       "                       [[-0.1254]],\n",
       "              \n",
       "                       [[ 0.0694]],\n",
       "              \n",
       "                       [[ 0.0796]],\n",
       "              \n",
       "                       [[-0.1096]],\n",
       "              \n",
       "                       [[-0.0898]],\n",
       "              \n",
       "                       [[ 0.0735]],\n",
       "              \n",
       "                       [[ 0.1275]],\n",
       "              \n",
       "                       [[ 0.1014]],\n",
       "              \n",
       "                       [[ 0.0415]]],\n",
       "              \n",
       "              \n",
       "                      [[[-0.0446]],\n",
       "              \n",
       "                       [[-0.1303]],\n",
       "              \n",
       "                       [[-0.0196]],\n",
       "              \n",
       "                       [[ 0.1645]],\n",
       "              \n",
       "                       [[-0.1253]],\n",
       "              \n",
       "                       [[-0.1236]],\n",
       "              \n",
       "                       [[-0.0805]],\n",
       "              \n",
       "                       [[ 0.1055]],\n",
       "              \n",
       "                       [[ 0.0713]],\n",
       "              \n",
       "                       [[ 0.0390]],\n",
       "              \n",
       "                       [[ 0.0974]],\n",
       "              \n",
       "                       [[-0.1370]],\n",
       "              \n",
       "                       [[-0.0063]],\n",
       "              \n",
       "                       [[ 0.1321]],\n",
       "              \n",
       "                       [[ 0.0462]],\n",
       "              \n",
       "                       [[ 0.0656]],\n",
       "              \n",
       "                       [[ 0.1195]],\n",
       "              \n",
       "                       [[ 0.1616]],\n",
       "              \n",
       "                       [[-0.0626]],\n",
       "              \n",
       "                       [[ 0.1395]],\n",
       "              \n",
       "                       [[-0.0901]],\n",
       "              \n",
       "                       [[ 0.1396]],\n",
       "              \n",
       "                       [[ 0.0034]],\n",
       "              \n",
       "                       [[-0.0664]],\n",
       "              \n",
       "                       [[-0.1285]],\n",
       "              \n",
       "                       [[-0.1486]],\n",
       "              \n",
       "                       [[-0.0998]],\n",
       "              \n",
       "                       [[-0.0336]],\n",
       "              \n",
       "                       [[ 0.0976]],\n",
       "              \n",
       "                       [[-0.0605]],\n",
       "              \n",
       "                       [[-0.1899]],\n",
       "              \n",
       "                       [[-0.0096]]],\n",
       "              \n",
       "              \n",
       "                      [[[ 0.0662]],\n",
       "              \n",
       "                       [[-0.0677]],\n",
       "              \n",
       "                       [[-0.1015]],\n",
       "              \n",
       "                       [[ 0.0709]],\n",
       "              \n",
       "                       [[ 0.1436]],\n",
       "              \n",
       "                       [[ 0.1021]],\n",
       "              \n",
       "                       [[-0.0624]],\n",
       "              \n",
       "                       [[-0.0546]],\n",
       "              \n",
       "                       [[ 0.1592]],\n",
       "              \n",
       "                       [[-0.0259]],\n",
       "              \n",
       "                       [[ 0.0991]],\n",
       "              \n",
       "                       [[-0.0236]],\n",
       "              \n",
       "                       [[ 0.0625]],\n",
       "              \n",
       "                       [[-0.1488]],\n",
       "              \n",
       "                       [[ 0.1815]],\n",
       "              \n",
       "                       [[ 0.1567]],\n",
       "              \n",
       "                       [[-0.0677]],\n",
       "              \n",
       "                       [[-0.0750]],\n",
       "              \n",
       "                       [[-0.1677]],\n",
       "              \n",
       "                       [[ 0.1420]],\n",
       "              \n",
       "                       [[-0.1208]],\n",
       "              \n",
       "                       [[-0.0757]],\n",
       "              \n",
       "                       [[ 0.0047]],\n",
       "              \n",
       "                       [[ 0.0854]],\n",
       "              \n",
       "                       [[ 0.1533]],\n",
       "              \n",
       "                       [[ 0.1228]],\n",
       "              \n",
       "                       [[-0.1319]],\n",
       "              \n",
       "                       [[-0.0290]],\n",
       "              \n",
       "                       [[ 0.0356]],\n",
       "              \n",
       "                       [[ 0.1145]],\n",
       "              \n",
       "                       [[ 0.1067]],\n",
       "              \n",
       "                       [[-0.0433]]],\n",
       "              \n",
       "              \n",
       "                      [[[-0.1496]],\n",
       "              \n",
       "                       [[ 0.1707]],\n",
       "              \n",
       "                       [[ 0.1697]],\n",
       "              \n",
       "                       [[-0.1449]],\n",
       "              \n",
       "                       [[ 0.0977]],\n",
       "              \n",
       "                       [[ 0.0047]],\n",
       "              \n",
       "                       [[-0.0428]],\n",
       "              \n",
       "                       [[-0.0373]],\n",
       "              \n",
       "                       [[-0.0401]],\n",
       "              \n",
       "                       [[-0.0103]],\n",
       "              \n",
       "                       [[ 0.2059]],\n",
       "              \n",
       "                       [[-0.0158]],\n",
       "              \n",
       "                       [[ 0.1251]],\n",
       "              \n",
       "                       [[ 0.1610]],\n",
       "              \n",
       "                       [[-0.1422]],\n",
       "              \n",
       "                       [[-0.1671]],\n",
       "              \n",
       "                       [[ 0.1172]],\n",
       "              \n",
       "                       [[-0.0651]],\n",
       "              \n",
       "                       [[ 0.0559]],\n",
       "              \n",
       "                       [[ 0.1536]],\n",
       "              \n",
       "                       [[-0.0376]],\n",
       "              \n",
       "                       [[-0.0268]],\n",
       "              \n",
       "                       [[ 0.0072]],\n",
       "              \n",
       "                       [[-0.0811]],\n",
       "              \n",
       "                       [[-0.0861]],\n",
       "              \n",
       "                       [[-0.0536]],\n",
       "              \n",
       "                       [[-0.1369]],\n",
       "              \n",
       "                       [[-0.0926]],\n",
       "              \n",
       "                       [[ 0.0229]],\n",
       "              \n",
       "                       [[-0.1432]],\n",
       "              \n",
       "                       [[-0.1173]],\n",
       "              \n",
       "                       [[ 0.1663]]],\n",
       "              \n",
       "              \n",
       "                      [[[-0.0113]],\n",
       "              \n",
       "                       [[-0.0536]],\n",
       "              \n",
       "                       [[-0.1384]],\n",
       "              \n",
       "                       [[-0.0928]],\n",
       "              \n",
       "                       [[ 0.0819]],\n",
       "              \n",
       "                       [[-0.0821]],\n",
       "              \n",
       "                       [[-0.1370]],\n",
       "              \n",
       "                       [[-0.0516]],\n",
       "              \n",
       "                       [[ 0.0897]],\n",
       "              \n",
       "                       [[ 0.1483]],\n",
       "              \n",
       "                       [[-0.0938]],\n",
       "              \n",
       "                       [[-0.0969]],\n",
       "              \n",
       "                       [[-0.0018]],\n",
       "              \n",
       "                       [[ 0.0788]],\n",
       "              \n",
       "                       [[ 0.0812]],\n",
       "              \n",
       "                       [[ 0.1723]],\n",
       "              \n",
       "                       [[-0.1640]],\n",
       "              \n",
       "                       [[ 0.0500]],\n",
       "              \n",
       "                       [[-0.1098]],\n",
       "              \n",
       "                       [[ 0.1704]],\n",
       "              \n",
       "                       [[-0.1209]],\n",
       "              \n",
       "                       [[-0.1098]],\n",
       "              \n",
       "                       [[ 0.1631]],\n",
       "              \n",
       "                       [[ 0.1092]],\n",
       "              \n",
       "                       [[-0.0611]],\n",
       "              \n",
       "                       [[-0.0831]],\n",
       "              \n",
       "                       [[-0.0139]],\n",
       "              \n",
       "                       [[-0.0285]],\n",
       "              \n",
       "                       [[ 0.1308]],\n",
       "              \n",
       "                       [[ 0.1417]],\n",
       "              \n",
       "                       [[-0.0467]],\n",
       "              \n",
       "                       [[-0.1047]]],\n",
       "              \n",
       "              \n",
       "                      [[[-0.0955]],\n",
       "              \n",
       "                       [[ 0.0577]],\n",
       "              \n",
       "                       [[-0.0412]],\n",
       "              \n",
       "                       [[ 0.1112]],\n",
       "              \n",
       "                       [[ 0.0727]],\n",
       "              \n",
       "                       [[ 0.0882]],\n",
       "              \n",
       "                       [[ 0.1232]],\n",
       "              \n",
       "                       [[-0.1366]],\n",
       "              \n",
       "                       [[ 0.0161]],\n",
       "              \n",
       "                       [[ 0.0768]],\n",
       "              \n",
       "                       [[ 0.0598]],\n",
       "              \n",
       "                       [[-0.0365]],\n",
       "              \n",
       "                       [[ 0.0363]],\n",
       "              \n",
       "                       [[ 0.0199]],\n",
       "              \n",
       "                       [[-0.0681]],\n",
       "              \n",
       "                       [[-0.1334]],\n",
       "              \n",
       "                       [[-0.1904]],\n",
       "              \n",
       "                       [[ 0.0562]],\n",
       "              \n",
       "                       [[ 0.1427]],\n",
       "              \n",
       "                       [[-0.0104]],\n",
       "              \n",
       "                       [[-0.0582]],\n",
       "              \n",
       "                       [[ 0.0214]],\n",
       "              \n",
       "                       [[-0.0857]],\n",
       "              \n",
       "                       [[ 0.0834]],\n",
       "              \n",
       "                       [[-0.0376]],\n",
       "              \n",
       "                       [[-0.1370]],\n",
       "              \n",
       "                       [[-0.0410]],\n",
       "              \n",
       "                       [[-0.0077]],\n",
       "              \n",
       "                       [[ 0.1529]],\n",
       "              \n",
       "                       [[-0.1347]],\n",
       "              \n",
       "                       [[-0.1675]],\n",
       "              \n",
       "                       [[ 0.0193]]],\n",
       "              \n",
       "              \n",
       "                      [[[-0.1170]],\n",
       "              \n",
       "                       [[-0.1572]],\n",
       "              \n",
       "                       [[-0.0904]],\n",
       "              \n",
       "                       [[ 0.1272]],\n",
       "              \n",
       "                       [[ 0.0860]],\n",
       "              \n",
       "                       [[-0.0991]],\n",
       "              \n",
       "                       [[-0.1123]],\n",
       "              \n",
       "                       [[ 0.0949]],\n",
       "              \n",
       "                       [[ 0.1296]],\n",
       "              \n",
       "                       [[-0.0197]],\n",
       "              \n",
       "                       [[ 0.1442]],\n",
       "              \n",
       "                       [[-0.1489]],\n",
       "              \n",
       "                       [[ 0.0908]],\n",
       "              \n",
       "                       [[ 0.0523]],\n",
       "              \n",
       "                       [[-0.1490]],\n",
       "              \n",
       "                       [[-0.0694]],\n",
       "              \n",
       "                       [[-0.0423]],\n",
       "              \n",
       "                       [[ 0.0253]],\n",
       "              \n",
       "                       [[-0.1485]],\n",
       "              \n",
       "                       [[ 0.1449]],\n",
       "              \n",
       "                       [[ 0.1121]],\n",
       "              \n",
       "                       [[ 0.1183]],\n",
       "              \n",
       "                       [[-0.1631]],\n",
       "              \n",
       "                       [[ 0.1315]],\n",
       "              \n",
       "                       [[-0.1271]],\n",
       "              \n",
       "                       [[-0.0228]],\n",
       "              \n",
       "                       [[ 0.0796]],\n",
       "              \n",
       "                       [[ 0.1488]],\n",
       "              \n",
       "                       [[ 0.1264]],\n",
       "              \n",
       "                       [[ 0.1598]],\n",
       "              \n",
       "                       [[ 0.1704]],\n",
       "              \n",
       "                       [[ 0.0376]]],\n",
       "              \n",
       "              \n",
       "                      [[[ 0.0743]],\n",
       "              \n",
       "                       [[-0.1414]],\n",
       "              \n",
       "                       [[ 0.1223]],\n",
       "              \n",
       "                       [[-0.1243]],\n",
       "              \n",
       "                       [[-0.0120]],\n",
       "              \n",
       "                       [[ 0.0143]],\n",
       "              \n",
       "                       [[-0.1394]],\n",
       "              \n",
       "                       [[ 0.1447]],\n",
       "              \n",
       "                       [[-0.0216]],\n",
       "              \n",
       "                       [[-0.1403]],\n",
       "              \n",
       "                       [[-0.0525]],\n",
       "              \n",
       "                       [[ 0.0504]],\n",
       "              \n",
       "                       [[-0.0002]],\n",
       "              \n",
       "                       [[ 0.1182]],\n",
       "              \n",
       "                       [[ 0.1078]],\n",
       "              \n",
       "                       [[-0.0032]],\n",
       "              \n",
       "                       [[-0.1432]],\n",
       "              \n",
       "                       [[-0.0489]],\n",
       "              \n",
       "                       [[-0.1645]],\n",
       "              \n",
       "                       [[-0.1827]],\n",
       "              \n",
       "                       [[-0.1127]],\n",
       "              \n",
       "                       [[-0.1172]],\n",
       "              \n",
       "                       [[-0.0091]],\n",
       "              \n",
       "                       [[ 0.0475]],\n",
       "              \n",
       "                       [[ 0.1284]],\n",
       "              \n",
       "                       [[-0.0778]],\n",
       "              \n",
       "                       [[-0.0790]],\n",
       "              \n",
       "                       [[-0.1446]],\n",
       "              \n",
       "                       [[-0.0995]],\n",
       "              \n",
       "                       [[-0.0895]],\n",
       "              \n",
       "                       [[-0.0429]],\n",
       "              \n",
       "                       [[-0.0756]]],\n",
       "              \n",
       "              \n",
       "                      [[[ 0.1244]],\n",
       "              \n",
       "                       [[-0.1598]],\n",
       "              \n",
       "                       [[ 0.1773]],\n",
       "              \n",
       "                       [[-0.0978]],\n",
       "              \n",
       "                       [[ 0.1753]],\n",
       "              \n",
       "                       [[ 0.1860]],\n",
       "              \n",
       "                       [[-0.0174]],\n",
       "              \n",
       "                       [[-0.1414]],\n",
       "              \n",
       "                       [[ 0.1231]],\n",
       "              \n",
       "                       [[ 0.0943]],\n",
       "              \n",
       "                       [[ 0.1564]],\n",
       "              \n",
       "                       [[ 0.0337]],\n",
       "              \n",
       "                       [[-0.0142]],\n",
       "              \n",
       "                       [[ 0.1236]],\n",
       "              \n",
       "                       [[ 0.0985]],\n",
       "              \n",
       "                       [[-0.1441]],\n",
       "              \n",
       "                       [[ 0.0410]],\n",
       "              \n",
       "                       [[-0.0573]],\n",
       "              \n",
       "                       [[-0.0672]],\n",
       "              \n",
       "                       [[-0.1061]],\n",
       "              \n",
       "                       [[-0.0456]],\n",
       "              \n",
       "                       [[-0.0490]],\n",
       "              \n",
       "                       [[-0.0464]],\n",
       "              \n",
       "                       [[ 0.0636]],\n",
       "              \n",
       "                       [[ 0.1953]],\n",
       "              \n",
       "                       [[-0.0832]],\n",
       "              \n",
       "                       [[-0.0760]],\n",
       "              \n",
       "                       [[-0.1410]],\n",
       "              \n",
       "                       [[-0.1301]],\n",
       "              \n",
       "                       [[-0.0348]],\n",
       "              \n",
       "                       [[ 0.1468]],\n",
       "              \n",
       "                       [[ 0.0754]]],\n",
       "              \n",
       "              \n",
       "                      [[[-0.0551]],\n",
       "              \n",
       "                       [[ 0.0130]],\n",
       "              \n",
       "                       [[ 0.1192]],\n",
       "              \n",
       "                       [[ 0.0346]],\n",
       "              \n",
       "                       [[-0.0647]],\n",
       "              \n",
       "                       [[-0.0277]],\n",
       "              \n",
       "                       [[-0.0457]],\n",
       "              \n",
       "                       [[-0.1703]],\n",
       "              \n",
       "                       [[ 0.1184]],\n",
       "              \n",
       "                       [[-0.0776]],\n",
       "              \n",
       "                       [[ 0.0705]],\n",
       "              \n",
       "                       [[-0.0876]],\n",
       "              \n",
       "                       [[-0.1310]],\n",
       "              \n",
       "                       [[ 0.0829]],\n",
       "              \n",
       "                       [[-0.1283]],\n",
       "              \n",
       "                       [[-0.1024]],\n",
       "              \n",
       "                       [[-0.0472]],\n",
       "              \n",
       "                       [[-0.1433]],\n",
       "              \n",
       "                       [[-0.1565]],\n",
       "              \n",
       "                       [[-0.1358]],\n",
       "              \n",
       "                       [[ 0.1246]],\n",
       "              \n",
       "                       [[-0.1149]],\n",
       "              \n",
       "                       [[-0.0859]],\n",
       "              \n",
       "                       [[-0.0068]],\n",
       "              \n",
       "                       [[-0.0554]],\n",
       "              \n",
       "                       [[ 0.0764]],\n",
       "              \n",
       "                       [[ 0.1404]],\n",
       "              \n",
       "                       [[-0.0711]],\n",
       "              \n",
       "                       [[-0.0309]],\n",
       "              \n",
       "                       [[ 0.1263]],\n",
       "              \n",
       "                       [[ 0.1200]],\n",
       "              \n",
       "                       [[-0.0855]]],\n",
       "              \n",
       "              \n",
       "                      [[[ 0.0467]],\n",
       "              \n",
       "                       [[-0.1596]],\n",
       "              \n",
       "                       [[-0.1327]],\n",
       "              \n",
       "                       [[ 0.0242]],\n",
       "              \n",
       "                       [[-0.0496]],\n",
       "              \n",
       "                       [[ 0.1373]],\n",
       "              \n",
       "                       [[ 0.0642]],\n",
       "              \n",
       "                       [[ 0.0240]],\n",
       "              \n",
       "                       [[-0.0568]],\n",
       "              \n",
       "                       [[-0.0415]],\n",
       "              \n",
       "                       [[ 0.0017]],\n",
       "              \n",
       "                       [[-0.1618]],\n",
       "              \n",
       "                       [[ 0.0292]],\n",
       "              \n",
       "                       [[ 0.1759]],\n",
       "              \n",
       "                       [[-0.0012]],\n",
       "              \n",
       "                       [[-0.1010]],\n",
       "              \n",
       "                       [[-0.0332]],\n",
       "              \n",
       "                       [[ 0.0645]],\n",
       "              \n",
       "                       [[-0.0841]],\n",
       "              \n",
       "                       [[-0.1404]],\n",
       "              \n",
       "                       [[-0.0536]],\n",
       "              \n",
       "                       [[-0.0409]],\n",
       "              \n",
       "                       [[ 0.0903]],\n",
       "              \n",
       "                       [[ 0.1345]],\n",
       "              \n",
       "                       [[-0.0140]],\n",
       "              \n",
       "                       [[-0.1141]],\n",
       "              \n",
       "                       [[-0.0243]],\n",
       "              \n",
       "                       [[-0.0134]],\n",
       "              \n",
       "                       [[-0.1208]],\n",
       "              \n",
       "                       [[-0.1493]],\n",
       "              \n",
       "                       [[-0.0452]],\n",
       "              \n",
       "                       [[ 0.0985]]],\n",
       "              \n",
       "              \n",
       "                      [[[ 0.1461]],\n",
       "              \n",
       "                       [[ 0.1760]],\n",
       "              \n",
       "                       [[ 0.1076]],\n",
       "              \n",
       "                       [[ 0.1174]],\n",
       "              \n",
       "                       [[ 0.0857]],\n",
       "              \n",
       "                       [[ 0.1079]],\n",
       "              \n",
       "                       [[ 0.0032]],\n",
       "              \n",
       "                       [[ 0.0028]],\n",
       "              \n",
       "                       [[-0.0566]],\n",
       "              \n",
       "                       [[-0.0497]],\n",
       "              \n",
       "                       [[-0.1611]],\n",
       "              \n",
       "                       [[ 0.0715]],\n",
       "              \n",
       "                       [[-0.0174]],\n",
       "              \n",
       "                       [[-0.0888]],\n",
       "              \n",
       "                       [[ 0.1651]],\n",
       "              \n",
       "                       [[ 0.1348]],\n",
       "              \n",
       "                       [[-0.0870]],\n",
       "              \n",
       "                       [[ 0.0943]],\n",
       "              \n",
       "                       [[ 0.0142]],\n",
       "              \n",
       "                       [[ 0.0042]],\n",
       "              \n",
       "                       [[ 0.1521]],\n",
       "              \n",
       "                       [[ 0.0444]],\n",
       "              \n",
       "                       [[-0.0525]],\n",
       "              \n",
       "                       [[-0.1466]],\n",
       "              \n",
       "                       [[-0.0416]],\n",
       "              \n",
       "                       [[ 0.0321]],\n",
       "              \n",
       "                       [[-0.1059]],\n",
       "              \n",
       "                       [[ 0.1528]],\n",
       "              \n",
       "                       [[-0.0428]],\n",
       "              \n",
       "                       [[ 0.1208]],\n",
       "              \n",
       "                       [[-0.0042]],\n",
       "              \n",
       "                       [[ 0.0019]]],\n",
       "              \n",
       "              \n",
       "                      [[[ 0.0416]],\n",
       "              \n",
       "                       [[ 0.1425]],\n",
       "              \n",
       "                       [[-0.0142]],\n",
       "              \n",
       "                       [[ 0.1292]],\n",
       "              \n",
       "                       [[ 0.1023]],\n",
       "              \n",
       "                       [[-0.1077]],\n",
       "              \n",
       "                       [[ 0.0266]],\n",
       "              \n",
       "                       [[ 0.0232]],\n",
       "              \n",
       "                       [[ 0.0194]],\n",
       "              \n",
       "                       [[ 0.0675]],\n",
       "              \n",
       "                       [[-0.1114]],\n",
       "              \n",
       "                       [[-0.1349]],\n",
       "              \n",
       "                       [[ 0.0367]],\n",
       "              \n",
       "                       [[ 0.0903]],\n",
       "              \n",
       "                       [[-0.1329]],\n",
       "              \n",
       "                       [[ 0.1101]],\n",
       "              \n",
       "                       [[-0.1341]],\n",
       "              \n",
       "                       [[-0.1413]],\n",
       "              \n",
       "                       [[ 0.1588]],\n",
       "              \n",
       "                       [[-0.1459]],\n",
       "              \n",
       "                       [[-0.0036]],\n",
       "              \n",
       "                       [[-0.0082]],\n",
       "              \n",
       "                       [[ 0.1715]],\n",
       "              \n",
       "                       [[ 0.1392]],\n",
       "              \n",
       "                       [[-0.0857]],\n",
       "              \n",
       "                       [[-0.1705]],\n",
       "              \n",
       "                       [[ 0.1263]],\n",
       "              \n",
       "                       [[ 0.0854]],\n",
       "              \n",
       "                       [[ 0.1611]],\n",
       "              \n",
       "                       [[ 0.0378]],\n",
       "              \n",
       "                       [[ 0.0168]],\n",
       "              \n",
       "                       [[ 0.0797]]]], device='cuda:0')),\n",
       "             ('cnn3.bias',\n",
       "              tensor([ 0.1548, -0.0649,  0.0363,  0.0656, -0.0932,  0.1261,  0.1180, -0.0759,\n",
       "                      -0.1437, -0.1089,  0.1465,  0.0976, -0.1688, -0.1614,  0.0469, -0.1402],\n",
       "                     device='cuda:0')),\n",
       "             ('cnn4.weight',\n",
       "              tensor([[[[ 9.9831e-02]],\n",
       "              \n",
       "                       [[-1.7713e-01]],\n",
       "              \n",
       "                       [[ 2.5512e-02]],\n",
       "              \n",
       "                       [[ 2.1210e-01]],\n",
       "              \n",
       "                       [[ 8.2397e-02]],\n",
       "              \n",
       "                       [[-4.1015e-02]],\n",
       "              \n",
       "                       [[ 4.0336e-02]],\n",
       "              \n",
       "                       [[-1.7873e-01]],\n",
       "              \n",
       "                       [[-2.0440e-02]],\n",
       "              \n",
       "                       [[-8.3739e-02]],\n",
       "              \n",
       "                       [[-4.6246e-02]],\n",
       "              \n",
       "                       [[ 3.2560e-02]],\n",
       "              \n",
       "                       [[ 1.5635e-02]],\n",
       "              \n",
       "                       [[ 7.8023e-02]],\n",
       "              \n",
       "                       [[ 9.2795e-02]],\n",
       "              \n",
       "                       [[-1.6829e-01]]],\n",
       "              \n",
       "              \n",
       "                      [[[-2.4470e-01]],\n",
       "              \n",
       "                       [[-1.7341e-02]],\n",
       "              \n",
       "                       [[ 5.0020e-02]],\n",
       "              \n",
       "                       [[-2.4748e-01]],\n",
       "              \n",
       "                       [[ 3.6283e-02]],\n",
       "              \n",
       "                       [[-1.2085e-01]],\n",
       "              \n",
       "                       [[ 2.5274e-02]],\n",
       "              \n",
       "                       [[-3.1626e-03]],\n",
       "              \n",
       "                       [[ 1.4134e-01]],\n",
       "              \n",
       "                       [[-9.9285e-02]],\n",
       "              \n",
       "                       [[ 2.3842e-01]],\n",
       "              \n",
       "                       [[-1.6665e-01]],\n",
       "              \n",
       "                       [[ 5.4670e-02]],\n",
       "              \n",
       "                       [[-1.1686e-01]],\n",
       "              \n",
       "                       [[ 5.5735e-02]],\n",
       "              \n",
       "                       [[-1.4328e-01]]],\n",
       "              \n",
       "              \n",
       "                      [[[-1.5468e-01]],\n",
       "              \n",
       "                       [[-7.6975e-03]],\n",
       "              \n",
       "                       [[-9.0220e-02]],\n",
       "              \n",
       "                       [[ 1.6530e-01]],\n",
       "              \n",
       "                       [[-4.1744e-02]],\n",
       "              \n",
       "                       [[-1.7759e-01]],\n",
       "              \n",
       "                       [[-2.3372e-01]],\n",
       "              \n",
       "                       [[ 6.0441e-02]],\n",
       "              \n",
       "                       [[ 1.5544e-01]],\n",
       "              \n",
       "                       [[-1.7801e-01]],\n",
       "              \n",
       "                       [[ 1.5224e-01]],\n",
       "              \n",
       "                       [[-1.1247e-01]],\n",
       "              \n",
       "                       [[ 3.7676e-02]],\n",
       "              \n",
       "                       [[ 9.4003e-02]],\n",
       "              \n",
       "                       [[ 6.9333e-02]],\n",
       "              \n",
       "                       [[-1.3202e-01]]],\n",
       "              \n",
       "              \n",
       "                      [[[-1.9686e-02]],\n",
       "              \n",
       "                       [[ 1.3823e-01]],\n",
       "              \n",
       "                       [[ 1.6542e-01]],\n",
       "              \n",
       "                       [[-6.2824e-02]],\n",
       "              \n",
       "                       [[ 4.3531e-02]],\n",
       "              \n",
       "                       [[-2.2094e-01]],\n",
       "              \n",
       "                       [[ 1.5814e-01]],\n",
       "              \n",
       "                       [[ 1.6998e-01]],\n",
       "              \n",
       "                       [[ 2.1553e-01]],\n",
       "              \n",
       "                       [[ 1.9421e-01]],\n",
       "              \n",
       "                       [[ 1.5315e-01]],\n",
       "              \n",
       "                       [[ 9.9235e-02]],\n",
       "              \n",
       "                       [[-2.0638e-01]],\n",
       "              \n",
       "                       [[ 2.4151e-02]],\n",
       "              \n",
       "                       [[ 1.2181e-01]],\n",
       "              \n",
       "                       [[-1.3443e-01]]],\n",
       "              \n",
       "              \n",
       "                      [[[-1.0494e-01]],\n",
       "              \n",
       "                       [[-2.4197e-04]],\n",
       "              \n",
       "                       [[-1.3762e-01]],\n",
       "              \n",
       "                       [[-2.0497e-01]],\n",
       "              \n",
       "                       [[-1.5167e-01]],\n",
       "              \n",
       "                       [[-7.3330e-02]],\n",
       "              \n",
       "                       [[-5.4886e-02]],\n",
       "              \n",
       "                       [[-1.7912e-01]],\n",
       "              \n",
       "                       [[-2.2047e-01]],\n",
       "              \n",
       "                       [[-1.3908e-01]],\n",
       "              \n",
       "                       [[ 2.4424e-01]],\n",
       "              \n",
       "                       [[ 2.0473e-01]],\n",
       "              \n",
       "                       [[ 2.1683e-01]],\n",
       "              \n",
       "                       [[ 2.1429e-01]],\n",
       "              \n",
       "                       [[-1.3804e-01]],\n",
       "              \n",
       "                       [[ 1.1317e-01]]],\n",
       "              \n",
       "              \n",
       "                      [[[-1.7587e-01]],\n",
       "              \n",
       "                       [[ 1.4649e-01]],\n",
       "              \n",
       "                       [[-4.8489e-03]],\n",
       "              \n",
       "                       [[-9.0422e-02]],\n",
       "              \n",
       "                       [[-1.0992e-01]],\n",
       "              \n",
       "                       [[-1.0726e-01]],\n",
       "              \n",
       "                       [[-1.4438e-01]],\n",
       "              \n",
       "                       [[ 2.3288e-01]],\n",
       "              \n",
       "                       [[-1.0321e-01]],\n",
       "              \n",
       "                       [[ 1.2704e-01]],\n",
       "              \n",
       "                       [[-1.9242e-01]],\n",
       "              \n",
       "                       [[ 1.8434e-01]],\n",
       "              \n",
       "                       [[ 1.7997e-01]],\n",
       "              \n",
       "                       [[ 3.2804e-02]],\n",
       "              \n",
       "                       [[-1.8319e-01]],\n",
       "              \n",
       "                       [[ 6.6416e-02]]],\n",
       "              \n",
       "              \n",
       "                      [[[-2.2702e-01]],\n",
       "              \n",
       "                       [[ 2.5437e-01]],\n",
       "              \n",
       "                       [[-9.5459e-02]],\n",
       "              \n",
       "                       [[-2.8617e-02]],\n",
       "              \n",
       "                       [[-5.2127e-02]],\n",
       "              \n",
       "                       [[-8.7978e-02]],\n",
       "              \n",
       "                       [[-1.2499e-01]],\n",
       "              \n",
       "                       [[ 2.4334e-01]],\n",
       "              \n",
       "                       [[-1.5598e-01]],\n",
       "              \n",
       "                       [[-1.8030e-01]],\n",
       "              \n",
       "                       [[ 8.8201e-02]],\n",
       "              \n",
       "                       [[ 1.6296e-01]],\n",
       "              \n",
       "                       [[ 2.2213e-01]],\n",
       "              \n",
       "                       [[ 7.9634e-02]],\n",
       "              \n",
       "                       [[ 1.8421e-01]],\n",
       "              \n",
       "                       [[-1.2282e-01]]],\n",
       "              \n",
       "              \n",
       "                      [[[-2.3125e-01]],\n",
       "              \n",
       "                       [[-4.2134e-02]],\n",
       "              \n",
       "                       [[-2.7989e-01]],\n",
       "              \n",
       "                       [[-1.6512e-02]],\n",
       "              \n",
       "                       [[-2.3652e-01]],\n",
       "              \n",
       "                       [[-1.3984e-01]],\n",
       "              \n",
       "                       [[-1.8696e-01]],\n",
       "              \n",
       "                       [[ 1.3366e-01]],\n",
       "              \n",
       "                       [[ 5.2551e-02]],\n",
       "              \n",
       "                       [[ 2.0541e-01]],\n",
       "              \n",
       "                       [[ 1.2231e-01]],\n",
       "              \n",
       "                       [[ 2.4959e-02]],\n",
       "              \n",
       "                       [[ 1.6009e-02]],\n",
       "              \n",
       "                       [[ 1.6763e-01]],\n",
       "              \n",
       "                       [[ 1.7375e-01]],\n",
       "              \n",
       "                       [[-2.4156e-01]]]], device='cuda:0')),\n",
       "             ('cnn4.bias',\n",
       "              tensor([-0.2295,  0.2412,  0.1531,  0.0904, -0.0580, -0.1191, -0.1267,  0.2342],\n",
       "                     device='cuda:0')),\n",
       "             ('fc1.weight',\n",
       "              tensor([[-1.0567e-02, -1.2580e-02,  1.2298e-02,  ..., -5.5178e-03,\n",
       "                        5.5709e-03,  1.3098e-02],\n",
       "                      [ 2.2661e-02, -7.2008e-03,  1.8524e-02,  ..., -2.0128e-02,\n",
       "                       -2.6694e-02,  2.3776e-02],\n",
       "                      [-1.6304e-02, -5.3893e-03, -1.9053e-02,  ...,  2.4991e-02,\n",
       "                        1.9628e-02, -2.6747e-02],\n",
       "                      ...,\n",
       "                      [ 8.7896e-05, -1.0861e-02, -1.0185e-02,  ..., -6.5080e-03,\n",
       "                        7.8486e-03,  1.3697e-02],\n",
       "                      [-2.1196e-02, -1.0366e-02, -1.0300e-02,  ...,  6.7898e-03,\n",
       "                        3.4802e-02,  1.1242e-02],\n",
       "                      [ 3.7234e-03, -2.2694e-03, -1.2459e-02,  ...,  9.4803e-03,\n",
       "                        1.0425e-02, -3.0021e-02]], device='cuda:0')),\n",
       "             ('fc1.bias',\n",
       "              tensor([-0.0036, -0.0326, -0.0063,  0.0106,  0.0368, -0.0195,  0.0330, -0.0336,\n",
       "                       0.0314,  0.0063, -0.0048,  0.0324,  0.0121,  0.0119,  0.0071, -0.0240,\n",
       "                       0.0368, -0.0133, -0.0142,  0.0259, -0.0107,  0.0350,  0.0061,  0.0037,\n",
       "                       0.0375,  0.0162,  0.0135,  0.0046,  0.0355, -0.0308, -0.0311, -0.0126,\n",
       "                       0.0381, -0.0115,  0.0251, -0.0324,  0.0039, -0.0384,  0.0190, -0.0208,\n",
       "                       0.0287, -0.0043,  0.0214,  0.0065, -0.0395,  0.0068, -0.0054,  0.0263,\n",
       "                      -0.0145, -0.0097, -0.0152, -0.0207, -0.0009,  0.0229,  0.0358,  0.0194,\n",
       "                      -0.0108, -0.0286,  0.0011, -0.0199, -0.0151,  0.0138,  0.0186, -0.0019,\n",
       "                       0.0167,  0.0149,  0.0041,  0.0090, -0.0011, -0.0211,  0.0008, -0.0336,\n",
       "                       0.0190,  0.0085, -0.0010,  0.0149,  0.0328, -0.0200,  0.0091, -0.0323,\n",
       "                      -0.0098, -0.0113,  0.0071, -0.0048, -0.0223, -0.0090, -0.0123,  0.0067,\n",
       "                      -0.0319,  0.0172,  0.0068,  0.0080, -0.0097, -0.0201,  0.0177, -0.0201,\n",
       "                      -0.0159, -0.0317,  0.0042, -0.0041, -0.0222, -0.0278, -0.0215,  0.0412,\n",
       "                       0.0233,  0.0187, -0.0187,  0.0149, -0.0365, -0.0125, -0.0352, -0.0073,\n",
       "                      -0.0262, -0.0326,  0.0156, -0.0120,  0.0074,  0.0111,  0.0279,  0.0252,\n",
       "                       0.0155,  0.0231,  0.0193,  0.0139, -0.0214, -0.0147,  0.0011,  0.0202,\n",
       "                      -0.0367,  0.0156, -0.0296,  0.0084, -0.0113, -0.0011,  0.0204, -0.0166,\n",
       "                      -0.0190,  0.0121,  0.0121,  0.0162, -0.0115,  0.0320, -0.0108, -0.0179,\n",
       "                      -0.0176,  0.0077, -0.0125,  0.0109,  0.0038,  0.0085,  0.0051,  0.0097,\n",
       "                      -0.0343,  0.0261, -0.0258,  0.0163,  0.0413, -0.0028, -0.0064,  0.0175,\n",
       "                      -0.0325,  0.0171, -0.0207, -0.0027, -0.0296,  0.0321,  0.0207, -0.0252,\n",
       "                       0.0024, -0.0002,  0.0357, -0.0352,  0.0290, -0.0124,  0.0058,  0.0213,\n",
       "                       0.0148,  0.0045,  0.0393, -0.0025,  0.0209,  0.0221,  0.0203, -0.0336,\n",
       "                      -0.0204,  0.0263,  0.0031,  0.0066,  0.0173,  0.0277, -0.0185, -0.0189,\n",
       "                      -0.0302, -0.0177,  0.0166,  0.0190,  0.0136,  0.0233, -0.0237,  0.0038,\n",
       "                      -0.0271, -0.0285, -0.0126, -0.0157, -0.0117,  0.0354, -0.0268,  0.0126,\n",
       "                       0.0188,  0.0008,  0.0101, -0.0021,  0.0023,  0.0348,  0.0064,  0.0299,\n",
       "                       0.0006,  0.0195, -0.0114, -0.0326,  0.0338,  0.0044,  0.0096,  0.0161,\n",
       "                      -0.0027,  0.0402, -0.0275,  0.0089, -0.0196, -0.0117,  0.0188, -0.0371,\n",
       "                       0.0233,  0.0019,  0.0058,  0.0048, -0.0218,  0.0040, -0.0236, -0.0079,\n",
       "                       0.0025, -0.0280, -0.0404, -0.0310,  0.0108, -0.0064, -0.0023, -0.0253,\n",
       "                      -0.0340,  0.0185,  0.0186, -0.0273, -0.0097,  0.0205,  0.0082,  0.0163,\n",
       "                       0.0204,  0.0161,  0.0258,  0.0033, -0.0136,  0.0015, -0.0057, -0.0065,\n",
       "                       0.0040, -0.0324,  0.0183, -0.0303, -0.0189, -0.0272, -0.0243,  0.0199,\n",
       "                      -0.0055,  0.0024,  0.0004,  0.0124,  0.0020, -0.0129,  0.0402,  0.0173,\n",
       "                      -0.0247,  0.0207, -0.0185, -0.0067, -0.0147,  0.0345,  0.0301,  0.0110,\n",
       "                       0.0294, -0.0235,  0.0025, -0.0120, -0.0291,  0.0215, -0.0192, -0.0244,\n",
       "                      -0.0125, -0.0037,  0.0116,  0.0003, -0.0109,  0.0190,  0.0249,  0.0076,\n",
       "                       0.0372, -0.0369, -0.0135,  0.0044,  0.0101,  0.0363,  0.0109,  0.0359,\n",
       "                      -0.0394, -0.0088, -0.0348,  0.0001, -0.0277, -0.0032,  0.0013,  0.0159,\n",
       "                      -0.0158, -0.0143, -0.0311, -0.0291,  0.0198,  0.0149,  0.0054, -0.0175,\n",
       "                      -0.0074,  0.0203,  0.0189, -0.0159,  0.0112, -0.0024,  0.0130, -0.0398,\n",
       "                       0.0224,  0.0138, -0.0017,  0.0103,  0.0091, -0.0177,  0.0071, -0.0236,\n",
       "                      -0.0063, -0.0055,  0.0098,  0.0271, -0.0063, -0.0238,  0.0383, -0.0211,\n",
       "                       0.0398,  0.0071, -0.0210, -0.0137,  0.0105, -0.0112, -0.0320,  0.0355,\n",
       "                      -0.0383, -0.0117,  0.0194,  0.0253,  0.0368, -0.0073, -0.0178,  0.0208,\n",
       "                      -0.0036, -0.0036, -0.0237,  0.0010, -0.0022,  0.0162, -0.0372, -0.0020,\n",
       "                       0.0245, -0.0294,  0.0226, -0.0037,  0.0332, -0.0067, -0.0266, -0.0172,\n",
       "                       0.0058, -0.0265,  0.0071, -0.0386,  0.0173,  0.0268,  0.0184, -0.0139,\n",
       "                       0.0330, -0.0007, -0.0341,  0.0071,  0.0202,  0.0331,  0.0348,  0.0158,\n",
       "                       0.0148,  0.0020,  0.0141,  0.0048, -0.0008, -0.0406, -0.0142, -0.0336,\n",
       "                      -0.0125, -0.0336,  0.0082, -0.0171, -0.0138,  0.0226, -0.0040, -0.0153,\n",
       "                       0.0024,  0.0018, -0.0133,  0.0083,  0.0120,  0.0092,  0.0273,  0.0089,\n",
       "                       0.0338, -0.0145,  0.0346,  0.0285, -0.0035, -0.0192, -0.0192,  0.0075,\n",
       "                      -0.0012, -0.0098,  0.0306,  0.0095, -0.0219,  0.0225,  0.0277, -0.0119,\n",
       "                       0.0122, -0.0198,  0.0224,  0.0233,  0.0265, -0.0323, -0.0091,  0.0065,\n",
       "                       0.0171,  0.0099, -0.0026,  0.0141,  0.0198, -0.0018,  0.0154,  0.0117,\n",
       "                       0.0225,  0.0350, -0.0197,  0.0257, -0.0211, -0.0257,  0.0246, -0.0111,\n",
       "                       0.0367,  0.0209,  0.0270,  0.0266,  0.0170, -0.0113,  0.0133,  0.0277,\n",
       "                       0.0235, -0.0062, -0.0159, -0.0094,  0.0235, -0.0324,  0.0387, -0.0008,\n",
       "                      -0.0067,  0.0206, -0.0028,  0.0337,  0.0055,  0.0190,  0.0280, -0.0147,\n",
       "                      -0.0067, -0.0019,  0.0278,  0.0071,  0.0064, -0.0399,  0.0343, -0.0155,\n",
       "                       0.0260,  0.0279, -0.0072, -0.0144,  0.0157, -0.0245, -0.0069,  0.0072,\n",
       "                      -0.0106, -0.0333,  0.0120, -0.0035,  0.0094,  0.0098,  0.0213, -0.0360],\n",
       "                     device='cuda:0')),\n",
       "             ('fc2.weight',\n",
       "              tensor([[ 6.8121e-03,  2.7673e-02,  1.8741e-02,  ...,  2.8876e-02,\n",
       "                       -3.8917e-02,  3.8953e-02],\n",
       "                      [ 3.9718e-02, -2.6072e-02, -6.5324e-03,  ...,  3.2427e-02,\n",
       "                        9.9110e-05, -5.6592e-03]], device='cuda:0')),\n",
       "             ('fc2.bias', tensor([-0.0359, -0.0195], device='cuda:0'))])"
      ]
     },
     "execution_count": 24,
     "metadata": {},
     "output_type": "execute_result"
    }
   ],
   "source": [
    "model_1"
   ]
  },
  {
   "cell_type": "markdown",
   "metadata": {},
   "source": [
    "# 虛擬環境執行 model"
   ]
  },
  {
   "cell_type": "code",
   "execution_count": 25,
   "metadata": {},
   "outputs": [],
   "source": [
    "hook = sy.TorchHook(torch)\n",
    "bob = sy.VirtualWorker(hook, id=\"bob\")\n",
    "alice = sy.VirtualWorker(hook, id=\"alice\")\n",
    "secure_worker = sy.VirtualWorker(hook, id=\"secure_worker\")\n",
    "compute_nodes = [bob, alice]\n"
   ]
  },
  {
   "cell_type": "code",
   "execution_count": 26,
   "metadata": {},
   "outputs": [],
   "source": [
    "model = CNN_Model().cuda()"
   ]
  },
  {
   "cell_type": "code",
   "execution_count": 27,
   "metadata": {},
   "outputs": [],
   "source": [
    "bobs_data = data.copy().send(bob)\n",
    "bobs_target = target.copy().send(bob)\n",
    "bobs_data = bobs_data.cuda()\n",
    "bobs_target = bobs_target.cuda()\n",
    "#alices_data = data.copy().send(alice)\n",
    "#alices_target = target.copy().send(alice)"
   ]
  },
  {
   "cell_type": "code",
   "execution_count": 28,
   "metadata": {},
   "outputs": [],
   "source": [
    "bobs_model = model.copy().send(bob)\n",
    "alices_model = model.copy().send(alice)"
   ]
  },
  {
   "cell_type": "code",
   "execution_count": 29,
   "metadata": {},
   "outputs": [],
   "source": [
    "#bobs_opt = torch.optim.Adam(bobs_model.parameters(), lr=LR)   \n",
    "#alices_opt = optim.SGD(params=alices_model.parameters(),lr=0.1) \n",
    "#optimizer = torch.optim.Adam(model.parameters(), lr=LR) \n",
    "#criterion = nn.CrossEntropyLoss() "
   ]
  },
  {
   "cell_type": "code",
   "execution_count": 30,
   "metadata": {},
   "outputs": [
    {
     "data": {
      "text/plain": [
       "{11064707953: tensor([[[[-1.4500, -1.2788, -1.2788,  ..., -1.4500, -1.4329, -1.4158],\n",
       "           [-1.2788, -1.2788, -1.2959,  ..., -1.4672, -1.3302, -1.3130],\n",
       "           [-1.4843, -1.4843, -1.2617,  ..., -1.2788, -1.4500, -1.4329],\n",
       "           ...,\n",
       "           [ 0.5878,  0.3823,  0.6221,  ..., -1.5699, -1.6213, -1.2617],\n",
       "           [ 0.6906,  0.5536,  0.6392,  ..., -1.5357, -1.6213, -1.4500],\n",
       "           [ 0.8276,  0.7591,  0.7933,  ..., -1.4843, -1.4843, -1.3473]],\n",
       " \n",
       "          [[-1.3529, -1.1779, -1.1779,  ..., -1.3529, -1.3354, -1.3179],\n",
       "           [-1.1779, -1.1779, -1.1954,  ..., -1.3704, -1.2304, -1.2129],\n",
       "           [-1.3880, -1.3880, -1.1604,  ..., -1.1779, -1.3529, -1.3354],\n",
       "           ...,\n",
       "           [ 0.7304,  0.5203,  0.7654,  ..., -1.4755, -1.5280, -1.1604],\n",
       "           [ 0.8354,  0.6954,  0.7829,  ..., -1.4405, -1.5280, -1.3529],\n",
       "           [ 0.9755,  0.9055,  0.9405,  ..., -1.3880, -1.3880, -1.2479]],\n",
       " \n",
       "          [[-1.1247, -0.9504, -0.9504,  ..., -1.1247, -1.1073, -1.0898],\n",
       "           [-0.9504, -0.9504, -0.9678,  ..., -1.1421, -1.0027, -0.9853],\n",
       "           [-1.1596, -1.1596, -0.9330,  ..., -0.9504, -1.1247, -1.1073],\n",
       "           ...,\n",
       "           [ 0.9494,  0.7402,  0.9842,  ..., -1.2467, -1.2990, -0.9330],\n",
       "           [ 1.0539,  0.9145,  1.0017,  ..., -1.2119, -1.2990, -1.1247],\n",
       "           [ 1.1934,  1.1237,  1.1585,  ..., -1.1596, -1.1596, -1.0201]]],\n",
       " \n",
       " \n",
       "         [[[ 1.3070,  0.8961,  0.3481,  ..., -1.3987, -1.7240, -1.7412],\n",
       "           [ 0.9988,  0.2282,  0.1083,  ..., -1.6727, -2.0494, -2.0837],\n",
       "           [ 0.7762,  0.6563,  0.9474,  ..., -1.7583, -1.9295, -1.8097],\n",
       "           ...,\n",
       "           [ 1.1358,  1.2557, -0.2856,  ..., -1.6213, -1.6727, -1.6727],\n",
       "           [ 1.2385,  1.1015, -0.5596,  ..., -1.7069, -1.8610, -1.7925],\n",
       "           [ 1.1700,  0.9988, -0.6623,  ..., -1.7412, -1.5357, -1.4672]],\n",
       " \n",
       "          [[ 1.4657,  1.0455,  0.4853,  ..., -1.3004, -1.6331, -1.6506],\n",
       "           [ 1.1506,  0.3627,  0.2402,  ..., -1.5805, -1.9657, -2.0007],\n",
       "           [ 0.9230,  0.8004,  1.0980,  ..., -1.6681, -1.8431, -1.7206],\n",
       "           ...,\n",
       "           [ 1.2906,  1.4132, -0.1625,  ..., -1.5280, -1.5805, -1.5805],\n",
       "           [ 1.3957,  1.2556, -0.4426,  ..., -1.6155, -1.7731, -1.7031],\n",
       "           [ 1.3256,  1.1506, -0.5476,  ..., -1.6506, -1.4405, -1.3704]],\n",
       " \n",
       "          [[ 1.6814,  1.2631,  0.7054,  ..., -1.0724, -1.4036, -1.4210],\n",
       "           [ 1.3677,  0.5834,  0.4614,  ..., -1.3513, -1.7347, -1.7696],\n",
       "           [ 1.1411,  1.0191,  1.3154,  ..., -1.4384, -1.6127, -1.4907],\n",
       "           ...,\n",
       "           [ 1.5071,  1.6291,  0.0605,  ..., -1.2990, -1.3513, -1.3513],\n",
       "           [ 1.6117,  1.4722, -0.2184,  ..., -1.3861, -1.5430, -1.4733],\n",
       "           [ 1.5420,  1.3677, -0.3230,  ..., -1.4210, -1.2119, -1.1421]]],\n",
       " \n",
       " \n",
       "         [[[-1.7925, -1.8953, -1.9467,  ..., -1.5528, -1.8268, -1.8268],\n",
       "           [-1.6213, -1.7240, -1.8439,  ..., -1.8610, -1.7754, -1.7754],\n",
       "           [-1.6213, -1.6898, -1.8268,  ..., -1.9467, -1.8097, -1.8097],\n",
       "           ...,\n",
       "           [-1.6042, -1.6213, -1.6898,  ..., -1.9638, -1.8953, -1.8610],\n",
       "           [-1.7583, -1.7240, -1.7240,  ..., -1.8953, -2.0494, -1.8439],\n",
       "           [-1.8097, -1.7412, -1.7240,  ..., -1.8782, -1.7925, -1.4843]],\n",
       " \n",
       "          [[-1.7031, -1.8081, -1.8606,  ..., -1.4580, -1.7381, -1.7381],\n",
       "           [-1.5280, -1.6331, -1.7556,  ..., -1.7731, -1.6856, -1.6856],\n",
       "           [-1.5280, -1.5980, -1.7381,  ..., -1.8606, -1.7206, -1.7206],\n",
       "           ...,\n",
       "           [-1.5105, -1.5280, -1.5980,  ..., -1.8782, -1.8081, -1.7731],\n",
       "           [-1.6681, -1.6331, -1.6331,  ..., -1.8081, -1.9657, -1.7556],\n",
       "           [-1.7206, -1.6506, -1.6331,  ..., -1.7906, -1.7031, -1.3880]],\n",
       " \n",
       "          [[-1.4733, -1.5779, -1.6302,  ..., -1.2293, -1.5081, -1.5081],\n",
       "           [-1.2990, -1.4036, -1.5256,  ..., -1.5430, -1.4559, -1.4559],\n",
       "           [-1.2990, -1.3687, -1.5081,  ..., -1.6302, -1.4907, -1.4907],\n",
       "           ...,\n",
       "           [-1.2816, -1.2990, -1.3687,  ..., -1.6476, -1.5779, -1.5430],\n",
       "           [-1.4384, -1.4036, -1.4036,  ..., -1.5779, -1.7347, -1.5256],\n",
       "           [-1.4907, -1.4210, -1.4036,  ..., -1.5604, -1.4733, -1.1596]]],\n",
       " \n",
       " \n",
       "         ...,\n",
       " \n",
       " \n",
       "         [[[-1.1932, -1.4843, -1.5185,  ..., -1.6898, -1.5357, -1.7754],\n",
       "           [-1.3815, -1.2788, -1.4158,  ..., -1.5185, -1.6384, -1.8097],\n",
       "           [-1.3473, -1.7240, -1.6727,  ..., -1.6042, -1.5185, -1.7240],\n",
       "           ...,\n",
       "           [-1.8268, -1.8097, -1.7240,  ..., -1.5528, -1.3302, -1.0390],\n",
       "           [-1.9124, -1.9809, -1.9809,  ..., -1.1589, -1.3302, -1.1418],\n",
       "           [-1.8610, -1.9809, -1.9638,  ..., -1.4329, -1.5357, -1.3302]],\n",
       " \n",
       "          [[-1.0903, -1.3880, -1.4230,  ..., -1.5980, -1.4405, -1.6856],\n",
       "           [-1.2829, -1.1779, -1.3179,  ..., -1.4230, -1.5455, -1.7206],\n",
       "           [-1.2479, -1.6331, -1.5805,  ..., -1.5105, -1.4230, -1.6331],\n",
       "           ...,\n",
       "           [-1.7381, -1.7206, -1.6331,  ..., -1.4580, -1.2304, -0.9328],\n",
       "           [-1.8256, -1.8957, -1.8957,  ..., -1.0553, -1.2304, -1.0378],\n",
       "           [-1.7731, -1.8957, -1.8782,  ..., -1.3354, -1.4405, -1.2304]],\n",
       " \n",
       "          [[-0.8633, -1.1596, -1.1944,  ..., -1.3687, -1.2119, -1.4559],\n",
       "           [-1.0550, -0.9504, -1.0898,  ..., -1.1944, -1.3164, -1.4907],\n",
       "           [-1.0201, -1.4036, -1.3513,  ..., -1.2816, -1.1944, -1.4036],\n",
       "           ...,\n",
       "           [-1.5081, -1.4907, -1.4036,  ..., -1.2293, -1.0027, -0.7064],\n",
       "           [-1.5953, -1.6650, -1.6650,  ..., -0.8284, -1.0027, -0.8110],\n",
       "           [-1.5430, -1.6650, -1.6476,  ..., -1.1073, -1.2119, -1.0027]]],\n",
       " \n",
       " \n",
       "         [[[-1.7754, -1.6898, -1.5870,  ..., -1.6727, -1.6384, -1.6213],\n",
       "           [-1.7069, -1.6384, -1.5528,  ..., -1.6727, -1.6727, -1.6555],\n",
       "           [-1.6727, -1.6042, -1.5185,  ..., -1.6727, -1.6898, -1.6898],\n",
       "           ...,\n",
       "           [-1.4500, -1.4843, -1.5357,  ..., -1.1589, -0.7822, -0.1828],\n",
       "           [-1.5699, -1.6042, -1.5528,  ..., -0.9877, -0.4568,  0.2282],\n",
       "           [-1.5357, -1.6042, -1.5699,  ..., -0.9192, -0.1314,  0.5536]],\n",
       " \n",
       "          [[-1.6856, -1.5980, -1.4930,  ..., -1.5805, -1.5455, -1.5280],\n",
       "           [-1.6155, -1.5455, -1.4580,  ..., -1.5805, -1.5805, -1.5630],\n",
       "           [-1.5805, -1.5105, -1.4230,  ..., -1.5805, -1.5980, -1.5980],\n",
       "           ...,\n",
       "           [-1.3529, -1.3880, -1.4405,  ..., -1.0553, -0.6702, -0.0574],\n",
       "           [-1.4755, -1.5105, -1.4580,  ..., -0.8803, -0.3375,  0.3627],\n",
       "           [-1.4405, -1.5105, -1.4755,  ..., -0.8102, -0.0049,  0.6954]],\n",
       " \n",
       "          [[-1.4559, -1.3687, -1.2641,  ..., -1.3513, -1.3164, -1.2990],\n",
       "           [-1.3861, -1.3164, -1.2293,  ..., -1.3513, -1.3513, -1.3339],\n",
       "           [-1.3513, -1.2816, -1.1944,  ..., -1.3513, -1.3687, -1.3687],\n",
       "           ...,\n",
       "           [-1.1247, -1.1596, -1.2119,  ..., -0.8284, -0.4450,  0.1651],\n",
       "           [-1.2467, -1.2816, -1.2293,  ..., -0.6541, -0.1138,  0.5834],\n",
       "           [-1.2119, -1.2816, -1.2467,  ..., -0.5844,  0.2173,  0.9145]]],\n",
       " \n",
       " \n",
       "         [[[-1.7240, -1.6555, -1.5528,  ..., -1.4672, -1.6727, -1.6898],\n",
       "           [-1.6213, -1.6213, -1.6042,  ..., -1.7583, -1.7583, -1.7925],\n",
       "           [-1.5870, -1.6213, -1.7069,  ..., -1.7240, -1.6898, -1.7240],\n",
       "           ...,\n",
       "           [-1.4843, -1.5870, -1.5528,  ..., -1.6213, -1.7240, -1.6384],\n",
       "           [-1.2274, -1.7240, -1.8097,  ..., -1.4158, -1.5699, -1.5699],\n",
       "           [ 0.0227, -0.9705, -1.6384,  ..., -1.6898, -1.6213, -1.6213]],\n",
       " \n",
       "          [[-1.6331, -1.5630, -1.4580,  ..., -1.3704, -1.5805, -1.5980],\n",
       "           [-1.5280, -1.5280, -1.5105,  ..., -1.6681, -1.6681, -1.7031],\n",
       "           [-1.4930, -1.5280, -1.6155,  ..., -1.6331, -1.5980, -1.6331],\n",
       "           ...,\n",
       "           [-1.3880, -1.4930, -1.4580,  ..., -1.5280, -1.6331, -1.5455],\n",
       "           [-1.1253, -1.6331, -1.7206,  ..., -1.3179, -1.4755, -1.4755],\n",
       "           [ 0.1527, -0.8627, -1.5455,  ..., -1.5980, -1.5280, -1.5280]],\n",
       " \n",
       "          [[-1.4036, -1.3339, -1.2293,  ..., -1.1421, -1.3513, -1.3687],\n",
       "           [-1.2990, -1.2990, -1.2816,  ..., -1.4384, -1.4384, -1.4733],\n",
       "           [-1.2641, -1.2990, -1.3861,  ..., -1.4036, -1.3687, -1.4036],\n",
       "           ...,\n",
       "           [-1.1596, -1.2641, -1.2293,  ..., -1.2990, -1.4036, -1.3164],\n",
       "           [-0.8981, -1.4036, -1.4907,  ..., -1.0898, -1.2467, -1.2467],\n",
       "           [ 0.3742, -0.6367, -1.3164,  ..., -1.3687, -1.2990, -1.2990]]]],\n",
       "        device='cuda:0'),\n",
       " 19379832275: tensor([1, 1, 1, 1, 1, 1, 1, 1, 0, 1, 1, 0, 1, 0, 1, 1, 0], device='cuda:0'),\n",
       " 54073814015: Parameter containing:\n",
       " tensor([[[[ 0.0937, -0.0141, -0.0336],\n",
       "           [-0.1706,  0.1743,  0.0261],\n",
       "           [-0.1845, -0.1188,  0.1364]],\n",
       " \n",
       "          [[-0.1528, -0.0816,  0.1160],\n",
       "           [-0.1556,  0.1148, -0.0090],\n",
       "           [ 0.0111, -0.1307, -0.1530]],\n",
       " \n",
       "          [[ 0.0941,  0.0314, -0.0297],\n",
       "           [ 0.1631, -0.0429, -0.1241],\n",
       "           [ 0.0967, -0.1169,  0.0343]]],\n",
       " \n",
       " \n",
       "         [[[ 0.1679,  0.1038,  0.1000],\n",
       "           [-0.0777, -0.1104, -0.1394],\n",
       "           [ 0.1550,  0.1917, -0.1159]],\n",
       " \n",
       "          [[-0.1547,  0.0192,  0.0735],\n",
       "           [-0.0455,  0.1452, -0.1596],\n",
       "           [ 0.1471,  0.1858,  0.1296]],\n",
       " \n",
       "          [[-0.0468,  0.0249,  0.1719],\n",
       "           [ 0.1586, -0.0036,  0.0539],\n",
       "           [ 0.1849, -0.0442, -0.0965]]],\n",
       " \n",
       " \n",
       "         [[[ 0.0376,  0.0174,  0.1159],\n",
       "           [-0.1866, -0.1484, -0.0533],\n",
       "           [ 0.0565,  0.0349, -0.0278]],\n",
       " \n",
       "          [[-0.0146,  0.1356, -0.0884],\n",
       "           [-0.1225,  0.1263, -0.1441],\n",
       "           [ 0.0688,  0.0323, -0.1857]],\n",
       " \n",
       "          [[-0.1237, -0.0143, -0.0472],\n",
       "           [ 0.0262, -0.1602,  0.1144],\n",
       "           [ 0.1642,  0.1073, -0.1469]]],\n",
       " \n",
       " \n",
       "         [[[-0.0785,  0.0018, -0.0416],\n",
       "           [ 0.1162,  0.1704, -0.1464],\n",
       "           [-0.1500,  0.0806, -0.0181]],\n",
       " \n",
       "          [[-0.0706,  0.1865,  0.1676],\n",
       "           [-0.1037, -0.0043, -0.1624],\n",
       "           [ 0.0683, -0.1036, -0.1322]],\n",
       " \n",
       "          [[ 0.1406,  0.1614, -0.0507],\n",
       "           [-0.1756, -0.0867,  0.0914],\n",
       "           [ 0.0288,  0.0556, -0.0273]]],\n",
       " \n",
       " \n",
       "         [[[ 0.1527, -0.1477, -0.1438],\n",
       "           [-0.0820,  0.0362,  0.0730],\n",
       "           [ 0.1867, -0.0171, -0.0655]],\n",
       " \n",
       "          [[ 0.0616,  0.0345,  0.1650],\n",
       "           [-0.0298, -0.0280,  0.0358],\n",
       "           [ 0.0144,  0.1092,  0.1598]],\n",
       " \n",
       "          [[-0.1638, -0.0517, -0.0465],\n",
       "           [ 0.0734, -0.0806, -0.1640],\n",
       "           [-0.0675, -0.0537, -0.0541]]],\n",
       " \n",
       " \n",
       "         [[[ 0.0957,  0.0076,  0.1498],\n",
       "           [ 0.0608, -0.0778, -0.1163],\n",
       "           [-0.1076,  0.1215, -0.1554]],\n",
       " \n",
       "          [[-0.0363,  0.0117,  0.1232],\n",
       "           [ 0.0138,  0.0611,  0.1356],\n",
       "           [-0.1361, -0.0588,  0.0811]],\n",
       " \n",
       "          [[ 0.1083,  0.0384,  0.0521],\n",
       "           [ 0.0530,  0.1715,  0.1887],\n",
       "           [ 0.1117, -0.1703,  0.1034]]],\n",
       " \n",
       " \n",
       "         [[[-0.1516,  0.0541, -0.0013],\n",
       "           [-0.0685, -0.1066,  0.0437],\n",
       "           [-0.0763, -0.0566,  0.0771]],\n",
       " \n",
       "          [[ 0.1550, -0.0447,  0.1890],\n",
       "           [-0.1447,  0.1375,  0.0264],\n",
       "           [-0.0827, -0.1043,  0.1529]],\n",
       " \n",
       "          [[ 0.1576,  0.0955, -0.0784],\n",
       "           [ 0.0471, -0.0796, -0.1745],\n",
       "           [-0.1367,  0.1466, -0.0537]]],\n",
       " \n",
       " \n",
       "         [[[-0.0432,  0.1739,  0.0789],\n",
       "           [ 0.0884,  0.1030,  0.1873],\n",
       "           [ 0.0678,  0.0841,  0.1411]],\n",
       " \n",
       "          [[ 0.0172,  0.1837, -0.0243],\n",
       "           [ 0.0523, -0.1707,  0.1779],\n",
       "           [ 0.0678, -0.1103, -0.1105]],\n",
       " \n",
       "          [[-0.0315, -0.0812, -0.1632],\n",
       "           [ 0.1651,  0.0878, -0.1469],\n",
       "           [-0.1172,  0.0367,  0.0478]]],\n",
       " \n",
       " \n",
       "         [[[-0.0248,  0.1020,  0.0105],\n",
       "           [-0.1563,  0.0530,  0.1588],\n",
       "           [-0.0827,  0.1725, -0.0501]],\n",
       " \n",
       "          [[ 0.0725, -0.1174, -0.0438],\n",
       "           [-0.0314, -0.0214, -0.1312],\n",
       "           [ 0.0127, -0.1497,  0.1386]],\n",
       " \n",
       "          [[-0.1159, -0.1728, -0.1524],\n",
       "           [-0.0602,  0.1199, -0.1645],\n",
       "           [-0.0990, -0.0377, -0.1199]]],\n",
       " \n",
       " \n",
       "         [[[ 0.1422, -0.0241,  0.1557],\n",
       "           [-0.0360,  0.1297, -0.0459],\n",
       "           [ 0.0873, -0.0723, -0.1701]],\n",
       " \n",
       "          [[-0.0880, -0.1670,  0.0886],\n",
       "           [ 0.0970, -0.1317,  0.1692],\n",
       "           [ 0.1113,  0.0496, -0.0909]],\n",
       " \n",
       "          [[-0.0914, -0.0835, -0.0430],\n",
       "           [-0.0446,  0.1176, -0.1006],\n",
       "           [-0.1516,  0.1551,  0.0516]]],\n",
       " \n",
       " \n",
       "         [[[-0.1733, -0.1350, -0.1198],\n",
       "           [ 0.0098,  0.0910,  0.0458],\n",
       "           [-0.0884, -0.0973, -0.1520]],\n",
       " \n",
       "          [[-0.0954,  0.0899,  0.0122],\n",
       "           [-0.1155, -0.1671,  0.1670],\n",
       "           [-0.1591, -0.1175,  0.0543]],\n",
       " \n",
       "          [[-0.1566,  0.1275,  0.0908],\n",
       "           [-0.0576, -0.0977, -0.0030],\n",
       "           [ 0.1695,  0.0946, -0.0904]]],\n",
       " \n",
       " \n",
       "         [[[ 0.0505, -0.1348, -0.0822],\n",
       "           [-0.1798,  0.0259, -0.1580],\n",
       "           [-0.1798, -0.0194, -0.0607]],\n",
       " \n",
       "          [[ 0.0866,  0.1383, -0.1095],\n",
       "           [ 0.0119, -0.0934, -0.0869],\n",
       "           [-0.0803, -0.1807,  0.0483]],\n",
       " \n",
       "          [[-0.0860,  0.1607, -0.1161],\n",
       "           [ 0.1106,  0.0733, -0.1665],\n",
       "           [-0.0340,  0.1188, -0.1212]]],\n",
       " \n",
       " \n",
       "         [[[-0.1052, -0.1762,  0.0425],\n",
       "           [-0.1695, -0.0417, -0.0135],\n",
       "           [-0.1466, -0.1735, -0.1832]],\n",
       " \n",
       "          [[ 0.1888, -0.1160, -0.0250],\n",
       "           [ 0.0250,  0.0795, -0.0644],\n",
       "           [-0.1853, -0.1924,  0.0148]],\n",
       " \n",
       "          [[-0.1742, -0.0909, -0.0658],\n",
       "           [ 0.1476,  0.1687,  0.0622],\n",
       "           [-0.1741,  0.1841, -0.1586]]],\n",
       " \n",
       " \n",
       "         [[[ 0.0381, -0.1605,  0.1447],\n",
       "           [-0.0072,  0.1817,  0.1579],\n",
       "           [-0.0905, -0.0906, -0.1082]],\n",
       " \n",
       "          [[-0.1099,  0.1425,  0.1805],\n",
       "           [-0.0296,  0.0188,  0.1174],\n",
       "           [-0.0545, -0.0347,  0.1425]],\n",
       " \n",
       "          [[ 0.0420,  0.1741, -0.1325],\n",
       "           [ 0.1541, -0.0873, -0.0704],\n",
       "           [-0.1860,  0.0622, -0.0024]]],\n",
       " \n",
       " \n",
       "         [[[ 0.0865,  0.1874,  0.0175],\n",
       "           [ 0.1792,  0.1571, -0.1538],\n",
       "           [ 0.0093, -0.1324,  0.0390]],\n",
       " \n",
       "          [[ 0.1563, -0.0056,  0.1061],\n",
       "           [-0.1414,  0.1719, -0.0878],\n",
       "           [-0.1661,  0.0771,  0.0024]],\n",
       " \n",
       "          [[-0.0538,  0.1021, -0.0351],\n",
       "           [-0.0959, -0.0829,  0.1908],\n",
       "           [-0.0894, -0.0405, -0.1291]]],\n",
       " \n",
       " \n",
       "         [[[-0.0143, -0.0431,  0.0257],\n",
       "           [ 0.1351, -0.0782,  0.1869],\n",
       "           [-0.0424, -0.1121,  0.0129]],\n",
       " \n",
       "          [[-0.0422, -0.0050, -0.0535],\n",
       "           [ 0.0480,  0.1638,  0.1778],\n",
       "           [-0.1400,  0.1275, -0.0355]],\n",
       " \n",
       "          [[ 0.1697, -0.1883,  0.1011],\n",
       "           [ 0.1613,  0.1394, -0.1093],\n",
       "           [ 0.1180,  0.1868, -0.0677]]]], device='cuda:0', requires_grad=True),\n",
       " 72107342017: Parameter containing:\n",
       " tensor([ 0.1248,  0.0499, -0.0350,  0.0294, -0.0380,  0.0179, -0.1299, -0.0909,\n",
       "          0.1053,  0.0209,  0.0082,  0.0225,  0.0220, -0.1861, -0.1697, -0.0592],\n",
       "        device='cuda:0', requires_grad=True),\n",
       " 40197176584: Parameter containing:\n",
       " tensor([[[[-0.0520,  0.0366,  0.0329],\n",
       "           [-0.0429, -0.0474, -0.0236],\n",
       "           [ 0.0049,  0.0184,  0.0062]],\n",
       " \n",
       "          [[-0.0378,  0.0140, -0.0105],\n",
       "           [-0.0130, -0.0631, -0.0474],\n",
       "           [-0.0105, -0.0433,  0.0566]],\n",
       " \n",
       "          [[-0.0169,  0.0130,  0.0099],\n",
       "           [-0.0175, -0.0365,  0.0105],\n",
       "           [-0.0382,  0.0617,  0.0756]],\n",
       " \n",
       "          ...,\n",
       " \n",
       "          [[-0.0104, -0.0656, -0.0827],\n",
       "           [-0.0567, -0.0181, -0.0539],\n",
       "           [ 0.0055,  0.0359,  0.0398]],\n",
       " \n",
       "          [[ 0.0422,  0.0456,  0.0482],\n",
       "           [ 0.0151, -0.0766,  0.0204],\n",
       "           [-0.0329, -0.0002,  0.0125]],\n",
       " \n",
       "          [[-0.0822,  0.0099, -0.0494],\n",
       "           [-0.0021,  0.0685, -0.0712],\n",
       "           [-0.0248,  0.0644,  0.0351]]],\n",
       " \n",
       " \n",
       "         [[[ 0.0520, -0.0532, -0.0534],\n",
       "           [ 0.0010,  0.0417,  0.0042],\n",
       "           [-0.0654,  0.0009, -0.0114]],\n",
       " \n",
       "          [[ 0.0173,  0.0590,  0.0098],\n",
       "           [-0.0317, -0.0536, -0.0405],\n",
       "           [-0.0162,  0.0144, -0.0236]],\n",
       " \n",
       "          [[ 0.0557,  0.0358,  0.0299],\n",
       "           [-0.0296,  0.0002, -0.0743],\n",
       "           [ 0.0309, -0.0783, -0.0337]],\n",
       " \n",
       "          ...,\n",
       " \n",
       "          [[ 0.0195,  0.0433, -0.0073],\n",
       "           [-0.0031,  0.0066, -0.0749],\n",
       "           [-0.0165, -0.0561,  0.0208]],\n",
       " \n",
       "          [[-0.0555, -0.0373, -0.0646],\n",
       "           [-0.0545, -0.0132,  0.0003],\n",
       "           [ 0.0383, -0.0760, -0.0670]],\n",
       " \n",
       "          [[-0.0160,  0.0245, -0.0532],\n",
       "           [ 0.0416,  0.0429,  0.0305],\n",
       "           [-0.0018,  0.0723, -0.0692]]],\n",
       " \n",
       " \n",
       "         [[[ 0.0163, -0.0110,  0.0759],\n",
       "           [-0.0720,  0.0329,  0.0159],\n",
       "           [-0.0413,  0.0563, -0.0128]],\n",
       " \n",
       "          [[ 0.0030, -0.0560,  0.0067],\n",
       "           [ 0.0793,  0.0291, -0.0831],\n",
       "           [ 0.0832, -0.0178, -0.0181]],\n",
       " \n",
       "          [[ 0.0672, -0.0704,  0.0395],\n",
       "           [ 0.0058, -0.0311,  0.0805],\n",
       "           [-0.0185, -0.0344, -0.0119]],\n",
       " \n",
       "          ...,\n",
       " \n",
       "          [[-0.0209, -0.0240, -0.0794],\n",
       "           [ 0.0349,  0.0262,  0.0702],\n",
       "           [-0.0598,  0.0662, -0.0733]],\n",
       " \n",
       "          [[-0.0078,  0.0590, -0.0125],\n",
       "           [-0.0189,  0.0738, -0.0085],\n",
       "           [ 0.0079,  0.0355, -0.0116]],\n",
       " \n",
       "          [[-0.0512, -0.0544, -0.0617],\n",
       "           [ 0.0161,  0.0417,  0.0501],\n",
       "           [-0.0756,  0.0541, -0.0658]]],\n",
       " \n",
       " \n",
       "         ...,\n",
       " \n",
       " \n",
       "         [[[ 0.0571,  0.0601,  0.0367],\n",
       "           [-0.0371,  0.0269,  0.0005],\n",
       "           [-0.0404,  0.0747,  0.0607]],\n",
       " \n",
       "          [[-0.0490,  0.0222,  0.0629],\n",
       "           [-0.0320, -0.0633,  0.0527],\n",
       "           [ 0.0496, -0.0267, -0.0167]],\n",
       " \n",
       "          [[ 0.0101,  0.0315,  0.0735],\n",
       "           [-0.0831, -0.0262,  0.0074],\n",
       "           [ 0.0066,  0.0190, -0.0805]],\n",
       " \n",
       "          ...,\n",
       " \n",
       "          [[-0.0228,  0.0783,  0.0304],\n",
       "           [ 0.0231, -0.0830,  0.0354],\n",
       "           [-0.0353, -0.0324,  0.0634]],\n",
       " \n",
       "          [[ 0.0150, -0.0042,  0.0771],\n",
       "           [ 0.0233,  0.0090,  0.0315],\n",
       "           [ 0.0683,  0.0773, -0.0645]],\n",
       " \n",
       "          [[ 0.0179,  0.0487, -0.0601],\n",
       "           [ 0.0460,  0.0732,  0.0081],\n",
       "           [ 0.0062,  0.0071, -0.0719]]],\n",
       " \n",
       " \n",
       "         [[[ 0.0641, -0.0483,  0.0566],\n",
       "           [-0.0054, -0.0092,  0.0798],\n",
       "           [ 0.0637, -0.0758, -0.0664]],\n",
       " \n",
       "          [[ 0.0137,  0.0271,  0.0485],\n",
       "           [-0.0347,  0.0820,  0.0790],\n",
       "           [ 0.0599, -0.0242, -0.0200]],\n",
       " \n",
       "          [[ 0.0434, -0.0688,  0.0769],\n",
       "           [ 0.0469, -0.0336, -0.0195],\n",
       "           [ 0.0144, -0.0301,  0.0822]],\n",
       " \n",
       "          ...,\n",
       " \n",
       "          [[-0.0447, -0.0710, -0.0735],\n",
       "           [-0.0822,  0.0257,  0.0626],\n",
       "           [-0.0233, -0.0772,  0.0449]],\n",
       " \n",
       "          [[-0.0214,  0.0510, -0.0382],\n",
       "           [ 0.0627,  0.0249, -0.0136],\n",
       "           [ 0.0102,  0.0547,  0.0389]],\n",
       " \n",
       "          [[ 0.0403, -0.0087,  0.0303],\n",
       "           [ 0.0515,  0.0136,  0.0601],\n",
       "           [-0.0829,  0.0726, -0.0732]]],\n",
       " \n",
       " \n",
       "         [[[ 0.0088,  0.0656, -0.0709],\n",
       "           [ 0.0544, -0.0710,  0.0822],\n",
       "           [-0.0583,  0.0587,  0.0166]],\n",
       " \n",
       "          [[ 0.0194,  0.0361, -0.0030],\n",
       "           [-0.0305,  0.0242,  0.0743],\n",
       "           [ 0.0710, -0.0620,  0.0791]],\n",
       " \n",
       "          [[ 0.0175, -0.0183, -0.0063],\n",
       "           [ 0.0220, -0.0818, -0.0697],\n",
       "           [-0.0051,  0.0482, -0.0771]],\n",
       " \n",
       "          ...,\n",
       " \n",
       "          [[ 0.0588, -0.0398,  0.0636],\n",
       "           [-0.0798, -0.0080, -0.0104],\n",
       "           [ 0.0668, -0.0636, -0.0459]],\n",
       " \n",
       "          [[ 0.0429,  0.0632,  0.0347],\n",
       "           [-0.0609,  0.0104, -0.0633],\n",
       "           [ 0.0397, -0.0081, -0.0157]],\n",
       " \n",
       "          [[ 0.0671,  0.0619,  0.0009],\n",
       "           [ 0.0706,  0.0421, -0.0769],\n",
       "           [ 0.0368,  0.0281, -0.0425]]]], device='cuda:0', requires_grad=True),\n",
       " 99181081766: Parameter containing:\n",
       " tensor([ 0.0598,  0.0754, -0.0104,  0.0282,  0.0390,  0.0713,  0.0059, -0.0259,\n",
       "         -0.0724, -0.0541,  0.0812,  0.0707, -0.0476, -0.0796,  0.0763,  0.0272,\n",
       "         -0.0113, -0.0428, -0.0546, -0.0741,  0.0453, -0.0010,  0.0560,  0.0828,\n",
       "          0.0580,  0.0697,  0.0669,  0.0520, -0.0455,  0.0304,  0.0240, -0.0452],\n",
       "        device='cuda:0', requires_grad=True),\n",
       " 86344225385: Parameter containing:\n",
       " tensor([[[[-8.7956e-02]],\n",
       " \n",
       "          [[-1.0884e-01]],\n",
       " \n",
       "          [[-1.4608e-01]],\n",
       " \n",
       "          [[ 8.3756e-02]],\n",
       " \n",
       "          [[-3.7343e-02]],\n",
       " \n",
       "          [[-6.0574e-02]],\n",
       " \n",
       "          [[ 1.7213e-01]],\n",
       " \n",
       "          [[-8.7259e-02]],\n",
       " \n",
       "          [[ 1.2363e-01]],\n",
       " \n",
       "          [[-1.9689e-02]],\n",
       " \n",
       "          [[ 7.8314e-02]],\n",
       " \n",
       "          [[-8.8146e-02]],\n",
       " \n",
       "          [[ 8.4815e-02]],\n",
       " \n",
       "          [[ 6.5944e-02]],\n",
       " \n",
       "          [[ 7.1772e-02]],\n",
       " \n",
       "          [[-3.9373e-02]],\n",
       " \n",
       "          [[-7.7238e-02]],\n",
       " \n",
       "          [[-3.4540e-02]],\n",
       " \n",
       "          [[-2.7594e-02]],\n",
       " \n",
       "          [[-1.0134e-01]],\n",
       " \n",
       "          [[-8.7288e-02]],\n",
       " \n",
       "          [[ 1.5581e-01]],\n",
       " \n",
       "          [[-8.0180e-02]],\n",
       " \n",
       "          [[-2.1829e-02]],\n",
       " \n",
       "          [[-4.8456e-02]],\n",
       " \n",
       "          [[-5.9211e-02]],\n",
       " \n",
       "          [[ 1.7020e-01]],\n",
       " \n",
       "          [[-1.6968e-01]],\n",
       " \n",
       "          [[ 1.6482e-01]],\n",
       " \n",
       "          [[ 9.2714e-02]],\n",
       " \n",
       "          [[ 1.2640e-01]],\n",
       " \n",
       "          [[ 1.2658e-02]]],\n",
       " \n",
       " \n",
       "         [[[ 1.1385e-01]],\n",
       " \n",
       "          [[-5.7030e-02]],\n",
       " \n",
       "          [[-8.0879e-02]],\n",
       " \n",
       "          [[ 1.3120e-02]],\n",
       " \n",
       "          [[-9.7831e-02]],\n",
       " \n",
       "          [[ 3.4996e-02]],\n",
       " \n",
       "          [[-1.6119e-01]],\n",
       " \n",
       "          [[ 9.9879e-02]],\n",
       " \n",
       "          [[-9.9722e-03]],\n",
       " \n",
       "          [[ 1.3998e-01]],\n",
       " \n",
       "          [[-1.6672e-02]],\n",
       " \n",
       "          [[-1.4936e-01]],\n",
       " \n",
       "          [[ 6.4688e-02]],\n",
       " \n",
       "          [[-6.1657e-02]],\n",
       " \n",
       "          [[ 1.5383e-02]],\n",
       " \n",
       "          [[-1.3549e-01]],\n",
       " \n",
       "          [[ 5.7672e-03]],\n",
       " \n",
       "          [[-9.9710e-02]],\n",
       " \n",
       "          [[-1.2930e-01]],\n",
       " \n",
       "          [[ 1.3571e-01]],\n",
       " \n",
       "          [[ 1.6997e-01]],\n",
       " \n",
       "          [[ 5.9471e-02]],\n",
       " \n",
       "          [[-1.6357e-01]],\n",
       " \n",
       "          [[ 1.5500e-01]],\n",
       " \n",
       "          [[ 3.0712e-02]],\n",
       " \n",
       "          [[ 8.8446e-02]],\n",
       " \n",
       "          [[-4.8120e-02]],\n",
       " \n",
       "          [[ 1.0631e-01]],\n",
       " \n",
       "          [[-1.2650e-01]],\n",
       " \n",
       "          [[-8.1808e-02]],\n",
       " \n",
       "          [[-1.2448e-01]],\n",
       " \n",
       "          [[-1.3019e-01]]],\n",
       " \n",
       " \n",
       "         [[[-1.0673e-01]],\n",
       " \n",
       "          [[ 1.6230e-01]],\n",
       " \n",
       "          [[-2.0220e-02]],\n",
       " \n",
       "          [[-9.2944e-02]],\n",
       " \n",
       "          [[ 1.0130e-01]],\n",
       " \n",
       "          [[ 1.5017e-01]],\n",
       " \n",
       "          [[-1.4219e-01]],\n",
       " \n",
       "          [[ 1.5010e-01]],\n",
       " \n",
       "          [[ 1.6623e-01]],\n",
       " \n",
       "          [[ 1.6098e-01]],\n",
       " \n",
       "          [[ 1.4387e-01]],\n",
       " \n",
       "          [[ 1.1896e-01]],\n",
       " \n",
       "          [[-1.3277e-01]],\n",
       " \n",
       "          [[-1.3527e-01]],\n",
       " \n",
       "          [[ 3.0883e-02]],\n",
       " \n",
       "          [[-9.1295e-02]],\n",
       " \n",
       "          [[-5.2417e-02]],\n",
       " \n",
       "          [[ 7.3084e-03]],\n",
       " \n",
       "          [[-1.7019e-01]],\n",
       " \n",
       "          [[ 8.0608e-02]],\n",
       " \n",
       "          [[ 5.3004e-02]],\n",
       " \n",
       "          [[-6.4817e-02]],\n",
       " \n",
       "          [[-5.9001e-02]],\n",
       " \n",
       "          [[-1.9369e-02]],\n",
       " \n",
       "          [[-2.4645e-03]],\n",
       " \n",
       "          [[-1.1540e-02]],\n",
       " \n",
       "          [[-9.6156e-02]],\n",
       " \n",
       "          [[-3.9383e-02]],\n",
       " \n",
       "          [[-1.4487e-01]],\n",
       " \n",
       "          [[-5.2705e-02]],\n",
       " \n",
       "          [[ 1.4571e-01]],\n",
       " \n",
       "          [[ 1.2141e-01]]],\n",
       " \n",
       " \n",
       "         [[[ 1.2710e-01]],\n",
       " \n",
       "          [[-2.7648e-02]],\n",
       " \n",
       "          [[ 8.3835e-02]],\n",
       " \n",
       "          [[ 1.4700e-01]],\n",
       " \n",
       "          [[-8.7511e-02]],\n",
       " \n",
       "          [[-1.0470e-01]],\n",
       " \n",
       "          [[ 3.9319e-02]],\n",
       " \n",
       "          [[-8.2484e-02]],\n",
       " \n",
       "          [[ 7.1151e-03]],\n",
       " \n",
       "          [[ 4.9843e-02]],\n",
       " \n",
       "          [[-7.7434e-02]],\n",
       " \n",
       "          [[ 1.5004e-02]],\n",
       " \n",
       "          [[-1.0941e-01]],\n",
       " \n",
       "          [[-1.1793e-01]],\n",
       " \n",
       "          [[-1.0391e-01]],\n",
       " \n",
       "          [[ 5.5028e-02]],\n",
       " \n",
       "          [[ 9.6015e-02]],\n",
       " \n",
       "          [[-1.2223e-01]],\n",
       " \n",
       "          [[ 1.1799e-01]],\n",
       " \n",
       "          [[-3.5434e-02]],\n",
       " \n",
       "          [[ 4.6337e-02]],\n",
       " \n",
       "          [[-1.2853e-01]],\n",
       " \n",
       "          [[ 1.6856e-01]],\n",
       " \n",
       "          [[ 1.4051e-01]],\n",
       " \n",
       "          [[-1.6989e-01]],\n",
       " \n",
       "          [[-1.5490e-01]],\n",
       " \n",
       "          [[-7.1269e-02]],\n",
       " \n",
       "          [[ 9.1735e-02]],\n",
       " \n",
       "          [[ 1.6415e-01]],\n",
       " \n",
       "          [[ 1.1158e-01]],\n",
       " \n",
       "          [[-1.0453e-01]],\n",
       " \n",
       "          [[ 3.3949e-02]]],\n",
       " \n",
       " \n",
       "         [[[-6.0300e-02]],\n",
       " \n",
       "          [[ 3.8679e-02]],\n",
       " \n",
       "          [[-2.2914e-02]],\n",
       " \n",
       "          [[-1.4487e-01]],\n",
       " \n",
       "          [[-9.2833e-02]],\n",
       " \n",
       "          [[ 1.3616e-01]],\n",
       " \n",
       "          [[ 1.5545e-01]],\n",
       " \n",
       "          [[ 2.0212e-02]],\n",
       " \n",
       "          [[ 1.0497e-01]],\n",
       " \n",
       "          [[ 4.3294e-02]],\n",
       " \n",
       "          [[ 1.5635e-01]],\n",
       " \n",
       "          [[ 1.2421e-01]],\n",
       " \n",
       "          [[ 1.5220e-02]],\n",
       " \n",
       "          [[ 1.5930e-01]],\n",
       " \n",
       "          [[-1.1991e-02]],\n",
       " \n",
       "          [[-3.0348e-02]],\n",
       " \n",
       "          [[-1.0943e-01]],\n",
       " \n",
       "          [[-1.7036e-01]],\n",
       " \n",
       "          [[-7.7664e-02]],\n",
       " \n",
       "          [[ 8.1746e-04]],\n",
       " \n",
       "          [[-1.7594e-01]],\n",
       " \n",
       "          [[ 1.6236e-01]],\n",
       " \n",
       "          [[-8.1301e-02]],\n",
       " \n",
       "          [[ 6.6452e-02]],\n",
       " \n",
       "          [[-1.5624e-01]],\n",
       " \n",
       "          [[ 9.4561e-02]],\n",
       " \n",
       "          [[ 4.6536e-02]],\n",
       " \n",
       "          [[ 9.3269e-02]],\n",
       " \n",
       "          [[ 3.0837e-02]],\n",
       " \n",
       "          [[-1.2652e-01]],\n",
       " \n",
       "          [[ 9.7419e-02]],\n",
       " \n",
       "          [[-1.5085e-01]]],\n",
       " \n",
       " \n",
       "         [[[ 1.3910e-01]],\n",
       " \n",
       "          [[ 9.6354e-02]],\n",
       " \n",
       "          [[-5.7746e-02]],\n",
       " \n",
       "          [[ 1.5364e-01]],\n",
       " \n",
       "          [[-1.1535e-02]],\n",
       " \n",
       "          [[-1.4017e-01]],\n",
       " \n",
       "          [[ 8.3196e-02]],\n",
       " \n",
       "          [[ 2.8839e-02]],\n",
       " \n",
       "          [[ 1.5826e-01]],\n",
       " \n",
       "          [[ 1.6012e-01]],\n",
       " \n",
       "          [[-6.5628e-02]],\n",
       " \n",
       "          [[-5.3697e-02]],\n",
       " \n",
       "          [[-7.4956e-02]],\n",
       " \n",
       "          [[-2.3944e-02]],\n",
       " \n",
       "          [[ 9.8988e-02]],\n",
       " \n",
       "          [[ 1.3793e-02]],\n",
       " \n",
       "          [[-1.2405e-01]],\n",
       " \n",
       "          [[-9.8515e-02]],\n",
       " \n",
       "          [[ 1.5800e-01]],\n",
       " \n",
       "          [[ 6.7252e-02]],\n",
       " \n",
       "          [[ 1.5513e-01]],\n",
       " \n",
       "          [[-2.7286e-02]],\n",
       " \n",
       "          [[ 9.4860e-02]],\n",
       " \n",
       "          [[-2.7672e-02]],\n",
       " \n",
       "          [[-4.0857e-02]],\n",
       " \n",
       "          [[ 1.6995e-01]],\n",
       " \n",
       "          [[ 6.9842e-02]],\n",
       " \n",
       "          [[ 9.6252e-02]],\n",
       " \n",
       "          [[-3.8181e-02]],\n",
       " \n",
       "          [[ 1.4524e-01]],\n",
       " \n",
       "          [[ 1.0152e-02]],\n",
       " \n",
       "          [[ 7.8109e-02]]],\n",
       " \n",
       " \n",
       "         [[[-3.3142e-02]],\n",
       " \n",
       "          [[-5.6877e-02]],\n",
       " \n",
       "          [[ 4.8052e-02]],\n",
       " \n",
       "          [[-2.2424e-02]],\n",
       " \n",
       "          [[-4.4252e-02]],\n",
       " \n",
       "          [[-1.3140e-02]],\n",
       " \n",
       "          [[ 1.2896e-01]],\n",
       " \n",
       "          [[-4.4582e-02]],\n",
       " \n",
       "          [[ 1.1986e-01]],\n",
       " \n",
       "          [[-1.4313e-01]],\n",
       " \n",
       "          [[ 1.0466e-01]],\n",
       " \n",
       "          [[ 4.0311e-02]],\n",
       " \n",
       "          [[ 9.0283e-03]],\n",
       " \n",
       "          [[ 9.3943e-02]],\n",
       " \n",
       "          [[ 7.5289e-02]],\n",
       " \n",
       "          [[-8.2909e-02]],\n",
       " \n",
       "          [[ 1.3925e-01]],\n",
       " \n",
       "          [[-1.5928e-01]],\n",
       " \n",
       "          [[-8.4462e-02]],\n",
       " \n",
       "          [[ 2.3998e-02]],\n",
       " \n",
       "          [[-5.2320e-02]],\n",
       " \n",
       "          [[ 1.0117e-01]],\n",
       " \n",
       "          [[ 1.2137e-01]],\n",
       " \n",
       "          [[ 1.5065e-01]],\n",
       " \n",
       "          [[-1.3307e-01]],\n",
       " \n",
       "          [[ 9.9230e-03]],\n",
       " \n",
       "          [[ 6.2897e-02]],\n",
       " \n",
       "          [[-1.0911e-01]],\n",
       " \n",
       "          [[ 7.9144e-02]],\n",
       " \n",
       "          [[ 4.0920e-02]],\n",
       " \n",
       "          [[-1.2797e-01]],\n",
       " \n",
       "          [[ 1.9428e-02]]],\n",
       " \n",
       " \n",
       "         [[[-6.4778e-02]],\n",
       " \n",
       "          [[ 5.1965e-02]],\n",
       " \n",
       "          [[-7.3237e-02]],\n",
       " \n",
       "          [[-5.4235e-02]],\n",
       " \n",
       "          [[-8.0658e-02]],\n",
       " \n",
       "          [[ 4.5327e-02]],\n",
       " \n",
       "          [[ 1.7147e-01]],\n",
       " \n",
       "          [[ 1.4310e-01]],\n",
       " \n",
       "          [[-9.9656e-02]],\n",
       " \n",
       "          [[ 6.9288e-02]],\n",
       " \n",
       "          [[-1.6609e-01]],\n",
       " \n",
       "          [[ 1.6438e-01]],\n",
       " \n",
       "          [[-3.7208e-02]],\n",
       " \n",
       "          [[ 1.5821e-01]],\n",
       " \n",
       "          [[-7.0787e-03]],\n",
       " \n",
       "          [[-1.3452e-01]],\n",
       " \n",
       "          [[-1.0670e-01]],\n",
       " \n",
       "          [[ 1.1829e-02]],\n",
       " \n",
       "          [[ 1.5204e-01]],\n",
       " \n",
       "          [[ 1.3568e-01]],\n",
       " \n",
       "          [[ 1.0815e-01]],\n",
       " \n",
       "          [[ 1.5260e-01]],\n",
       " \n",
       "          [[-1.3684e-01]],\n",
       " \n",
       "          [[-2.6976e-02]],\n",
       " \n",
       "          [[ 1.7227e-01]],\n",
       " \n",
       "          [[-1.1532e-01]],\n",
       " \n",
       "          [[ 1.4019e-01]],\n",
       " \n",
       "          [[-1.4930e-01]],\n",
       " \n",
       "          [[-1.5633e-02]],\n",
       " \n",
       "          [[-7.0491e-02]],\n",
       " \n",
       "          [[ 1.5761e-01]],\n",
       " \n",
       "          [[ 1.2357e-01]]],\n",
       " \n",
       " \n",
       "         [[[ 8.5050e-02]],\n",
       " \n",
       "          [[ 1.3978e-01]],\n",
       " \n",
       "          [[ 1.4050e-01]],\n",
       " \n",
       "          [[ 9.6982e-02]],\n",
       " \n",
       "          [[ 7.2779e-02]],\n",
       " \n",
       "          [[-1.0167e-01]],\n",
       " \n",
       "          [[ 1.7649e-01]],\n",
       " \n",
       "          [[ 3.7082e-02]],\n",
       " \n",
       "          [[-1.2622e-02]],\n",
       " \n",
       "          [[-1.0129e-01]],\n",
       " \n",
       "          [[-1.3662e-01]],\n",
       " \n",
       "          [[-8.5570e-02]],\n",
       " \n",
       "          [[-6.6585e-02]],\n",
       " \n",
       "          [[ 1.7485e-01]],\n",
       " \n",
       "          [[-1.5697e-02]],\n",
       " \n",
       "          [[-1.3009e-01]],\n",
       " \n",
       "          [[-1.6455e-02]],\n",
       " \n",
       "          [[ 7.2630e-02]],\n",
       " \n",
       "          [[ 6.2778e-02]],\n",
       " \n",
       "          [[ 7.4888e-02]],\n",
       " \n",
       "          [[ 5.3568e-03]],\n",
       " \n",
       "          [[ 1.6472e-01]],\n",
       " \n",
       "          [[-7.6393e-02]],\n",
       " \n",
       "          [[ 1.4624e-01]],\n",
       " \n",
       "          [[-1.4897e-01]],\n",
       " \n",
       "          [[ 4.8272e-02]],\n",
       " \n",
       "          [[ 1.5912e-01]],\n",
       " \n",
       "          [[ 6.6042e-02]],\n",
       " \n",
       "          [[ 8.6210e-02]],\n",
       " \n",
       "          [[-6.8493e-02]],\n",
       " \n",
       "          [[-1.4473e-01]],\n",
       " \n",
       "          [[ 6.7107e-02]]],\n",
       " \n",
       " \n",
       "         [[[-3.3603e-02]],\n",
       " \n",
       "          [[-1.3689e-01]],\n",
       " \n",
       "          [[ 6.6597e-03]],\n",
       " \n",
       "          [[-8.3244e-02]],\n",
       " \n",
       "          [[-4.1181e-02]],\n",
       " \n",
       "          [[ 4.4010e-02]],\n",
       " \n",
       "          [[-2.6204e-02]],\n",
       " \n",
       "          [[ 1.2483e-01]],\n",
       " \n",
       "          [[ 1.6715e-01]],\n",
       " \n",
       "          [[ 2.0724e-03]],\n",
       " \n",
       "          [[-7.0213e-02]],\n",
       " \n",
       "          [[ 1.2898e-01]],\n",
       " \n",
       "          [[-2.6565e-02]],\n",
       " \n",
       "          [[ 3.2590e-03]],\n",
       " \n",
       "          [[ 3.8355e-02]],\n",
       " \n",
       "          [[-1.4236e-01]],\n",
       " \n",
       "          [[-1.4106e-01]],\n",
       " \n",
       "          [[ 7.0401e-02]],\n",
       " \n",
       "          [[-1.2004e-01]],\n",
       " \n",
       "          [[-4.2189e-02]],\n",
       " \n",
       "          [[-8.2518e-02]],\n",
       " \n",
       "          [[ 1.2754e-01]],\n",
       " \n",
       "          [[ 2.9049e-02]],\n",
       " \n",
       "          [[ 7.1339e-02]],\n",
       " \n",
       "          [[-1.4966e-01]],\n",
       " \n",
       "          [[-3.9600e-02]],\n",
       " \n",
       "          [[-2.8700e-02]],\n",
       " \n",
       "          [[-4.6578e-02]],\n",
       " \n",
       "          [[-1.1980e-01]],\n",
       " \n",
       "          [[ 1.7421e-01]],\n",
       " \n",
       "          [[ 1.0357e-01]],\n",
       " \n",
       "          [[ 6.0671e-02]]],\n",
       " \n",
       " \n",
       "         [[[ 2.7550e-02]],\n",
       " \n",
       "          [[-3.6846e-02]],\n",
       " \n",
       "          [[-5.3437e-02]],\n",
       " \n",
       "          [[-7.3756e-02]],\n",
       " \n",
       "          [[ 1.7333e-02]],\n",
       " \n",
       "          [[-1.4886e-01]],\n",
       " \n",
       "          [[-1.2886e-02]],\n",
       " \n",
       "          [[-9.2673e-02]],\n",
       " \n",
       "          [[ 1.0461e-01]],\n",
       " \n",
       "          [[ 8.9163e-02]],\n",
       " \n",
       "          [[ 3.2396e-02]],\n",
       " \n",
       "          [[-5.9687e-02]],\n",
       " \n",
       "          [[-1.3042e-01]],\n",
       " \n",
       "          [[-2.2866e-02]],\n",
       " \n",
       "          [[ 1.4066e-01]],\n",
       " \n",
       "          [[ 1.4838e-01]],\n",
       " \n",
       "          [[-1.4326e-01]],\n",
       " \n",
       "          [[ 6.0616e-02]],\n",
       " \n",
       "          [[-2.6547e-02]],\n",
       " \n",
       "          [[-8.8257e-03]],\n",
       " \n",
       "          [[-6.3743e-02]],\n",
       " \n",
       "          [[-1.5816e-01]],\n",
       " \n",
       "          [[-1.0079e-01]],\n",
       " \n",
       "          [[-1.4777e-01]],\n",
       " \n",
       "          [[ 6.2045e-02]],\n",
       " \n",
       "          [[ 9.1802e-02]],\n",
       " \n",
       "          [[-1.5309e-01]],\n",
       " \n",
       "          [[ 9.6626e-02]],\n",
       " \n",
       "          [[-4.5462e-02]],\n",
       " \n",
       "          [[ 1.4056e-01]],\n",
       " \n",
       "          [[ 1.4273e-01]],\n",
       " \n",
       "          [[ 6.3107e-02]]],\n",
       " \n",
       " \n",
       "         [[[-3.9661e-02]],\n",
       " \n",
       "          [[ 9.6423e-02]],\n",
       " \n",
       "          [[-6.1890e-03]],\n",
       " \n",
       "          [[ 3.6296e-03]],\n",
       " \n",
       "          [[-1.1408e-01]],\n",
       " \n",
       "          [[ 1.2092e-01]],\n",
       " \n",
       "          [[ 1.5570e-01]],\n",
       " \n",
       "          [[ 5.2106e-02]],\n",
       " \n",
       "          [[ 1.2306e-01]],\n",
       " \n",
       "          [[-1.5705e-01]],\n",
       " \n",
       "          [[ 1.6172e-01]],\n",
       " \n",
       "          [[-1.3102e-01]],\n",
       " \n",
       "          [[-6.8238e-02]],\n",
       " \n",
       "          [[ 1.2925e-01]],\n",
       " \n",
       "          [[ 1.7890e-02]],\n",
       " \n",
       "          [[-9.3976e-02]],\n",
       " \n",
       "          [[-9.5540e-03]],\n",
       " \n",
       "          [[ 1.1529e-01]],\n",
       " \n",
       "          [[-1.5748e-01]],\n",
       " \n",
       "          [[ 1.4229e-01]],\n",
       " \n",
       "          [[-9.3251e-02]],\n",
       " \n",
       "          [[ 8.9689e-02]],\n",
       " \n",
       "          [[-3.8827e-02]],\n",
       " \n",
       "          [[ 1.0304e-01]],\n",
       " \n",
       "          [[-1.3874e-01]],\n",
       " \n",
       "          [[-8.5927e-02]],\n",
       " \n",
       "          [[ 1.5101e-01]],\n",
       " \n",
       "          [[-3.3648e-02]],\n",
       " \n",
       "          [[-1.1705e-01]],\n",
       " \n",
       "          [[-7.2305e-02]],\n",
       " \n",
       "          [[ 2.0150e-02]],\n",
       " \n",
       "          [[ 1.1775e-02]]],\n",
       " \n",
       " \n",
       "         [[[ 1.2728e-01]],\n",
       " \n",
       "          [[ 7.0663e-02]],\n",
       " \n",
       "          [[-8.3936e-02]],\n",
       " \n",
       "          [[ 8.7398e-03]],\n",
       " \n",
       "          [[ 1.0577e-01]],\n",
       " \n",
       "          [[ 1.1055e-01]],\n",
       " \n",
       "          [[ 9.8091e-02]],\n",
       " \n",
       "          [[ 4.2479e-02]],\n",
       " \n",
       "          [[-7.9902e-02]],\n",
       " \n",
       "          [[ 1.4778e-01]],\n",
       " \n",
       "          [[-5.1984e-02]],\n",
       " \n",
       "          [[ 1.4065e-01]],\n",
       " \n",
       "          [[-3.7737e-02]],\n",
       " \n",
       "          [[ 3.0274e-02]],\n",
       " \n",
       "          [[-1.4543e-01]],\n",
       " \n",
       "          [[ 9.7527e-02]],\n",
       " \n",
       "          [[-1.4661e-01]],\n",
       " \n",
       "          [[-3.8930e-02]],\n",
       " \n",
       "          [[ 1.2460e-01]],\n",
       " \n",
       "          [[ 1.4901e-08]],\n",
       " \n",
       "          [[ 1.4430e-01]],\n",
       " \n",
       "          [[-1.1156e-01]],\n",
       " \n",
       "          [[ 4.1875e-02]],\n",
       " \n",
       "          [[ 1.5161e-01]],\n",
       " \n",
       "          [[ 9.5661e-02]],\n",
       " \n",
       "          [[-8.7506e-02]],\n",
       " \n",
       "          [[ 1.3778e-02]],\n",
       " \n",
       "          [[ 4.7424e-02]],\n",
       " \n",
       "          [[ 5.5566e-02]],\n",
       " \n",
       "          [[ 7.5880e-03]],\n",
       " \n",
       "          [[-4.6457e-02]],\n",
       " \n",
       "          [[-4.6404e-02]]],\n",
       " \n",
       " \n",
       "         [[[ 5.4860e-02]],\n",
       " \n",
       "          [[ 1.0806e-02]],\n",
       " \n",
       "          [[ 1.3712e-01]],\n",
       " \n",
       "          [[ 1.3443e-01]],\n",
       " \n",
       "          [[ 1.5573e-01]],\n",
       " \n",
       "          [[ 9.0593e-02]],\n",
       " \n",
       "          [[ 1.7365e-01]],\n",
       " \n",
       "          [[-1.0711e-01]],\n",
       " \n",
       "          [[ 2.4710e-02]],\n",
       " \n",
       "          [[ 1.1417e-01]],\n",
       " \n",
       "          [[ 5.7487e-02]],\n",
       " \n",
       "          [[-1.7215e-01]],\n",
       " \n",
       "          [[ 1.0311e-01]],\n",
       " \n",
       "          [[ 1.3887e-01]],\n",
       " \n",
       "          [[-1.3500e-01]],\n",
       " \n",
       "          [[-7.9068e-02]],\n",
       " \n",
       "          [[ 1.6740e-01]],\n",
       " \n",
       "          [[-9.8883e-02]],\n",
       " \n",
       "          [[-2.1664e-02]],\n",
       " \n",
       "          [[-2.4304e-02]],\n",
       " \n",
       "          [[ 8.1290e-02]],\n",
       " \n",
       "          [[ 1.4392e-01]],\n",
       " \n",
       "          [[ 1.0627e-01]],\n",
       " \n",
       "          [[ 6.5740e-02]],\n",
       " \n",
       "          [[ 1.6150e-01]],\n",
       " \n",
       "          [[-1.3928e-01]],\n",
       " \n",
       "          [[-4.3802e-02]],\n",
       " \n",
       "          [[ 1.2629e-01]],\n",
       " \n",
       "          [[-1.5557e-01]],\n",
       " \n",
       "          [[ 1.6764e-01]],\n",
       " \n",
       "          [[ 1.7412e-01]],\n",
       " \n",
       "          [[ 6.1809e-02]]],\n",
       " \n",
       " \n",
       "         [[[ 6.9981e-02]],\n",
       " \n",
       "          [[ 1.6440e-01]],\n",
       " \n",
       "          [[-1.6538e-01]],\n",
       " \n",
       "          [[ 1.6742e-02]],\n",
       " \n",
       "          [[ 1.5153e-01]],\n",
       " \n",
       "          [[ 9.1513e-02]],\n",
       " \n",
       "          [[-1.1713e-01]],\n",
       " \n",
       "          [[-1.3880e-01]],\n",
       " \n",
       "          [[ 8.7473e-02]],\n",
       " \n",
       "          [[-3.0752e-02]],\n",
       " \n",
       "          [[-7.5363e-02]],\n",
       " \n",
       "          [[ 1.7373e-02]],\n",
       " \n",
       "          [[ 1.0706e-01]],\n",
       " \n",
       "          [[ 4.0901e-02]],\n",
       " \n",
       "          [[ 3.5323e-02]],\n",
       " \n",
       "          [[-1.4300e-01]],\n",
       " \n",
       "          [[-1.7394e-01]],\n",
       " \n",
       "          [[ 1.6141e-01]],\n",
       " \n",
       "          [[-1.5945e-01]],\n",
       " \n",
       "          [[-1.4426e-01]],\n",
       " \n",
       "          [[-7.0275e-02]],\n",
       " \n",
       "          [[ 1.3612e-01]],\n",
       " \n",
       "          [[ 5.0873e-02]],\n",
       " \n",
       "          [[-7.8186e-02]],\n",
       " \n",
       "          [[ 1.4502e-01]],\n",
       " \n",
       "          [[-1.1903e-01]],\n",
       " \n",
       "          [[-1.0357e-01]],\n",
       " \n",
       "          [[ 6.0058e-03]],\n",
       " \n",
       "          [[-1.5477e-01]],\n",
       " \n",
       "          [[ 8.7840e-02]],\n",
       " \n",
       "          [[ 6.5585e-02]],\n",
       " \n",
       "          [[ 1.3749e-01]]],\n",
       " \n",
       " \n",
       "         [[[ 2.1990e-02]],\n",
       " \n",
       "          [[ 1.0997e-01]],\n",
       " \n",
       "          [[ 5.1305e-02]],\n",
       " \n",
       "          [[-1.2200e-01]],\n",
       " \n",
       "          [[ 1.2811e-01]],\n",
       " \n",
       "          [[ 5.9324e-02]],\n",
       " \n",
       "          [[-1.7270e-01]],\n",
       " \n",
       "          [[-8.8546e-02]],\n",
       " \n",
       "          [[ 1.2328e-01]],\n",
       " \n",
       "          [[-6.8374e-02]],\n",
       " \n",
       "          [[ 1.2250e-01]],\n",
       " \n",
       "          [[-1.5149e-01]],\n",
       " \n",
       "          [[ 1.1594e-01]],\n",
       " \n",
       "          [[-1.1254e-01]],\n",
       " \n",
       "          [[-1.3886e-01]],\n",
       " \n",
       "          [[-7.9570e-02]],\n",
       " \n",
       "          [[ 1.7671e-01]],\n",
       " \n",
       "          [[ 1.6479e-01]],\n",
       " \n",
       "          [[ 1.4794e-01]],\n",
       " \n",
       "          [[-1.4124e-01]],\n",
       " \n",
       "          [[-1.4487e-01]],\n",
       " \n",
       "          [[-3.8919e-02]],\n",
       " \n",
       "          [[ 5.8865e-02]],\n",
       " \n",
       "          [[-7.5394e-02]],\n",
       " \n",
       "          [[ 2.4556e-02]],\n",
       " \n",
       "          [[-2.7685e-02]],\n",
       " \n",
       "          [[-1.1693e-01]],\n",
       " \n",
       "          [[ 1.2397e-01]],\n",
       " \n",
       "          [[-3.0279e-02]],\n",
       " \n",
       "          [[-5.4354e-02]],\n",
       " \n",
       "          [[ 1.3471e-01]],\n",
       " \n",
       "          [[-7.3500e-02]]]], device='cuda:0', requires_grad=True),\n",
       " 28834999010: Parameter containing:\n",
       " tensor([-0.0529, -0.0275,  0.0577,  0.0013, -0.0019,  0.0893, -0.1025,  0.1429,\n",
       "          0.0457,  0.0554, -0.1505, -0.0549, -0.1073,  0.1718,  0.1579, -0.1750],\n",
       "        device='cuda:0', requires_grad=True),\n",
       " 98181517669: Parameter containing:\n",
       " tensor([[[[-0.1279]],\n",
       " \n",
       "          [[-0.2439]],\n",
       " \n",
       "          [[-0.0510]],\n",
       " \n",
       "          [[ 0.1906]],\n",
       " \n",
       "          [[-0.1394]],\n",
       " \n",
       "          [[ 0.1857]],\n",
       " \n",
       "          [[ 0.0202]],\n",
       " \n",
       "          [[-0.2070]],\n",
       " \n",
       "          [[-0.1118]],\n",
       " \n",
       "          [[-0.1491]],\n",
       " \n",
       "          [[-0.0014]],\n",
       " \n",
       "          [[-0.2245]],\n",
       " \n",
       "          [[-0.1620]],\n",
       " \n",
       "          [[-0.0715]],\n",
       " \n",
       "          [[-0.0864]],\n",
       " \n",
       "          [[-0.1329]]],\n",
       " \n",
       " \n",
       "         [[[-0.1640]],\n",
       " \n",
       "          [[ 0.0935]],\n",
       " \n",
       "          [[ 0.0174]],\n",
       " \n",
       "          [[ 0.2056]],\n",
       " \n",
       "          [[ 0.0188]],\n",
       " \n",
       "          [[ 0.0707]],\n",
       " \n",
       "          [[ 0.2053]],\n",
       " \n",
       "          [[ 0.1130]],\n",
       " \n",
       "          [[ 0.0966]],\n",
       " \n",
       "          [[-0.2453]],\n",
       " \n",
       "          [[ 0.1883]],\n",
       " \n",
       "          [[ 0.1691]],\n",
       " \n",
       "          [[ 0.2038]],\n",
       " \n",
       "          [[ 0.1324]],\n",
       " \n",
       "          [[ 0.2417]],\n",
       " \n",
       "          [[-0.1319]]],\n",
       " \n",
       " \n",
       "         [[[ 0.0015]],\n",
       " \n",
       "          [[ 0.0801]],\n",
       " \n",
       "          [[ 0.1770]],\n",
       " \n",
       "          [[ 0.0019]],\n",
       " \n",
       "          [[-0.0624]],\n",
       " \n",
       "          [[ 0.1318]],\n",
       " \n",
       "          [[-0.0758]],\n",
       " \n",
       "          [[ 0.2431]],\n",
       " \n",
       "          [[-0.1290]],\n",
       " \n",
       "          [[ 0.0039]],\n",
       " \n",
       "          [[-0.1519]],\n",
       " \n",
       "          [[ 0.0896]],\n",
       " \n",
       "          [[-0.1633]],\n",
       " \n",
       "          [[-0.1913]],\n",
       " \n",
       "          [[-0.1803]],\n",
       " \n",
       "          [[-0.2331]]],\n",
       " \n",
       " \n",
       "         [[[-0.0332]],\n",
       " \n",
       "          [[-0.1520]],\n",
       " \n",
       "          [[ 0.2349]],\n",
       " \n",
       "          [[-0.1373]],\n",
       " \n",
       "          [[ 0.1925]],\n",
       " \n",
       "          [[ 0.0648]],\n",
       " \n",
       "          [[-0.2197]],\n",
       " \n",
       "          [[-0.2311]],\n",
       " \n",
       "          [[-0.2089]],\n",
       " \n",
       "          [[ 0.1137]],\n",
       " \n",
       "          [[ 0.1624]],\n",
       " \n",
       "          [[ 0.1446]],\n",
       " \n",
       "          [[ 0.1685]],\n",
       " \n",
       "          [[-0.0724]],\n",
       " \n",
       "          [[ 0.2219]],\n",
       " \n",
       "          [[ 0.0168]]],\n",
       " \n",
       " \n",
       "         [[[-0.1036]],\n",
       " \n",
       "          [[ 0.0053]],\n",
       " \n",
       "          [[-0.1093]],\n",
       " \n",
       "          [[-0.2273]],\n",
       " \n",
       "          [[ 0.2031]],\n",
       " \n",
       "          [[-0.1122]],\n",
       " \n",
       "          [[-0.0641]],\n",
       " \n",
       "          [[ 0.1321]],\n",
       " \n",
       "          [[-0.0278]],\n",
       " \n",
       "          [[ 0.0651]],\n",
       " \n",
       "          [[-0.1701]],\n",
       " \n",
       "          [[ 0.2104]],\n",
       " \n",
       "          [[ 0.0344]],\n",
       " \n",
       "          [[-0.0829]],\n",
       " \n",
       "          [[ 0.1422]],\n",
       " \n",
       "          [[ 0.2391]]],\n",
       " \n",
       " \n",
       "         [[[-0.0517]],\n",
       " \n",
       "          [[ 0.1047]],\n",
       " \n",
       "          [[ 0.1254]],\n",
       " \n",
       "          [[ 0.1351]],\n",
       " \n",
       "          [[ 0.0470]],\n",
       " \n",
       "          [[ 0.0714]],\n",
       " \n",
       "          [[ 0.2423]],\n",
       " \n",
       "          [[-0.1301]],\n",
       " \n",
       "          [[ 0.1075]],\n",
       " \n",
       "          [[ 0.1883]],\n",
       " \n",
       "          [[-0.0052]],\n",
       " \n",
       "          [[-0.1296]],\n",
       " \n",
       "          [[-0.0076]],\n",
       " \n",
       "          [[-0.2029]],\n",
       " \n",
       "          [[-0.1582]],\n",
       " \n",
       "          [[ 0.1040]]],\n",
       " \n",
       " \n",
       "         [[[-0.0922]],\n",
       " \n",
       "          [[ 0.0432]],\n",
       " \n",
       "          [[-0.1669]],\n",
       " \n",
       "          [[ 0.1435]],\n",
       " \n",
       "          [[ 0.0985]],\n",
       " \n",
       "          [[-0.0951]],\n",
       " \n",
       "          [[-0.0118]],\n",
       " \n",
       "          [[-0.0945]],\n",
       " \n",
       "          [[ 0.0183]],\n",
       " \n",
       "          [[ 0.0191]],\n",
       " \n",
       "          [[ 0.0290]],\n",
       " \n",
       "          [[-0.2288]],\n",
       " \n",
       "          [[ 0.2053]],\n",
       " \n",
       "          [[ 0.0607]],\n",
       " \n",
       "          [[ 0.0045]],\n",
       " \n",
       "          [[ 0.0044]]],\n",
       " \n",
       " \n",
       "         [[[ 0.0004]],\n",
       " \n",
       "          [[-0.1598]],\n",
       " \n",
       "          [[-0.1225]],\n",
       " \n",
       "          [[ 0.2103]],\n",
       " \n",
       "          [[-0.0009]],\n",
       " \n",
       "          [[-0.1105]],\n",
       " \n",
       "          [[ 0.0607]],\n",
       " \n",
       "          [[ 0.0845]],\n",
       " \n",
       "          [[ 0.0706]],\n",
       " \n",
       "          [[-0.1379]],\n",
       " \n",
       "          [[ 0.0131]],\n",
       " \n",
       "          [[-0.0917]],\n",
       " \n",
       "          [[-0.0240]],\n",
       " \n",
       "          [[ 0.0602]],\n",
       " \n",
       "          [[-0.1093]],\n",
       " \n",
       "          [[-0.0419]]]], device='cuda:0', requires_grad=True),\n",
       " 20707234364: Parameter containing:\n",
       " tensor([-0.0078, -0.1281,  0.1316,  0.1907, -0.1628,  0.1796, -0.1682, -0.1993],\n",
       "        device='cuda:0', requires_grad=True),\n",
       " 28900292867: Parameter containing:\n",
       " tensor([[ 0.0263, -0.0064,  0.0155,  ...,  0.0241,  0.0215,  0.0124],\n",
       "         [-0.0173,  0.0224, -0.0092,  ...,  0.0280, -0.0189, -0.0140],\n",
       "         [-0.0310,  0.0012, -0.0146,  ...,  0.0233,  0.0058, -0.0145],\n",
       "         ...,\n",
       "         [ 0.0113,  0.0138,  0.0021,  ..., -0.0121,  0.0038,  0.0182],\n",
       "         [ 0.0133, -0.0177,  0.0251,  ..., -0.0269,  0.0253, -0.0094],\n",
       "         [-0.0182, -0.0232,  0.0195,  ..., -0.0020, -0.0026,  0.0091]],\n",
       "        device='cuda:0', requires_grad=True),\n",
       " 17697358614: Parameter containing:\n",
       " tensor([ 1.4827e-06, -9.5071e-03,  1.9959e-02, -2.0325e-02,  2.8847e-02,\n",
       "         -1.3296e-02, -2.1517e-02,  2.2958e-02,  3.7869e-03, -7.2857e-03,\n",
       "         -3.0593e-02,  1.8769e-02, -2.7197e-02, -8.9273e-03,  1.8938e-02,\n",
       "         -3.1521e-02, -3.0177e-02, -7.5736e-03,  2.6590e-02,  5.1865e-03,\n",
       "          1.6005e-02,  4.9123e-03, -2.1720e-02,  2.7705e-02, -2.1740e-02,\n",
       "          5.3556e-03, -2.0639e-02, -2.5600e-02, -1.1550e-02, -1.5500e-02,\n",
       "          3.0804e-03, -2.9305e-02, -4.6228e-03, -2.4038e-02,  3.0602e-02,\n",
       "         -2.3952e-02, -4.5758e-03, -2.8711e-03, -1.8896e-02, -3.1953e-02,\n",
       "          1.1110e-02, -4.0379e-03,  2.4857e-02, -2.1139e-02,  1.1554e-02,\n",
       "          2.6811e-04,  1.8489e-02,  1.3413e-02,  3.8326e-03, -2.8964e-02,\n",
       "          2.9819e-04,  2.5436e-02,  7.6411e-03,  1.5951e-02, -2.3851e-02,\n",
       "          2.3388e-02,  3.0895e-02,  5.1335e-03,  2.1024e-02,  2.0990e-02,\n",
       "          3.1095e-02,  1.5798e-02, -1.0695e-03, -2.6087e-02,  7.8058e-03,\n",
       "          2.2357e-03, -1.4500e-02, -2.0156e-02,  9.2099e-03, -4.9968e-03,\n",
       "          2.7815e-02,  4.0742e-03,  1.7294e-02, -5.1123e-03,  1.5454e-03,\n",
       "         -8.2620e-03, -1.0809e-02,  3.0316e-02,  4.7763e-03, -9.3418e-03,\n",
       "         -2.3656e-02, -5.9045e-03,  2.9075e-02,  8.4536e-03, -8.3958e-04,\n",
       "         -2.8615e-02,  3.0297e-02, -2.2990e-02,  1.8252e-02, -8.3738e-03,\n",
       "         -2.5794e-02,  1.2764e-03, -1.3537e-02, -9.3133e-03, -1.2717e-02,\n",
       "         -7.1378e-03, -2.1822e-02, -9.6773e-03, -2.6454e-02, -2.9956e-02,\n",
       "          3.1686e-02,  2.2716e-02, -1.1501e-02,  2.2456e-02, -1.5259e-02,\n",
       "          9.7937e-03,  1.3019e-02,  6.0509e-03,  2.5271e-02, -1.9211e-02,\n",
       "         -2.6410e-02,  2.6619e-02, -2.5389e-02,  1.7241e-02,  1.5220e-02,\n",
       "          1.3956e-02,  1.3642e-02, -9.8980e-03, -3.1676e-02,  1.3594e-03,\n",
       "         -1.1993e-02, -7.2327e-05,  8.7954e-06,  8.9779e-03,  5.4087e-03,\n",
       "          2.3499e-02,  2.7778e-02,  2.2755e-02,  1.0558e-02, -2.8765e-02,\n",
       "          3.0502e-02,  1.2336e-02,  3.1602e-03,  7.4436e-04,  3.0478e-02,\n",
       "          3.0084e-02,  2.5487e-02,  1.8337e-03, -1.1859e-02, -2.6187e-02,\n",
       "         -2.8849e-03,  8.2878e-03, -1.7761e-02, -8.7522e-03,  1.4113e-02,\n",
       "         -9.5260e-03,  2.4976e-02,  1.3877e-02, -1.9528e-02, -2.0144e-02,\n",
       "         -2.9003e-02,  8.4538e-04, -1.5660e-02,  2.5605e-02, -4.2072e-03,\n",
       "         -1.6938e-02,  2.9273e-02, -1.5117e-02, -1.6734e-02, -2.0127e-02,\n",
       "         -2.0047e-02, -1.3371e-02,  2.7436e-02, -5.8336e-04,  2.5799e-03,\n",
       "          3.1343e-02, -3.1701e-02, -2.4195e-02, -2.7253e-02,  3.0900e-03,\n",
       "          2.8504e-02, -6.3772e-03,  2.7703e-03, -1.1161e-02, -1.5463e-02,\n",
       "         -6.0251e-03,  2.6158e-02, -2.2427e-02,  2.9030e-02, -1.3242e-02,\n",
       "          4.2466e-03,  8.2564e-03,  1.2541e-02, -4.9449e-03,  2.7206e-02,\n",
       "          2.5017e-02, -6.1303e-03,  4.0070e-04,  6.0532e-03,  1.1366e-02,\n",
       "         -8.9681e-03,  5.6512e-04,  2.9131e-02, -8.4361e-03,  8.6640e-03,\n",
       "          5.8183e-03, -3.3996e-03,  1.2229e-02,  1.4334e-02,  2.9070e-02,\n",
       "          2.4208e-02, -6.6944e-03, -2.3440e-02, -1.4147e-02, -3.5495e-03,\n",
       "         -1.5120e-02,  1.4818e-02, -9.7821e-03,  2.5779e-03,  2.3589e-02,\n",
       "          1.1957e-02, -2.4305e-02, -1.4712e-02,  2.3161e-02, -1.8280e-03,\n",
       "         -2.9762e-02,  1.3035e-02,  2.7353e-02, -1.8865e-02, -8.1384e-03,\n",
       "          3.9079e-03, -2.7414e-02, -3.3654e-03,  1.7472e-02,  1.3426e-02,\n",
       "         -2.4861e-03,  7.6742e-03, -1.9158e-02,  1.5181e-02,  9.0916e-03,\n",
       "          1.5044e-02,  1.8260e-02,  7.1815e-04,  1.8474e-02,  1.1710e-02,\n",
       "          2.7966e-02, -1.6715e-02,  2.7760e-02,  3.1947e-02,  2.7519e-02,\n",
       "         -1.4685e-02, -1.4732e-02,  7.9176e-03,  2.4735e-02, -2.8462e-02,\n",
       "         -1.4516e-02,  1.2442e-02,  1.9929e-02,  1.8336e-02,  2.9428e-02,\n",
       "          5.6627e-03,  1.7742e-02,  9.2852e-03, -1.6266e-03, -2.6527e-02,\n",
       "         -2.9413e-02,  6.5008e-03,  1.2751e-02, -1.6809e-02, -2.9202e-02,\n",
       "         -2.9773e-02,  2.3618e-02, -5.4721e-03, -1.5064e-02, -1.2655e-02,\n",
       "          1.9910e-02,  8.2896e-03,  2.2588e-02,  4.1812e-03, -1.4178e-02,\n",
       "          1.0358e-02,  4.1283e-04,  4.6547e-03,  2.5482e-02, -8.5345e-03,\n",
       "         -1.2339e-03,  9.3783e-03, -1.2914e-02, -2.9211e-02,  2.7627e-02,\n",
       "         -2.2600e-02, -6.7781e-03,  1.5146e-02, -2.3163e-02, -1.0158e-02,\n",
       "         -1.1784e-02, -2.3119e-02,  1.2245e-02, -2.3915e-02, -6.8434e-03,\n",
       "         -9.2931e-03, -1.5038e-02,  2.8898e-02, -2.5412e-02,  1.9922e-03,\n",
       "         -5.3717e-03, -1.2934e-02,  8.2284e-03, -1.6333e-02, -1.0972e-02,\n",
       "         -1.1598e-03, -2.9344e-02,  3.0247e-02, -1.4530e-02, -1.9383e-02,\n",
       "          4.0673e-03,  8.6327e-04,  3.2883e-03, -1.9517e-02, -1.6730e-02,\n",
       "          1.9267e-02,  1.8855e-02, -1.5333e-02,  4.1865e-03,  3.1125e-02,\n",
       "          1.8060e-02,  3.2061e-02, -1.1996e-02,  3.1167e-02,  2.3869e-02,\n",
       "         -8.0335e-03, -6.6457e-03,  8.5531e-04,  9.5314e-03,  2.1155e-02,\n",
       "         -1.2169e-02, -1.6725e-02,  2.1847e-02, -2.1458e-02, -6.2679e-03,\n",
       "         -7.6299e-04, -2.7961e-03,  3.2474e-03,  2.4309e-02, -2.1604e-02,\n",
       "          1.4315e-02,  2.0191e-02, -2.9279e-03, -7.7802e-03, -1.8199e-02,\n",
       "          3.0792e-02, -2.6120e-02, -1.7190e-02, -5.1455e-03, -2.4975e-02,\n",
       "          1.8836e-02,  2.8426e-02, -2.0378e-02, -1.2533e-02,  2.9148e-02,\n",
       "          2.4847e-02, -9.7107e-03,  1.0902e-02, -3.1041e-02, -2.4974e-02,\n",
       "          1.0221e-02,  2.7103e-02,  9.7182e-03, -3.7829e-03,  9.1627e-03,\n",
       "          2.9043e-02, -1.6305e-02, -3.6553e-03, -1.3399e-02, -1.9815e-02,\n",
       "          6.9275e-03, -1.6539e-03, -2.1004e-03,  1.2764e-02,  2.5739e-02,\n",
       "          2.3056e-02, -1.0548e-02, -1.7263e-02,  1.9479e-02, -1.1392e-02,\n",
       "         -3.8486e-03,  3.9100e-03, -1.0375e-03,  2.2166e-02, -1.6043e-02,\n",
       "          1.8121e-03,  7.3697e-03,  2.8686e-02, -2.2518e-02,  1.9099e-03,\n",
       "         -1.9921e-02, -3.1031e-02, -6.9070e-03,  2.5559e-03,  2.1421e-02,\n",
       "          1.1669e-02,  3.1208e-02,  1.2621e-02, -1.8876e-02, -1.1898e-02,\n",
       "         -2.5194e-02, -2.5107e-02,  2.7587e-02, -1.9081e-03, -2.5979e-02,\n",
       "         -1.7099e-02,  2.9795e-03,  3.2585e-03,  5.5512e-03,  2.9113e-03,\n",
       "          2.8017e-02,  1.0538e-02,  2.9418e-02, -1.8127e-02, -2.1403e-02,\n",
       "         -2.7580e-02, -1.5413e-02, -1.1804e-02, -2.4037e-03,  2.1311e-02,\n",
       "         -2.3672e-02,  2.6715e-02, -1.7997e-02,  5.4258e-03,  2.0465e-02,\n",
       "         -2.8764e-02,  2.7145e-02, -2.6274e-02,  4.3508e-03, -2.5933e-02,\n",
       "          3.1907e-02, -3.1058e-02,  2.1892e-02, -1.9713e-02,  2.2347e-03,\n",
       "          3.0904e-02, -5.1536e-03,  2.2543e-02,  1.7973e-03,  5.0879e-03,\n",
       "         -9.6143e-03,  5.8895e-03,  2.2841e-02, -1.3393e-02,  1.0565e-03,\n",
       "          9.6746e-06,  5.3087e-03,  2.3779e-02,  2.0716e-02, -4.2599e-03,\n",
       "          1.3964e-02, -1.3642e-02,  2.3941e-02, -1.8875e-02,  3.0889e-02,\n",
       "         -3.1010e-02, -1.9130e-02, -4.0483e-03,  8.2264e-03, -2.5172e-02,\n",
       "          1.7986e-02, -3.2991e-03, -1.9828e-02,  2.5572e-02, -2.3273e-02,\n",
       "         -5.9944e-05,  2.5561e-02, -1.0174e-02,  6.3992e-03, -3.2262e-03,\n",
       "          2.9490e-02,  1.4092e-02,  1.0457e-02, -2.4252e-02, -1.9920e-03,\n",
       "          2.0775e-02, -2.4790e-02, -2.9130e-03,  2.1822e-02,  3.1541e-02,\n",
       "         -2.3432e-02, -1.8323e-02, -3.1271e-02, -1.3310e-02,  2.9285e-02,\n",
       "         -2.9121e-02,  3.0995e-02,  2.8198e-02,  1.5067e-02,  2.3134e-02,\n",
       "          1.4264e-02,  4.7570e-03,  1.1478e-02, -3.0314e-02, -2.1195e-02,\n",
       "         -2.7556e-03,  2.8581e-02, -2.4636e-02, -2.0908e-02,  3.0573e-02,\n",
       "         -1.0160e-02, -2.9012e-03,  2.5418e-02, -1.7231e-02,  2.4685e-02,\n",
       "         -2.8405e-03,  2.6977e-03, -2.9341e-02, -2.2298e-03, -2.9403e-02,\n",
       "         -2.2037e-02, -1.4064e-02, -3.0981e-02,  1.1200e-02, -1.8812e-02,\n",
       "         -7.2667e-03, -6.6023e-04], device='cuda:0', requires_grad=True),\n",
       " 51075634005: Parameter containing:\n",
       " tensor([[-0.0104, -0.0402, -0.0280,  ..., -0.0190, -0.0405, -0.0101],\n",
       "         [ 0.0068,  0.0271, -0.0031,  ..., -0.0404, -0.0375,  0.0107]],\n",
       "        device='cuda:0', requires_grad=True),\n",
       " 4448388166: Parameter containing:\n",
       " tensor([0.0340, 0.0389], device='cuda:0', requires_grad=True)}"
      ]
     },
     "execution_count": 30,
     "metadata": {},
     "output_type": "execute_result"
    }
   ],
   "source": [
    "bob._objects"
   ]
  },
  {
   "cell_type": "markdown",
   "metadata": {},
   "source": [
    "# 一定要把model get回來才能使用"
   ]
  },
  {
   "cell_type": "code",
   "execution_count": 31,
   "metadata": {},
   "outputs": [
    {
     "data": {
      "text/plain": [
       "tensor([[[[-1.4500, -1.2788, -1.2788,  ..., -1.4500, -1.4329, -1.4158],\n",
       "          [-1.2788, -1.2788, -1.2959,  ..., -1.4672, -1.3302, -1.3130],\n",
       "          [-1.4843, -1.4843, -1.2617,  ..., -1.2788, -1.4500, -1.4329],\n",
       "          ...,\n",
       "          [ 0.5878,  0.3823,  0.6221,  ..., -1.5699, -1.6213, -1.2617],\n",
       "          [ 0.6906,  0.5536,  0.6392,  ..., -1.5357, -1.6213, -1.4500],\n",
       "          [ 0.8276,  0.7591,  0.7933,  ..., -1.4843, -1.4843, -1.3473]],\n",
       "\n",
       "         [[-1.3529, -1.1779, -1.1779,  ..., -1.3529, -1.3354, -1.3179],\n",
       "          [-1.1779, -1.1779, -1.1954,  ..., -1.3704, -1.2304, -1.2129],\n",
       "          [-1.3880, -1.3880, -1.1604,  ..., -1.1779, -1.3529, -1.3354],\n",
       "          ...,\n",
       "          [ 0.7304,  0.5203,  0.7654,  ..., -1.4755, -1.5280, -1.1604],\n",
       "          [ 0.8354,  0.6954,  0.7829,  ..., -1.4405, -1.5280, -1.3529],\n",
       "          [ 0.9755,  0.9055,  0.9405,  ..., -1.3880, -1.3880, -1.2479]],\n",
       "\n",
       "         [[-1.1247, -0.9504, -0.9504,  ..., -1.1247, -1.1073, -1.0898],\n",
       "          [-0.9504, -0.9504, -0.9678,  ..., -1.1421, -1.0027, -0.9853],\n",
       "          [-1.1596, -1.1596, -0.9330,  ..., -0.9504, -1.1247, -1.1073],\n",
       "          ...,\n",
       "          [ 0.9494,  0.7402,  0.9842,  ..., -1.2467, -1.2990, -0.9330],\n",
       "          [ 1.0539,  0.9145,  1.0017,  ..., -1.2119, -1.2990, -1.1247],\n",
       "          [ 1.1934,  1.1237,  1.1585,  ..., -1.1596, -1.1596, -1.0201]]],\n",
       "\n",
       "\n",
       "        [[[ 1.3070,  0.8961,  0.3481,  ..., -1.3987, -1.7240, -1.7412],\n",
       "          [ 0.9988,  0.2282,  0.1083,  ..., -1.6727, -2.0494, -2.0837],\n",
       "          [ 0.7762,  0.6563,  0.9474,  ..., -1.7583, -1.9295, -1.8097],\n",
       "          ...,\n",
       "          [ 1.1358,  1.2557, -0.2856,  ..., -1.6213, -1.6727, -1.6727],\n",
       "          [ 1.2385,  1.1015, -0.5596,  ..., -1.7069, -1.8610, -1.7925],\n",
       "          [ 1.1700,  0.9988, -0.6623,  ..., -1.7412, -1.5357, -1.4672]],\n",
       "\n",
       "         [[ 1.4657,  1.0455,  0.4853,  ..., -1.3004, -1.6331, -1.6506],\n",
       "          [ 1.1506,  0.3627,  0.2402,  ..., -1.5805, -1.9657, -2.0007],\n",
       "          [ 0.9230,  0.8004,  1.0980,  ..., -1.6681, -1.8431, -1.7206],\n",
       "          ...,\n",
       "          [ 1.2906,  1.4132, -0.1625,  ..., -1.5280, -1.5805, -1.5805],\n",
       "          [ 1.3957,  1.2556, -0.4426,  ..., -1.6155, -1.7731, -1.7031],\n",
       "          [ 1.3256,  1.1506, -0.5476,  ..., -1.6506, -1.4405, -1.3704]],\n",
       "\n",
       "         [[ 1.6814,  1.2631,  0.7054,  ..., -1.0724, -1.4036, -1.4210],\n",
       "          [ 1.3677,  0.5834,  0.4614,  ..., -1.3513, -1.7347, -1.7696],\n",
       "          [ 1.1411,  1.0191,  1.3154,  ..., -1.4384, -1.6127, -1.4907],\n",
       "          ...,\n",
       "          [ 1.5071,  1.6291,  0.0605,  ..., -1.2990, -1.3513, -1.3513],\n",
       "          [ 1.6117,  1.4722, -0.2184,  ..., -1.3861, -1.5430, -1.4733],\n",
       "          [ 1.5420,  1.3677, -0.3230,  ..., -1.4210, -1.2119, -1.1421]]],\n",
       "\n",
       "\n",
       "        [[[-1.7925, -1.8953, -1.9467,  ..., -1.5528, -1.8268, -1.8268],\n",
       "          [-1.6213, -1.7240, -1.8439,  ..., -1.8610, -1.7754, -1.7754],\n",
       "          [-1.6213, -1.6898, -1.8268,  ..., -1.9467, -1.8097, -1.8097],\n",
       "          ...,\n",
       "          [-1.6042, -1.6213, -1.6898,  ..., -1.9638, -1.8953, -1.8610],\n",
       "          [-1.7583, -1.7240, -1.7240,  ..., -1.8953, -2.0494, -1.8439],\n",
       "          [-1.8097, -1.7412, -1.7240,  ..., -1.8782, -1.7925, -1.4843]],\n",
       "\n",
       "         [[-1.7031, -1.8081, -1.8606,  ..., -1.4580, -1.7381, -1.7381],\n",
       "          [-1.5280, -1.6331, -1.7556,  ..., -1.7731, -1.6856, -1.6856],\n",
       "          [-1.5280, -1.5980, -1.7381,  ..., -1.8606, -1.7206, -1.7206],\n",
       "          ...,\n",
       "          [-1.5105, -1.5280, -1.5980,  ..., -1.8782, -1.8081, -1.7731],\n",
       "          [-1.6681, -1.6331, -1.6331,  ..., -1.8081, -1.9657, -1.7556],\n",
       "          [-1.7206, -1.6506, -1.6331,  ..., -1.7906, -1.7031, -1.3880]],\n",
       "\n",
       "         [[-1.4733, -1.5779, -1.6302,  ..., -1.2293, -1.5081, -1.5081],\n",
       "          [-1.2990, -1.4036, -1.5256,  ..., -1.5430, -1.4559, -1.4559],\n",
       "          [-1.2990, -1.3687, -1.5081,  ..., -1.6302, -1.4907, -1.4907],\n",
       "          ...,\n",
       "          [-1.2816, -1.2990, -1.3687,  ..., -1.6476, -1.5779, -1.5430],\n",
       "          [-1.4384, -1.4036, -1.4036,  ..., -1.5779, -1.7347, -1.5256],\n",
       "          [-1.4907, -1.4210, -1.4036,  ..., -1.5604, -1.4733, -1.1596]]],\n",
       "\n",
       "\n",
       "        ...,\n",
       "\n",
       "\n",
       "        [[[-1.1932, -1.4843, -1.5185,  ..., -1.6898, -1.5357, -1.7754],\n",
       "          [-1.3815, -1.2788, -1.4158,  ..., -1.5185, -1.6384, -1.8097],\n",
       "          [-1.3473, -1.7240, -1.6727,  ..., -1.6042, -1.5185, -1.7240],\n",
       "          ...,\n",
       "          [-1.8268, -1.8097, -1.7240,  ..., -1.5528, -1.3302, -1.0390],\n",
       "          [-1.9124, -1.9809, -1.9809,  ..., -1.1589, -1.3302, -1.1418],\n",
       "          [-1.8610, -1.9809, -1.9638,  ..., -1.4329, -1.5357, -1.3302]],\n",
       "\n",
       "         [[-1.0903, -1.3880, -1.4230,  ..., -1.5980, -1.4405, -1.6856],\n",
       "          [-1.2829, -1.1779, -1.3179,  ..., -1.4230, -1.5455, -1.7206],\n",
       "          [-1.2479, -1.6331, -1.5805,  ..., -1.5105, -1.4230, -1.6331],\n",
       "          ...,\n",
       "          [-1.7381, -1.7206, -1.6331,  ..., -1.4580, -1.2304, -0.9328],\n",
       "          [-1.8256, -1.8957, -1.8957,  ..., -1.0553, -1.2304, -1.0378],\n",
       "          [-1.7731, -1.8957, -1.8782,  ..., -1.3354, -1.4405, -1.2304]],\n",
       "\n",
       "         [[-0.8633, -1.1596, -1.1944,  ..., -1.3687, -1.2119, -1.4559],\n",
       "          [-1.0550, -0.9504, -1.0898,  ..., -1.1944, -1.3164, -1.4907],\n",
       "          [-1.0201, -1.4036, -1.3513,  ..., -1.2816, -1.1944, -1.4036],\n",
       "          ...,\n",
       "          [-1.5081, -1.4907, -1.4036,  ..., -1.2293, -1.0027, -0.7064],\n",
       "          [-1.5953, -1.6650, -1.6650,  ..., -0.8284, -1.0027, -0.8110],\n",
       "          [-1.5430, -1.6650, -1.6476,  ..., -1.1073, -1.2119, -1.0027]]],\n",
       "\n",
       "\n",
       "        [[[-1.7754, -1.6898, -1.5870,  ..., -1.6727, -1.6384, -1.6213],\n",
       "          [-1.7069, -1.6384, -1.5528,  ..., -1.6727, -1.6727, -1.6555],\n",
       "          [-1.6727, -1.6042, -1.5185,  ..., -1.6727, -1.6898, -1.6898],\n",
       "          ...,\n",
       "          [-1.4500, -1.4843, -1.5357,  ..., -1.1589, -0.7822, -0.1828],\n",
       "          [-1.5699, -1.6042, -1.5528,  ..., -0.9877, -0.4568,  0.2282],\n",
       "          [-1.5357, -1.6042, -1.5699,  ..., -0.9192, -0.1314,  0.5536]],\n",
       "\n",
       "         [[-1.6856, -1.5980, -1.4930,  ..., -1.5805, -1.5455, -1.5280],\n",
       "          [-1.6155, -1.5455, -1.4580,  ..., -1.5805, -1.5805, -1.5630],\n",
       "          [-1.5805, -1.5105, -1.4230,  ..., -1.5805, -1.5980, -1.5980],\n",
       "          ...,\n",
       "          [-1.3529, -1.3880, -1.4405,  ..., -1.0553, -0.6702, -0.0574],\n",
       "          [-1.4755, -1.5105, -1.4580,  ..., -0.8803, -0.3375,  0.3627],\n",
       "          [-1.4405, -1.5105, -1.4755,  ..., -0.8102, -0.0049,  0.6954]],\n",
       "\n",
       "         [[-1.4559, -1.3687, -1.2641,  ..., -1.3513, -1.3164, -1.2990],\n",
       "          [-1.3861, -1.3164, -1.2293,  ..., -1.3513, -1.3513, -1.3339],\n",
       "          [-1.3513, -1.2816, -1.1944,  ..., -1.3513, -1.3687, -1.3687],\n",
       "          ...,\n",
       "          [-1.1247, -1.1596, -1.2119,  ..., -0.8284, -0.4450,  0.1651],\n",
       "          [-1.2467, -1.2816, -1.2293,  ..., -0.6541, -0.1138,  0.5834],\n",
       "          [-1.2119, -1.2816, -1.2467,  ..., -0.5844,  0.2173,  0.9145]]],\n",
       "\n",
       "\n",
       "        [[[-1.7240, -1.6555, -1.5528,  ..., -1.4672, -1.6727, -1.6898],\n",
       "          [-1.6213, -1.6213, -1.6042,  ..., -1.7583, -1.7583, -1.7925],\n",
       "          [-1.5870, -1.6213, -1.7069,  ..., -1.7240, -1.6898, -1.7240],\n",
       "          ...,\n",
       "          [-1.4843, -1.5870, -1.5528,  ..., -1.6213, -1.7240, -1.6384],\n",
       "          [-1.2274, -1.7240, -1.8097,  ..., -1.4158, -1.5699, -1.5699],\n",
       "          [ 0.0227, -0.9705, -1.6384,  ..., -1.6898, -1.6213, -1.6213]],\n",
       "\n",
       "         [[-1.6331, -1.5630, -1.4580,  ..., -1.3704, -1.5805, -1.5980],\n",
       "          [-1.5280, -1.5280, -1.5105,  ..., -1.6681, -1.6681, -1.7031],\n",
       "          [-1.4930, -1.5280, -1.6155,  ..., -1.6331, -1.5980, -1.6331],\n",
       "          ...,\n",
       "          [-1.3880, -1.4930, -1.4580,  ..., -1.5280, -1.6331, -1.5455],\n",
       "          [-1.1253, -1.6331, -1.7206,  ..., -1.3179, -1.4755, -1.4755],\n",
       "          [ 0.1527, -0.8627, -1.5455,  ..., -1.5980, -1.5280, -1.5280]],\n",
       "\n",
       "         [[-1.4036, -1.3339, -1.2293,  ..., -1.1421, -1.3513, -1.3687],\n",
       "          [-1.2990, -1.2990, -1.2816,  ..., -1.4384, -1.4384, -1.4733],\n",
       "          [-1.2641, -1.2990, -1.3861,  ..., -1.4036, -1.3687, -1.4036],\n",
       "          ...,\n",
       "          [-1.1596, -1.2641, -1.2293,  ..., -1.2990, -1.4036, -1.3164],\n",
       "          [-0.8981, -1.4036, -1.4907,  ..., -1.0898, -1.2467, -1.2467],\n",
       "          [ 0.3742, -0.6367, -1.3164,  ..., -1.3687, -1.2990, -1.2990]]]],\n",
       "       device='cuda:0')"
      ]
     },
     "execution_count": 31,
     "metadata": {},
     "output_type": "execute_result"
    }
   ],
   "source": [
    "bobs_data.get()"
   ]
  },
  {
   "cell_type": "code",
   "execution_count": 32,
   "metadata": {},
   "outputs": [
    {
     "data": {
      "text/plain": [
       "tensor([1, 1, 1, 1, 1, 1, 1, 1, 0, 1, 1, 0, 1, 0, 1, 1, 0], device='cuda:0')"
      ]
     },
     "execution_count": 32,
     "metadata": {},
     "output_type": "execute_result"
    }
   ],
   "source": [
    "bobs_target.get()"
   ]
  },
  {
   "cell_type": "code",
   "execution_count": 33,
   "metadata": {},
   "outputs": [
    {
     "data": {
      "text/plain": [
       "CNN_Model(\n",
       "  (cnn1): Conv2d(3, 16, kernel_size=(3, 3), stride=(1, 1))\n",
       "  (relu1): ReLU()\n",
       "  (maxpool1): MaxPool2d(kernel_size=2, stride=2, padding=0, dilation=1, ceil_mode=False)\n",
       "  (cnn2): Conv2d(16, 32, kernel_size=(3, 3), stride=(1, 1))\n",
       "  (relu2): ReLU()\n",
       "  (maxpool2): MaxPool2d(kernel_size=1, stride=1, padding=0, dilation=1, ceil_mode=False)\n",
       "  (cnn3): Conv2d(32, 16, kernel_size=(1, 1), stride=(1, 1))\n",
       "  (relu3): ReLU()\n",
       "  (maxpool3): MaxPool2d(kernel_size=1, stride=1, padding=0, dilation=1, ceil_mode=False)\n",
       "  (cnn4): Conv2d(16, 8, kernel_size=(1, 1), stride=(1, 1))\n",
       "  (relu4): ReLU()\n",
       "  (maxpool4): MaxPool2d(kernel_size=2, stride=2, padding=0, dilation=1, ceil_mode=False)\n",
       "  (fc1): Linear(in_features=968, out_features=512, bias=True)\n",
       "  (fc2): Linear(in_features=512, out_features=2, bias=True)\n",
       ")"
      ]
     },
     "execution_count": 33,
     "metadata": {},
     "output_type": "execute_result"
    }
   ],
   "source": [
    "#get一次就好 第2次會error\n",
    "bobs_model.get()"
   ]
  },
  {
   "cell_type": "code",
   "execution_count": 34,
   "metadata": {},
   "outputs": [],
   "source": [
    "#alices_model.get()"
   ]
  },
  {
   "cell_type": "code",
   "execution_count": 35,
   "metadata": {},
   "outputs": [
    {
     "data": {
      "text/plain": [
       "{}"
      ]
     },
     "execution_count": 35,
     "metadata": {},
     "output_type": "execute_result"
    }
   ],
   "source": [
    "bob._objects"
   ]
  },
  {
   "cell_type": "markdown",
   "metadata": {},
   "source": [
    "# Node training "
   ]
  },
  {
   "cell_type": "code",
   "execution_count": 36,
   "metadata": {},
   "outputs": [
    {
     "name": "stdout",
     "output_type": "stream",
     "text": [
      "running epoch: 1\n"
     ]
    },
    {
     "data": {
      "application/vnd.jupyter.widget-view+json": {
       "model_id": "11dd13b0f1ff4ca8a8f52046d376d6d9",
       "version_major": 2,
       "version_minor": 0
      },
      "text/plain": [
       "HBox(children=(HTML(value=''), FloatProgress(value=0.0, max=163.0), HTML(value='')))"
      ]
     },
     "metadata": {},
     "output_type": "display_data"
    },
    {
     "name": "stdout",
     "output_type": "stream",
     "text": [
      "\n"
     ]
    },
    {
     "data": {
      "application/vnd.jupyter.widget-view+json": {
       "model_id": "3c7972002034468fb713153b9243ee7e",
       "version_major": 2,
       "version_minor": 0
      },
      "text/plain": [
       "HBox(children=(HTML(value=''), FloatProgress(value=0.0, max=41.0), HTML(value='')))"
      ]
     },
     "metadata": {},
     "output_type": "display_data"
    },
    {
     "name": "stdout",
     "output_type": "stream",
     "text": [
      "\n",
      "\tTraining Loss: 0.653031 \tValidation Loss: 0.654022\n",
      "Validation loss decreased (inf --> 0.654022).  Saving model ...\n",
      "running epoch: 2\n"
     ]
    },
    {
     "data": {
      "application/vnd.jupyter.widget-view+json": {
       "model_id": "d46dc0c6239a41a9af470e199441afd4",
       "version_major": 2,
       "version_minor": 0
      },
      "text/plain": [
       "HBox(children=(HTML(value=''), FloatProgress(value=0.0, max=163.0), HTML(value='')))"
      ]
     },
     "metadata": {},
     "output_type": "display_data"
    },
    {
     "name": "stdout",
     "output_type": "stream",
     "text": [
      "\n"
     ]
    },
    {
     "data": {
      "application/vnd.jupyter.widget-view+json": {
       "model_id": "f58911410d0b419e9b3ee79542810211",
       "version_major": 2,
       "version_minor": 0
      },
      "text/plain": [
       "HBox(children=(HTML(value=''), FloatProgress(value=0.0, max=41.0), HTML(value='')))"
      ]
     },
     "metadata": {},
     "output_type": "display_data"
    },
    {
     "name": "stdout",
     "output_type": "stream",
     "text": [
      "\n",
      "\tTraining Loss: 0.653031 \tValidation Loss: 0.654022\n",
      "running epoch: 3\n"
     ]
    },
    {
     "data": {
      "application/vnd.jupyter.widget-view+json": {
       "model_id": "f89680bf661f4051af3bb2bb73c400a7",
       "version_major": 2,
       "version_minor": 0
      },
      "text/plain": [
       "HBox(children=(HTML(value=''), FloatProgress(value=0.0, max=163.0), HTML(value='')))"
      ]
     },
     "metadata": {},
     "output_type": "display_data"
    },
    {
     "name": "stdout",
     "output_type": "stream",
     "text": [
      "\n"
     ]
    },
    {
     "data": {
      "application/vnd.jupyter.widget-view+json": {
       "model_id": "1df2fa24ed34419e9d61186818ce645e",
       "version_major": 2,
       "version_minor": 0
      },
      "text/plain": [
       "HBox(children=(HTML(value=''), FloatProgress(value=0.0, max=41.0), HTML(value='')))"
      ]
     },
     "metadata": {},
     "output_type": "display_data"
    },
    {
     "name": "stdout",
     "output_type": "stream",
     "text": [
      "\n",
      "\tTraining Loss: 0.653031 \tValidation Loss: 0.654022\n",
      "Validation loss decreased (0.654022 --> 0.654022).  Saving model ...\n",
      "running epoch: 4\n"
     ]
    },
    {
     "data": {
      "application/vnd.jupyter.widget-view+json": {
       "model_id": "b71cb5fbf150406fa1854b72b2a83183",
       "version_major": 2,
       "version_minor": 0
      },
      "text/plain": [
       "HBox(children=(HTML(value=''), FloatProgress(value=0.0, max=163.0), HTML(value='')))"
      ]
     },
     "metadata": {},
     "output_type": "display_data"
    },
    {
     "name": "stdout",
     "output_type": "stream",
     "text": [
      "\n"
     ]
    },
    {
     "data": {
      "application/vnd.jupyter.widget-view+json": {
       "model_id": "eb3a6c5a25be4de08e882d19b150120b",
       "version_major": 2,
       "version_minor": 0
      },
      "text/plain": [
       "HBox(children=(HTML(value=''), FloatProgress(value=0.0, max=41.0), HTML(value='')))"
      ]
     },
     "metadata": {},
     "output_type": "display_data"
    },
    {
     "name": "stdout",
     "output_type": "stream",
     "text": [
      "\n",
      "\tTraining Loss: 0.653031 \tValidation Loss: 0.654022\n",
      "running epoch: 5\n"
     ]
    },
    {
     "data": {
      "application/vnd.jupyter.widget-view+json": {
       "model_id": "dfeb350306734a3f987baea3ab6d14c6",
       "version_major": 2,
       "version_minor": 0
      },
      "text/plain": [
       "HBox(children=(HTML(value=''), FloatProgress(value=0.0, max=163.0), HTML(value='')))"
      ]
     },
     "metadata": {},
     "output_type": "display_data"
    },
    {
     "name": "stdout",
     "output_type": "stream",
     "text": [
      "\n"
     ]
    },
    {
     "data": {
      "application/vnd.jupyter.widget-view+json": {
       "model_id": "8a2c7ff788eb4317b82d1e58c4c2ac69",
       "version_major": 2,
       "version_minor": 0
      },
      "text/plain": [
       "HBox(children=(HTML(value=''), FloatProgress(value=0.0, max=41.0), HTML(value='')))"
      ]
     },
     "metadata": {},
     "output_type": "display_data"
    },
    {
     "name": "stdout",
     "output_type": "stream",
     "text": [
      "\n",
      "\tTraining Loss: 0.653031 \tValidation Loss: 0.654022\n",
      "Validation loss decreased (0.654022 --> 0.654022).  Saving model ...\n",
      "running epoch: 6\n"
     ]
    },
    {
     "data": {
      "application/vnd.jupyter.widget-view+json": {
       "model_id": "6295c719d2964760b6d9ed343fde3891",
       "version_major": 2,
       "version_minor": 0
      },
      "text/plain": [
       "HBox(children=(HTML(value=''), FloatProgress(value=0.0, max=163.0), HTML(value='')))"
      ]
     },
     "metadata": {},
     "output_type": "display_data"
    },
    {
     "name": "stdout",
     "output_type": "stream",
     "text": [
      "\n"
     ]
    },
    {
     "data": {
      "application/vnd.jupyter.widget-view+json": {
       "model_id": "0c972edd4c6f4ec089aa7330f7c636c7",
       "version_major": 2,
       "version_minor": 0
      },
      "text/plain": [
       "HBox(children=(HTML(value=''), FloatProgress(value=0.0, max=41.0), HTML(value='')))"
      ]
     },
     "metadata": {},
     "output_type": "display_data"
    },
    {
     "name": "stdout",
     "output_type": "stream",
     "text": [
      "\n",
      "\tTraining Loss: 0.653031 \tValidation Loss: 0.654022\n",
      "running epoch: 7\n"
     ]
    },
    {
     "data": {
      "application/vnd.jupyter.widget-view+json": {
       "model_id": "dfc0c3af63ac47ec8b01bfb6db27e39e",
       "version_major": 2,
       "version_minor": 0
      },
      "text/plain": [
       "HBox(children=(HTML(value=''), FloatProgress(value=0.0, max=163.0), HTML(value='')))"
      ]
     },
     "metadata": {},
     "output_type": "display_data"
    },
    {
     "name": "stdout",
     "output_type": "stream",
     "text": [
      "\n"
     ]
    },
    {
     "data": {
      "application/vnd.jupyter.widget-view+json": {
       "model_id": "7b652128052e48b494f0bba3b403bbae",
       "version_major": 2,
       "version_minor": 0
      },
      "text/plain": [
       "HBox(children=(HTML(value=''), FloatProgress(value=0.0, max=41.0), HTML(value='')))"
      ]
     },
     "metadata": {},
     "output_type": "display_data"
    },
    {
     "name": "stdout",
     "output_type": "stream",
     "text": [
      "\n",
      "\tTraining Loss: 0.653031 \tValidation Loss: 0.654022\n",
      "running epoch: 8\n"
     ]
    },
    {
     "data": {
      "application/vnd.jupyter.widget-view+json": {
       "model_id": "6c43ff2a397d4fb4b74404b01d93df5e",
       "version_major": 2,
       "version_minor": 0
      },
      "text/plain": [
       "HBox(children=(HTML(value=''), FloatProgress(value=0.0, max=163.0), HTML(value='')))"
      ]
     },
     "metadata": {},
     "output_type": "display_data"
    },
    {
     "name": "stdout",
     "output_type": "stream",
     "text": [
      "\n"
     ]
    },
    {
     "data": {
      "application/vnd.jupyter.widget-view+json": {
       "model_id": "865bf7b5ed214317b346d68039e6a3f3",
       "version_major": 2,
       "version_minor": 0
      },
      "text/plain": [
       "HBox(children=(HTML(value=''), FloatProgress(value=0.0, max=41.0), HTML(value='')))"
      ]
     },
     "metadata": {},
     "output_type": "display_data"
    },
    {
     "name": "stdout",
     "output_type": "stream",
     "text": [
      "\n",
      "\tTraining Loss: 0.653031 \tValidation Loss: 0.654022\n",
      "running epoch: 9\n"
     ]
    },
    {
     "data": {
      "application/vnd.jupyter.widget-view+json": {
       "model_id": "b42eb49cccb04e50932dedf5d59dadd5",
       "version_major": 2,
       "version_minor": 0
      },
      "text/plain": [
       "HBox(children=(HTML(value=''), FloatProgress(value=0.0, max=163.0), HTML(value='')))"
      ]
     },
     "metadata": {},
     "output_type": "display_data"
    },
    {
     "name": "stdout",
     "output_type": "stream",
     "text": [
      "\n"
     ]
    },
    {
     "data": {
      "application/vnd.jupyter.widget-view+json": {
       "model_id": "f2a449d98d53469b8c6b174c345a6ee5",
       "version_major": 2,
       "version_minor": 0
      },
      "text/plain": [
       "HBox(children=(HTML(value=''), FloatProgress(value=0.0, max=41.0), HTML(value='')))"
      ]
     },
     "metadata": {},
     "output_type": "display_data"
    },
    {
     "name": "stdout",
     "output_type": "stream",
     "text": [
      "\n",
      "\tTraining Loss: 0.653031 \tValidation Loss: 0.654022\n",
      "running epoch: 10\n"
     ]
    },
    {
     "data": {
      "application/vnd.jupyter.widget-view+json": {
       "model_id": "b5770142104946fa86b5a4317c2b5853",
       "version_major": 2,
       "version_minor": 0
      },
      "text/plain": [
       "HBox(children=(HTML(value=''), FloatProgress(value=0.0, max=163.0), HTML(value='')))"
      ]
     },
     "metadata": {},
     "output_type": "display_data"
    },
    {
     "name": "stdout",
     "output_type": "stream",
     "text": [
      "\n"
     ]
    },
    {
     "data": {
      "application/vnd.jupyter.widget-view+json": {
       "model_id": "f0a7264d1d81472587896c842b2d4a0b",
       "version_major": 2,
       "version_minor": 0
      },
      "text/plain": [
       "HBox(children=(HTML(value=''), FloatProgress(value=0.0, max=41.0), HTML(value='')))"
      ]
     },
     "metadata": {},
     "output_type": "display_data"
    },
    {
     "name": "stdout",
     "output_type": "stream",
     "text": [
      "\n",
      "\tTraining Loss: 0.653031 \tValidation Loss: 0.654022\n",
      "running epoch: 11\n"
     ]
    },
    {
     "data": {
      "application/vnd.jupyter.widget-view+json": {
       "model_id": "783092f09dd948e9be7ddc1385e077e4",
       "version_major": 2,
       "version_minor": 0
      },
      "text/plain": [
       "HBox(children=(HTML(value=''), FloatProgress(value=0.0, max=163.0), HTML(value='')))"
      ]
     },
     "metadata": {},
     "output_type": "display_data"
    },
    {
     "name": "stdout",
     "output_type": "stream",
     "text": [
      "\n"
     ]
    },
    {
     "data": {
      "application/vnd.jupyter.widget-view+json": {
       "model_id": "f863cc960bf04ade91825239dfa99195",
       "version_major": 2,
       "version_minor": 0
      },
      "text/plain": [
       "HBox(children=(HTML(value=''), FloatProgress(value=0.0, max=41.0), HTML(value='')))"
      ]
     },
     "metadata": {},
     "output_type": "display_data"
    },
    {
     "name": "stdout",
     "output_type": "stream",
     "text": [
      "\n",
      "\tTraining Loss: 0.653031 \tValidation Loss: 0.654022\n",
      "running epoch: 12\n"
     ]
    },
    {
     "data": {
      "application/vnd.jupyter.widget-view+json": {
       "model_id": "ba883eb9d9c444d0bc87230ec41c2747",
       "version_major": 2,
       "version_minor": 0
      },
      "text/plain": [
       "HBox(children=(HTML(value=''), FloatProgress(value=0.0, max=163.0), HTML(value='')))"
      ]
     },
     "metadata": {},
     "output_type": "display_data"
    },
    {
     "name": "stdout",
     "output_type": "stream",
     "text": [
      "\n"
     ]
    },
    {
     "data": {
      "application/vnd.jupyter.widget-view+json": {
       "model_id": "590861f1de574f1bb2dd6a113a2aed7a",
       "version_major": 2,
       "version_minor": 0
      },
      "text/plain": [
       "HBox(children=(HTML(value=''), FloatProgress(value=0.0, max=41.0), HTML(value='')))"
      ]
     },
     "metadata": {},
     "output_type": "display_data"
    },
    {
     "name": "stdout",
     "output_type": "stream",
     "text": [
      "\n",
      "\tTraining Loss: 0.653031 \tValidation Loss: 0.654022\n",
      "Validation loss decreased (0.654022 --> 0.654022).  Saving model ...\n",
      "running epoch: 13\n"
     ]
    },
    {
     "data": {
      "application/vnd.jupyter.widget-view+json": {
       "model_id": "0ef702212205411c9485e40ecd3400ac",
       "version_major": 2,
       "version_minor": 0
      },
      "text/plain": [
       "HBox(children=(HTML(value=''), FloatProgress(value=0.0, max=163.0), HTML(value='')))"
      ]
     },
     "metadata": {},
     "output_type": "display_data"
    },
    {
     "name": "stdout",
     "output_type": "stream",
     "text": [
      "\n"
     ]
    },
    {
     "data": {
      "application/vnd.jupyter.widget-view+json": {
       "model_id": "eef63d30cd3e464b919814d299e66b65",
       "version_major": 2,
       "version_minor": 0
      },
      "text/plain": [
       "HBox(children=(HTML(value=''), FloatProgress(value=0.0, max=41.0), HTML(value='')))"
      ]
     },
     "metadata": {},
     "output_type": "display_data"
    },
    {
     "name": "stdout",
     "output_type": "stream",
     "text": [
      "\n",
      "\tTraining Loss: 0.653031 \tValidation Loss: 0.654022\n",
      "running epoch: 14\n"
     ]
    },
    {
     "data": {
      "application/vnd.jupyter.widget-view+json": {
       "model_id": "9cc0f94e3e5242d4bc99d235e90d17ff",
       "version_major": 2,
       "version_minor": 0
      },
      "text/plain": [
       "HBox(children=(HTML(value=''), FloatProgress(value=0.0, max=163.0), HTML(value='')))"
      ]
     },
     "metadata": {},
     "output_type": "display_data"
    },
    {
     "name": "stdout",
     "output_type": "stream",
     "text": [
      "\n"
     ]
    },
    {
     "data": {
      "application/vnd.jupyter.widget-view+json": {
       "model_id": "ab528f1b1a824598a152a181660b0ecc",
       "version_major": 2,
       "version_minor": 0
      },
      "text/plain": [
       "HBox(children=(HTML(value=''), FloatProgress(value=0.0, max=41.0), HTML(value='')))"
      ]
     },
     "metadata": {},
     "output_type": "display_data"
    },
    {
     "name": "stdout",
     "output_type": "stream",
     "text": [
      "\n",
      "\tTraining Loss: 0.653031 \tValidation Loss: 0.654022\n",
      "running epoch: 15\n"
     ]
    },
    {
     "data": {
      "application/vnd.jupyter.widget-view+json": {
       "model_id": "3fdda9e4fa4c45a1af4dd52f736a9d47",
       "version_major": 2,
       "version_minor": 0
      },
      "text/plain": [
       "HBox(children=(HTML(value=''), FloatProgress(value=0.0, max=163.0), HTML(value='')))"
      ]
     },
     "metadata": {},
     "output_type": "display_data"
    },
    {
     "name": "stdout",
     "output_type": "stream",
     "text": [
      "\n"
     ]
    },
    {
     "data": {
      "application/vnd.jupyter.widget-view+json": {
       "model_id": "e9ee240184be4608bacb120241a64a03",
       "version_major": 2,
       "version_minor": 0
      },
      "text/plain": [
       "HBox(children=(HTML(value=''), FloatProgress(value=0.0, max=41.0), HTML(value='')))"
      ]
     },
     "metadata": {},
     "output_type": "display_data"
    },
    {
     "name": "stdout",
     "output_type": "stream",
     "text": [
      "\n",
      "\tTraining Loss: 0.653031 \tValidation Loss: 0.654022\n",
      "running epoch: 16\n"
     ]
    },
    {
     "data": {
      "application/vnd.jupyter.widget-view+json": {
       "model_id": "ae26df1b74cd4abbaa71c91c327f2d01",
       "version_major": 2,
       "version_minor": 0
      },
      "text/plain": [
       "HBox(children=(HTML(value=''), FloatProgress(value=0.0, max=163.0), HTML(value='')))"
      ]
     },
     "metadata": {},
     "output_type": "display_data"
    },
    {
     "name": "stdout",
     "output_type": "stream",
     "text": [
      "\n"
     ]
    },
    {
     "data": {
      "application/vnd.jupyter.widget-view+json": {
       "model_id": "bdf8827cb8f349a0b68ee1dab75c4606",
       "version_major": 2,
       "version_minor": 0
      },
      "text/plain": [
       "HBox(children=(HTML(value=''), FloatProgress(value=0.0, max=41.0), HTML(value='')))"
      ]
     },
     "metadata": {},
     "output_type": "display_data"
    },
    {
     "name": "stdout",
     "output_type": "stream",
     "text": [
      "\n",
      "\tTraining Loss: 0.653031 \tValidation Loss: 0.654022\n",
      "running epoch: 17\n"
     ]
    },
    {
     "data": {
      "application/vnd.jupyter.widget-view+json": {
       "model_id": "4bd102466fc14fd9853d9835e5a0d959",
       "version_major": 2,
       "version_minor": 0
      },
      "text/plain": [
       "HBox(children=(HTML(value=''), FloatProgress(value=0.0, max=163.0), HTML(value='')))"
      ]
     },
     "metadata": {},
     "output_type": "display_data"
    },
    {
     "name": "stdout",
     "output_type": "stream",
     "text": [
      "\n"
     ]
    },
    {
     "data": {
      "application/vnd.jupyter.widget-view+json": {
       "model_id": "201d812114c3498b83a155ce9f18aab9",
       "version_major": 2,
       "version_minor": 0
      },
      "text/plain": [
       "HBox(children=(HTML(value=''), FloatProgress(value=0.0, max=41.0), HTML(value='')))"
      ]
     },
     "metadata": {},
     "output_type": "display_data"
    },
    {
     "name": "stdout",
     "output_type": "stream",
     "text": [
      "\n",
      "\tTraining Loss: 0.653031 \tValidation Loss: 0.654022\n",
      "running epoch: 18\n"
     ]
    },
    {
     "data": {
      "application/vnd.jupyter.widget-view+json": {
       "model_id": "438a95474c064af3a0889a07c7b4ce31",
       "version_major": 2,
       "version_minor": 0
      },
      "text/plain": [
       "HBox(children=(HTML(value=''), FloatProgress(value=0.0, max=163.0), HTML(value='')))"
      ]
     },
     "metadata": {},
     "output_type": "display_data"
    },
    {
     "name": "stdout",
     "output_type": "stream",
     "text": [
      "\n"
     ]
    },
    {
     "data": {
      "application/vnd.jupyter.widget-view+json": {
       "model_id": "25ad914753e54956a88daf7c8f3e3066",
       "version_major": 2,
       "version_minor": 0
      },
      "text/plain": [
       "HBox(children=(HTML(value=''), FloatProgress(value=0.0, max=41.0), HTML(value='')))"
      ]
     },
     "metadata": {},
     "output_type": "display_data"
    },
    {
     "name": "stdout",
     "output_type": "stream",
     "text": [
      "\n",
      "\tTraining Loss: 0.653031 \tValidation Loss: 0.654022\n",
      "running epoch: 19\n"
     ]
    },
    {
     "data": {
      "application/vnd.jupyter.widget-view+json": {
       "model_id": "a03a47d1698c4b5f86defe8cf78b3bdc",
       "version_major": 2,
       "version_minor": 0
      },
      "text/plain": [
       "HBox(children=(HTML(value=''), FloatProgress(value=0.0, max=163.0), HTML(value='')))"
      ]
     },
     "metadata": {},
     "output_type": "display_data"
    },
    {
     "name": "stdout",
     "output_type": "stream",
     "text": [
      "\n"
     ]
    },
    {
     "data": {
      "application/vnd.jupyter.widget-view+json": {
       "model_id": "3177947e18ed4e8c881c25bdf5a2993a",
       "version_major": 2,
       "version_minor": 0
      },
      "text/plain": [
       "HBox(children=(HTML(value=''), FloatProgress(value=0.0, max=41.0), HTML(value='')))"
      ]
     },
     "metadata": {},
     "output_type": "display_data"
    },
    {
     "name": "stdout",
     "output_type": "stream",
     "text": [
      "\n",
      "\tTraining Loss: 0.653031 \tValidation Loss: 0.654022\n",
      "running epoch: 20\n"
     ]
    },
    {
     "data": {
      "application/vnd.jupyter.widget-view+json": {
       "model_id": "a7cc45b4cd0c4b2ea103517f1fe666a3",
       "version_major": 2,
       "version_minor": 0
      },
      "text/plain": [
       "HBox(children=(HTML(value=''), FloatProgress(value=0.0, max=163.0), HTML(value='')))"
      ]
     },
     "metadata": {},
     "output_type": "display_data"
    },
    {
     "name": "stdout",
     "output_type": "stream",
     "text": [
      "\n"
     ]
    },
    {
     "data": {
      "application/vnd.jupyter.widget-view+json": {
       "model_id": "9adcbda01bbd4d6c9a3549b876347952",
       "version_major": 2,
       "version_minor": 0
      },
      "text/plain": [
       "HBox(children=(HTML(value=''), FloatProgress(value=0.0, max=41.0), HTML(value='')))"
      ]
     },
     "metadata": {},
     "output_type": "display_data"
    },
    {
     "name": "stdout",
     "output_type": "stream",
     "text": [
      "\n",
      "\tTraining Loss: 0.653031 \tValidation Loss: 0.654022\n",
      "running epoch: 21\n"
     ]
    },
    {
     "data": {
      "application/vnd.jupyter.widget-view+json": {
       "model_id": "a5146daaf8014ba9b340e2996c771e07",
       "version_major": 2,
       "version_minor": 0
      },
      "text/plain": [
       "HBox(children=(HTML(value=''), FloatProgress(value=0.0, max=163.0), HTML(value='')))"
      ]
     },
     "metadata": {},
     "output_type": "display_data"
    },
    {
     "name": "stdout",
     "output_type": "stream",
     "text": [
      "\n"
     ]
    },
    {
     "data": {
      "application/vnd.jupyter.widget-view+json": {
       "model_id": "ee978e5f562e46ca8363186ac9c5dd83",
       "version_major": 2,
       "version_minor": 0
      },
      "text/plain": [
       "HBox(children=(HTML(value=''), FloatProgress(value=0.0, max=41.0), HTML(value='')))"
      ]
     },
     "metadata": {},
     "output_type": "display_data"
    },
    {
     "name": "stdout",
     "output_type": "stream",
     "text": [
      "\n",
      "\tTraining Loss: 0.653031 \tValidation Loss: 0.654022\n",
      "running epoch: 22\n"
     ]
    },
    {
     "data": {
      "application/vnd.jupyter.widget-view+json": {
       "model_id": "a2aa0ce89ffc4a19908d736b8025aefe",
       "version_major": 2,
       "version_minor": 0
      },
      "text/plain": [
       "HBox(children=(HTML(value=''), FloatProgress(value=0.0, max=163.0), HTML(value='')))"
      ]
     },
     "metadata": {},
     "output_type": "display_data"
    },
    {
     "name": "stdout",
     "output_type": "stream",
     "text": [
      "\n"
     ]
    },
    {
     "data": {
      "application/vnd.jupyter.widget-view+json": {
       "model_id": "0befac0367a341ad8121c70cea2a5cd6",
       "version_major": 2,
       "version_minor": 0
      },
      "text/plain": [
       "HBox(children=(HTML(value=''), FloatProgress(value=0.0, max=41.0), HTML(value='')))"
      ]
     },
     "metadata": {},
     "output_type": "display_data"
    },
    {
     "name": "stdout",
     "output_type": "stream",
     "text": [
      "\n",
      "\tTraining Loss: 0.653031 \tValidation Loss: 0.654022\n",
      "running epoch: 23\n"
     ]
    },
    {
     "data": {
      "application/vnd.jupyter.widget-view+json": {
       "model_id": "bcf3715c5d674d129ddef5fa6f3f947a",
       "version_major": 2,
       "version_minor": 0
      },
      "text/plain": [
       "HBox(children=(HTML(value=''), FloatProgress(value=0.0, max=163.0), HTML(value='')))"
      ]
     },
     "metadata": {},
     "output_type": "display_data"
    },
    {
     "name": "stdout",
     "output_type": "stream",
     "text": [
      "\n"
     ]
    },
    {
     "data": {
      "application/vnd.jupyter.widget-view+json": {
       "model_id": "9188d3b7bc0b4668858b33f7450f7ec2",
       "version_major": 2,
       "version_minor": 0
      },
      "text/plain": [
       "HBox(children=(HTML(value=''), FloatProgress(value=0.0, max=41.0), HTML(value='')))"
      ]
     },
     "metadata": {},
     "output_type": "display_data"
    },
    {
     "name": "stdout",
     "output_type": "stream",
     "text": [
      "\n",
      "\tTraining Loss: 0.653031 \tValidation Loss: 0.654022\n",
      "running epoch: 24\n"
     ]
    },
    {
     "data": {
      "application/vnd.jupyter.widget-view+json": {
       "model_id": "3b0ab3451f29423ba8f340ff424c6908",
       "version_major": 2,
       "version_minor": 0
      },
      "text/plain": [
       "HBox(children=(HTML(value=''), FloatProgress(value=0.0, max=163.0), HTML(value='')))"
      ]
     },
     "metadata": {},
     "output_type": "display_data"
    },
    {
     "name": "stdout",
     "output_type": "stream",
     "text": [
      "\n"
     ]
    },
    {
     "data": {
      "application/vnd.jupyter.widget-view+json": {
       "model_id": "79c2fa5a3d3541eab71030dcef9dd134",
       "version_major": 2,
       "version_minor": 0
      },
      "text/plain": [
       "HBox(children=(HTML(value=''), FloatProgress(value=0.0, max=41.0), HTML(value='')))"
      ]
     },
     "metadata": {},
     "output_type": "display_data"
    },
    {
     "name": "stdout",
     "output_type": "stream",
     "text": [
      "\n",
      "\tTraining Loss: 0.653031 \tValidation Loss: 0.654022\n",
      "running epoch: 25\n"
     ]
    },
    {
     "data": {
      "application/vnd.jupyter.widget-view+json": {
       "model_id": "7f41804a63c447cea6918ecdc2bc78bc",
       "version_major": 2,
       "version_minor": 0
      },
      "text/plain": [
       "HBox(children=(HTML(value=''), FloatProgress(value=0.0, max=163.0), HTML(value='')))"
      ]
     },
     "metadata": {},
     "output_type": "display_data"
    },
    {
     "name": "stdout",
     "output_type": "stream",
     "text": [
      "\n"
     ]
    },
    {
     "data": {
      "application/vnd.jupyter.widget-view+json": {
       "model_id": "01259789111d40bea861820a1d6b2565",
       "version_major": 2,
       "version_minor": 0
      },
      "text/plain": [
       "HBox(children=(HTML(value=''), FloatProgress(value=0.0, max=41.0), HTML(value='')))"
      ]
     },
     "metadata": {},
     "output_type": "display_data"
    },
    {
     "name": "stdout",
     "output_type": "stream",
     "text": [
      "\n",
      "\tTraining Loss: 0.653031 \tValidation Loss: 0.654022\n",
      "running epoch: 26\n"
     ]
    },
    {
     "data": {
      "application/vnd.jupyter.widget-view+json": {
       "model_id": "5f6295e92f404b2d8190f3b66f2094ac",
       "version_major": 2,
       "version_minor": 0
      },
      "text/plain": [
       "HBox(children=(HTML(value=''), FloatProgress(value=0.0, max=163.0), HTML(value='')))"
      ]
     },
     "metadata": {},
     "output_type": "display_data"
    },
    {
     "name": "stdout",
     "output_type": "stream",
     "text": [
      "\n"
     ]
    },
    {
     "data": {
      "application/vnd.jupyter.widget-view+json": {
       "model_id": "2c016f13899b4e418c2938cc7a651259",
       "version_major": 2,
       "version_minor": 0
      },
      "text/plain": [
       "HBox(children=(HTML(value=''), FloatProgress(value=0.0, max=41.0), HTML(value='')))"
      ]
     },
     "metadata": {},
     "output_type": "display_data"
    },
    {
     "name": "stdout",
     "output_type": "stream",
     "text": [
      "\n",
      "\tTraining Loss: 0.653031 \tValidation Loss: 0.654022\n",
      "running epoch: 27\n"
     ]
    },
    {
     "data": {
      "application/vnd.jupyter.widget-view+json": {
       "model_id": "680abe2ac8734560911ba7cc6bab7d3f",
       "version_major": 2,
       "version_minor": 0
      },
      "text/plain": [
       "HBox(children=(HTML(value=''), FloatProgress(value=0.0, max=163.0), HTML(value='')))"
      ]
     },
     "metadata": {},
     "output_type": "display_data"
    },
    {
     "name": "stdout",
     "output_type": "stream",
     "text": [
      "\n"
     ]
    },
    {
     "data": {
      "application/vnd.jupyter.widget-view+json": {
       "model_id": "388b48ad37eb4f8a996b74bd90e546f1",
       "version_major": 2,
       "version_minor": 0
      },
      "text/plain": [
       "HBox(children=(HTML(value=''), FloatProgress(value=0.0, max=41.0), HTML(value='')))"
      ]
     },
     "metadata": {},
     "output_type": "display_data"
    },
    {
     "name": "stdout",
     "output_type": "stream",
     "text": [
      "\n",
      "\tTraining Loss: 0.653031 \tValidation Loss: 0.654022\n",
      "running epoch: 28\n"
     ]
    },
    {
     "data": {
      "application/vnd.jupyter.widget-view+json": {
       "model_id": "b1b5405df5014c03b4dec3929b7c95e1",
       "version_major": 2,
       "version_minor": 0
      },
      "text/plain": [
       "HBox(children=(HTML(value=''), FloatProgress(value=0.0, max=163.0), HTML(value='')))"
      ]
     },
     "metadata": {},
     "output_type": "display_data"
    },
    {
     "name": "stdout",
     "output_type": "stream",
     "text": [
      "\n"
     ]
    },
    {
     "data": {
      "application/vnd.jupyter.widget-view+json": {
       "model_id": "f54a1ac86f2b4fae9a639e1412d9b85f",
       "version_major": 2,
       "version_minor": 0
      },
      "text/plain": [
       "HBox(children=(HTML(value=''), FloatProgress(value=0.0, max=41.0), HTML(value='')))"
      ]
     },
     "metadata": {},
     "output_type": "display_data"
    },
    {
     "name": "stdout",
     "output_type": "stream",
     "text": [
      "\n",
      "\tTraining Loss: 0.653031 \tValidation Loss: 0.654022\n",
      "running epoch: 29\n"
     ]
    },
    {
     "data": {
      "application/vnd.jupyter.widget-view+json": {
       "model_id": "0f765a41b02f42e192caf1f13cdaa697",
       "version_major": 2,
       "version_minor": 0
      },
      "text/plain": [
       "HBox(children=(HTML(value=''), FloatProgress(value=0.0, max=163.0), HTML(value='')))"
      ]
     },
     "metadata": {},
     "output_type": "display_data"
    },
    {
     "name": "stdout",
     "output_type": "stream",
     "text": [
      "\n"
     ]
    },
    {
     "data": {
      "application/vnd.jupyter.widget-view+json": {
       "model_id": "8ef253025e174880bdd49ef79a05a30c",
       "version_major": 2,
       "version_minor": 0
      },
      "text/plain": [
       "HBox(children=(HTML(value=''), FloatProgress(value=0.0, max=41.0), HTML(value='')))"
      ]
     },
     "metadata": {},
     "output_type": "display_data"
    },
    {
     "name": "stdout",
     "output_type": "stream",
     "text": [
      "\n",
      "\tTraining Loss: 0.653031 \tValidation Loss: 0.654022\n",
      "running epoch: 30\n"
     ]
    },
    {
     "data": {
      "application/vnd.jupyter.widget-view+json": {
       "model_id": "3e1b224f1be74919a63a9d4b0aeda221",
       "version_major": 2,
       "version_minor": 0
      },
      "text/plain": [
       "HBox(children=(HTML(value=''), FloatProgress(value=0.0, max=163.0), HTML(value='')))"
      ]
     },
     "metadata": {},
     "output_type": "display_data"
    },
    {
     "name": "stdout",
     "output_type": "stream",
     "text": [
      "\n"
     ]
    },
    {
     "data": {
      "application/vnd.jupyter.widget-view+json": {
       "model_id": "5e98c6c9fc4147b6ae0e1422f85fecb7",
       "version_major": 2,
       "version_minor": 0
      },
      "text/plain": [
       "HBox(children=(HTML(value=''), FloatProgress(value=0.0, max=41.0), HTML(value='')))"
      ]
     },
     "metadata": {},
     "output_type": "display_data"
    },
    {
     "name": "stdout",
     "output_type": "stream",
     "text": [
      "\n",
      "\tTraining Loss: 0.653031 \tValidation Loss: 0.654022\n",
      "running epoch: 31\n"
     ]
    },
    {
     "data": {
      "application/vnd.jupyter.widget-view+json": {
       "model_id": "b636b81b8ca047e6a45fd2c4d6d2a4e9",
       "version_major": 2,
       "version_minor": 0
      },
      "text/plain": [
       "HBox(children=(HTML(value=''), FloatProgress(value=0.0, max=163.0), HTML(value='')))"
      ]
     },
     "metadata": {},
     "output_type": "display_data"
    },
    {
     "name": "stdout",
     "output_type": "stream",
     "text": [
      "\n"
     ]
    },
    {
     "data": {
      "application/vnd.jupyter.widget-view+json": {
       "model_id": "04fdd0cb0428460ebc739e64b22bf9fb",
       "version_major": 2,
       "version_minor": 0
      },
      "text/plain": [
       "HBox(children=(HTML(value=''), FloatProgress(value=0.0, max=41.0), HTML(value='')))"
      ]
     },
     "metadata": {},
     "output_type": "display_data"
    },
    {
     "name": "stdout",
     "output_type": "stream",
     "text": [
      "\n",
      "\tTraining Loss: 0.653031 \tValidation Loss: 0.654022\n",
      "running epoch: 32\n"
     ]
    },
    {
     "data": {
      "application/vnd.jupyter.widget-view+json": {
       "model_id": "01fed82ef4074a57b59ce49a05b68912",
       "version_major": 2,
       "version_minor": 0
      },
      "text/plain": [
       "HBox(children=(HTML(value=''), FloatProgress(value=0.0, max=163.0), HTML(value='')))"
      ]
     },
     "metadata": {},
     "output_type": "display_data"
    },
    {
     "name": "stdout",
     "output_type": "stream",
     "text": [
      "\n"
     ]
    },
    {
     "data": {
      "application/vnd.jupyter.widget-view+json": {
       "model_id": "c43a02bbcbc0442c9f4b00c76e779de1",
       "version_major": 2,
       "version_minor": 0
      },
      "text/plain": [
       "HBox(children=(HTML(value=''), FloatProgress(value=0.0, max=41.0), HTML(value='')))"
      ]
     },
     "metadata": {},
     "output_type": "display_data"
    },
    {
     "name": "stdout",
     "output_type": "stream",
     "text": [
      "\n",
      "\tTraining Loss: 0.653031 \tValidation Loss: 0.654022\n",
      "running epoch: 33\n"
     ]
    },
    {
     "data": {
      "application/vnd.jupyter.widget-view+json": {
       "model_id": "715b4039e2ae42eeb0b6dc5b4eb27037",
       "version_major": 2,
       "version_minor": 0
      },
      "text/plain": [
       "HBox(children=(HTML(value=''), FloatProgress(value=0.0, max=163.0), HTML(value='')))"
      ]
     },
     "metadata": {},
     "output_type": "display_data"
    },
    {
     "name": "stdout",
     "output_type": "stream",
     "text": [
      "\n"
     ]
    },
    {
     "data": {
      "application/vnd.jupyter.widget-view+json": {
       "model_id": "64de7d08c40f4a41a5c1632ef91a625d",
       "version_major": 2,
       "version_minor": 0
      },
      "text/plain": [
       "HBox(children=(HTML(value=''), FloatProgress(value=0.0, max=41.0), HTML(value='')))"
      ]
     },
     "metadata": {},
     "output_type": "display_data"
    },
    {
     "name": "stdout",
     "output_type": "stream",
     "text": [
      "\n",
      "\tTraining Loss: 0.653031 \tValidation Loss: 0.654022\n",
      "running epoch: 34\n"
     ]
    },
    {
     "data": {
      "application/vnd.jupyter.widget-view+json": {
       "model_id": "73702affd28e43a084c2996ffd20cdd3",
       "version_major": 2,
       "version_minor": 0
      },
      "text/plain": [
       "HBox(children=(HTML(value=''), FloatProgress(value=0.0, max=163.0), HTML(value='')))"
      ]
     },
     "metadata": {},
     "output_type": "display_data"
    },
    {
     "name": "stdout",
     "output_type": "stream",
     "text": [
      "\n"
     ]
    },
    {
     "data": {
      "application/vnd.jupyter.widget-view+json": {
       "model_id": "f9dd3ed5f1814bda871bed9321a9de2e",
       "version_major": 2,
       "version_minor": 0
      },
      "text/plain": [
       "HBox(children=(HTML(value=''), FloatProgress(value=0.0, max=41.0), HTML(value='')))"
      ]
     },
     "metadata": {},
     "output_type": "display_data"
    },
    {
     "name": "stdout",
     "output_type": "stream",
     "text": [
      "\n",
      "\tTraining Loss: 0.653031 \tValidation Loss: 0.654022\n",
      "running epoch: 35\n"
     ]
    },
    {
     "data": {
      "application/vnd.jupyter.widget-view+json": {
       "model_id": "65c3249a65944170afd480f0eca36fc1",
       "version_major": 2,
       "version_minor": 0
      },
      "text/plain": [
       "HBox(children=(HTML(value=''), FloatProgress(value=0.0, max=163.0), HTML(value='')))"
      ]
     },
     "metadata": {},
     "output_type": "display_data"
    },
    {
     "name": "stdout",
     "output_type": "stream",
     "text": [
      "\n"
     ]
    },
    {
     "data": {
      "application/vnd.jupyter.widget-view+json": {
       "model_id": "f9aeef796b444fc2805c1453d11dce5a",
       "version_major": 2,
       "version_minor": 0
      },
      "text/plain": [
       "HBox(children=(HTML(value=''), FloatProgress(value=0.0, max=41.0), HTML(value='')))"
      ]
     },
     "metadata": {},
     "output_type": "display_data"
    },
    {
     "name": "stdout",
     "output_type": "stream",
     "text": [
      "\n",
      "\tTraining Loss: 0.653031 \tValidation Loss: 0.654022\n",
      "running epoch: 36\n"
     ]
    },
    {
     "data": {
      "application/vnd.jupyter.widget-view+json": {
       "model_id": "184c354014f44a9886c0aa3a587b51b3",
       "version_major": 2,
       "version_minor": 0
      },
      "text/plain": [
       "HBox(children=(HTML(value=''), FloatProgress(value=0.0, max=163.0), HTML(value='')))"
      ]
     },
     "metadata": {},
     "output_type": "display_data"
    },
    {
     "name": "stdout",
     "output_type": "stream",
     "text": [
      "\n"
     ]
    },
    {
     "data": {
      "application/vnd.jupyter.widget-view+json": {
       "model_id": "79be31e7872442169aca897e3782d17f",
       "version_major": 2,
       "version_minor": 0
      },
      "text/plain": [
       "HBox(children=(HTML(value=''), FloatProgress(value=0.0, max=41.0), HTML(value='')))"
      ]
     },
     "metadata": {},
     "output_type": "display_data"
    },
    {
     "name": "stdout",
     "output_type": "stream",
     "text": [
      "\n",
      "\tTraining Loss: 0.653031 \tValidation Loss: 0.654022\n",
      "running epoch: 37\n"
     ]
    },
    {
     "data": {
      "application/vnd.jupyter.widget-view+json": {
       "model_id": "5c657151fc1a4d3c919613dc68ceae49",
       "version_major": 2,
       "version_minor": 0
      },
      "text/plain": [
       "HBox(children=(HTML(value=''), FloatProgress(value=0.0, max=163.0), HTML(value='')))"
      ]
     },
     "metadata": {},
     "output_type": "display_data"
    },
    {
     "name": "stdout",
     "output_type": "stream",
     "text": [
      "\n"
     ]
    },
    {
     "data": {
      "application/vnd.jupyter.widget-view+json": {
       "model_id": "b1584e1df7ac4e61922bbe1f79faf698",
       "version_major": 2,
       "version_minor": 0
      },
      "text/plain": [
       "HBox(children=(HTML(value=''), FloatProgress(value=0.0, max=41.0), HTML(value='')))"
      ]
     },
     "metadata": {},
     "output_type": "display_data"
    },
    {
     "name": "stdout",
     "output_type": "stream",
     "text": [
      "\n",
      "\tTraining Loss: 0.653031 \tValidation Loss: 0.654022\n",
      "running epoch: 38\n"
     ]
    },
    {
     "data": {
      "application/vnd.jupyter.widget-view+json": {
       "model_id": "656f03d9cf0342aeba86a786b7f0f1cb",
       "version_major": 2,
       "version_minor": 0
      },
      "text/plain": [
       "HBox(children=(HTML(value=''), FloatProgress(value=0.0, max=163.0), HTML(value='')))"
      ]
     },
     "metadata": {},
     "output_type": "display_data"
    },
    {
     "name": "stdout",
     "output_type": "stream",
     "text": [
      "\n"
     ]
    },
    {
     "data": {
      "application/vnd.jupyter.widget-view+json": {
       "model_id": "09024de3e7814b1e88f814ae56b49428",
       "version_major": 2,
       "version_minor": 0
      },
      "text/plain": [
       "HBox(children=(HTML(value=''), FloatProgress(value=0.0, max=41.0), HTML(value='')))"
      ]
     },
     "metadata": {},
     "output_type": "display_data"
    },
    {
     "name": "stdout",
     "output_type": "stream",
     "text": [
      "\n",
      "\tTraining Loss: 0.653031 \tValidation Loss: 0.654022\n",
      "running epoch: 39\n"
     ]
    },
    {
     "data": {
      "application/vnd.jupyter.widget-view+json": {
       "model_id": "d72a5202a7b84efb9ff366c4328c67cc",
       "version_major": 2,
       "version_minor": 0
      },
      "text/plain": [
       "HBox(children=(HTML(value=''), FloatProgress(value=0.0, max=163.0), HTML(value='')))"
      ]
     },
     "metadata": {},
     "output_type": "display_data"
    },
    {
     "name": "stdout",
     "output_type": "stream",
     "text": [
      "\n"
     ]
    },
    {
     "data": {
      "application/vnd.jupyter.widget-view+json": {
       "model_id": "1791463990024b44a69317620527be48",
       "version_major": 2,
       "version_minor": 0
      },
      "text/plain": [
       "HBox(children=(HTML(value=''), FloatProgress(value=0.0, max=41.0), HTML(value='')))"
      ]
     },
     "metadata": {},
     "output_type": "display_data"
    },
    {
     "name": "stdout",
     "output_type": "stream",
     "text": [
      "\n",
      "\tTraining Loss: 0.653031 \tValidation Loss: 0.654022\n",
      "running epoch: 40\n"
     ]
    },
    {
     "data": {
      "application/vnd.jupyter.widget-view+json": {
       "model_id": "8f3dfb27edc44b2c801de63db0c3e632",
       "version_major": 2,
       "version_minor": 0
      },
      "text/plain": [
       "HBox(children=(HTML(value=''), FloatProgress(value=0.0, max=163.0), HTML(value='')))"
      ]
     },
     "metadata": {},
     "output_type": "display_data"
    },
    {
     "name": "stdout",
     "output_type": "stream",
     "text": [
      "\n"
     ]
    },
    {
     "data": {
      "application/vnd.jupyter.widget-view+json": {
       "model_id": "ec35f2b1f6764a2baa5cfa72011996e5",
       "version_major": 2,
       "version_minor": 0
      },
      "text/plain": [
       "HBox(children=(HTML(value=''), FloatProgress(value=0.0, max=41.0), HTML(value='')))"
      ]
     },
     "metadata": {},
     "output_type": "display_data"
    },
    {
     "name": "stdout",
     "output_type": "stream",
     "text": [
      "\n",
      "\tTraining Loss: 0.653031 \tValidation Loss: 0.654022\n",
      "running epoch: 41\n"
     ]
    },
    {
     "data": {
      "application/vnd.jupyter.widget-view+json": {
       "model_id": "630340bdc1ea47b19ce723d7453a79e2",
       "version_major": 2,
       "version_minor": 0
      },
      "text/plain": [
       "HBox(children=(HTML(value=''), FloatProgress(value=0.0, max=163.0), HTML(value='')))"
      ]
     },
     "metadata": {},
     "output_type": "display_data"
    },
    {
     "name": "stdout",
     "output_type": "stream",
     "text": [
      "\n"
     ]
    },
    {
     "data": {
      "application/vnd.jupyter.widget-view+json": {
       "model_id": "45fbf1b872a94833af2da506c2e0d7f8",
       "version_major": 2,
       "version_minor": 0
      },
      "text/plain": [
       "HBox(children=(HTML(value=''), FloatProgress(value=0.0, max=41.0), HTML(value='')))"
      ]
     },
     "metadata": {},
     "output_type": "display_data"
    },
    {
     "name": "stdout",
     "output_type": "stream",
     "text": [
      "\n",
      "\tTraining Loss: 0.653031 \tValidation Loss: 0.654022\n",
      "running epoch: 42\n"
     ]
    },
    {
     "data": {
      "application/vnd.jupyter.widget-view+json": {
       "model_id": "c1059d1dcbc6490c9f8258f1c190ae49",
       "version_major": 2,
       "version_minor": 0
      },
      "text/plain": [
       "HBox(children=(HTML(value=''), FloatProgress(value=0.0, max=163.0), HTML(value='')))"
      ]
     },
     "metadata": {},
     "output_type": "display_data"
    },
    {
     "name": "stdout",
     "output_type": "stream",
     "text": [
      "\n"
     ]
    },
    {
     "data": {
      "application/vnd.jupyter.widget-view+json": {
       "model_id": "84e18b9eb49f4910ac5a195cd7b147a6",
       "version_major": 2,
       "version_minor": 0
      },
      "text/plain": [
       "HBox(children=(HTML(value=''), FloatProgress(value=0.0, max=41.0), HTML(value='')))"
      ]
     },
     "metadata": {},
     "output_type": "display_data"
    },
    {
     "name": "stdout",
     "output_type": "stream",
     "text": [
      "\n",
      "\tTraining Loss: 0.653031 \tValidation Loss: 0.654022\n",
      "running epoch: 43\n"
     ]
    },
    {
     "data": {
      "application/vnd.jupyter.widget-view+json": {
       "model_id": "25595e3d6ff944cb8c459607c935b24d",
       "version_major": 2,
       "version_minor": 0
      },
      "text/plain": [
       "HBox(children=(HTML(value=''), FloatProgress(value=0.0, max=163.0), HTML(value='')))"
      ]
     },
     "metadata": {},
     "output_type": "display_data"
    },
    {
     "name": "stdout",
     "output_type": "stream",
     "text": [
      "\n"
     ]
    },
    {
     "data": {
      "application/vnd.jupyter.widget-view+json": {
       "model_id": "81597f8b89d042e49a3adbea51b5b010",
       "version_major": 2,
       "version_minor": 0
      },
      "text/plain": [
       "HBox(children=(HTML(value=''), FloatProgress(value=0.0, max=41.0), HTML(value='')))"
      ]
     },
     "metadata": {},
     "output_type": "display_data"
    },
    {
     "name": "stdout",
     "output_type": "stream",
     "text": [
      "\n",
      "\tTraining Loss: 0.653031 \tValidation Loss: 0.654022\n",
      "running epoch: 44\n"
     ]
    },
    {
     "data": {
      "application/vnd.jupyter.widget-view+json": {
       "model_id": "a1ac55c52be1408eae6ff5ceb40056a0",
       "version_major": 2,
       "version_minor": 0
      },
      "text/plain": [
       "HBox(children=(HTML(value=''), FloatProgress(value=0.0, max=163.0), HTML(value='')))"
      ]
     },
     "metadata": {},
     "output_type": "display_data"
    },
    {
     "name": "stdout",
     "output_type": "stream",
     "text": [
      "\n"
     ]
    },
    {
     "data": {
      "application/vnd.jupyter.widget-view+json": {
       "model_id": "e8e6ef7bd56c41bd832de5c5041d920a",
       "version_major": 2,
       "version_minor": 0
      },
      "text/plain": [
       "HBox(children=(HTML(value=''), FloatProgress(value=0.0, max=41.0), HTML(value='')))"
      ]
     },
     "metadata": {},
     "output_type": "display_data"
    },
    {
     "name": "stdout",
     "output_type": "stream",
     "text": [
      "\n",
      "\tTraining Loss: 0.653031 \tValidation Loss: 0.654022\n",
      "running epoch: 45\n"
     ]
    },
    {
     "data": {
      "application/vnd.jupyter.widget-view+json": {
       "model_id": "9696901ac7474a178d75a53355be44da",
       "version_major": 2,
       "version_minor": 0
      },
      "text/plain": [
       "HBox(children=(HTML(value=''), FloatProgress(value=0.0, max=163.0), HTML(value='')))"
      ]
     },
     "metadata": {},
     "output_type": "display_data"
    },
    {
     "name": "stdout",
     "output_type": "stream",
     "text": [
      "\n"
     ]
    },
    {
     "data": {
      "application/vnd.jupyter.widget-view+json": {
       "model_id": "6287c201a1b847bca393d3a90102cb70",
       "version_major": 2,
       "version_minor": 0
      },
      "text/plain": [
       "HBox(children=(HTML(value=''), FloatProgress(value=0.0, max=41.0), HTML(value='')))"
      ]
     },
     "metadata": {},
     "output_type": "display_data"
    },
    {
     "name": "stdout",
     "output_type": "stream",
     "text": [
      "\n",
      "\tTraining Loss: 0.653031 \tValidation Loss: 0.654022\n",
      "running epoch: 46\n"
     ]
    },
    {
     "data": {
      "application/vnd.jupyter.widget-view+json": {
       "model_id": "5d5c125090da4c04961b0a8d7d306209",
       "version_major": 2,
       "version_minor": 0
      },
      "text/plain": [
       "HBox(children=(HTML(value=''), FloatProgress(value=0.0, max=163.0), HTML(value='')))"
      ]
     },
     "metadata": {},
     "output_type": "display_data"
    },
    {
     "name": "stdout",
     "output_type": "stream",
     "text": [
      "\n"
     ]
    },
    {
     "data": {
      "application/vnd.jupyter.widget-view+json": {
       "model_id": "1815547d0cfb4d56b74d1a96db4ac07b",
       "version_major": 2,
       "version_minor": 0
      },
      "text/plain": [
       "HBox(children=(HTML(value=''), FloatProgress(value=0.0, max=41.0), HTML(value='')))"
      ]
     },
     "metadata": {},
     "output_type": "display_data"
    },
    {
     "name": "stdout",
     "output_type": "stream",
     "text": [
      "\n",
      "\tTraining Loss: 0.653031 \tValidation Loss: 0.654022\n",
      "running epoch: 47\n"
     ]
    },
    {
     "data": {
      "application/vnd.jupyter.widget-view+json": {
       "model_id": "19b0a9b9b8d54de0b5829c554abe43ec",
       "version_major": 2,
       "version_minor": 0
      },
      "text/plain": [
       "HBox(children=(HTML(value=''), FloatProgress(value=0.0, max=163.0), HTML(value='')))"
      ]
     },
     "metadata": {},
     "output_type": "display_data"
    },
    {
     "name": "stdout",
     "output_type": "stream",
     "text": [
      "\n"
     ]
    },
    {
     "data": {
      "application/vnd.jupyter.widget-view+json": {
       "model_id": "10cd6a1868444c11bb15465461878da4",
       "version_major": 2,
       "version_minor": 0
      },
      "text/plain": [
       "HBox(children=(HTML(value=''), FloatProgress(value=0.0, max=41.0), HTML(value='')))"
      ]
     },
     "metadata": {},
     "output_type": "display_data"
    },
    {
     "name": "stdout",
     "output_type": "stream",
     "text": [
      "\n",
      "\tTraining Loss: 0.653031 \tValidation Loss: 0.654022\n",
      "running epoch: 48\n"
     ]
    },
    {
     "data": {
      "application/vnd.jupyter.widget-view+json": {
       "model_id": "af09da5c3b4b47dc99b115a88687856c",
       "version_major": 2,
       "version_minor": 0
      },
      "text/plain": [
       "HBox(children=(HTML(value=''), FloatProgress(value=0.0, max=163.0), HTML(value='')))"
      ]
     },
     "metadata": {},
     "output_type": "display_data"
    },
    {
     "name": "stdout",
     "output_type": "stream",
     "text": [
      "\n"
     ]
    },
    {
     "data": {
      "application/vnd.jupyter.widget-view+json": {
       "model_id": "30e000defafd4be0957acf004d9bdff0",
       "version_major": 2,
       "version_minor": 0
      },
      "text/plain": [
       "HBox(children=(HTML(value=''), FloatProgress(value=0.0, max=41.0), HTML(value='')))"
      ]
     },
     "metadata": {},
     "output_type": "display_data"
    },
    {
     "name": "stdout",
     "output_type": "stream",
     "text": [
      "\n",
      "\tTraining Loss: 0.653031 \tValidation Loss: 0.654022\n",
      "running epoch: 49\n"
     ]
    },
    {
     "data": {
      "application/vnd.jupyter.widget-view+json": {
       "model_id": "ed1952e7cb594d67b67af81e6d96d513",
       "version_major": 2,
       "version_minor": 0
      },
      "text/plain": [
       "HBox(children=(HTML(value=''), FloatProgress(value=0.0, max=163.0), HTML(value='')))"
      ]
     },
     "metadata": {},
     "output_type": "display_data"
    },
    {
     "name": "stdout",
     "output_type": "stream",
     "text": [
      "\n"
     ]
    },
    {
     "data": {
      "application/vnd.jupyter.widget-view+json": {
       "model_id": "73fcd221150644c8b75befddc66d324b",
       "version_major": 2,
       "version_minor": 0
      },
      "text/plain": [
       "HBox(children=(HTML(value=''), FloatProgress(value=0.0, max=41.0), HTML(value='')))"
      ]
     },
     "metadata": {},
     "output_type": "display_data"
    },
    {
     "name": "stdout",
     "output_type": "stream",
     "text": [
      "\n",
      "\tTraining Loss: 0.653031 \tValidation Loss: 0.654022\n",
      "running epoch: 50\n"
     ]
    },
    {
     "data": {
      "application/vnd.jupyter.widget-view+json": {
       "model_id": "d28098a453d8480c9a8ab8d247c45aff",
       "version_major": 2,
       "version_minor": 0
      },
      "text/plain": [
       "HBox(children=(HTML(value=''), FloatProgress(value=0.0, max=163.0), HTML(value='')))"
      ]
     },
     "metadata": {},
     "output_type": "display_data"
    },
    {
     "name": "stdout",
     "output_type": "stream",
     "text": [
      "\n"
     ]
    },
    {
     "data": {
      "application/vnd.jupyter.widget-view+json": {
       "model_id": "5884f485a0e8416abdca7d4f74f26fe6",
       "version_major": 2,
       "version_minor": 0
      },
      "text/plain": [
       "HBox(children=(HTML(value=''), FloatProgress(value=0.0, max=41.0), HTML(value='')))"
      ]
     },
     "metadata": {},
     "output_type": "display_data"
    },
    {
     "name": "stdout",
     "output_type": "stream",
     "text": [
      "\n",
      "\tTraining Loss: 0.653031 \tValidation Loss: 0.654022\n",
      "running epoch: 51\n"
     ]
    },
    {
     "data": {
      "application/vnd.jupyter.widget-view+json": {
       "model_id": "faa8f8b89dc745269e21e074a7dc7746",
       "version_major": 2,
       "version_minor": 0
      },
      "text/plain": [
       "HBox(children=(HTML(value=''), FloatProgress(value=0.0, max=163.0), HTML(value='')))"
      ]
     },
     "metadata": {},
     "output_type": "display_data"
    },
    {
     "name": "stdout",
     "output_type": "stream",
     "text": [
      "\n"
     ]
    },
    {
     "data": {
      "application/vnd.jupyter.widget-view+json": {
       "model_id": "142c4bf611f54fe791f461669a57c78c",
       "version_major": 2,
       "version_minor": 0
      },
      "text/plain": [
       "HBox(children=(HTML(value=''), FloatProgress(value=0.0, max=41.0), HTML(value='')))"
      ]
     },
     "metadata": {},
     "output_type": "display_data"
    },
    {
     "name": "stdout",
     "output_type": "stream",
     "text": [
      "\n",
      "\tTraining Loss: 0.653031 \tValidation Loss: 0.654022\n",
      "running epoch: 52\n"
     ]
    },
    {
     "data": {
      "application/vnd.jupyter.widget-view+json": {
       "model_id": "2f824135631744dcb239cc0139646c84",
       "version_major": 2,
       "version_minor": 0
      },
      "text/plain": [
       "HBox(children=(HTML(value=''), FloatProgress(value=0.0, max=163.0), HTML(value='')))"
      ]
     },
     "metadata": {},
     "output_type": "display_data"
    },
    {
     "name": "stdout",
     "output_type": "stream",
     "text": [
      "\n"
     ]
    },
    {
     "data": {
      "application/vnd.jupyter.widget-view+json": {
       "model_id": "9f0c146c874e4c4fa3f9dde3dc71e7e4",
       "version_major": 2,
       "version_minor": 0
      },
      "text/plain": [
       "HBox(children=(HTML(value=''), FloatProgress(value=0.0, max=41.0), HTML(value='')))"
      ]
     },
     "metadata": {},
     "output_type": "display_data"
    },
    {
     "name": "stdout",
     "output_type": "stream",
     "text": [
      "\n",
      "\tTraining Loss: 0.653031 \tValidation Loss: 0.654022\n",
      "running epoch: 53\n"
     ]
    },
    {
     "data": {
      "application/vnd.jupyter.widget-view+json": {
       "model_id": "2b4149f41ee34629b4eab36e1291c02e",
       "version_major": 2,
       "version_minor": 0
      },
      "text/plain": [
       "HBox(children=(HTML(value=''), FloatProgress(value=0.0, max=163.0), HTML(value='')))"
      ]
     },
     "metadata": {},
     "output_type": "display_data"
    },
    {
     "name": "stdout",
     "output_type": "stream",
     "text": [
      "\n"
     ]
    },
    {
     "data": {
      "application/vnd.jupyter.widget-view+json": {
       "model_id": "061a9e7c8ca643a59ba3c27f953c44cf",
       "version_major": 2,
       "version_minor": 0
      },
      "text/plain": [
       "HBox(children=(HTML(value=''), FloatProgress(value=0.0, max=41.0), HTML(value='')))"
      ]
     },
     "metadata": {},
     "output_type": "display_data"
    },
    {
     "name": "stdout",
     "output_type": "stream",
     "text": [
      "\n",
      "\tTraining Loss: 0.653031 \tValidation Loss: 0.654022\n",
      "running epoch: 54\n"
     ]
    },
    {
     "data": {
      "application/vnd.jupyter.widget-view+json": {
       "model_id": "7d3bc76a65a8491a921ff07f92ad43c4",
       "version_major": 2,
       "version_minor": 0
      },
      "text/plain": [
       "HBox(children=(HTML(value=''), FloatProgress(value=0.0, max=163.0), HTML(value='')))"
      ]
     },
     "metadata": {},
     "output_type": "display_data"
    },
    {
     "name": "stdout",
     "output_type": "stream",
     "text": [
      "\n"
     ]
    },
    {
     "data": {
      "application/vnd.jupyter.widget-view+json": {
       "model_id": "8d3095b69fa944e2a7beef79c920f982",
       "version_major": 2,
       "version_minor": 0
      },
      "text/plain": [
       "HBox(children=(HTML(value=''), FloatProgress(value=0.0, max=41.0), HTML(value='')))"
      ]
     },
     "metadata": {},
     "output_type": "display_data"
    },
    {
     "name": "stdout",
     "output_type": "stream",
     "text": [
      "\n",
      "\tTraining Loss: 0.653031 \tValidation Loss: 0.654022\n",
      "running epoch: 55\n"
     ]
    },
    {
     "data": {
      "application/vnd.jupyter.widget-view+json": {
       "model_id": "e470623f9a754eef80be7b99d4944085",
       "version_major": 2,
       "version_minor": 0
      },
      "text/plain": [
       "HBox(children=(HTML(value=''), FloatProgress(value=0.0, max=163.0), HTML(value='')))"
      ]
     },
     "metadata": {},
     "output_type": "display_data"
    },
    {
     "name": "stdout",
     "output_type": "stream",
     "text": [
      "\n"
     ]
    },
    {
     "data": {
      "application/vnd.jupyter.widget-view+json": {
       "model_id": "90fe41e7c45846bea369d7fec91de120",
       "version_major": 2,
       "version_minor": 0
      },
      "text/plain": [
       "HBox(children=(HTML(value=''), FloatProgress(value=0.0, max=41.0), HTML(value='')))"
      ]
     },
     "metadata": {},
     "output_type": "display_data"
    },
    {
     "name": "stdout",
     "output_type": "stream",
     "text": [
      "\n",
      "\tTraining Loss: 0.653031 \tValidation Loss: 0.654022\n",
      "running epoch: 56\n"
     ]
    },
    {
     "data": {
      "application/vnd.jupyter.widget-view+json": {
       "model_id": "df91ae18523e4329948e5cd2165b8404",
       "version_major": 2,
       "version_minor": 0
      },
      "text/plain": [
       "HBox(children=(HTML(value=''), FloatProgress(value=0.0, max=163.0), HTML(value='')))"
      ]
     },
     "metadata": {},
     "output_type": "display_data"
    },
    {
     "name": "stdout",
     "output_type": "stream",
     "text": [
      "\n"
     ]
    },
    {
     "data": {
      "application/vnd.jupyter.widget-view+json": {
       "model_id": "c0c8d29fa3a34fda9c2bedd40a53fc89",
       "version_major": 2,
       "version_minor": 0
      },
      "text/plain": [
       "HBox(children=(HTML(value=''), FloatProgress(value=0.0, max=41.0), HTML(value='')))"
      ]
     },
     "metadata": {},
     "output_type": "display_data"
    },
    {
     "name": "stdout",
     "output_type": "stream",
     "text": [
      "\n",
      "\tTraining Loss: 0.653031 \tValidation Loss: 0.654022\n",
      "running epoch: 57\n"
     ]
    },
    {
     "data": {
      "application/vnd.jupyter.widget-view+json": {
       "model_id": "c01c75cb31de49409437753ecc59269c",
       "version_major": 2,
       "version_minor": 0
      },
      "text/plain": [
       "HBox(children=(HTML(value=''), FloatProgress(value=0.0, max=163.0), HTML(value='')))"
      ]
     },
     "metadata": {},
     "output_type": "display_data"
    },
    {
     "name": "stdout",
     "output_type": "stream",
     "text": [
      "\n"
     ]
    },
    {
     "data": {
      "application/vnd.jupyter.widget-view+json": {
       "model_id": "d90c62ef10174c5abb12eda62cced0da",
       "version_major": 2,
       "version_minor": 0
      },
      "text/plain": [
       "HBox(children=(HTML(value=''), FloatProgress(value=0.0, max=41.0), HTML(value='')))"
      ]
     },
     "metadata": {},
     "output_type": "display_data"
    },
    {
     "name": "stdout",
     "output_type": "stream",
     "text": [
      "\n",
      "\tTraining Loss: 0.653031 \tValidation Loss: 0.654022\n",
      "running epoch: 58\n"
     ]
    },
    {
     "data": {
      "application/vnd.jupyter.widget-view+json": {
       "model_id": "a74451ab77d84733b58c7a7f95d78d31",
       "version_major": 2,
       "version_minor": 0
      },
      "text/plain": [
       "HBox(children=(HTML(value=''), FloatProgress(value=0.0, max=163.0), HTML(value='')))"
      ]
     },
     "metadata": {},
     "output_type": "display_data"
    },
    {
     "name": "stdout",
     "output_type": "stream",
     "text": [
      "\n"
     ]
    },
    {
     "data": {
      "application/vnd.jupyter.widget-view+json": {
       "model_id": "f0a3f69f53bf43728068e6e20f59413f",
       "version_major": 2,
       "version_minor": 0
      },
      "text/plain": [
       "HBox(children=(HTML(value=''), FloatProgress(value=0.0, max=41.0), HTML(value='')))"
      ]
     },
     "metadata": {},
     "output_type": "display_data"
    },
    {
     "name": "stdout",
     "output_type": "stream",
     "text": [
      "\n",
      "\tTraining Loss: 0.653031 \tValidation Loss: 0.654022\n",
      "running epoch: 59\n"
     ]
    },
    {
     "data": {
      "application/vnd.jupyter.widget-view+json": {
       "model_id": "4d4669820ec14b62a2bc5c117d0aef8e",
       "version_major": 2,
       "version_minor": 0
      },
      "text/plain": [
       "HBox(children=(HTML(value=''), FloatProgress(value=0.0, max=163.0), HTML(value='')))"
      ]
     },
     "metadata": {},
     "output_type": "display_data"
    },
    {
     "name": "stdout",
     "output_type": "stream",
     "text": [
      "\n"
     ]
    },
    {
     "data": {
      "application/vnd.jupyter.widget-view+json": {
       "model_id": "07e399eb8ca04e10b7ceea372a56a708",
       "version_major": 2,
       "version_minor": 0
      },
      "text/plain": [
       "HBox(children=(HTML(value=''), FloatProgress(value=0.0, max=41.0), HTML(value='')))"
      ]
     },
     "metadata": {},
     "output_type": "display_data"
    },
    {
     "name": "stdout",
     "output_type": "stream",
     "text": [
      "\n",
      "\tTraining Loss: 0.653031 \tValidation Loss: 0.654022\n",
      "running epoch: 60\n"
     ]
    },
    {
     "data": {
      "application/vnd.jupyter.widget-view+json": {
       "model_id": "9b7b8a75e2904753bc9481d51fd600cf",
       "version_major": 2,
       "version_minor": 0
      },
      "text/plain": [
       "HBox(children=(HTML(value=''), FloatProgress(value=0.0, max=163.0), HTML(value='')))"
      ]
     },
     "metadata": {},
     "output_type": "display_data"
    },
    {
     "name": "stdout",
     "output_type": "stream",
     "text": [
      "\n"
     ]
    },
    {
     "data": {
      "application/vnd.jupyter.widget-view+json": {
       "model_id": "0486be80f8f74946a4959daf959ba5d2",
       "version_major": 2,
       "version_minor": 0
      },
      "text/plain": [
       "HBox(children=(HTML(value=''), FloatProgress(value=0.0, max=41.0), HTML(value='')))"
      ]
     },
     "metadata": {},
     "output_type": "display_data"
    },
    {
     "name": "stdout",
     "output_type": "stream",
     "text": [
      "\n",
      "\tTraining Loss: 0.653031 \tValidation Loss: 0.654022\n",
      "running epoch: 61\n"
     ]
    },
    {
     "data": {
      "application/vnd.jupyter.widget-view+json": {
       "model_id": "666f3b5783824216b81d278caf52450d",
       "version_major": 2,
       "version_minor": 0
      },
      "text/plain": [
       "HBox(children=(HTML(value=''), FloatProgress(value=0.0, max=163.0), HTML(value='')))"
      ]
     },
     "metadata": {},
     "output_type": "display_data"
    },
    {
     "name": "stdout",
     "output_type": "stream",
     "text": [
      "\n"
     ]
    },
    {
     "data": {
      "application/vnd.jupyter.widget-view+json": {
       "model_id": "878af7f6ae4f485cb46f0c479c06237d",
       "version_major": 2,
       "version_minor": 0
      },
      "text/plain": [
       "HBox(children=(HTML(value=''), FloatProgress(value=0.0, max=41.0), HTML(value='')))"
      ]
     },
     "metadata": {},
     "output_type": "display_data"
    },
    {
     "name": "stdout",
     "output_type": "stream",
     "text": [
      "\n",
      "\tTraining Loss: 0.653031 \tValidation Loss: 0.654022\n",
      "running epoch: 62\n"
     ]
    },
    {
     "data": {
      "application/vnd.jupyter.widget-view+json": {
       "model_id": "9414f51d00804ef88367b6a30efa5ae3",
       "version_major": 2,
       "version_minor": 0
      },
      "text/plain": [
       "HBox(children=(HTML(value=''), FloatProgress(value=0.0, max=163.0), HTML(value='')))"
      ]
     },
     "metadata": {},
     "output_type": "display_data"
    },
    {
     "name": "stdout",
     "output_type": "stream",
     "text": [
      "\n"
     ]
    },
    {
     "data": {
      "application/vnd.jupyter.widget-view+json": {
       "model_id": "5fd05ea9b08c4cf9ac60409704220630",
       "version_major": 2,
       "version_minor": 0
      },
      "text/plain": [
       "HBox(children=(HTML(value=''), FloatProgress(value=0.0, max=41.0), HTML(value='')))"
      ]
     },
     "metadata": {},
     "output_type": "display_data"
    },
    {
     "name": "stdout",
     "output_type": "stream",
     "text": [
      "\n",
      "\tTraining Loss: 0.653031 \tValidation Loss: 0.654022\n",
      "running epoch: 63\n"
     ]
    },
    {
     "data": {
      "application/vnd.jupyter.widget-view+json": {
       "model_id": "aee5f606410b418c94b592868c2c9fa0",
       "version_major": 2,
       "version_minor": 0
      },
      "text/plain": [
       "HBox(children=(HTML(value=''), FloatProgress(value=0.0, max=163.0), HTML(value='')))"
      ]
     },
     "metadata": {},
     "output_type": "display_data"
    },
    {
     "name": "stdout",
     "output_type": "stream",
     "text": [
      "\n"
     ]
    },
    {
     "data": {
      "application/vnd.jupyter.widget-view+json": {
       "model_id": "c8ef78a41b154419a0b10f588b1d5bfd",
       "version_major": 2,
       "version_minor": 0
      },
      "text/plain": [
       "HBox(children=(HTML(value=''), FloatProgress(value=0.0, max=41.0), HTML(value='')))"
      ]
     },
     "metadata": {},
     "output_type": "display_data"
    },
    {
     "name": "stdout",
     "output_type": "stream",
     "text": [
      "\n",
      "\tTraining Loss: 0.653031 \tValidation Loss: 0.654022\n",
      "running epoch: 64\n"
     ]
    },
    {
     "data": {
      "application/vnd.jupyter.widget-view+json": {
       "model_id": "b067987544834a678c750281f02a9e53",
       "version_major": 2,
       "version_minor": 0
      },
      "text/plain": [
       "HBox(children=(HTML(value=''), FloatProgress(value=0.0, max=163.0), HTML(value='')))"
      ]
     },
     "metadata": {},
     "output_type": "display_data"
    },
    {
     "name": "stdout",
     "output_type": "stream",
     "text": [
      "\n"
     ]
    },
    {
     "data": {
      "application/vnd.jupyter.widget-view+json": {
       "model_id": "7636b9bd77354bd983c3153f6e5ed4a9",
       "version_major": 2,
       "version_minor": 0
      },
      "text/plain": [
       "HBox(children=(HTML(value=''), FloatProgress(value=0.0, max=41.0), HTML(value='')))"
      ]
     },
     "metadata": {},
     "output_type": "display_data"
    },
    {
     "name": "stdout",
     "output_type": "stream",
     "text": [
      "\n",
      "\tTraining Loss: 0.653031 \tValidation Loss: 0.654022\n",
      "running epoch: 65\n"
     ]
    },
    {
     "data": {
      "application/vnd.jupyter.widget-view+json": {
       "model_id": "bb8739527ed745f48cbfc7e269c705d4",
       "version_major": 2,
       "version_minor": 0
      },
      "text/plain": [
       "HBox(children=(HTML(value=''), FloatProgress(value=0.0, max=163.0), HTML(value='')))"
      ]
     },
     "metadata": {},
     "output_type": "display_data"
    },
    {
     "name": "stdout",
     "output_type": "stream",
     "text": [
      "\n"
     ]
    },
    {
     "data": {
      "application/vnd.jupyter.widget-view+json": {
       "model_id": "75fecca913f747e39cea2c86020b43b9",
       "version_major": 2,
       "version_minor": 0
      },
      "text/plain": [
       "HBox(children=(HTML(value=''), FloatProgress(value=0.0, max=41.0), HTML(value='')))"
      ]
     },
     "metadata": {},
     "output_type": "display_data"
    },
    {
     "name": "stdout",
     "output_type": "stream",
     "text": [
      "\n",
      "\tTraining Loss: 0.653031 \tValidation Loss: 0.654022\n",
      "running epoch: 66\n"
     ]
    },
    {
     "data": {
      "application/vnd.jupyter.widget-view+json": {
       "model_id": "d1a85f85563e477ba07c29a9778612d4",
       "version_major": 2,
       "version_minor": 0
      },
      "text/plain": [
       "HBox(children=(HTML(value=''), FloatProgress(value=0.0, max=163.0), HTML(value='')))"
      ]
     },
     "metadata": {},
     "output_type": "display_data"
    },
    {
     "name": "stdout",
     "output_type": "stream",
     "text": [
      "\n"
     ]
    },
    {
     "data": {
      "application/vnd.jupyter.widget-view+json": {
       "model_id": "3f397f2edc744e1fbd6023db5127c19b",
       "version_major": 2,
       "version_minor": 0
      },
      "text/plain": [
       "HBox(children=(HTML(value=''), FloatProgress(value=0.0, max=41.0), HTML(value='')))"
      ]
     },
     "metadata": {},
     "output_type": "display_data"
    },
    {
     "name": "stdout",
     "output_type": "stream",
     "text": [
      "\n",
      "\tTraining Loss: 0.653031 \tValidation Loss: 0.654022\n",
      "running epoch: 67\n"
     ]
    },
    {
     "data": {
      "application/vnd.jupyter.widget-view+json": {
       "model_id": "58ea3c95d1cf4e70b8ad48e48437597a",
       "version_major": 2,
       "version_minor": 0
      },
      "text/plain": [
       "HBox(children=(HTML(value=''), FloatProgress(value=0.0, max=163.0), HTML(value='')))"
      ]
     },
     "metadata": {},
     "output_type": "display_data"
    },
    {
     "name": "stdout",
     "output_type": "stream",
     "text": [
      "\n"
     ]
    },
    {
     "data": {
      "application/vnd.jupyter.widget-view+json": {
       "model_id": "1a8a9fbf5e044aad95e4d3727eb815a8",
       "version_major": 2,
       "version_minor": 0
      },
      "text/plain": [
       "HBox(children=(HTML(value=''), FloatProgress(value=0.0, max=41.0), HTML(value='')))"
      ]
     },
     "metadata": {},
     "output_type": "display_data"
    },
    {
     "name": "stdout",
     "output_type": "stream",
     "text": [
      "\n",
      "\tTraining Loss: 0.653031 \tValidation Loss: 0.654022\n",
      "running epoch: 68\n"
     ]
    },
    {
     "data": {
      "application/vnd.jupyter.widget-view+json": {
       "model_id": "f0fa4436e8e44373ac30325dd110c30e",
       "version_major": 2,
       "version_minor": 0
      },
      "text/plain": [
       "HBox(children=(HTML(value=''), FloatProgress(value=0.0, max=163.0), HTML(value='')))"
      ]
     },
     "metadata": {},
     "output_type": "display_data"
    },
    {
     "name": "stdout",
     "output_type": "stream",
     "text": [
      "\n"
     ]
    },
    {
     "data": {
      "application/vnd.jupyter.widget-view+json": {
       "model_id": "e3d2f2e092a64155b558bc3cfc99e1b7",
       "version_major": 2,
       "version_minor": 0
      },
      "text/plain": [
       "HBox(children=(HTML(value=''), FloatProgress(value=0.0, max=41.0), HTML(value='')))"
      ]
     },
     "metadata": {},
     "output_type": "display_data"
    },
    {
     "name": "stdout",
     "output_type": "stream",
     "text": [
      "\n",
      "\tTraining Loss: 0.653031 \tValidation Loss: 0.654022\n",
      "running epoch: 69\n"
     ]
    },
    {
     "data": {
      "application/vnd.jupyter.widget-view+json": {
       "model_id": "e8a147b601084d3fba7a9f8903022927",
       "version_major": 2,
       "version_minor": 0
      },
      "text/plain": [
       "HBox(children=(HTML(value=''), FloatProgress(value=0.0, max=163.0), HTML(value='')))"
      ]
     },
     "metadata": {},
     "output_type": "display_data"
    },
    {
     "name": "stdout",
     "output_type": "stream",
     "text": [
      "\n"
     ]
    },
    {
     "data": {
      "application/vnd.jupyter.widget-view+json": {
       "model_id": "991bd81863f841c29b0bf0d4cfcd6063",
       "version_major": 2,
       "version_minor": 0
      },
      "text/plain": [
       "HBox(children=(HTML(value=''), FloatProgress(value=0.0, max=41.0), HTML(value='')))"
      ]
     },
     "metadata": {},
     "output_type": "display_data"
    },
    {
     "name": "stdout",
     "output_type": "stream",
     "text": [
      "\n",
      "\tTraining Loss: 0.653031 \tValidation Loss: 0.654022\n",
      "running epoch: 70\n"
     ]
    },
    {
     "data": {
      "application/vnd.jupyter.widget-view+json": {
       "model_id": "f5d82116cd654234bb93d8a2e2e7f2bb",
       "version_major": 2,
       "version_minor": 0
      },
      "text/plain": [
       "HBox(children=(HTML(value=''), FloatProgress(value=0.0, max=163.0), HTML(value='')))"
      ]
     },
     "metadata": {},
     "output_type": "display_data"
    },
    {
     "name": "stdout",
     "output_type": "stream",
     "text": [
      "\n"
     ]
    },
    {
     "data": {
      "application/vnd.jupyter.widget-view+json": {
       "model_id": "cd6dba901ffd462ab3ec972dc501dd1d",
       "version_major": 2,
       "version_minor": 0
      },
      "text/plain": [
       "HBox(children=(HTML(value=''), FloatProgress(value=0.0, max=41.0), HTML(value='')))"
      ]
     },
     "metadata": {},
     "output_type": "display_data"
    },
    {
     "name": "stdout",
     "output_type": "stream",
     "text": [
      "\n",
      "\tTraining Loss: 0.653031 \tValidation Loss: 0.654022\n",
      "running epoch: 71\n"
     ]
    },
    {
     "data": {
      "application/vnd.jupyter.widget-view+json": {
       "model_id": "8cb620da12064056b1307c9cd0904fe1",
       "version_major": 2,
       "version_minor": 0
      },
      "text/plain": [
       "HBox(children=(HTML(value=''), FloatProgress(value=0.0, max=163.0), HTML(value='')))"
      ]
     },
     "metadata": {},
     "output_type": "display_data"
    },
    {
     "name": "stdout",
     "output_type": "stream",
     "text": [
      "\n"
     ]
    },
    {
     "data": {
      "application/vnd.jupyter.widget-view+json": {
       "model_id": "2915155c4736490a9a9fcae427401ec6",
       "version_major": 2,
       "version_minor": 0
      },
      "text/plain": [
       "HBox(children=(HTML(value=''), FloatProgress(value=0.0, max=41.0), HTML(value='')))"
      ]
     },
     "metadata": {},
     "output_type": "display_data"
    },
    {
     "name": "stdout",
     "output_type": "stream",
     "text": [
      "\n",
      "\tTraining Loss: 0.653031 \tValidation Loss: 0.654022\n",
      "running epoch: 72\n"
     ]
    },
    {
     "data": {
      "application/vnd.jupyter.widget-view+json": {
       "model_id": "2c36d63e765a467d815537bbdcdd9bc8",
       "version_major": 2,
       "version_minor": 0
      },
      "text/plain": [
       "HBox(children=(HTML(value=''), FloatProgress(value=0.0, max=163.0), HTML(value='')))"
      ]
     },
     "metadata": {},
     "output_type": "display_data"
    },
    {
     "name": "stdout",
     "output_type": "stream",
     "text": [
      "\n"
     ]
    },
    {
     "data": {
      "application/vnd.jupyter.widget-view+json": {
       "model_id": "781c00f8f9a5421e9ed6d9aa75c25dcd",
       "version_major": 2,
       "version_minor": 0
      },
      "text/plain": [
       "HBox(children=(HTML(value=''), FloatProgress(value=0.0, max=41.0), HTML(value='')))"
      ]
     },
     "metadata": {},
     "output_type": "display_data"
    },
    {
     "name": "stdout",
     "output_type": "stream",
     "text": [
      "\n",
      "\tTraining Loss: 0.653031 \tValidation Loss: 0.654022\n",
      "running epoch: 73\n"
     ]
    },
    {
     "data": {
      "application/vnd.jupyter.widget-view+json": {
       "model_id": "afa856da032f4ed292666a13c8282d18",
       "version_major": 2,
       "version_minor": 0
      },
      "text/plain": [
       "HBox(children=(HTML(value=''), FloatProgress(value=0.0, max=163.0), HTML(value='')))"
      ]
     },
     "metadata": {},
     "output_type": "display_data"
    },
    {
     "name": "stdout",
     "output_type": "stream",
     "text": [
      "\n"
     ]
    },
    {
     "data": {
      "application/vnd.jupyter.widget-view+json": {
       "model_id": "98408f224c2e4aa3b170dbf83d12533d",
       "version_major": 2,
       "version_minor": 0
      },
      "text/plain": [
       "HBox(children=(HTML(value=''), FloatProgress(value=0.0, max=41.0), HTML(value='')))"
      ]
     },
     "metadata": {},
     "output_type": "display_data"
    },
    {
     "name": "stdout",
     "output_type": "stream",
     "text": [
      "\n",
      "\tTraining Loss: 0.653031 \tValidation Loss: 0.654022\n",
      "running epoch: 74\n"
     ]
    },
    {
     "data": {
      "application/vnd.jupyter.widget-view+json": {
       "model_id": "a16bc72f32864342bd7a0a03712238e5",
       "version_major": 2,
       "version_minor": 0
      },
      "text/plain": [
       "HBox(children=(HTML(value=''), FloatProgress(value=0.0, max=163.0), HTML(value='')))"
      ]
     },
     "metadata": {},
     "output_type": "display_data"
    },
    {
     "name": "stdout",
     "output_type": "stream",
     "text": [
      "\n"
     ]
    },
    {
     "data": {
      "application/vnd.jupyter.widget-view+json": {
       "model_id": "a4fb44e323814d7ab7b2daca1fd78284",
       "version_major": 2,
       "version_minor": 0
      },
      "text/plain": [
       "HBox(children=(HTML(value=''), FloatProgress(value=0.0, max=41.0), HTML(value='')))"
      ]
     },
     "metadata": {},
     "output_type": "display_data"
    },
    {
     "name": "stdout",
     "output_type": "stream",
     "text": [
      "\n",
      "\tTraining Loss: 0.653031 \tValidation Loss: 0.654022\n",
      "running epoch: 75\n"
     ]
    },
    {
     "data": {
      "application/vnd.jupyter.widget-view+json": {
       "model_id": "07a9c1fd63ec4ad8b627aa040c18d22b",
       "version_major": 2,
       "version_minor": 0
      },
      "text/plain": [
       "HBox(children=(HTML(value=''), FloatProgress(value=0.0, max=163.0), HTML(value='')))"
      ]
     },
     "metadata": {},
     "output_type": "display_data"
    },
    {
     "name": "stdout",
     "output_type": "stream",
     "text": [
      "\n"
     ]
    },
    {
     "data": {
      "application/vnd.jupyter.widget-view+json": {
       "model_id": "f8e99905a271467cb080c35a81f60b57",
       "version_major": 2,
       "version_minor": 0
      },
      "text/plain": [
       "HBox(children=(HTML(value=''), FloatProgress(value=0.0, max=41.0), HTML(value='')))"
      ]
     },
     "metadata": {},
     "output_type": "display_data"
    },
    {
     "name": "stdout",
     "output_type": "stream",
     "text": [
      "\n",
      "\tTraining Loss: 0.653031 \tValidation Loss: 0.654022\n",
      "running epoch: 76\n"
     ]
    },
    {
     "data": {
      "application/vnd.jupyter.widget-view+json": {
       "model_id": "7496cd50b94443f1a1fddf8695bfad97",
       "version_major": 2,
       "version_minor": 0
      },
      "text/plain": [
       "HBox(children=(HTML(value=''), FloatProgress(value=0.0, max=163.0), HTML(value='')))"
      ]
     },
     "metadata": {},
     "output_type": "display_data"
    },
    {
     "name": "stdout",
     "output_type": "stream",
     "text": [
      "\n"
     ]
    },
    {
     "data": {
      "application/vnd.jupyter.widget-view+json": {
       "model_id": "5e509131208a4539a3b78059aa3918f4",
       "version_major": 2,
       "version_minor": 0
      },
      "text/plain": [
       "HBox(children=(HTML(value=''), FloatProgress(value=0.0, max=41.0), HTML(value='')))"
      ]
     },
     "metadata": {},
     "output_type": "display_data"
    },
    {
     "name": "stdout",
     "output_type": "stream",
     "text": [
      "\n",
      "\tTraining Loss: 0.653031 \tValidation Loss: 0.654022\n",
      "running epoch: 77\n"
     ]
    },
    {
     "data": {
      "application/vnd.jupyter.widget-view+json": {
       "model_id": "8e52894600824922a04d66db9986e90f",
       "version_major": 2,
       "version_minor": 0
      },
      "text/plain": [
       "HBox(children=(HTML(value=''), FloatProgress(value=0.0, max=163.0), HTML(value='')))"
      ]
     },
     "metadata": {},
     "output_type": "display_data"
    },
    {
     "name": "stdout",
     "output_type": "stream",
     "text": [
      "\n"
     ]
    },
    {
     "data": {
      "application/vnd.jupyter.widget-view+json": {
       "model_id": "5f1a177fe3184900bb305a94e6f11e50",
       "version_major": 2,
       "version_minor": 0
      },
      "text/plain": [
       "HBox(children=(HTML(value=''), FloatProgress(value=0.0, max=41.0), HTML(value='')))"
      ]
     },
     "metadata": {},
     "output_type": "display_data"
    },
    {
     "name": "stdout",
     "output_type": "stream",
     "text": [
      "\n",
      "\tTraining Loss: 0.653031 \tValidation Loss: 0.654022\n",
      "running epoch: 78\n"
     ]
    },
    {
     "data": {
      "application/vnd.jupyter.widget-view+json": {
       "model_id": "3f3c30df900a4276b1580ce52c28481d",
       "version_major": 2,
       "version_minor": 0
      },
      "text/plain": [
       "HBox(children=(HTML(value=''), FloatProgress(value=0.0, max=163.0), HTML(value='')))"
      ]
     },
     "metadata": {},
     "output_type": "display_data"
    },
    {
     "name": "stdout",
     "output_type": "stream",
     "text": [
      "\n"
     ]
    },
    {
     "data": {
      "application/vnd.jupyter.widget-view+json": {
       "model_id": "3001db5fcc264f658f9f60fa098e421b",
       "version_major": 2,
       "version_minor": 0
      },
      "text/plain": [
       "HBox(children=(HTML(value=''), FloatProgress(value=0.0, max=41.0), HTML(value='')))"
      ]
     },
     "metadata": {},
     "output_type": "display_data"
    },
    {
     "name": "stdout",
     "output_type": "stream",
     "text": [
      "\n",
      "\tTraining Loss: 0.653031 \tValidation Loss: 0.654022\n",
      "running epoch: 79\n"
     ]
    },
    {
     "data": {
      "application/vnd.jupyter.widget-view+json": {
       "model_id": "1058385741c94b24a63a942d6c238097",
       "version_major": 2,
       "version_minor": 0
      },
      "text/plain": [
       "HBox(children=(HTML(value=''), FloatProgress(value=0.0, max=163.0), HTML(value='')))"
      ]
     },
     "metadata": {},
     "output_type": "display_data"
    },
    {
     "name": "stdout",
     "output_type": "stream",
     "text": [
      "\n"
     ]
    },
    {
     "data": {
      "application/vnd.jupyter.widget-view+json": {
       "model_id": "dc08b61126604992bf3270ab2e7e4e61",
       "version_major": 2,
       "version_minor": 0
      },
      "text/plain": [
       "HBox(children=(HTML(value=''), FloatProgress(value=0.0, max=41.0), HTML(value='')))"
      ]
     },
     "metadata": {},
     "output_type": "display_data"
    },
    {
     "name": "stdout",
     "output_type": "stream",
     "text": [
      "\n",
      "\tTraining Loss: 0.653031 \tValidation Loss: 0.654022\n",
      "running epoch: 80\n"
     ]
    },
    {
     "data": {
      "application/vnd.jupyter.widget-view+json": {
       "model_id": "0b6af4f5a2214cff8fa72f6a9fc5f633",
       "version_major": 2,
       "version_minor": 0
      },
      "text/plain": [
       "HBox(children=(HTML(value=''), FloatProgress(value=0.0, max=163.0), HTML(value='')))"
      ]
     },
     "metadata": {},
     "output_type": "display_data"
    },
    {
     "name": "stdout",
     "output_type": "stream",
     "text": [
      "\n"
     ]
    },
    {
     "data": {
      "application/vnd.jupyter.widget-view+json": {
       "model_id": "bfd17496c20b4fddb086f525d593ed71",
       "version_major": 2,
       "version_minor": 0
      },
      "text/plain": [
       "HBox(children=(HTML(value=''), FloatProgress(value=0.0, max=41.0), HTML(value='')))"
      ]
     },
     "metadata": {},
     "output_type": "display_data"
    },
    {
     "name": "stdout",
     "output_type": "stream",
     "text": [
      "\n",
      "\tTraining Loss: 0.653031 \tValidation Loss: 0.654022\n",
      "running epoch: 81\n"
     ]
    },
    {
     "data": {
      "application/vnd.jupyter.widget-view+json": {
       "model_id": "ad3c2cfbf60140c0899c8963d741794e",
       "version_major": 2,
       "version_minor": 0
      },
      "text/plain": [
       "HBox(children=(HTML(value=''), FloatProgress(value=0.0, max=163.0), HTML(value='')))"
      ]
     },
     "metadata": {},
     "output_type": "display_data"
    },
    {
     "name": "stdout",
     "output_type": "stream",
     "text": [
      "\n"
     ]
    },
    {
     "data": {
      "application/vnd.jupyter.widget-view+json": {
       "model_id": "a85c1b6a74f74922971c947ca4eb73c4",
       "version_major": 2,
       "version_minor": 0
      },
      "text/plain": [
       "HBox(children=(HTML(value=''), FloatProgress(value=0.0, max=41.0), HTML(value='')))"
      ]
     },
     "metadata": {},
     "output_type": "display_data"
    },
    {
     "name": "stdout",
     "output_type": "stream",
     "text": [
      "\n",
      "\tTraining Loss: 0.653031 \tValidation Loss: 0.654022\n",
      "running epoch: 82\n"
     ]
    },
    {
     "data": {
      "application/vnd.jupyter.widget-view+json": {
       "model_id": "db96d55d006641ab8b201def66ad97ce",
       "version_major": 2,
       "version_minor": 0
      },
      "text/plain": [
       "HBox(children=(HTML(value=''), FloatProgress(value=0.0, max=163.0), HTML(value='')))"
      ]
     },
     "metadata": {},
     "output_type": "display_data"
    },
    {
     "name": "stdout",
     "output_type": "stream",
     "text": [
      "\n"
     ]
    },
    {
     "data": {
      "application/vnd.jupyter.widget-view+json": {
       "model_id": "c9a1efbac5bd49bdb241da061f5f165d",
       "version_major": 2,
       "version_minor": 0
      },
      "text/plain": [
       "HBox(children=(HTML(value=''), FloatProgress(value=0.0, max=41.0), HTML(value='')))"
      ]
     },
     "metadata": {},
     "output_type": "display_data"
    },
    {
     "name": "stdout",
     "output_type": "stream",
     "text": [
      "\n",
      "\tTraining Loss: 0.653031 \tValidation Loss: 0.654022\n",
      "running epoch: 83\n"
     ]
    },
    {
     "data": {
      "application/vnd.jupyter.widget-view+json": {
       "model_id": "2fff035cf99a482caae2ea8cc8df9c8e",
       "version_major": 2,
       "version_minor": 0
      },
      "text/plain": [
       "HBox(children=(HTML(value=''), FloatProgress(value=0.0, max=163.0), HTML(value='')))"
      ]
     },
     "metadata": {},
     "output_type": "display_data"
    },
    {
     "name": "stdout",
     "output_type": "stream",
     "text": [
      "\n"
     ]
    },
    {
     "data": {
      "application/vnd.jupyter.widget-view+json": {
       "model_id": "1f0abe573977459b838ce67ea16f9b16",
       "version_major": 2,
       "version_minor": 0
      },
      "text/plain": [
       "HBox(children=(HTML(value=''), FloatProgress(value=0.0, max=41.0), HTML(value='')))"
      ]
     },
     "metadata": {},
     "output_type": "display_data"
    },
    {
     "name": "stdout",
     "output_type": "stream",
     "text": [
      "\n",
      "\tTraining Loss: 0.653031 \tValidation Loss: 0.654022\n",
      "running epoch: 84\n"
     ]
    },
    {
     "data": {
      "application/vnd.jupyter.widget-view+json": {
       "model_id": "8b496425f1fe454fa01a6f81f39bdc9f",
       "version_major": 2,
       "version_minor": 0
      },
      "text/plain": [
       "HBox(children=(HTML(value=''), FloatProgress(value=0.0, max=163.0), HTML(value='')))"
      ]
     },
     "metadata": {},
     "output_type": "display_data"
    },
    {
     "name": "stdout",
     "output_type": "stream",
     "text": [
      "\n"
     ]
    },
    {
     "data": {
      "application/vnd.jupyter.widget-view+json": {
       "model_id": "ed7be303ca8e4bde9b277b6ccdafc7df",
       "version_major": 2,
       "version_minor": 0
      },
      "text/plain": [
       "HBox(children=(HTML(value=''), FloatProgress(value=0.0, max=41.0), HTML(value='')))"
      ]
     },
     "metadata": {},
     "output_type": "display_data"
    },
    {
     "name": "stdout",
     "output_type": "stream",
     "text": [
      "\n",
      "\tTraining Loss: 0.653031 \tValidation Loss: 0.654022\n",
      "running epoch: 85\n"
     ]
    },
    {
     "data": {
      "application/vnd.jupyter.widget-view+json": {
       "model_id": "e6a6ed069750450ba54f04cb879c1ed7",
       "version_major": 2,
       "version_minor": 0
      },
      "text/plain": [
       "HBox(children=(HTML(value=''), FloatProgress(value=0.0, max=163.0), HTML(value='')))"
      ]
     },
     "metadata": {},
     "output_type": "display_data"
    },
    {
     "name": "stdout",
     "output_type": "stream",
     "text": [
      "\n"
     ]
    },
    {
     "data": {
      "application/vnd.jupyter.widget-view+json": {
       "model_id": "6845799f878f42aaab79f2e494c3cc0a",
       "version_major": 2,
       "version_minor": 0
      },
      "text/plain": [
       "HBox(children=(HTML(value=''), FloatProgress(value=0.0, max=41.0), HTML(value='')))"
      ]
     },
     "metadata": {},
     "output_type": "display_data"
    },
    {
     "name": "stdout",
     "output_type": "stream",
     "text": [
      "\n",
      "\tTraining Loss: 0.653031 \tValidation Loss: 0.654022\n",
      "running epoch: 86\n"
     ]
    },
    {
     "data": {
      "application/vnd.jupyter.widget-view+json": {
       "model_id": "01d63284d0b649bcbeca23b67cf49376",
       "version_major": 2,
       "version_minor": 0
      },
      "text/plain": [
       "HBox(children=(HTML(value=''), FloatProgress(value=0.0, max=163.0), HTML(value='')))"
      ]
     },
     "metadata": {},
     "output_type": "display_data"
    },
    {
     "name": "stdout",
     "output_type": "stream",
     "text": [
      "\n"
     ]
    },
    {
     "data": {
      "application/vnd.jupyter.widget-view+json": {
       "model_id": "a7cc623ffe854879933373e1f58bdc8a",
       "version_major": 2,
       "version_minor": 0
      },
      "text/plain": [
       "HBox(children=(HTML(value=''), FloatProgress(value=0.0, max=41.0), HTML(value='')))"
      ]
     },
     "metadata": {},
     "output_type": "display_data"
    },
    {
     "name": "stdout",
     "output_type": "stream",
     "text": [
      "\n",
      "\tTraining Loss: 0.653031 \tValidation Loss: 0.654022\n",
      "running epoch: 87\n"
     ]
    },
    {
     "data": {
      "application/vnd.jupyter.widget-view+json": {
       "model_id": "8107c10ec22e46729466ac13420cde3b",
       "version_major": 2,
       "version_minor": 0
      },
      "text/plain": [
       "HBox(children=(HTML(value=''), FloatProgress(value=0.0, max=163.0), HTML(value='')))"
      ]
     },
     "metadata": {},
     "output_type": "display_data"
    },
    {
     "name": "stdout",
     "output_type": "stream",
     "text": [
      "\n"
     ]
    },
    {
     "data": {
      "application/vnd.jupyter.widget-view+json": {
       "model_id": "e6c3711cd59542d1807dbcd36c3fbfa4",
       "version_major": 2,
       "version_minor": 0
      },
      "text/plain": [
       "HBox(children=(HTML(value=''), FloatProgress(value=0.0, max=41.0), HTML(value='')))"
      ]
     },
     "metadata": {},
     "output_type": "display_data"
    },
    {
     "name": "stdout",
     "output_type": "stream",
     "text": [
      "\n",
      "\tTraining Loss: 0.653031 \tValidation Loss: 0.654022\n",
      "running epoch: 88\n"
     ]
    },
    {
     "data": {
      "application/vnd.jupyter.widget-view+json": {
       "model_id": "2127e9ee9340467586177859e3c0f04b",
       "version_major": 2,
       "version_minor": 0
      },
      "text/plain": [
       "HBox(children=(HTML(value=''), FloatProgress(value=0.0, max=163.0), HTML(value='')))"
      ]
     },
     "metadata": {},
     "output_type": "display_data"
    },
    {
     "name": "stdout",
     "output_type": "stream",
     "text": [
      "\n"
     ]
    },
    {
     "data": {
      "application/vnd.jupyter.widget-view+json": {
       "model_id": "4303ce25fe144fda82126844841918ae",
       "version_major": 2,
       "version_minor": 0
      },
      "text/plain": [
       "HBox(children=(HTML(value=''), FloatProgress(value=0.0, max=41.0), HTML(value='')))"
      ]
     },
     "metadata": {},
     "output_type": "display_data"
    },
    {
     "name": "stdout",
     "output_type": "stream",
     "text": [
      "\n",
      "\tTraining Loss: 0.653031 \tValidation Loss: 0.654022\n",
      "running epoch: 89\n"
     ]
    },
    {
     "data": {
      "application/vnd.jupyter.widget-view+json": {
       "model_id": "0cf18a19383c4f42874ce174ae7f99e1",
       "version_major": 2,
       "version_minor": 0
      },
      "text/plain": [
       "HBox(children=(HTML(value=''), FloatProgress(value=0.0, max=163.0), HTML(value='')))"
      ]
     },
     "metadata": {},
     "output_type": "display_data"
    },
    {
     "name": "stdout",
     "output_type": "stream",
     "text": [
      "\n"
     ]
    },
    {
     "data": {
      "application/vnd.jupyter.widget-view+json": {
       "model_id": "4aa01f8264e54322b451ef9d29d1658d",
       "version_major": 2,
       "version_minor": 0
      },
      "text/plain": [
       "HBox(children=(HTML(value=''), FloatProgress(value=0.0, max=41.0), HTML(value='')))"
      ]
     },
     "metadata": {},
     "output_type": "display_data"
    },
    {
     "name": "stdout",
     "output_type": "stream",
     "text": [
      "\n",
      "\tTraining Loss: 0.653031 \tValidation Loss: 0.654022\n",
      "running epoch: 90\n"
     ]
    },
    {
     "data": {
      "application/vnd.jupyter.widget-view+json": {
       "model_id": "e598e25699584e87b2f1d7eaf9b60745",
       "version_major": 2,
       "version_minor": 0
      },
      "text/plain": [
       "HBox(children=(HTML(value=''), FloatProgress(value=0.0, max=163.0), HTML(value='')))"
      ]
     },
     "metadata": {},
     "output_type": "display_data"
    },
    {
     "name": "stdout",
     "output_type": "stream",
     "text": [
      "\n"
     ]
    },
    {
     "data": {
      "application/vnd.jupyter.widget-view+json": {
       "model_id": "4dfa0d651dba43b8b3bfc7bb6da01040",
       "version_major": 2,
       "version_minor": 0
      },
      "text/plain": [
       "HBox(children=(HTML(value=''), FloatProgress(value=0.0, max=41.0), HTML(value='')))"
      ]
     },
     "metadata": {},
     "output_type": "display_data"
    },
    {
     "name": "stdout",
     "output_type": "stream",
     "text": [
      "\n",
      "\tTraining Loss: 0.653031 \tValidation Loss: 0.654022\n",
      "running epoch: 91\n"
     ]
    },
    {
     "data": {
      "application/vnd.jupyter.widget-view+json": {
       "model_id": "64aa49c70c5641aab41c22fafb0bf439",
       "version_major": 2,
       "version_minor": 0
      },
      "text/plain": [
       "HBox(children=(HTML(value=''), FloatProgress(value=0.0, max=163.0), HTML(value='')))"
      ]
     },
     "metadata": {},
     "output_type": "display_data"
    },
    {
     "name": "stdout",
     "output_type": "stream",
     "text": [
      "\n"
     ]
    },
    {
     "data": {
      "application/vnd.jupyter.widget-view+json": {
       "model_id": "15b569ed824b4754b4bfb29d032e6a25",
       "version_major": 2,
       "version_minor": 0
      },
      "text/plain": [
       "HBox(children=(HTML(value=''), FloatProgress(value=0.0, max=41.0), HTML(value='')))"
      ]
     },
     "metadata": {},
     "output_type": "display_data"
    },
    {
     "name": "stdout",
     "output_type": "stream",
     "text": [
      "\n",
      "\tTraining Loss: 0.653031 \tValidation Loss: 0.654022\n",
      "running epoch: 92\n"
     ]
    },
    {
     "data": {
      "application/vnd.jupyter.widget-view+json": {
       "model_id": "da13d16554a249d5ae01222c9aa06f80",
       "version_major": 2,
       "version_minor": 0
      },
      "text/plain": [
       "HBox(children=(HTML(value=''), FloatProgress(value=0.0, max=163.0), HTML(value='')))"
      ]
     },
     "metadata": {},
     "output_type": "display_data"
    },
    {
     "name": "stdout",
     "output_type": "stream",
     "text": [
      "\n"
     ]
    },
    {
     "data": {
      "application/vnd.jupyter.widget-view+json": {
       "model_id": "ad125129c6284663abc931ab8143181e",
       "version_major": 2,
       "version_minor": 0
      },
      "text/plain": [
       "HBox(children=(HTML(value=''), FloatProgress(value=0.0, max=41.0), HTML(value='')))"
      ]
     },
     "metadata": {},
     "output_type": "display_data"
    },
    {
     "name": "stdout",
     "output_type": "stream",
     "text": [
      "\n",
      "\tTraining Loss: 0.653031 \tValidation Loss: 0.654022\n",
      "running epoch: 93\n"
     ]
    },
    {
     "data": {
      "application/vnd.jupyter.widget-view+json": {
       "model_id": "35d90de4b54a45a88ec3bd74e435e49e",
       "version_major": 2,
       "version_minor": 0
      },
      "text/plain": [
       "HBox(children=(HTML(value=''), FloatProgress(value=0.0, max=163.0), HTML(value='')))"
      ]
     },
     "metadata": {},
     "output_type": "display_data"
    },
    {
     "name": "stdout",
     "output_type": "stream",
     "text": [
      "\n"
     ]
    },
    {
     "data": {
      "application/vnd.jupyter.widget-view+json": {
       "model_id": "a424ea017e6941b49d7115949a430e3e",
       "version_major": 2,
       "version_minor": 0
      },
      "text/plain": [
       "HBox(children=(HTML(value=''), FloatProgress(value=0.0, max=41.0), HTML(value='')))"
      ]
     },
     "metadata": {},
     "output_type": "display_data"
    },
    {
     "name": "stdout",
     "output_type": "stream",
     "text": [
      "\n",
      "\tTraining Loss: 0.653031 \tValidation Loss: 0.654022\n",
      "running epoch: 94\n"
     ]
    },
    {
     "data": {
      "application/vnd.jupyter.widget-view+json": {
       "model_id": "b6bde3e32e904da4b4365f259e6df03e",
       "version_major": 2,
       "version_minor": 0
      },
      "text/plain": [
       "HBox(children=(HTML(value=''), FloatProgress(value=0.0, max=163.0), HTML(value='')))"
      ]
     },
     "metadata": {},
     "output_type": "display_data"
    },
    {
     "name": "stdout",
     "output_type": "stream",
     "text": [
      "\n"
     ]
    },
    {
     "data": {
      "application/vnd.jupyter.widget-view+json": {
       "model_id": "a740716437604a8c87dcf2020f66869a",
       "version_major": 2,
       "version_minor": 0
      },
      "text/plain": [
       "HBox(children=(HTML(value=''), FloatProgress(value=0.0, max=41.0), HTML(value='')))"
      ]
     },
     "metadata": {},
     "output_type": "display_data"
    },
    {
     "name": "stdout",
     "output_type": "stream",
     "text": [
      "\n",
      "\tTraining Loss: 0.653031 \tValidation Loss: 0.654022\n",
      "running epoch: 95\n"
     ]
    },
    {
     "data": {
      "application/vnd.jupyter.widget-view+json": {
       "model_id": "ff9fb4dad77a46ae82056fa2bdbec255",
       "version_major": 2,
       "version_minor": 0
      },
      "text/plain": [
       "HBox(children=(HTML(value=''), FloatProgress(value=0.0, max=163.0), HTML(value='')))"
      ]
     },
     "metadata": {},
     "output_type": "display_data"
    },
    {
     "name": "stdout",
     "output_type": "stream",
     "text": [
      "\n"
     ]
    },
    {
     "data": {
      "application/vnd.jupyter.widget-view+json": {
       "model_id": "33aab8ed9ec0429e89c26c24962fcada",
       "version_major": 2,
       "version_minor": 0
      },
      "text/plain": [
       "HBox(children=(HTML(value=''), FloatProgress(value=0.0, max=41.0), HTML(value='')))"
      ]
     },
     "metadata": {},
     "output_type": "display_data"
    },
    {
     "name": "stdout",
     "output_type": "stream",
     "text": [
      "\n",
      "\tTraining Loss: 0.653031 \tValidation Loss: 0.654022\n",
      "running epoch: 96\n"
     ]
    },
    {
     "data": {
      "application/vnd.jupyter.widget-view+json": {
       "model_id": "6e644330b56c4c669bbd8134f7d2c331",
       "version_major": 2,
       "version_minor": 0
      },
      "text/plain": [
       "HBox(children=(HTML(value=''), FloatProgress(value=0.0, max=163.0), HTML(value='')))"
      ]
     },
     "metadata": {},
     "output_type": "display_data"
    },
    {
     "name": "stdout",
     "output_type": "stream",
     "text": [
      "\n"
     ]
    },
    {
     "data": {
      "application/vnd.jupyter.widget-view+json": {
       "model_id": "c5eb3ab0d6db4353886fc4301d5306b5",
       "version_major": 2,
       "version_minor": 0
      },
      "text/plain": [
       "HBox(children=(HTML(value=''), FloatProgress(value=0.0, max=41.0), HTML(value='')))"
      ]
     },
     "metadata": {},
     "output_type": "display_data"
    },
    {
     "name": "stdout",
     "output_type": "stream",
     "text": [
      "\n",
      "\tTraining Loss: 0.653031 \tValidation Loss: 0.654022\n",
      "running epoch: 97\n"
     ]
    },
    {
     "data": {
      "application/vnd.jupyter.widget-view+json": {
       "model_id": "b8454477e65a416ca774aee88d6d130f",
       "version_major": 2,
       "version_minor": 0
      },
      "text/plain": [
       "HBox(children=(HTML(value=''), FloatProgress(value=0.0, max=163.0), HTML(value='')))"
      ]
     },
     "metadata": {},
     "output_type": "display_data"
    },
    {
     "name": "stdout",
     "output_type": "stream",
     "text": [
      "\n"
     ]
    },
    {
     "data": {
      "application/vnd.jupyter.widget-view+json": {
       "model_id": "d53b9cb8b1e34dd189f17774004e4076",
       "version_major": 2,
       "version_minor": 0
      },
      "text/plain": [
       "HBox(children=(HTML(value=''), FloatProgress(value=0.0, max=41.0), HTML(value='')))"
      ]
     },
     "metadata": {},
     "output_type": "display_data"
    },
    {
     "name": "stdout",
     "output_type": "stream",
     "text": [
      "\n",
      "\tTraining Loss: 0.653031 \tValidation Loss: 0.654022\n",
      "running epoch: 98\n"
     ]
    },
    {
     "data": {
      "application/vnd.jupyter.widget-view+json": {
       "model_id": "0792aea33ecf46cf8f9e679b6d816089",
       "version_major": 2,
       "version_minor": 0
      },
      "text/plain": [
       "HBox(children=(HTML(value=''), FloatProgress(value=0.0, max=163.0), HTML(value='')))"
      ]
     },
     "metadata": {},
     "output_type": "display_data"
    },
    {
     "name": "stdout",
     "output_type": "stream",
     "text": [
      "\n"
     ]
    },
    {
     "data": {
      "application/vnd.jupyter.widget-view+json": {
       "model_id": "435d4983b30144459149f2aaaed03482",
       "version_major": 2,
       "version_minor": 0
      },
      "text/plain": [
       "HBox(children=(HTML(value=''), FloatProgress(value=0.0, max=41.0), HTML(value='')))"
      ]
     },
     "metadata": {},
     "output_type": "display_data"
    },
    {
     "name": "stdout",
     "output_type": "stream",
     "text": [
      "\n",
      "\tTraining Loss: 0.653031 \tValidation Loss: 0.654022\n",
      "running epoch: 99\n"
     ]
    },
    {
     "data": {
      "application/vnd.jupyter.widget-view+json": {
       "model_id": "e5b6d25754e1401ab64908412371d598",
       "version_major": 2,
       "version_minor": 0
      },
      "text/plain": [
       "HBox(children=(HTML(value=''), FloatProgress(value=0.0, max=163.0), HTML(value='')))"
      ]
     },
     "metadata": {},
     "output_type": "display_data"
    },
    {
     "name": "stdout",
     "output_type": "stream",
     "text": [
      "\n"
     ]
    },
    {
     "data": {
      "application/vnd.jupyter.widget-view+json": {
       "model_id": "b61cc68bdace453ea45cf29d8bbc9118",
       "version_major": 2,
       "version_minor": 0
      },
      "text/plain": [
       "HBox(children=(HTML(value=''), FloatProgress(value=0.0, max=41.0), HTML(value='')))"
      ]
     },
     "metadata": {},
     "output_type": "display_data"
    },
    {
     "name": "stdout",
     "output_type": "stream",
     "text": [
      "\n",
      "\tTraining Loss: 0.653031 \tValidation Loss: 0.654022\n",
      "running epoch: 100\n"
     ]
    },
    {
     "data": {
      "application/vnd.jupyter.widget-view+json": {
       "model_id": "89d8a5d439b34d11b911f51082dec42f",
       "version_major": 2,
       "version_minor": 0
      },
      "text/plain": [
       "HBox(children=(HTML(value=''), FloatProgress(value=0.0, max=163.0), HTML(value='')))"
      ]
     },
     "metadata": {},
     "output_type": "display_data"
    },
    {
     "name": "stdout",
     "output_type": "stream",
     "text": [
      "\n"
     ]
    },
    {
     "data": {
      "application/vnd.jupyter.widget-view+json": {
       "model_id": "0791a7f87d7f447a8cd4496f8a98501b",
       "version_major": 2,
       "version_minor": 0
      },
      "text/plain": [
       "HBox(children=(HTML(value=''), FloatProgress(value=0.0, max=41.0), HTML(value='')))"
      ]
     },
     "metadata": {},
     "output_type": "display_data"
    },
    {
     "name": "stdout",
     "output_type": "stream",
     "text": [
      "\n",
      "\tTraining Loss: 0.653031 \tValidation Loss: 0.654022\n",
      "running epoch: 101\n"
     ]
    },
    {
     "data": {
      "application/vnd.jupyter.widget-view+json": {
       "model_id": "736311c7d998438fa4f2c52fb551994a",
       "version_major": 2,
       "version_minor": 0
      },
      "text/plain": [
       "HBox(children=(HTML(value=''), FloatProgress(value=0.0, max=163.0), HTML(value='')))"
      ]
     },
     "metadata": {},
     "output_type": "display_data"
    },
    {
     "name": "stdout",
     "output_type": "stream",
     "text": [
      "\n"
     ]
    },
    {
     "data": {
      "application/vnd.jupyter.widget-view+json": {
       "model_id": "91b73a14b736456595fd1b7f97d52d23",
       "version_major": 2,
       "version_minor": 0
      },
      "text/plain": [
       "HBox(children=(HTML(value=''), FloatProgress(value=0.0, max=41.0), HTML(value='')))"
      ]
     },
     "metadata": {},
     "output_type": "display_data"
    },
    {
     "name": "stdout",
     "output_type": "stream",
     "text": [
      "\n",
      "\tTraining Loss: 0.653031 \tValidation Loss: 0.654022\n",
      "running epoch: 102\n"
     ]
    },
    {
     "data": {
      "application/vnd.jupyter.widget-view+json": {
       "model_id": "5500e090d2c54321be61ba3405ffcf28",
       "version_major": 2,
       "version_minor": 0
      },
      "text/plain": [
       "HBox(children=(HTML(value=''), FloatProgress(value=0.0, max=163.0), HTML(value='')))"
      ]
     },
     "metadata": {},
     "output_type": "display_data"
    },
    {
     "name": "stdout",
     "output_type": "stream",
     "text": [
      "\n"
     ]
    },
    {
     "data": {
      "application/vnd.jupyter.widget-view+json": {
       "model_id": "34ffd5b9bfc04d139eff6b9abf33d296",
       "version_major": 2,
       "version_minor": 0
      },
      "text/plain": [
       "HBox(children=(HTML(value=''), FloatProgress(value=0.0, max=41.0), HTML(value='')))"
      ]
     },
     "metadata": {},
     "output_type": "display_data"
    },
    {
     "name": "stdout",
     "output_type": "stream",
     "text": [
      "\n",
      "\tTraining Loss: 0.653031 \tValidation Loss: 0.654022\n",
      "running epoch: 103\n"
     ]
    },
    {
     "data": {
      "application/vnd.jupyter.widget-view+json": {
       "model_id": "0decd12869104958998076a2b33cbca7",
       "version_major": 2,
       "version_minor": 0
      },
      "text/plain": [
       "HBox(children=(HTML(value=''), FloatProgress(value=0.0, max=163.0), HTML(value='')))"
      ]
     },
     "metadata": {},
     "output_type": "display_data"
    },
    {
     "name": "stdout",
     "output_type": "stream",
     "text": [
      "\n"
     ]
    },
    {
     "data": {
      "application/vnd.jupyter.widget-view+json": {
       "model_id": "ac3bb18d61b446a88def7bd74b283efa",
       "version_major": 2,
       "version_minor": 0
      },
      "text/plain": [
       "HBox(children=(HTML(value=''), FloatProgress(value=0.0, max=41.0), HTML(value='')))"
      ]
     },
     "metadata": {},
     "output_type": "display_data"
    },
    {
     "name": "stdout",
     "output_type": "stream",
     "text": [
      "\n",
      "\tTraining Loss: 0.653031 \tValidation Loss: 0.654022\n",
      "running epoch: 104\n"
     ]
    },
    {
     "data": {
      "application/vnd.jupyter.widget-view+json": {
       "model_id": "125adf88a2da4654bce2f99c6c06461c",
       "version_major": 2,
       "version_minor": 0
      },
      "text/plain": [
       "HBox(children=(HTML(value=''), FloatProgress(value=0.0, max=163.0), HTML(value='')))"
      ]
     },
     "metadata": {},
     "output_type": "display_data"
    },
    {
     "name": "stdout",
     "output_type": "stream",
     "text": [
      "\n"
     ]
    },
    {
     "data": {
      "application/vnd.jupyter.widget-view+json": {
       "model_id": "b4415276d2c04370a21131bc03ca18c8",
       "version_major": 2,
       "version_minor": 0
      },
      "text/plain": [
       "HBox(children=(HTML(value=''), FloatProgress(value=0.0, max=41.0), HTML(value='')))"
      ]
     },
     "metadata": {},
     "output_type": "display_data"
    },
    {
     "name": "stdout",
     "output_type": "stream",
     "text": [
      "\n",
      "\tTraining Loss: 0.653031 \tValidation Loss: 0.654022\n",
      "running epoch: 105\n"
     ]
    },
    {
     "data": {
      "application/vnd.jupyter.widget-view+json": {
       "model_id": "c4e73bf16c344e9e8be927074716fb18",
       "version_major": 2,
       "version_minor": 0
      },
      "text/plain": [
       "HBox(children=(HTML(value=''), FloatProgress(value=0.0, max=163.0), HTML(value='')))"
      ]
     },
     "metadata": {},
     "output_type": "display_data"
    },
    {
     "name": "stdout",
     "output_type": "stream",
     "text": [
      "\n"
     ]
    },
    {
     "data": {
      "application/vnd.jupyter.widget-view+json": {
       "model_id": "122050f8d30446d4b2b090a3c4a2dcfe",
       "version_major": 2,
       "version_minor": 0
      },
      "text/plain": [
       "HBox(children=(HTML(value=''), FloatProgress(value=0.0, max=41.0), HTML(value='')))"
      ]
     },
     "metadata": {},
     "output_type": "display_data"
    },
    {
     "name": "stdout",
     "output_type": "stream",
     "text": [
      "\n",
      "\tTraining Loss: 0.653031 \tValidation Loss: 0.654022\n",
      "running epoch: 106\n"
     ]
    },
    {
     "data": {
      "application/vnd.jupyter.widget-view+json": {
       "model_id": "82d4953b6ca043f19e92610aefe110cc",
       "version_major": 2,
       "version_minor": 0
      },
      "text/plain": [
       "HBox(children=(HTML(value=''), FloatProgress(value=0.0, max=163.0), HTML(value='')))"
      ]
     },
     "metadata": {},
     "output_type": "display_data"
    },
    {
     "name": "stdout",
     "output_type": "stream",
     "text": [
      "\n"
     ]
    },
    {
     "data": {
      "application/vnd.jupyter.widget-view+json": {
       "model_id": "1974f10284464eb69f7dfe25dfbbee02",
       "version_major": 2,
       "version_minor": 0
      },
      "text/plain": [
       "HBox(children=(HTML(value=''), FloatProgress(value=0.0, max=41.0), HTML(value='')))"
      ]
     },
     "metadata": {},
     "output_type": "display_data"
    },
    {
     "name": "stdout",
     "output_type": "stream",
     "text": [
      "\n",
      "\tTraining Loss: 0.653031 \tValidation Loss: 0.654022\n",
      "running epoch: 107\n"
     ]
    },
    {
     "data": {
      "application/vnd.jupyter.widget-view+json": {
       "model_id": "90143b3c703f4ace9e5c90f243d3fa76",
       "version_major": 2,
       "version_minor": 0
      },
      "text/plain": [
       "HBox(children=(HTML(value=''), FloatProgress(value=0.0, max=163.0), HTML(value='')))"
      ]
     },
     "metadata": {},
     "output_type": "display_data"
    },
    {
     "name": "stdout",
     "output_type": "stream",
     "text": [
      "\n"
     ]
    },
    {
     "data": {
      "application/vnd.jupyter.widget-view+json": {
       "model_id": "b083d86a5a144252bc631327f46a0c64",
       "version_major": 2,
       "version_minor": 0
      },
      "text/plain": [
       "HBox(children=(HTML(value=''), FloatProgress(value=0.0, max=41.0), HTML(value='')))"
      ]
     },
     "metadata": {},
     "output_type": "display_data"
    },
    {
     "name": "stdout",
     "output_type": "stream",
     "text": [
      "\n",
      "\tTraining Loss: 0.653031 \tValidation Loss: 0.654022\n",
      "running epoch: 108\n"
     ]
    },
    {
     "data": {
      "application/vnd.jupyter.widget-view+json": {
       "model_id": "56c48bc34b3742bf920ddcdb739d6393",
       "version_major": 2,
       "version_minor": 0
      },
      "text/plain": [
       "HBox(children=(HTML(value=''), FloatProgress(value=0.0, max=163.0), HTML(value='')))"
      ]
     },
     "metadata": {},
     "output_type": "display_data"
    },
    {
     "name": "stdout",
     "output_type": "stream",
     "text": [
      "\n"
     ]
    },
    {
     "data": {
      "application/vnd.jupyter.widget-view+json": {
       "model_id": "802c96c9166e4e2a92f3c191a84b9727",
       "version_major": 2,
       "version_minor": 0
      },
      "text/plain": [
       "HBox(children=(HTML(value=''), FloatProgress(value=0.0, max=41.0), HTML(value='')))"
      ]
     },
     "metadata": {},
     "output_type": "display_data"
    },
    {
     "name": "stdout",
     "output_type": "stream",
     "text": [
      "\n",
      "\tTraining Loss: 0.653031 \tValidation Loss: 0.654022\n",
      "running epoch: 109\n"
     ]
    },
    {
     "data": {
      "application/vnd.jupyter.widget-view+json": {
       "model_id": "b0ec837863df454aab4789f0a97e6fcc",
       "version_major": 2,
       "version_minor": 0
      },
      "text/plain": [
       "HBox(children=(HTML(value=''), FloatProgress(value=0.0, max=163.0), HTML(value='')))"
      ]
     },
     "metadata": {},
     "output_type": "display_data"
    },
    {
     "name": "stdout",
     "output_type": "stream",
     "text": [
      "\n"
     ]
    },
    {
     "data": {
      "application/vnd.jupyter.widget-view+json": {
       "model_id": "62cbb62e1ff440208dc02e7730378a2f",
       "version_major": 2,
       "version_minor": 0
      },
      "text/plain": [
       "HBox(children=(HTML(value=''), FloatProgress(value=0.0, max=41.0), HTML(value='')))"
      ]
     },
     "metadata": {},
     "output_type": "display_data"
    },
    {
     "name": "stdout",
     "output_type": "stream",
     "text": [
      "\n",
      "\tTraining Loss: 0.653031 \tValidation Loss: 0.654022\n",
      "running epoch: 110\n"
     ]
    },
    {
     "data": {
      "application/vnd.jupyter.widget-view+json": {
       "model_id": "3ce46b4e75904105ac3d053822e48d3b",
       "version_major": 2,
       "version_minor": 0
      },
      "text/plain": [
       "HBox(children=(HTML(value=''), FloatProgress(value=0.0, max=163.0), HTML(value='')))"
      ]
     },
     "metadata": {},
     "output_type": "display_data"
    },
    {
     "name": "stdout",
     "output_type": "stream",
     "text": [
      "\n"
     ]
    },
    {
     "data": {
      "application/vnd.jupyter.widget-view+json": {
       "model_id": "4e0da4d45c034a37b1c3ac80efcb865b",
       "version_major": 2,
       "version_minor": 0
      },
      "text/plain": [
       "HBox(children=(HTML(value=''), FloatProgress(value=0.0, max=41.0), HTML(value='')))"
      ]
     },
     "metadata": {},
     "output_type": "display_data"
    },
    {
     "name": "stdout",
     "output_type": "stream",
     "text": [
      "\n",
      "\tTraining Loss: 0.653031 \tValidation Loss: 0.654022\n",
      "running epoch: 111\n"
     ]
    },
    {
     "data": {
      "application/vnd.jupyter.widget-view+json": {
       "model_id": "ea39b3793c83452ebf20d4f9d427d9d4",
       "version_major": 2,
       "version_minor": 0
      },
      "text/plain": [
       "HBox(children=(HTML(value=''), FloatProgress(value=0.0, max=163.0), HTML(value='')))"
      ]
     },
     "metadata": {},
     "output_type": "display_data"
    },
    {
     "name": "stdout",
     "output_type": "stream",
     "text": [
      "\n"
     ]
    },
    {
     "data": {
      "application/vnd.jupyter.widget-view+json": {
       "model_id": "5f8873c04b3c416fb1f20df86169fcb4",
       "version_major": 2,
       "version_minor": 0
      },
      "text/plain": [
       "HBox(children=(HTML(value=''), FloatProgress(value=0.0, max=41.0), HTML(value='')))"
      ]
     },
     "metadata": {},
     "output_type": "display_data"
    },
    {
     "name": "stdout",
     "output_type": "stream",
     "text": [
      "\n",
      "\tTraining Loss: 0.653031 \tValidation Loss: 0.654022\n",
      "running epoch: 112\n"
     ]
    },
    {
     "data": {
      "application/vnd.jupyter.widget-view+json": {
       "model_id": "21f8cc14bf3c4fdfadf6202f3dc7d7e4",
       "version_major": 2,
       "version_minor": 0
      },
      "text/plain": [
       "HBox(children=(HTML(value=''), FloatProgress(value=0.0, max=163.0), HTML(value='')))"
      ]
     },
     "metadata": {},
     "output_type": "display_data"
    },
    {
     "name": "stdout",
     "output_type": "stream",
     "text": [
      "\n"
     ]
    },
    {
     "data": {
      "application/vnd.jupyter.widget-view+json": {
       "model_id": "037d0c4030f84d86a06ec25b8b96a1b6",
       "version_major": 2,
       "version_minor": 0
      },
      "text/plain": [
       "HBox(children=(HTML(value=''), FloatProgress(value=0.0, max=41.0), HTML(value='')))"
      ]
     },
     "metadata": {},
     "output_type": "display_data"
    },
    {
     "name": "stdout",
     "output_type": "stream",
     "text": [
      "\n",
      "\tTraining Loss: 0.653031 \tValidation Loss: 0.654022\n",
      "running epoch: 113\n"
     ]
    },
    {
     "data": {
      "application/vnd.jupyter.widget-view+json": {
       "model_id": "a765214434a443a691a2687cb95b10ee",
       "version_major": 2,
       "version_minor": 0
      },
      "text/plain": [
       "HBox(children=(HTML(value=''), FloatProgress(value=0.0, max=163.0), HTML(value='')))"
      ]
     },
     "metadata": {},
     "output_type": "display_data"
    },
    {
     "name": "stdout",
     "output_type": "stream",
     "text": [
      "\n"
     ]
    },
    {
     "data": {
      "application/vnd.jupyter.widget-view+json": {
       "model_id": "7c502165617d44be90206814154b0df2",
       "version_major": 2,
       "version_minor": 0
      },
      "text/plain": [
       "HBox(children=(HTML(value=''), FloatProgress(value=0.0, max=41.0), HTML(value='')))"
      ]
     },
     "metadata": {},
     "output_type": "display_data"
    },
    {
     "name": "stdout",
     "output_type": "stream",
     "text": [
      "\n",
      "\tTraining Loss: 0.653031 \tValidation Loss: 0.654022\n",
      "running epoch: 114\n"
     ]
    },
    {
     "data": {
      "application/vnd.jupyter.widget-view+json": {
       "model_id": "3b99c47cc0ae4b1c829282585616a2ea",
       "version_major": 2,
       "version_minor": 0
      },
      "text/plain": [
       "HBox(children=(HTML(value=''), FloatProgress(value=0.0, max=163.0), HTML(value='')))"
      ]
     },
     "metadata": {},
     "output_type": "display_data"
    },
    {
     "name": "stdout",
     "output_type": "stream",
     "text": [
      "\n"
     ]
    },
    {
     "data": {
      "application/vnd.jupyter.widget-view+json": {
       "model_id": "7a3261a2d99541859e1e2eb7179e8a6e",
       "version_major": 2,
       "version_minor": 0
      },
      "text/plain": [
       "HBox(children=(HTML(value=''), FloatProgress(value=0.0, max=41.0), HTML(value='')))"
      ]
     },
     "metadata": {},
     "output_type": "display_data"
    },
    {
     "name": "stdout",
     "output_type": "stream",
     "text": [
      "\n",
      "\tTraining Loss: 0.653031 \tValidation Loss: 0.654022\n",
      "running epoch: 115\n"
     ]
    },
    {
     "data": {
      "application/vnd.jupyter.widget-view+json": {
       "model_id": "020bdf1c3f1a4243b9692c892ff1a3e4",
       "version_major": 2,
       "version_minor": 0
      },
      "text/plain": [
       "HBox(children=(HTML(value=''), FloatProgress(value=0.0, max=163.0), HTML(value='')))"
      ]
     },
     "metadata": {},
     "output_type": "display_data"
    },
    {
     "name": "stdout",
     "output_type": "stream",
     "text": [
      "\n"
     ]
    },
    {
     "data": {
      "application/vnd.jupyter.widget-view+json": {
       "model_id": "3894af329df141578b3826e819284f9a",
       "version_major": 2,
       "version_minor": 0
      },
      "text/plain": [
       "HBox(children=(HTML(value=''), FloatProgress(value=0.0, max=41.0), HTML(value='')))"
      ]
     },
     "metadata": {},
     "output_type": "display_data"
    },
    {
     "name": "stdout",
     "output_type": "stream",
     "text": [
      "\n",
      "\tTraining Loss: 0.653031 \tValidation Loss: 0.654022\n",
      "running epoch: 116\n"
     ]
    },
    {
     "data": {
      "application/vnd.jupyter.widget-view+json": {
       "model_id": "920c33cfe0d742f398288733f28606f0",
       "version_major": 2,
       "version_minor": 0
      },
      "text/plain": [
       "HBox(children=(HTML(value=''), FloatProgress(value=0.0, max=163.0), HTML(value='')))"
      ]
     },
     "metadata": {},
     "output_type": "display_data"
    },
    {
     "name": "stdout",
     "output_type": "stream",
     "text": [
      "\n"
     ]
    },
    {
     "data": {
      "application/vnd.jupyter.widget-view+json": {
       "model_id": "e7a2aa4294b042ad8514ff711b7707c8",
       "version_major": 2,
       "version_minor": 0
      },
      "text/plain": [
       "HBox(children=(HTML(value=''), FloatProgress(value=0.0, max=41.0), HTML(value='')))"
      ]
     },
     "metadata": {},
     "output_type": "display_data"
    },
    {
     "name": "stdout",
     "output_type": "stream",
     "text": [
      "\n",
      "\tTraining Loss: 0.653031 \tValidation Loss: 0.654022\n",
      "running epoch: 117\n"
     ]
    },
    {
     "data": {
      "application/vnd.jupyter.widget-view+json": {
       "model_id": "ad0d2a2d1721498c9b5ff2efae725222",
       "version_major": 2,
       "version_minor": 0
      },
      "text/plain": [
       "HBox(children=(HTML(value=''), FloatProgress(value=0.0, max=163.0), HTML(value='')))"
      ]
     },
     "metadata": {},
     "output_type": "display_data"
    },
    {
     "name": "stdout",
     "output_type": "stream",
     "text": [
      "\n"
     ]
    },
    {
     "data": {
      "application/vnd.jupyter.widget-view+json": {
       "model_id": "7c3d23a0210b4e85956b12cf806778dc",
       "version_major": 2,
       "version_minor": 0
      },
      "text/plain": [
       "HBox(children=(HTML(value=''), FloatProgress(value=0.0, max=41.0), HTML(value='')))"
      ]
     },
     "metadata": {},
     "output_type": "display_data"
    },
    {
     "name": "stdout",
     "output_type": "stream",
     "text": [
      "\n",
      "\tTraining Loss: 0.653031 \tValidation Loss: 0.654022\n",
      "running epoch: 118\n"
     ]
    },
    {
     "data": {
      "application/vnd.jupyter.widget-view+json": {
       "model_id": "6af38a5db8534b1b81e83b17d7f8a78c",
       "version_major": 2,
       "version_minor": 0
      },
      "text/plain": [
       "HBox(children=(HTML(value=''), FloatProgress(value=0.0, max=163.0), HTML(value='')))"
      ]
     },
     "metadata": {},
     "output_type": "display_data"
    },
    {
     "name": "stdout",
     "output_type": "stream",
     "text": [
      "\n"
     ]
    },
    {
     "data": {
      "application/vnd.jupyter.widget-view+json": {
       "model_id": "ba6b1e1e73b74ff6bec3a9cfc03341be",
       "version_major": 2,
       "version_minor": 0
      },
      "text/plain": [
       "HBox(children=(HTML(value=''), FloatProgress(value=0.0, max=41.0), HTML(value='')))"
      ]
     },
     "metadata": {},
     "output_type": "display_data"
    },
    {
     "name": "stdout",
     "output_type": "stream",
     "text": [
      "\n",
      "\tTraining Loss: 0.653031 \tValidation Loss: 0.654022\n",
      "running epoch: 119\n"
     ]
    },
    {
     "data": {
      "application/vnd.jupyter.widget-view+json": {
       "model_id": "e4628f23591a4e0688cbd49d29bb1bdc",
       "version_major": 2,
       "version_minor": 0
      },
      "text/plain": [
       "HBox(children=(HTML(value=''), FloatProgress(value=0.0, max=163.0), HTML(value='')))"
      ]
     },
     "metadata": {},
     "output_type": "display_data"
    },
    {
     "name": "stdout",
     "output_type": "stream",
     "text": [
      "\n"
     ]
    },
    {
     "data": {
      "application/vnd.jupyter.widget-view+json": {
       "model_id": "97d429cf4dc34442a280180094704c56",
       "version_major": 2,
       "version_minor": 0
      },
      "text/plain": [
       "HBox(children=(HTML(value=''), FloatProgress(value=0.0, max=41.0), HTML(value='')))"
      ]
     },
     "metadata": {},
     "output_type": "display_data"
    },
    {
     "name": "stdout",
     "output_type": "stream",
     "text": [
      "\n",
      "\tTraining Loss: 0.653031 \tValidation Loss: 0.654022\n",
      "running epoch: 120\n"
     ]
    },
    {
     "data": {
      "application/vnd.jupyter.widget-view+json": {
       "model_id": "d95cb36e18504d70846ff4404679a33f",
       "version_major": 2,
       "version_minor": 0
      },
      "text/plain": [
       "HBox(children=(HTML(value=''), FloatProgress(value=0.0, max=163.0), HTML(value='')))"
      ]
     },
     "metadata": {},
     "output_type": "display_data"
    },
    {
     "name": "stdout",
     "output_type": "stream",
     "text": [
      "\n"
     ]
    },
    {
     "data": {
      "application/vnd.jupyter.widget-view+json": {
       "model_id": "3a84ea4e79ea4a438a1de66ff2ed0bd2",
       "version_major": 2,
       "version_minor": 0
      },
      "text/plain": [
       "HBox(children=(HTML(value=''), FloatProgress(value=0.0, max=41.0), HTML(value='')))"
      ]
     },
     "metadata": {},
     "output_type": "display_data"
    },
    {
     "name": "stdout",
     "output_type": "stream",
     "text": [
      "\n",
      "\tTraining Loss: 0.653031 \tValidation Loss: 0.654022\n",
      "running epoch: 121\n"
     ]
    },
    {
     "data": {
      "application/vnd.jupyter.widget-view+json": {
       "model_id": "6a36c1a6b5a84c839c5c366e98bbd062",
       "version_major": 2,
       "version_minor": 0
      },
      "text/plain": [
       "HBox(children=(HTML(value=''), FloatProgress(value=0.0, max=163.0), HTML(value='')))"
      ]
     },
     "metadata": {},
     "output_type": "display_data"
    },
    {
     "name": "stdout",
     "output_type": "stream",
     "text": [
      "\n"
     ]
    },
    {
     "data": {
      "application/vnd.jupyter.widget-view+json": {
       "model_id": "553b36f1f4cb46a9be3aacd751b74934",
       "version_major": 2,
       "version_minor": 0
      },
      "text/plain": [
       "HBox(children=(HTML(value=''), FloatProgress(value=0.0, max=41.0), HTML(value='')))"
      ]
     },
     "metadata": {},
     "output_type": "display_data"
    },
    {
     "name": "stdout",
     "output_type": "stream",
     "text": [
      "\n",
      "\tTraining Loss: 0.653031 \tValidation Loss: 0.654022\n",
      "running epoch: 122\n"
     ]
    },
    {
     "data": {
      "application/vnd.jupyter.widget-view+json": {
       "model_id": "c4454a9354b849d28ff56807f286125c",
       "version_major": 2,
       "version_minor": 0
      },
      "text/plain": [
       "HBox(children=(HTML(value=''), FloatProgress(value=0.0, max=163.0), HTML(value='')))"
      ]
     },
     "metadata": {},
     "output_type": "display_data"
    },
    {
     "name": "stdout",
     "output_type": "stream",
     "text": [
      "\n"
     ]
    },
    {
     "data": {
      "application/vnd.jupyter.widget-view+json": {
       "model_id": "df0fb0d4f72a4b5baa8fe7b4f34b255a",
       "version_major": 2,
       "version_minor": 0
      },
      "text/plain": [
       "HBox(children=(HTML(value=''), FloatProgress(value=0.0, max=41.0), HTML(value='')))"
      ]
     },
     "metadata": {},
     "output_type": "display_data"
    },
    {
     "name": "stdout",
     "output_type": "stream",
     "text": [
      "\n",
      "\tTraining Loss: 0.653031 \tValidation Loss: 0.654022\n",
      "running epoch: 123\n"
     ]
    },
    {
     "data": {
      "application/vnd.jupyter.widget-view+json": {
       "model_id": "9564525e5af24f0eb48314635b109056",
       "version_major": 2,
       "version_minor": 0
      },
      "text/plain": [
       "HBox(children=(HTML(value=''), FloatProgress(value=0.0, max=163.0), HTML(value='')))"
      ]
     },
     "metadata": {},
     "output_type": "display_data"
    },
    {
     "name": "stdout",
     "output_type": "stream",
     "text": [
      "\n"
     ]
    },
    {
     "data": {
      "application/vnd.jupyter.widget-view+json": {
       "model_id": "bb682c058e3b432888f73fdf09047ffa",
       "version_major": 2,
       "version_minor": 0
      },
      "text/plain": [
       "HBox(children=(HTML(value=''), FloatProgress(value=0.0, max=41.0), HTML(value='')))"
      ]
     },
     "metadata": {},
     "output_type": "display_data"
    },
    {
     "name": "stdout",
     "output_type": "stream",
     "text": [
      "\n",
      "\tTraining Loss: 0.653031 \tValidation Loss: 0.654022\n",
      "running epoch: 124\n"
     ]
    },
    {
     "data": {
      "application/vnd.jupyter.widget-view+json": {
       "model_id": "7b96ddf040be4dbd8a55fb125116f140",
       "version_major": 2,
       "version_minor": 0
      },
      "text/plain": [
       "HBox(children=(HTML(value=''), FloatProgress(value=0.0, max=163.0), HTML(value='')))"
      ]
     },
     "metadata": {},
     "output_type": "display_data"
    },
    {
     "name": "stdout",
     "output_type": "stream",
     "text": [
      "\n"
     ]
    },
    {
     "data": {
      "application/vnd.jupyter.widget-view+json": {
       "model_id": "957a56daf2f44d768ed307c1a6014c4f",
       "version_major": 2,
       "version_minor": 0
      },
      "text/plain": [
       "HBox(children=(HTML(value=''), FloatProgress(value=0.0, max=41.0), HTML(value='')))"
      ]
     },
     "metadata": {},
     "output_type": "display_data"
    },
    {
     "name": "stdout",
     "output_type": "stream",
     "text": [
      "\n",
      "\tTraining Loss: 0.653031 \tValidation Loss: 0.654022\n",
      "running epoch: 125\n"
     ]
    },
    {
     "data": {
      "application/vnd.jupyter.widget-view+json": {
       "model_id": "3c728aa9f71747c3a73670cdbc72d4ce",
       "version_major": 2,
       "version_minor": 0
      },
      "text/plain": [
       "HBox(children=(HTML(value=''), FloatProgress(value=0.0, max=163.0), HTML(value='')))"
      ]
     },
     "metadata": {},
     "output_type": "display_data"
    },
    {
     "name": "stdout",
     "output_type": "stream",
     "text": [
      "\n"
     ]
    },
    {
     "data": {
      "application/vnd.jupyter.widget-view+json": {
       "model_id": "999b88bf62b94c1d8072bec2d4eaf777",
       "version_major": 2,
       "version_minor": 0
      },
      "text/plain": [
       "HBox(children=(HTML(value=''), FloatProgress(value=0.0, max=41.0), HTML(value='')))"
      ]
     },
     "metadata": {},
     "output_type": "display_data"
    },
    {
     "name": "stdout",
     "output_type": "stream",
     "text": [
      "\n",
      "\tTraining Loss: 0.653031 \tValidation Loss: 0.654022\n",
      "running epoch: 126\n"
     ]
    },
    {
     "data": {
      "application/vnd.jupyter.widget-view+json": {
       "model_id": "a3e4bfb4115742d9b26d2187ba8e1a8e",
       "version_major": 2,
       "version_minor": 0
      },
      "text/plain": [
       "HBox(children=(HTML(value=''), FloatProgress(value=0.0, max=163.0), HTML(value='')))"
      ]
     },
     "metadata": {},
     "output_type": "display_data"
    },
    {
     "name": "stdout",
     "output_type": "stream",
     "text": [
      "\n"
     ]
    },
    {
     "data": {
      "application/vnd.jupyter.widget-view+json": {
       "model_id": "4bb4bd1da68d429d86e8e654104355c1",
       "version_major": 2,
       "version_minor": 0
      },
      "text/plain": [
       "HBox(children=(HTML(value=''), FloatProgress(value=0.0, max=41.0), HTML(value='')))"
      ]
     },
     "metadata": {},
     "output_type": "display_data"
    },
    {
     "name": "stdout",
     "output_type": "stream",
     "text": [
      "\n",
      "\tTraining Loss: 0.653031 \tValidation Loss: 0.654022\n",
      "running epoch: 127\n"
     ]
    },
    {
     "data": {
      "application/vnd.jupyter.widget-view+json": {
       "model_id": "dedfa85ed0bf478e8002667d9f66e571",
       "version_major": 2,
       "version_minor": 0
      },
      "text/plain": [
       "HBox(children=(HTML(value=''), FloatProgress(value=0.0, max=163.0), HTML(value='')))"
      ]
     },
     "metadata": {},
     "output_type": "display_data"
    },
    {
     "name": "stdout",
     "output_type": "stream",
     "text": [
      "\n"
     ]
    },
    {
     "data": {
      "application/vnd.jupyter.widget-view+json": {
       "model_id": "be2bfe01d2484d3991bdfce29f00c1b8",
       "version_major": 2,
       "version_minor": 0
      },
      "text/plain": [
       "HBox(children=(HTML(value=''), FloatProgress(value=0.0, max=41.0), HTML(value='')))"
      ]
     },
     "metadata": {},
     "output_type": "display_data"
    },
    {
     "name": "stdout",
     "output_type": "stream",
     "text": [
      "\n",
      "\tTraining Loss: 0.653031 \tValidation Loss: 0.654022\n",
      "running epoch: 128\n"
     ]
    },
    {
     "data": {
      "application/vnd.jupyter.widget-view+json": {
       "model_id": "d446fdaebdc5497696356769da9728c8",
       "version_major": 2,
       "version_minor": 0
      },
      "text/plain": [
       "HBox(children=(HTML(value=''), FloatProgress(value=0.0, max=163.0), HTML(value='')))"
      ]
     },
     "metadata": {},
     "output_type": "display_data"
    },
    {
     "name": "stdout",
     "output_type": "stream",
     "text": [
      "\n"
     ]
    },
    {
     "data": {
      "application/vnd.jupyter.widget-view+json": {
       "model_id": "8378f8ed621c436db2b5d753bfe01244",
       "version_major": 2,
       "version_minor": 0
      },
      "text/plain": [
       "HBox(children=(HTML(value=''), FloatProgress(value=0.0, max=41.0), HTML(value='')))"
      ]
     },
     "metadata": {},
     "output_type": "display_data"
    },
    {
     "name": "stdout",
     "output_type": "stream",
     "text": [
      "\n",
      "\tTraining Loss: 0.653031 \tValidation Loss: 0.654022\n",
      "running epoch: 129\n"
     ]
    },
    {
     "data": {
      "application/vnd.jupyter.widget-view+json": {
       "model_id": "ef628e79ad1a497fa4a9362f3f9f0c47",
       "version_major": 2,
       "version_minor": 0
      },
      "text/plain": [
       "HBox(children=(HTML(value=''), FloatProgress(value=0.0, max=163.0), HTML(value='')))"
      ]
     },
     "metadata": {},
     "output_type": "display_data"
    },
    {
     "name": "stdout",
     "output_type": "stream",
     "text": [
      "\n"
     ]
    },
    {
     "data": {
      "application/vnd.jupyter.widget-view+json": {
       "model_id": "11571b1a0ed34b7682fa18102fb8ef35",
       "version_major": 2,
       "version_minor": 0
      },
      "text/plain": [
       "HBox(children=(HTML(value=''), FloatProgress(value=0.0, max=41.0), HTML(value='')))"
      ]
     },
     "metadata": {},
     "output_type": "display_data"
    },
    {
     "name": "stdout",
     "output_type": "stream",
     "text": [
      "\n",
      "\tTraining Loss: 0.653031 \tValidation Loss: 0.654022\n",
      "running epoch: 130\n"
     ]
    },
    {
     "data": {
      "application/vnd.jupyter.widget-view+json": {
       "model_id": "59aeaeb170684e9290a531e19040bf7d",
       "version_major": 2,
       "version_minor": 0
      },
      "text/plain": [
       "HBox(children=(HTML(value=''), FloatProgress(value=0.0, max=163.0), HTML(value='')))"
      ]
     },
     "metadata": {},
     "output_type": "display_data"
    },
    {
     "name": "stdout",
     "output_type": "stream",
     "text": [
      "\n"
     ]
    },
    {
     "data": {
      "application/vnd.jupyter.widget-view+json": {
       "model_id": "e0bbda5204344c20b3dc233e15b9d97c",
       "version_major": 2,
       "version_minor": 0
      },
      "text/plain": [
       "HBox(children=(HTML(value=''), FloatProgress(value=0.0, max=41.0), HTML(value='')))"
      ]
     },
     "metadata": {},
     "output_type": "display_data"
    },
    {
     "name": "stdout",
     "output_type": "stream",
     "text": [
      "\n",
      "\tTraining Loss: 0.653031 \tValidation Loss: 0.654022\n",
      "running epoch: 131\n"
     ]
    },
    {
     "data": {
      "application/vnd.jupyter.widget-view+json": {
       "model_id": "5d33a4dc0e99457394caf8c9ddd5de76",
       "version_major": 2,
       "version_minor": 0
      },
      "text/plain": [
       "HBox(children=(HTML(value=''), FloatProgress(value=0.0, max=163.0), HTML(value='')))"
      ]
     },
     "metadata": {},
     "output_type": "display_data"
    },
    {
     "name": "stdout",
     "output_type": "stream",
     "text": [
      "\n"
     ]
    },
    {
     "data": {
      "application/vnd.jupyter.widget-view+json": {
       "model_id": "8973ab725a2c4b918a896bf124ebf23d",
       "version_major": 2,
       "version_minor": 0
      },
      "text/plain": [
       "HBox(children=(HTML(value=''), FloatProgress(value=0.0, max=41.0), HTML(value='')))"
      ]
     },
     "metadata": {},
     "output_type": "display_data"
    },
    {
     "name": "stdout",
     "output_type": "stream",
     "text": [
      "\n",
      "\tTraining Loss: 0.653031 \tValidation Loss: 0.654022\n",
      "running epoch: 132\n"
     ]
    },
    {
     "data": {
      "application/vnd.jupyter.widget-view+json": {
       "model_id": "72f72bf34192465e963b849462a245d8",
       "version_major": 2,
       "version_minor": 0
      },
      "text/plain": [
       "HBox(children=(HTML(value=''), FloatProgress(value=0.0, max=163.0), HTML(value='')))"
      ]
     },
     "metadata": {},
     "output_type": "display_data"
    },
    {
     "name": "stdout",
     "output_type": "stream",
     "text": [
      "\n"
     ]
    },
    {
     "data": {
      "application/vnd.jupyter.widget-view+json": {
       "model_id": "e2d80ebbe8fe4039adb6ba35df74ce2d",
       "version_major": 2,
       "version_minor": 0
      },
      "text/plain": [
       "HBox(children=(HTML(value=''), FloatProgress(value=0.0, max=41.0), HTML(value='')))"
      ]
     },
     "metadata": {},
     "output_type": "display_data"
    },
    {
     "name": "stdout",
     "output_type": "stream",
     "text": [
      "\n",
      "\tTraining Loss: 0.653031 \tValidation Loss: 0.654022\n",
      "running epoch: 133\n"
     ]
    },
    {
     "data": {
      "application/vnd.jupyter.widget-view+json": {
       "model_id": "bab6b46a50464c0ea1f56e902bb45f14",
       "version_major": 2,
       "version_minor": 0
      },
      "text/plain": [
       "HBox(children=(HTML(value=''), FloatProgress(value=0.0, max=163.0), HTML(value='')))"
      ]
     },
     "metadata": {},
     "output_type": "display_data"
    },
    {
     "name": "stdout",
     "output_type": "stream",
     "text": [
      "\n"
     ]
    },
    {
     "data": {
      "application/vnd.jupyter.widget-view+json": {
       "model_id": "ce90cd38a37642df944bafd2fa199b8c",
       "version_major": 2,
       "version_minor": 0
      },
      "text/plain": [
       "HBox(children=(HTML(value=''), FloatProgress(value=0.0, max=41.0), HTML(value='')))"
      ]
     },
     "metadata": {},
     "output_type": "display_data"
    },
    {
     "name": "stdout",
     "output_type": "stream",
     "text": [
      "\n",
      "\tTraining Loss: 0.653031 \tValidation Loss: 0.654022\n",
      "running epoch: 134\n"
     ]
    },
    {
     "data": {
      "application/vnd.jupyter.widget-view+json": {
       "model_id": "c5bc9da67f424e9bb1819e15b602dcfc",
       "version_major": 2,
       "version_minor": 0
      },
      "text/plain": [
       "HBox(children=(HTML(value=''), FloatProgress(value=0.0, max=163.0), HTML(value='')))"
      ]
     },
     "metadata": {},
     "output_type": "display_data"
    },
    {
     "name": "stdout",
     "output_type": "stream",
     "text": [
      "\n"
     ]
    },
    {
     "data": {
      "application/vnd.jupyter.widget-view+json": {
       "model_id": "a65b24209c6543479c3463a5120d796a",
       "version_major": 2,
       "version_minor": 0
      },
      "text/plain": [
       "HBox(children=(HTML(value=''), FloatProgress(value=0.0, max=41.0), HTML(value='')))"
      ]
     },
     "metadata": {},
     "output_type": "display_data"
    },
    {
     "name": "stdout",
     "output_type": "stream",
     "text": [
      "\n",
      "\tTraining Loss: 0.653031 \tValidation Loss: 0.654022\n",
      "running epoch: 135\n"
     ]
    },
    {
     "data": {
      "application/vnd.jupyter.widget-view+json": {
       "model_id": "4eb9f8830b574107892b723d1772be60",
       "version_major": 2,
       "version_minor": 0
      },
      "text/plain": [
       "HBox(children=(HTML(value=''), FloatProgress(value=0.0, max=163.0), HTML(value='')))"
      ]
     },
     "metadata": {},
     "output_type": "display_data"
    },
    {
     "name": "stdout",
     "output_type": "stream",
     "text": [
      "\n"
     ]
    },
    {
     "data": {
      "application/vnd.jupyter.widget-view+json": {
       "model_id": "bd8ac15be569488c853cd083f68e5abc",
       "version_major": 2,
       "version_minor": 0
      },
      "text/plain": [
       "HBox(children=(HTML(value=''), FloatProgress(value=0.0, max=41.0), HTML(value='')))"
      ]
     },
     "metadata": {},
     "output_type": "display_data"
    },
    {
     "name": "stdout",
     "output_type": "stream",
     "text": [
      "\n",
      "\tTraining Loss: 0.653031 \tValidation Loss: 0.654022\n",
      "running epoch: 136\n"
     ]
    },
    {
     "data": {
      "application/vnd.jupyter.widget-view+json": {
       "model_id": "ef654191850f4d99823884cec8a9fbb7",
       "version_major": 2,
       "version_minor": 0
      },
      "text/plain": [
       "HBox(children=(HTML(value=''), FloatProgress(value=0.0, max=163.0), HTML(value='')))"
      ]
     },
     "metadata": {},
     "output_type": "display_data"
    },
    {
     "name": "stdout",
     "output_type": "stream",
     "text": [
      "\n"
     ]
    },
    {
     "data": {
      "application/vnd.jupyter.widget-view+json": {
       "model_id": "78d8a61d16b442b39cc9a3782927f211",
       "version_major": 2,
       "version_minor": 0
      },
      "text/plain": [
       "HBox(children=(HTML(value=''), FloatProgress(value=0.0, max=41.0), HTML(value='')))"
      ]
     },
     "metadata": {},
     "output_type": "display_data"
    },
    {
     "name": "stdout",
     "output_type": "stream",
     "text": [
      "\n",
      "\tTraining Loss: 0.653031 \tValidation Loss: 0.654022\n",
      "running epoch: 137\n"
     ]
    },
    {
     "data": {
      "application/vnd.jupyter.widget-view+json": {
       "model_id": "14f2d654a32645ce89759c83c94a94b7",
       "version_major": 2,
       "version_minor": 0
      },
      "text/plain": [
       "HBox(children=(HTML(value=''), FloatProgress(value=0.0, max=163.0), HTML(value='')))"
      ]
     },
     "metadata": {},
     "output_type": "display_data"
    },
    {
     "name": "stdout",
     "output_type": "stream",
     "text": [
      "\n"
     ]
    },
    {
     "data": {
      "application/vnd.jupyter.widget-view+json": {
       "model_id": "be5e93443aa441708735cc33f0896ab1",
       "version_major": 2,
       "version_minor": 0
      },
      "text/plain": [
       "HBox(children=(HTML(value=''), FloatProgress(value=0.0, max=41.0), HTML(value='')))"
      ]
     },
     "metadata": {},
     "output_type": "display_data"
    },
    {
     "name": "stdout",
     "output_type": "stream",
     "text": [
      "\n",
      "\tTraining Loss: 0.653031 \tValidation Loss: 0.654022\n",
      "running epoch: 138\n"
     ]
    },
    {
     "data": {
      "application/vnd.jupyter.widget-view+json": {
       "model_id": "e0c0270f266e4dcd9eff51e6bafe802f",
       "version_major": 2,
       "version_minor": 0
      },
      "text/plain": [
       "HBox(children=(HTML(value=''), FloatProgress(value=0.0, max=163.0), HTML(value='')))"
      ]
     },
     "metadata": {},
     "output_type": "display_data"
    },
    {
     "name": "stdout",
     "output_type": "stream",
     "text": [
      "\n"
     ]
    },
    {
     "data": {
      "application/vnd.jupyter.widget-view+json": {
       "model_id": "09dd357100084a9397f2c94c6115ef5b",
       "version_major": 2,
       "version_minor": 0
      },
      "text/plain": [
       "HBox(children=(HTML(value=''), FloatProgress(value=0.0, max=41.0), HTML(value='')))"
      ]
     },
     "metadata": {},
     "output_type": "display_data"
    },
    {
     "name": "stdout",
     "output_type": "stream",
     "text": [
      "\n",
      "\tTraining Loss: 0.653031 \tValidation Loss: 0.654022\n",
      "running epoch: 139\n"
     ]
    },
    {
     "data": {
      "application/vnd.jupyter.widget-view+json": {
       "model_id": "acdf45e77f164feda10f88a642d615fc",
       "version_major": 2,
       "version_minor": 0
      },
      "text/plain": [
       "HBox(children=(HTML(value=''), FloatProgress(value=0.0, max=163.0), HTML(value='')))"
      ]
     },
     "metadata": {},
     "output_type": "display_data"
    },
    {
     "name": "stdout",
     "output_type": "stream",
     "text": [
      "\n"
     ]
    },
    {
     "data": {
      "application/vnd.jupyter.widget-view+json": {
       "model_id": "abafa893b7df4bac86b3e20f01d9ff30",
       "version_major": 2,
       "version_minor": 0
      },
      "text/plain": [
       "HBox(children=(HTML(value=''), FloatProgress(value=0.0, max=41.0), HTML(value='')))"
      ]
     },
     "metadata": {},
     "output_type": "display_data"
    },
    {
     "name": "stdout",
     "output_type": "stream",
     "text": [
      "\n",
      "\tTraining Loss: 0.653031 \tValidation Loss: 0.654022\n",
      "running epoch: 140\n"
     ]
    },
    {
     "data": {
      "application/vnd.jupyter.widget-view+json": {
       "model_id": "f69353c31ca140db99bb523769c84b7e",
       "version_major": 2,
       "version_minor": 0
      },
      "text/plain": [
       "HBox(children=(HTML(value=''), FloatProgress(value=0.0, max=163.0), HTML(value='')))"
      ]
     },
     "metadata": {},
     "output_type": "display_data"
    },
    {
     "name": "stdout",
     "output_type": "stream",
     "text": [
      "\n"
     ]
    },
    {
     "data": {
      "application/vnd.jupyter.widget-view+json": {
       "model_id": "9a27a9af3f1346c4a2e726e76659cdde",
       "version_major": 2,
       "version_minor": 0
      },
      "text/plain": [
       "HBox(children=(HTML(value=''), FloatProgress(value=0.0, max=41.0), HTML(value='')))"
      ]
     },
     "metadata": {},
     "output_type": "display_data"
    },
    {
     "name": "stdout",
     "output_type": "stream",
     "text": [
      "\n",
      "\tTraining Loss: 0.653031 \tValidation Loss: 0.654022\n",
      "running epoch: 141\n"
     ]
    },
    {
     "data": {
      "application/vnd.jupyter.widget-view+json": {
       "model_id": "987fefab134a40378fae1c048eafbed6",
       "version_major": 2,
       "version_minor": 0
      },
      "text/plain": [
       "HBox(children=(HTML(value=''), FloatProgress(value=0.0, max=163.0), HTML(value='')))"
      ]
     },
     "metadata": {},
     "output_type": "display_data"
    },
    {
     "name": "stdout",
     "output_type": "stream",
     "text": [
      "\n"
     ]
    },
    {
     "data": {
      "application/vnd.jupyter.widget-view+json": {
       "model_id": "362b9370a37c4b64a09b9453b5cca8ef",
       "version_major": 2,
       "version_minor": 0
      },
      "text/plain": [
       "HBox(children=(HTML(value=''), FloatProgress(value=0.0, max=41.0), HTML(value='')))"
      ]
     },
     "metadata": {},
     "output_type": "display_data"
    },
    {
     "name": "stdout",
     "output_type": "stream",
     "text": [
      "\n",
      "\tTraining Loss: 0.653031 \tValidation Loss: 0.654022\n",
      "running epoch: 142\n"
     ]
    },
    {
     "data": {
      "application/vnd.jupyter.widget-view+json": {
       "model_id": "c1883105b65045a680aa10aec8d0201d",
       "version_major": 2,
       "version_minor": 0
      },
      "text/plain": [
       "HBox(children=(HTML(value=''), FloatProgress(value=0.0, max=163.0), HTML(value='')))"
      ]
     },
     "metadata": {},
     "output_type": "display_data"
    },
    {
     "name": "stdout",
     "output_type": "stream",
     "text": [
      "\n"
     ]
    },
    {
     "data": {
      "application/vnd.jupyter.widget-view+json": {
       "model_id": "a38b5b9d76b643189daf3b6e84e923e4",
       "version_major": 2,
       "version_minor": 0
      },
      "text/plain": [
       "HBox(children=(HTML(value=''), FloatProgress(value=0.0, max=41.0), HTML(value='')))"
      ]
     },
     "metadata": {},
     "output_type": "display_data"
    },
    {
     "name": "stdout",
     "output_type": "stream",
     "text": [
      "\n",
      "\tTraining Loss: 0.653031 \tValidation Loss: 0.654022\n",
      "running epoch: 143\n"
     ]
    },
    {
     "data": {
      "application/vnd.jupyter.widget-view+json": {
       "model_id": "7c32efa0630940f8bdf241cb765a0e79",
       "version_major": 2,
       "version_minor": 0
      },
      "text/plain": [
       "HBox(children=(HTML(value=''), FloatProgress(value=0.0, max=163.0), HTML(value='')))"
      ]
     },
     "metadata": {},
     "output_type": "display_data"
    },
    {
     "name": "stdout",
     "output_type": "stream",
     "text": [
      "\n"
     ]
    },
    {
     "data": {
      "application/vnd.jupyter.widget-view+json": {
       "model_id": "ea25f9a42e034355927d82179bab54e1",
       "version_major": 2,
       "version_minor": 0
      },
      "text/plain": [
       "HBox(children=(HTML(value=''), FloatProgress(value=0.0, max=41.0), HTML(value='')))"
      ]
     },
     "metadata": {},
     "output_type": "display_data"
    },
    {
     "name": "stdout",
     "output_type": "stream",
     "text": [
      "\n",
      "\tTraining Loss: 0.653031 \tValidation Loss: 0.654022\n",
      "running epoch: 144\n"
     ]
    },
    {
     "data": {
      "application/vnd.jupyter.widget-view+json": {
       "model_id": "c0f54d876614476d9e7f7500b3e17583",
       "version_major": 2,
       "version_minor": 0
      },
      "text/plain": [
       "HBox(children=(HTML(value=''), FloatProgress(value=0.0, max=163.0), HTML(value='')))"
      ]
     },
     "metadata": {},
     "output_type": "display_data"
    },
    {
     "name": "stdout",
     "output_type": "stream",
     "text": [
      "\n"
     ]
    },
    {
     "data": {
      "application/vnd.jupyter.widget-view+json": {
       "model_id": "dbde0b326de640eeabb638fd43a39b0c",
       "version_major": 2,
       "version_minor": 0
      },
      "text/plain": [
       "HBox(children=(HTML(value=''), FloatProgress(value=0.0, max=41.0), HTML(value='')))"
      ]
     },
     "metadata": {},
     "output_type": "display_data"
    },
    {
     "name": "stdout",
     "output_type": "stream",
     "text": [
      "\n",
      "\tTraining Loss: 0.653031 \tValidation Loss: 0.654022\n",
      "running epoch: 145\n"
     ]
    },
    {
     "data": {
      "application/vnd.jupyter.widget-view+json": {
       "model_id": "9ecfae6bca7748d3be52ffd393569c87",
       "version_major": 2,
       "version_minor": 0
      },
      "text/plain": [
       "HBox(children=(HTML(value=''), FloatProgress(value=0.0, max=163.0), HTML(value='')))"
      ]
     },
     "metadata": {},
     "output_type": "display_data"
    },
    {
     "name": "stdout",
     "output_type": "stream",
     "text": [
      "\n"
     ]
    },
    {
     "data": {
      "application/vnd.jupyter.widget-view+json": {
       "model_id": "f2a3c2ad80ef4ae580c84b136d5a7331",
       "version_major": 2,
       "version_minor": 0
      },
      "text/plain": [
       "HBox(children=(HTML(value=''), FloatProgress(value=0.0, max=41.0), HTML(value='')))"
      ]
     },
     "metadata": {},
     "output_type": "display_data"
    },
    {
     "name": "stdout",
     "output_type": "stream",
     "text": [
      "\n",
      "\tTraining Loss: 0.653031 \tValidation Loss: 0.654022\n",
      "running epoch: 146\n"
     ]
    },
    {
     "data": {
      "application/vnd.jupyter.widget-view+json": {
       "model_id": "08657791b04943c0a68e63d944a184b5",
       "version_major": 2,
       "version_minor": 0
      },
      "text/plain": [
       "HBox(children=(HTML(value=''), FloatProgress(value=0.0, max=163.0), HTML(value='')))"
      ]
     },
     "metadata": {},
     "output_type": "display_data"
    },
    {
     "name": "stdout",
     "output_type": "stream",
     "text": [
      "\n"
     ]
    },
    {
     "data": {
      "application/vnd.jupyter.widget-view+json": {
       "model_id": "7c658de457d8481ea57aa538a7235997",
       "version_major": 2,
       "version_minor": 0
      },
      "text/plain": [
       "HBox(children=(HTML(value=''), FloatProgress(value=0.0, max=41.0), HTML(value='')))"
      ]
     },
     "metadata": {},
     "output_type": "display_data"
    },
    {
     "name": "stdout",
     "output_type": "stream",
     "text": [
      "\n",
      "\tTraining Loss: 0.653031 \tValidation Loss: 0.654022\n",
      "running epoch: 147\n"
     ]
    },
    {
     "data": {
      "application/vnd.jupyter.widget-view+json": {
       "model_id": "deb330cea58e43459cba6bcfe3503e59",
       "version_major": 2,
       "version_minor": 0
      },
      "text/plain": [
       "HBox(children=(HTML(value=''), FloatProgress(value=0.0, max=163.0), HTML(value='')))"
      ]
     },
     "metadata": {},
     "output_type": "display_data"
    },
    {
     "name": "stdout",
     "output_type": "stream",
     "text": [
      "\n"
     ]
    },
    {
     "data": {
      "application/vnd.jupyter.widget-view+json": {
       "model_id": "dd99677c2ca94ed8b914f99b420155b2",
       "version_major": 2,
       "version_minor": 0
      },
      "text/plain": [
       "HBox(children=(HTML(value=''), FloatProgress(value=0.0, max=41.0), HTML(value='')))"
      ]
     },
     "metadata": {},
     "output_type": "display_data"
    },
    {
     "name": "stdout",
     "output_type": "stream",
     "text": [
      "\n",
      "\tTraining Loss: 0.653031 \tValidation Loss: 0.654022\n",
      "running epoch: 148\n"
     ]
    },
    {
     "data": {
      "application/vnd.jupyter.widget-view+json": {
       "model_id": "ff1f41cfe63c4dcdbdd7797f9e0d8772",
       "version_major": 2,
       "version_minor": 0
      },
      "text/plain": [
       "HBox(children=(HTML(value=''), FloatProgress(value=0.0, max=163.0), HTML(value='')))"
      ]
     },
     "metadata": {},
     "output_type": "display_data"
    },
    {
     "name": "stdout",
     "output_type": "stream",
     "text": [
      "\n"
     ]
    },
    {
     "data": {
      "application/vnd.jupyter.widget-view+json": {
       "model_id": "6ae204e487754675a0eaae086bf95bb1",
       "version_major": 2,
       "version_minor": 0
      },
      "text/plain": [
       "HBox(children=(HTML(value=''), FloatProgress(value=0.0, max=41.0), HTML(value='')))"
      ]
     },
     "metadata": {},
     "output_type": "display_data"
    },
    {
     "name": "stdout",
     "output_type": "stream",
     "text": [
      "\n",
      "\tTraining Loss: 0.653031 \tValidation Loss: 0.654022\n",
      "running epoch: 149\n"
     ]
    },
    {
     "data": {
      "application/vnd.jupyter.widget-view+json": {
       "model_id": "ef023c1a7b074d6cb1fcfd2c57f9fcec",
       "version_major": 2,
       "version_minor": 0
      },
      "text/plain": [
       "HBox(children=(HTML(value=''), FloatProgress(value=0.0, max=163.0), HTML(value='')))"
      ]
     },
     "metadata": {},
     "output_type": "display_data"
    },
    {
     "name": "stdout",
     "output_type": "stream",
     "text": [
      "\n"
     ]
    },
    {
     "data": {
      "application/vnd.jupyter.widget-view+json": {
       "model_id": "a3d474a080c74b898895b15082f4726d",
       "version_major": 2,
       "version_minor": 0
      },
      "text/plain": [
       "HBox(children=(HTML(value=''), FloatProgress(value=0.0, max=41.0), HTML(value='')))"
      ]
     },
     "metadata": {},
     "output_type": "display_data"
    },
    {
     "name": "stdout",
     "output_type": "stream",
     "text": [
      "\n",
      "\tTraining Loss: 0.653031 \tValidation Loss: 0.654022\n",
      "running epoch: 150\n"
     ]
    },
    {
     "data": {
      "application/vnd.jupyter.widget-view+json": {
       "model_id": "a07ae3c5e79a4241be2787320d176e45",
       "version_major": 2,
       "version_minor": 0
      },
      "text/plain": [
       "HBox(children=(HTML(value=''), FloatProgress(value=0.0, max=163.0), HTML(value='')))"
      ]
     },
     "metadata": {},
     "output_type": "display_data"
    },
    {
     "name": "stdout",
     "output_type": "stream",
     "text": [
      "\n"
     ]
    },
    {
     "data": {
      "application/vnd.jupyter.widget-view+json": {
       "model_id": "e4bcc68cbe814909b2d74214da8fe551",
       "version_major": 2,
       "version_minor": 0
      },
      "text/plain": [
       "HBox(children=(HTML(value=''), FloatProgress(value=0.0, max=41.0), HTML(value='')))"
      ]
     },
     "metadata": {},
     "output_type": "display_data"
    },
    {
     "name": "stdout",
     "output_type": "stream",
     "text": [
      "\n",
      "\tTraining Loss: 0.653031 \tValidation Loss: 0.654022\n",
      "[0.6530306154141335, 0.653030614655717, 0.6530306143914203, 0.6530306181490295, 0.653030617827277, 0.653030622791458, 0.6530306141156325, 0.6530306147131728, 0.6530306224007585, 0.6530306192177073, 0.6530306101282001, 0.6530306207460316, 0.6530306084964554, 0.6530306168735108, 0.6530306176434185, 0.6530306184822731, 0.6530306180685914, 0.653030615448607, 0.6530306131963397, 0.6530306221134795, 0.6530306194934952, 0.6530306160576385, 0.6530306218032182, 0.653030621780236, 0.6530306111164398, 0.653030616816055, 0.6530306164713202, 0.6530306252965308, 0.6530306161955324, 0.653030618401835, 0.6530306192291985, 0.6530306192981454, 0.6530306193441101, 0.6530306110245105, 0.6530306277326566, 0.6530306239520651, 0.6530306196084068, 0.6530306159886915, 0.6530306106567935, 0.6530306216997978, 0.6530306181490295, 0.653030616816055, 0.6530306165402672, 0.653030627112134, 0.6530306220790061, 0.6530306105648641, 0.6530306152992219, 0.6530306156899214, 0.6530306104039879, 0.6530306251356545, 0.6530306201714736, 0.6530306184707819, 0.6530306180571002, 0.6530306201025267, 0.6530306140122121, 0.653030614081159, 0.6530306193096366, 0.6530306169769312, 0.6530306257906506, 0.6530306241014502, 0.653030619987615, 0.653030624158906, 0.6530306185856936, 0.6530306121966089, 0.6530306140581766, 0.6530306189993753, 0.6530306192981454, 0.6530306114611746, 0.653030614219053, 0.6530306158507976, 0.6530306178847328, 0.6530306160691296, 0.6530306157129037, 0.6530306263307352, 0.6530306086573316, 0.6530306267903815, 0.6530306229753166, 0.6530306153451866, 0.653030619550951, 0.6530306215504127, 0.6530306177928036, 0.6530306291115957, 0.6530306219411122, 0.6530306098064477, 0.6530306198956858, 0.6530306163104439, 0.653030615310713, 0.6530306161955324, 0.6530306183558704, 0.653030615092381, 0.6530306177123655, 0.6530306054283158, 0.653030619482004, 0.6530306245840789, 0.6530306175974538, 0.6530306176434185, 0.6530306261468766, 0.6530306208724344, 0.6530306168275462, 0.6530306137823888, 0.6530306155175539, 0.6530306161725501, 0.6530306136444949, 0.6530306130124811, 0.6530306158278153, 0.6530306187006052, 0.6530306180685914, 0.653030619619898, 0.6530306191372692, 0.6530306162874616, 0.6530306182754323, 0.653030629341419, 0.6530306156784301, 0.6530306137134418, 0.6530306148855402, 0.6530306165172848, 0.653030620493226, 0.6530306132537955, 0.653030614219053, 0.6530306121276619, 0.653030621929621, 0.6530306118059094, 0.6530306185282377, 0.6530306206541023, 0.6530306147476462, 0.6530306204587526, 0.6530306235728568, 0.6530306229293519, 0.6530306217572536, 0.6530306155750097, 0.653030615954218, 0.6530306212286603, 0.653030609473204, 0.6530306200220884, 0.6530306118059094, 0.6530306206541023, 0.6530306142075617, 0.6530306156439567, 0.6530306109785459, 0.6530306188614814, 0.6530306117369624, 0.6530306216653243, 0.653030616816055, 0.6530306208149785, 0.6530306143339645, 0.653030630570973, 0.6530306192751631, 0.6530306189189372, 0.6530306233889983, 0.6530306212976072]\n",
      "[0.6540218594906968, 0.6540218596285642, 0.6540218563657039, 0.6540218697847912, 0.654021856135925, 0.6540218676708254, 0.6540218713932434, 0.6540218676708254, 0.6540218640862746, 0.6540218628914244, 0.654021879573372, 0.6540218418896336, 0.6540218776432293, 0.6540218663381078, 0.6540218530568878, 0.6540218612829721, 0.6540218666597982, 0.6540218655568596, 0.6540218506671873, 0.6540218638564957, 0.654021862983336, 0.6540218670734003, 0.6540218635807611, 0.654021869417145, 0.6540218609612817, 0.6540218535164456, 0.6540218682682505, 0.654021851356524, 0.6540218576524657, 0.654021864637744, 0.6540218588013601, 0.6540218531947551, 0.6540218676708254, 0.6540218670734003, 0.6540218700605258, 0.6540218674410465, 0.6540218553546767, 0.6540218541598265, 0.6540218759888213, 0.6540218590770948, 0.65402185466534, 0.6540218645458324, 0.6540218506671873, 0.6540218620642204, 0.6540218611910606, 0.6540218566873943, 0.6540218639024515, 0.6540218641781862, 0.6540218725880936, 0.6540218781946987, 0.6540218626156897, 0.6540218596285642, 0.6540218743344133, 0.654021871485155, 0.6540218636267169, 0.6540218593987852, 0.6540218508969662, 0.6540218624318667, 0.6540218671653119, 0.6540218650973018, 0.6540218737369882, 0.6540218454282286, 0.6540218694631007, 0.6540218540219591, 0.654021854481517, 0.6540218678546484, 0.6540218713472876, 0.6540218719447127, 0.6540218652351691, 0.6540218590770948, 0.654021863167159, 0.6540218705660394, 0.654021872542138, 0.6540218773674946, 0.6540218468988135, 0.6540218726800052, 0.6540218772755831, 0.6540218697847912, 0.6540218494723371, 0.6540218564576155, 0.6540218679006042, 0.6540218474502828, 0.6540218525513742, 0.6540218675789138, 0.6540218592149621, 0.6540218605476797, 0.6540218722204475, 0.6540218576065099, 0.65402186381054, 0.6540218754833077, 0.6540218657406827, 0.6540218589392275, 0.6540218702903048, 0.6540218517241703, 0.6540218627535571, 0.65402186587855, 0.6540218681763389, 0.6540218561818807, 0.6540218609612817, 0.6540218829740997, 0.6540218546193842, 0.6540218685439851, 0.654021858617537, 0.6540218656487711, 0.6540218580201119, 0.6540218566873943, 0.6540218719906685, 0.6540218564576155, 0.654021860685547, 0.6540218596285642, 0.6540218701524374, 0.6540218649134787, 0.6540218683142063, 0.6540218614667953, 0.6540218581579792, 0.6540218638564957, 0.6540218672572233, 0.6540218640403189, 0.6540218634428937, 0.6540218532407109, 0.6540218451984496, 0.6540218633509822, 0.654021857790333, 0.6540218542057823, 0.6540218629373802, 0.6540218639484073, 0.6540218514484355, 0.6540218533326225, 0.6540218463933, 0.6540218529190205, 0.6540218817332936, 0.6540218582498908, 0.6540218681763389, 0.6540218524594626, 0.6540218596285642, 0.654021863167159, 0.6540218705660394, 0.6540218549870305, 0.6540218776432293, 0.6540218652811249, 0.6540218627535571, 0.6540218468528577, 0.6540218645458324, 0.654021866705754, 0.6540218633509822, 0.6540218673491349, 0.6540218679006042, 0.6540218583418024, 0.6540218607774586, 0.6540218678546484]\n"
     ]
    },
    {
     "data": {
      "image/png": "[encoded data removed]",
      "text/plain": [
       "<Figure size 432x288 with 1 Axes>"
      ]
     },
     "metadata": {
      "needs_background": "light"
     },
     "output_type": "display_data"
    }
   ],
   "source": [
    "# number of epochs to train the model\n",
    "bobs_train_loss_i = []\n",
    "bobs_valid_loss_i = []\n",
    "\n",
    "\n",
    "n_epochs = 150 #170\n",
    "\n",
    "\n",
    "bobs_valid_loss_min = np.Inf # track change in validation loss\n",
    "\n",
    "#train_losses,valid_losses=[],[]\n",
    "for epoch in range(1, n_epochs+1):\n",
    "\n",
    "    # keep track of training and validation loss\n",
    "    bobs_train_loss = 0.0\n",
    "    bobs_valid_loss = 0.0\n",
    "    print('running epoch: {}'.format(epoch))\n",
    "    ###################\n",
    "    # train the model #\n",
    "    ###################\n",
    "    bobs_model.train()\n",
    "    for bobs_data, bobs_target in tqdm(train_loader):\n",
    "        # move tensors to GPU if CUDA is available\n",
    "        if train_on_gpu:\n",
    "            bobs_data, bobs_target = bobs_data.cuda(),  bobs_target.cuda()\n",
    "        # clear the gradients of all optimized variables\n",
    "        optimizer.zero_grad()\n",
    "        # forward pass: compute predicted outputs by passing inputs to the model\n",
    "        output = bobs_model(bobs_data)\n",
    "        # calculate the batch loss\n",
    "        loss = criterion(output,bobs_target)\n",
    "        # backward pass: compute gradient of the loss with respect to model parameters\n",
    "        loss.backward()\n",
    "        # perform a single optimization step (parameter update)\n",
    "        optimizer.step()\n",
    "        # update training loss\n",
    "        bobs_train_loss += loss.item()*bobs_data.size(0)\n",
    "    for bobs_data, bobs_target in tqdm(valid_loader):\n",
    "        # move tensors to GPU if CUDA is available\n",
    "        if train_on_gpu:\n",
    "            bobs_data, bobs_target = bobs_data.cuda(), bobs_target.cuda()\n",
    "        # forward pass: compute predicted outputs by passing inputs to the model\n",
    "        \n",
    "        with torch.no_grad():\n",
    "            output = bobs_model(bobs_data)\n",
    "        # calculate the batch loss\n",
    "        loss = criterion(output,bobs_target)\n",
    "        # update average validation loss \n",
    "        bobs_valid_loss += loss.item()* bobs_data.size(0)   \n",
    "        \n",
    "        \n",
    "    bobs_train_loss = bobs_train_loss/len(train_loader.dataset)    \n",
    "    bobs_valid_loss = bobs_valid_loss/len(valid_loader.dataset)\n",
    "        \n",
    "    # print training/validation statistics \n",
    "    print('\\tTraining Loss: {:.6f} \\tValidation Loss: {:.6f}'.format(\n",
    "         bobs_train_loss,  bobs_valid_loss))    \n",
    "    #作圖接收矩陣\n",
    "    bobs_train_loss_i.append(bobs_train_loss)\n",
    "    bobs_valid_loss_i.append(bobs_valid_loss)\n",
    "    if bobs_valid_loss <= bobs_valid_loss_min:\n",
    "        print('Validation loss decreased ({:.6f} --> {:.6f}).  Saving model ...'.format(\n",
    "        bobs_valid_loss_min,\n",
    "        bobs_valid_loss))\n",
    "        bobs_valid_loss_min = bobs_valid_loss\n",
    "#作圖區\n",
    "print(bobs_train_loss_i) \n",
    "print(bobs_valid_loss_i)    \n",
    "    \n",
    "#圖區    \n",
    "plt.plot(range(n_epochs), bobs_train_loss_i,'b-', label='Training_loss')\n",
    "plt.plot(range(n_epochs), bobs_valid_loss_i,'g-', label='validation_loss')\n",
    "plt.title('Training & Validation loss')\n",
    "plt.xlabel('Number of epochs')\n",
    "plt.ylabel('Loss')\n",
    "plt.legend()\n",
    "plt.show()    "
   ]
  },
  {
   "cell_type": "code",
   "execution_count": 37,
   "metadata": {},
   "outputs": [
    {
     "name": "stdout",
     "output_type": "stream",
     "text": [
      "Test Loss: 0.654060\n",
      "Test Accuracy: 82% (1340/1622)\n"
     ]
    }
   ],
   "source": [
    "test(test_loader, bobs_model, criterion, use_cuda)"
   ]
  },
  {
   "cell_type": "markdown",
   "metadata": {},
   "source": [
    "# Model's  weight Calculation"
   ]
  },
  {
   "cell_type": "code",
   "execution_count": 38,
   "metadata": {},
   "outputs": [
    {
     "name": "stdout",
     "output_type": "stream",
     "text": [
      "cnn1.weight\n",
      "cnn1.bias\n",
      "cnn2.weight\n",
      "cnn2.bias\n",
      "cnn3.weight\n",
      "cnn3.bias\n",
      "cnn4.weight\n",
      "cnn4.bias\n",
      "fc1.weight\n",
      "fc1.bias\n",
      "fc2.weight\n",
      "fc2.bias\n",
      "tensor([[[[ 0.0937, -0.0141, -0.0336],\n",
      "          [-0.1706,  0.1743,  0.0261],\n",
      "          [-0.1845, -0.1188,  0.1364]],\n",
      "\n",
      "         [[-0.1528, -0.0816,  0.1160],\n",
      "          [-0.1556,  0.1148, -0.0090],\n",
      "          [ 0.0111, -0.1307, -0.1530]],\n",
      "\n",
      "         [[ 0.0941,  0.0314, -0.0297],\n",
      "          [ 0.1631, -0.0429, -0.1241],\n",
      "          [ 0.0967, -0.1169,  0.0343]]],\n",
      "\n",
      "\n",
      "        [[[ 0.1679,  0.1038,  0.1000],\n",
      "          [-0.0777, -0.1104, -0.1394],\n",
      "          [ 0.1550,  0.1917, -0.1159]],\n",
      "\n",
      "         [[-0.1547,  0.0192,  0.0735],\n",
      "          [-0.0455,  0.1452, -0.1596],\n",
      "          [ 0.1471,  0.1858,  0.1296]],\n",
      "\n",
      "         [[-0.0468,  0.0249,  0.1719],\n",
      "          [ 0.1586, -0.0036,  0.0539],\n",
      "          [ 0.1849, -0.0442, -0.0965]]],\n",
      "\n",
      "\n",
      "        [[[ 0.0376,  0.0174,  0.1159],\n",
      "          [-0.1866, -0.1484, -0.0533],\n",
      "          [ 0.0565,  0.0349, -0.0278]],\n",
      "\n",
      "         [[-0.0146,  0.1356, -0.0884],\n",
      "          [-0.1225,  0.1263, -0.1441],\n",
      "          [ 0.0688,  0.0323, -0.1857]],\n",
      "\n",
      "         [[-0.1237, -0.0143, -0.0472],\n",
      "          [ 0.0262, -0.1602,  0.1144],\n",
      "          [ 0.1642,  0.1073, -0.1469]]],\n",
      "\n",
      "\n",
      "        [[[-0.0785,  0.0018, -0.0416],\n",
      "          [ 0.1162,  0.1704, -0.1464],\n",
      "          [-0.1500,  0.0806, -0.0181]],\n",
      "\n",
      "         [[-0.0706,  0.1865,  0.1676],\n",
      "          [-0.1037, -0.0043, -0.1624],\n",
      "          [ 0.0683, -0.1036, -0.1322]],\n",
      "\n",
      "         [[ 0.1406,  0.1614, -0.0507],\n",
      "          [-0.1756, -0.0867,  0.0914],\n",
      "          [ 0.0288,  0.0556, -0.0273]]],\n",
      "\n",
      "\n",
      "        [[[ 0.1527, -0.1477, -0.1438],\n",
      "          [-0.0820,  0.0362,  0.0730],\n",
      "          [ 0.1867, -0.0171, -0.0655]],\n",
      "\n",
      "         [[ 0.0616,  0.0345,  0.1650],\n",
      "          [-0.0298, -0.0280,  0.0358],\n",
      "          [ 0.0144,  0.1092,  0.1598]],\n",
      "\n",
      "         [[-0.1638, -0.0517, -0.0465],\n",
      "          [ 0.0734, -0.0806, -0.1640],\n",
      "          [-0.0675, -0.0537, -0.0541]]],\n",
      "\n",
      "\n",
      "        [[[ 0.0957,  0.0076,  0.1498],\n",
      "          [ 0.0608, -0.0778, -0.1163],\n",
      "          [-0.1076,  0.1215, -0.1554]],\n",
      "\n",
      "         [[-0.0363,  0.0117,  0.1232],\n",
      "          [ 0.0138,  0.0611,  0.1356],\n",
      "          [-0.1361, -0.0588,  0.0811]],\n",
      "\n",
      "         [[ 0.1083,  0.0384,  0.0521],\n",
      "          [ 0.0530,  0.1715,  0.1887],\n",
      "          [ 0.1117, -0.1703,  0.1034]]],\n",
      "\n",
      "\n",
      "        [[[-0.1516,  0.0541, -0.0013],\n",
      "          [-0.0685, -0.1066,  0.0437],\n",
      "          [-0.0763, -0.0566,  0.0771]],\n",
      "\n",
      "         [[ 0.1550, -0.0447,  0.1890],\n",
      "          [-0.1447,  0.1375,  0.0264],\n",
      "          [-0.0827, -0.1043,  0.1529]],\n",
      "\n",
      "         [[ 0.1576,  0.0955, -0.0784],\n",
      "          [ 0.0471, -0.0796, -0.1745],\n",
      "          [-0.1367,  0.1466, -0.0537]]],\n",
      "\n",
      "\n",
      "        [[[-0.0432,  0.1739,  0.0789],\n",
      "          [ 0.0884,  0.1030,  0.1873],\n",
      "          [ 0.0678,  0.0841,  0.1411]],\n",
      "\n",
      "         [[ 0.0172,  0.1837, -0.0243],\n",
      "          [ 0.0523, -0.1707,  0.1779],\n",
      "          [ 0.0678, -0.1103, -0.1105]],\n",
      "\n",
      "         [[-0.0315, -0.0812, -0.1632],\n",
      "          [ 0.1651,  0.0878, -0.1469],\n",
      "          [-0.1172,  0.0367,  0.0478]]],\n",
      "\n",
      "\n",
      "        [[[-0.0248,  0.1020,  0.0105],\n",
      "          [-0.1563,  0.0530,  0.1588],\n",
      "          [-0.0827,  0.1725, -0.0501]],\n",
      "\n",
      "         [[ 0.0725, -0.1174, -0.0438],\n",
      "          [-0.0314, -0.0214, -0.1312],\n",
      "          [ 0.0127, -0.1497,  0.1386]],\n",
      "\n",
      "         [[-0.1159, -0.1728, -0.1524],\n",
      "          [-0.0602,  0.1199, -0.1645],\n",
      "          [-0.0990, -0.0377, -0.1199]]],\n",
      "\n",
      "\n",
      "        [[[ 0.1422, -0.0241,  0.1557],\n",
      "          [-0.0360,  0.1297, -0.0459],\n",
      "          [ 0.0873, -0.0723, -0.1701]],\n",
      "\n",
      "         [[-0.0880, -0.1670,  0.0886],\n",
      "          [ 0.0970, -0.1317,  0.1692],\n",
      "          [ 0.1113,  0.0496, -0.0909]],\n",
      "\n",
      "         [[-0.0914, -0.0835, -0.0430],\n",
      "          [-0.0446,  0.1176, -0.1006],\n",
      "          [-0.1516,  0.1551,  0.0516]]],\n",
      "\n",
      "\n",
      "        [[[-0.1733, -0.1350, -0.1198],\n",
      "          [ 0.0098,  0.0910,  0.0458],\n",
      "          [-0.0884, -0.0973, -0.1520]],\n",
      "\n",
      "         [[-0.0954,  0.0899,  0.0122],\n",
      "          [-0.1155, -0.1671,  0.1670],\n",
      "          [-0.1591, -0.1175,  0.0543]],\n",
      "\n",
      "         [[-0.1566,  0.1275,  0.0908],\n",
      "          [-0.0576, -0.0977, -0.0030],\n",
      "          [ 0.1695,  0.0946, -0.0904]]],\n",
      "\n",
      "\n",
      "        [[[ 0.0505, -0.1348, -0.0822],\n",
      "          [-0.1798,  0.0259, -0.1580],\n",
      "          [-0.1798, -0.0194, -0.0607]],\n",
      "\n",
      "         [[ 0.0866,  0.1383, -0.1095],\n",
      "          [ 0.0119, -0.0934, -0.0869],\n",
      "          [-0.0803, -0.1807,  0.0483]],\n",
      "\n",
      "         [[-0.0860,  0.1607, -0.1161],\n",
      "          [ 0.1106,  0.0733, -0.1665],\n",
      "          [-0.0340,  0.1188, -0.1212]]],\n",
      "\n",
      "\n",
      "        [[[-0.1052, -0.1762,  0.0425],\n",
      "          [-0.1695, -0.0417, -0.0135],\n",
      "          [-0.1466, -0.1735, -0.1832]],\n",
      "\n",
      "         [[ 0.1888, -0.1160, -0.0250],\n",
      "          [ 0.0250,  0.0795, -0.0644],\n",
      "          [-0.1853, -0.1924,  0.0148]],\n",
      "\n",
      "         [[-0.1742, -0.0909, -0.0658],\n",
      "          [ 0.1476,  0.1687,  0.0622],\n",
      "          [-0.1741,  0.1841, -0.1586]]],\n",
      "\n",
      "\n",
      "        [[[ 0.0381, -0.1605,  0.1447],\n",
      "          [-0.0072,  0.1817,  0.1579],\n",
      "          [-0.0905, -0.0906, -0.1082]],\n",
      "\n",
      "         [[-0.1099,  0.1425,  0.1805],\n",
      "          [-0.0296,  0.0188,  0.1174],\n",
      "          [-0.0545, -0.0347,  0.1425]],\n",
      "\n",
      "         [[ 0.0420,  0.1741, -0.1325],\n",
      "          [ 0.1541, -0.0873, -0.0704],\n",
      "          [-0.1860,  0.0622, -0.0024]]],\n",
      "\n",
      "\n",
      "        [[[ 0.0865,  0.1874,  0.0175],\n",
      "          [ 0.1792,  0.1571, -0.1538],\n",
      "          [ 0.0093, -0.1324,  0.0390]],\n",
      "\n",
      "         [[ 0.1563, -0.0056,  0.1061],\n",
      "          [-0.1414,  0.1719, -0.0878],\n",
      "          [-0.1661,  0.0771,  0.0024]],\n",
      "\n",
      "         [[-0.0538,  0.1021, -0.0351],\n",
      "          [-0.0959, -0.0829,  0.1908],\n",
      "          [-0.0894, -0.0405, -0.1291]]],\n",
      "\n",
      "\n",
      "        [[[-0.0143, -0.0431,  0.0257],\n",
      "          [ 0.1351, -0.0782,  0.1869],\n",
      "          [-0.0424, -0.1121,  0.0129]],\n",
      "\n",
      "         [[-0.0422, -0.0050, -0.0535],\n",
      "          [ 0.0480,  0.1638,  0.1778],\n",
      "          [-0.1400,  0.1275, -0.0355]],\n",
      "\n",
      "         [[ 0.1697, -0.1883,  0.1011],\n",
      "          [ 0.1613,  0.1394, -0.1093],\n",
      "          [ 0.1180,  0.1868, -0.0677]]]], device='cuda:0')\n",
      "tensor([ 0.1248,  0.0499, -0.0350,  0.0294, -0.0380,  0.0179, -0.1299, -0.0909,\n",
      "         0.1053,  0.0209,  0.0082,  0.0225,  0.0220, -0.1861, -0.1697, -0.0592],\n",
      "       device='cuda:0')\n"
     ]
    }
   ],
   "source": [
    "params=bobs_model.state_dict() \n",
    "for k,v in params.items():\n",
    "    print(k)\n",
    "    \n",
    "    \n",
    "print(params['cnn1.weight'])\n",
    "print(params['cnn1.bias'])"
   ]
  },
  {
   "cell_type": "code",
   "execution_count": 39,
   "metadata": {},
   "outputs": [
    {
     "name": "stdout",
     "output_type": "stream",
     "text": [
      "OrderedDict([('cnn1.weight', tensor([[[[ 0.0937, -0.0141, -0.0336],\n",
      "          [-0.1706,  0.1743,  0.0261],\n",
      "          [-0.1845, -0.1188,  0.1364]],\n",
      "\n",
      "         [[-0.1528, -0.0816,  0.1160],\n",
      "          [-0.1556,  0.1148, -0.0090],\n",
      "          [ 0.0111, -0.1307, -0.1530]],\n",
      "\n",
      "         [[ 0.0941,  0.0314, -0.0297],\n",
      "          [ 0.1631, -0.0429, -0.1241],\n",
      "          [ 0.0967, -0.1169,  0.0343]]],\n",
      "\n",
      "\n",
      "        [[[ 0.1679,  0.1038,  0.1000],\n",
      "          [-0.0777, -0.1104, -0.1394],\n",
      "          [ 0.1550,  0.1917, -0.1159]],\n",
      "\n",
      "         [[-0.1547,  0.0192,  0.0735],\n",
      "          [-0.0455,  0.1452, -0.1596],\n",
      "          [ 0.1471,  0.1858,  0.1296]],\n",
      "\n",
      "         [[-0.0468,  0.0249,  0.1719],\n",
      "          [ 0.1586, -0.0036,  0.0539],\n",
      "          [ 0.1849, -0.0442, -0.0965]]],\n",
      "\n",
      "\n",
      "        [[[ 0.0376,  0.0174,  0.1159],\n",
      "          [-0.1866, -0.1484, -0.0533],\n",
      "          [ 0.0565,  0.0349, -0.0278]],\n",
      "\n",
      "         [[-0.0146,  0.1356, -0.0884],\n",
      "          [-0.1225,  0.1263, -0.1441],\n",
      "          [ 0.0688,  0.0323, -0.1857]],\n",
      "\n",
      "         [[-0.1237, -0.0143, -0.0472],\n",
      "          [ 0.0262, -0.1602,  0.1144],\n",
      "          [ 0.1642,  0.1073, -0.1469]]],\n",
      "\n",
      "\n",
      "        [[[-0.0785,  0.0018, -0.0416],\n",
      "          [ 0.1162,  0.1704, -0.1464],\n",
      "          [-0.1500,  0.0806, -0.0181]],\n",
      "\n",
      "         [[-0.0706,  0.1865,  0.1676],\n",
      "          [-0.1037, -0.0043, -0.1624],\n",
      "          [ 0.0683, -0.1036, -0.1322]],\n",
      "\n",
      "         [[ 0.1406,  0.1614, -0.0507],\n",
      "          [-0.1756, -0.0867,  0.0914],\n",
      "          [ 0.0288,  0.0556, -0.0273]]],\n",
      "\n",
      "\n",
      "        [[[ 0.1527, -0.1477, -0.1438],\n",
      "          [-0.0820,  0.0362,  0.0730],\n",
      "          [ 0.1867, -0.0171, -0.0655]],\n",
      "\n",
      "         [[ 0.0616,  0.0345,  0.1650],\n",
      "          [-0.0298, -0.0280,  0.0358],\n",
      "          [ 0.0144,  0.1092,  0.1598]],\n",
      "\n",
      "         [[-0.1638, -0.0517, -0.0465],\n",
      "          [ 0.0734, -0.0806, -0.1640],\n",
      "          [-0.0675, -0.0537, -0.0541]]],\n",
      "\n",
      "\n",
      "        [[[ 0.0957,  0.0076,  0.1498],\n",
      "          [ 0.0608, -0.0778, -0.1163],\n",
      "          [-0.1076,  0.1215, -0.1554]],\n",
      "\n",
      "         [[-0.0363,  0.0117,  0.1232],\n",
      "          [ 0.0138,  0.0611,  0.1356],\n",
      "          [-0.1361, -0.0588,  0.0811]],\n",
      "\n",
      "         [[ 0.1083,  0.0384,  0.0521],\n",
      "          [ 0.0530,  0.1715,  0.1887],\n",
      "          [ 0.1117, -0.1703,  0.1034]]],\n",
      "\n",
      "\n",
      "        [[[-0.1516,  0.0541, -0.0013],\n",
      "          [-0.0685, -0.1066,  0.0437],\n",
      "          [-0.0763, -0.0566,  0.0771]],\n",
      "\n",
      "         [[ 0.1550, -0.0447,  0.1890],\n",
      "          [-0.1447,  0.1375,  0.0264],\n",
      "          [-0.0827, -0.1043,  0.1529]],\n",
      "\n",
      "         [[ 0.1576,  0.0955, -0.0784],\n",
      "          [ 0.0471, -0.0796, -0.1745],\n",
      "          [-0.1367,  0.1466, -0.0537]]],\n",
      "\n",
      "\n",
      "        [[[-0.0432,  0.1739,  0.0789],\n",
      "          [ 0.0884,  0.1030,  0.1873],\n",
      "          [ 0.0678,  0.0841,  0.1411]],\n",
      "\n",
      "         [[ 0.0172,  0.1837, -0.0243],\n",
      "          [ 0.0523, -0.1707,  0.1779],\n",
      "          [ 0.0678, -0.1103, -0.1105]],\n",
      "\n",
      "         [[-0.0315, -0.0812, -0.1632],\n",
      "          [ 0.1651,  0.0878, -0.1469],\n",
      "          [-0.1172,  0.0367,  0.0478]]],\n",
      "\n",
      "\n",
      "        [[[-0.0248,  0.1020,  0.0105],\n",
      "          [-0.1563,  0.0530,  0.1588],\n",
      "          [-0.0827,  0.1725, -0.0501]],\n",
      "\n",
      "         [[ 0.0725, -0.1174, -0.0438],\n",
      "          [-0.0314, -0.0214, -0.1312],\n",
      "          [ 0.0127, -0.1497,  0.1386]],\n",
      "\n",
      "         [[-0.1159, -0.1728, -0.1524],\n",
      "          [-0.0602,  0.1199, -0.1645],\n",
      "          [-0.0990, -0.0377, -0.1199]]],\n",
      "\n",
      "\n",
      "        [[[ 0.1422, -0.0241,  0.1557],\n",
      "          [-0.0360,  0.1297, -0.0459],\n",
      "          [ 0.0873, -0.0723, -0.1701]],\n",
      "\n",
      "         [[-0.0880, -0.1670,  0.0886],\n",
      "          [ 0.0970, -0.1317,  0.1692],\n",
      "          [ 0.1113,  0.0496, -0.0909]],\n",
      "\n",
      "         [[-0.0914, -0.0835, -0.0430],\n",
      "          [-0.0446,  0.1176, -0.1006],\n",
      "          [-0.1516,  0.1551,  0.0516]]],\n",
      "\n",
      "\n",
      "        [[[-0.1733, -0.1350, -0.1198],\n",
      "          [ 0.0098,  0.0910,  0.0458],\n",
      "          [-0.0884, -0.0973, -0.1520]],\n",
      "\n",
      "         [[-0.0954,  0.0899,  0.0122],\n",
      "          [-0.1155, -0.1671,  0.1670],\n",
      "          [-0.1591, -0.1175,  0.0543]],\n",
      "\n",
      "         [[-0.1566,  0.1275,  0.0908],\n",
      "          [-0.0576, -0.0977, -0.0030],\n",
      "          [ 0.1695,  0.0946, -0.0904]]],\n",
      "\n",
      "\n",
      "        [[[ 0.0505, -0.1348, -0.0822],\n",
      "          [-0.1798,  0.0259, -0.1580],\n",
      "          [-0.1798, -0.0194, -0.0607]],\n",
      "\n",
      "         [[ 0.0866,  0.1383, -0.1095],\n",
      "          [ 0.0119, -0.0934, -0.0869],\n",
      "          [-0.0803, -0.1807,  0.0483]],\n",
      "\n",
      "         [[-0.0860,  0.1607, -0.1161],\n",
      "          [ 0.1106,  0.0733, -0.1665],\n",
      "          [-0.0340,  0.1188, -0.1212]]],\n",
      "\n",
      "\n",
      "        [[[-0.1052, -0.1762,  0.0425],\n",
      "          [-0.1695, -0.0417, -0.0135],\n",
      "          [-0.1466, -0.1735, -0.1832]],\n",
      "\n",
      "         [[ 0.1888, -0.1160, -0.0250],\n",
      "          [ 0.0250,  0.0795, -0.0644],\n",
      "          [-0.1853, -0.1924,  0.0148]],\n",
      "\n",
      "         [[-0.1742, -0.0909, -0.0658],\n",
      "          [ 0.1476,  0.1687,  0.0622],\n",
      "          [-0.1741,  0.1841, -0.1586]]],\n",
      "\n",
      "\n",
      "        [[[ 0.0381, -0.1605,  0.1447],\n",
      "          [-0.0072,  0.1817,  0.1579],\n",
      "          [-0.0905, -0.0906, -0.1082]],\n",
      "\n",
      "         [[-0.1099,  0.1425,  0.1805],\n",
      "          [-0.0296,  0.0188,  0.1174],\n",
      "          [-0.0545, -0.0347,  0.1425]],\n",
      "\n",
      "         [[ 0.0420,  0.1741, -0.1325],\n",
      "          [ 0.1541, -0.0873, -0.0704],\n",
      "          [-0.1860,  0.0622, -0.0024]]],\n",
      "\n",
      "\n",
      "        [[[ 0.0865,  0.1874,  0.0175],\n",
      "          [ 0.1792,  0.1571, -0.1538],\n",
      "          [ 0.0093, -0.1324,  0.0390]],\n",
      "\n",
      "         [[ 0.1563, -0.0056,  0.1061],\n",
      "          [-0.1414,  0.1719, -0.0878],\n",
      "          [-0.1661,  0.0771,  0.0024]],\n",
      "\n",
      "         [[-0.0538,  0.1021, -0.0351],\n",
      "          [-0.0959, -0.0829,  0.1908],\n",
      "          [-0.0894, -0.0405, -0.1291]]],\n",
      "\n",
      "\n",
      "        [[[-0.0143, -0.0431,  0.0257],\n",
      "          [ 0.1351, -0.0782,  0.1869],\n",
      "          [-0.0424, -0.1121,  0.0129]],\n",
      "\n",
      "         [[-0.0422, -0.0050, -0.0535],\n",
      "          [ 0.0480,  0.1638,  0.1778],\n",
      "          [-0.1400,  0.1275, -0.0355]],\n",
      "\n",
      "         [[ 0.1697, -0.1883,  0.1011],\n",
      "          [ 0.1613,  0.1394, -0.1093],\n",
      "          [ 0.1180,  0.1868, -0.0677]]]], device='cuda:0')), ('cnn1.bias', tensor([ 0.1248,  0.0499, -0.0350,  0.0294, -0.0380,  0.0179, -0.1299, -0.0909,\n",
      "         0.1053,  0.0209,  0.0082,  0.0225,  0.0220, -0.1861, -0.1697, -0.0592],\n",
      "       device='cuda:0')), ('cnn2.weight', tensor([[[[-0.0520,  0.0366,  0.0329],\n",
      "          [-0.0429, -0.0474, -0.0236],\n",
      "          [ 0.0049,  0.0184,  0.0062]],\n",
      "\n",
      "         [[-0.0378,  0.0140, -0.0105],\n",
      "          [-0.0130, -0.0631, -0.0474],\n",
      "          [-0.0105, -0.0433,  0.0566]],\n",
      "\n",
      "         [[-0.0169,  0.0130,  0.0099],\n",
      "          [-0.0175, -0.0365,  0.0105],\n",
      "          [-0.0382,  0.0617,  0.0756]],\n",
      "\n",
      "         ...,\n",
      "\n",
      "         [[-0.0104, -0.0656, -0.0827],\n",
      "          [-0.0567, -0.0181, -0.0539],\n",
      "          [ 0.0055,  0.0359,  0.0398]],\n",
      "\n",
      "         [[ 0.0422,  0.0456,  0.0482],\n",
      "          [ 0.0151, -0.0766,  0.0204],\n",
      "          [-0.0329, -0.0002,  0.0125]],\n",
      "\n",
      "         [[-0.0822,  0.0099, -0.0494],\n",
      "          [-0.0021,  0.0685, -0.0712],\n",
      "          [-0.0248,  0.0644,  0.0351]]],\n",
      "\n",
      "\n",
      "        [[[ 0.0520, -0.0532, -0.0534],\n",
      "          [ 0.0010,  0.0417,  0.0042],\n",
      "          [-0.0654,  0.0009, -0.0114]],\n",
      "\n",
      "         [[ 0.0173,  0.0590,  0.0098],\n",
      "          [-0.0317, -0.0536, -0.0405],\n",
      "          [-0.0162,  0.0144, -0.0236]],\n",
      "\n",
      "         [[ 0.0557,  0.0358,  0.0299],\n",
      "          [-0.0296,  0.0002, -0.0743],\n",
      "          [ 0.0309, -0.0783, -0.0337]],\n",
      "\n",
      "         ...,\n",
      "\n",
      "         [[ 0.0195,  0.0433, -0.0073],\n",
      "          [-0.0031,  0.0066, -0.0749],\n",
      "          [-0.0165, -0.0561,  0.0208]],\n",
      "\n",
      "         [[-0.0555, -0.0373, -0.0646],\n",
      "          [-0.0545, -0.0132,  0.0003],\n",
      "          [ 0.0383, -0.0760, -0.0670]],\n",
      "\n",
      "         [[-0.0160,  0.0245, -0.0532],\n",
      "          [ 0.0416,  0.0429,  0.0305],\n",
      "          [-0.0018,  0.0723, -0.0692]]],\n",
      "\n",
      "\n",
      "        [[[ 0.0163, -0.0110,  0.0759],\n",
      "          [-0.0720,  0.0329,  0.0159],\n",
      "          [-0.0413,  0.0563, -0.0128]],\n",
      "\n",
      "         [[ 0.0030, -0.0560,  0.0067],\n",
      "          [ 0.0793,  0.0291, -0.0831],\n",
      "          [ 0.0832, -0.0178, -0.0181]],\n",
      "\n",
      "         [[ 0.0672, -0.0704,  0.0395],\n",
      "          [ 0.0058, -0.0311,  0.0805],\n",
      "          [-0.0185, -0.0344, -0.0119]],\n",
      "\n",
      "         ...,\n",
      "\n",
      "         [[-0.0209, -0.0240, -0.0794],\n",
      "          [ 0.0349,  0.0262,  0.0702],\n",
      "          [-0.0598,  0.0662, -0.0733]],\n",
      "\n",
      "         [[-0.0078,  0.0590, -0.0125],\n",
      "          [-0.0189,  0.0738, -0.0085],\n",
      "          [ 0.0079,  0.0355, -0.0116]],\n",
      "\n",
      "         [[-0.0512, -0.0544, -0.0617],\n",
      "          [ 0.0161,  0.0417,  0.0501],\n",
      "          [-0.0756,  0.0541, -0.0658]]],\n",
      "\n",
      "\n",
      "        ...,\n",
      "\n",
      "\n",
      "        [[[ 0.0571,  0.0601,  0.0367],\n",
      "          [-0.0371,  0.0269,  0.0005],\n",
      "          [-0.0404,  0.0747,  0.0607]],\n",
      "\n",
      "         [[-0.0490,  0.0222,  0.0629],\n",
      "          [-0.0320, -0.0633,  0.0527],\n",
      "          [ 0.0496, -0.0267, -0.0167]],\n",
      "\n",
      "         [[ 0.0101,  0.0315,  0.0735],\n",
      "          [-0.0831, -0.0262,  0.0074],\n",
      "          [ 0.0066,  0.0190, -0.0805]],\n",
      "\n",
      "         ...,\n",
      "\n",
      "         [[-0.0228,  0.0783,  0.0304],\n",
      "          [ 0.0231, -0.0830,  0.0354],\n",
      "          [-0.0353, -0.0324,  0.0634]],\n",
      "\n",
      "         [[ 0.0150, -0.0042,  0.0771],\n",
      "          [ 0.0233,  0.0090,  0.0315],\n",
      "          [ 0.0683,  0.0773, -0.0645]],\n",
      "\n",
      "         [[ 0.0179,  0.0487, -0.0601],\n",
      "          [ 0.0460,  0.0732,  0.0081],\n",
      "          [ 0.0062,  0.0071, -0.0719]]],\n",
      "\n",
      "\n",
      "        [[[ 0.0641, -0.0483,  0.0566],\n",
      "          [-0.0054, -0.0092,  0.0798],\n",
      "          [ 0.0637, -0.0758, -0.0664]],\n",
      "\n",
      "         [[ 0.0137,  0.0271,  0.0485],\n",
      "          [-0.0347,  0.0820,  0.0790],\n",
      "          [ 0.0599, -0.0242, -0.0200]],\n",
      "\n",
      "         [[ 0.0434, -0.0688,  0.0769],\n",
      "          [ 0.0469, -0.0336, -0.0195],\n",
      "          [ 0.0144, -0.0301,  0.0822]],\n",
      "\n",
      "         ...,\n",
      "\n",
      "         [[-0.0447, -0.0710, -0.0735],\n",
      "          [-0.0822,  0.0257,  0.0626],\n",
      "          [-0.0233, -0.0772,  0.0449]],\n",
      "\n",
      "         [[-0.0214,  0.0510, -0.0382],\n",
      "          [ 0.0627,  0.0249, -0.0136],\n",
      "          [ 0.0102,  0.0547,  0.0389]],\n",
      "\n",
      "         [[ 0.0403, -0.0087,  0.0303],\n",
      "          [ 0.0515,  0.0136,  0.0601],\n",
      "          [-0.0829,  0.0726, -0.0732]]],\n",
      "\n",
      "\n",
      "        [[[ 0.0088,  0.0656, -0.0709],\n",
      "          [ 0.0544, -0.0710,  0.0822],\n",
      "          [-0.0583,  0.0587,  0.0166]],\n",
      "\n",
      "         [[ 0.0194,  0.0361, -0.0030],\n",
      "          [-0.0305,  0.0242,  0.0743],\n",
      "          [ 0.0710, -0.0620,  0.0791]],\n",
      "\n",
      "         [[ 0.0175, -0.0183, -0.0063],\n",
      "          [ 0.0220, -0.0818, -0.0697],\n",
      "          [-0.0051,  0.0482, -0.0771]],\n",
      "\n",
      "         ...,\n",
      "\n",
      "         [[ 0.0588, -0.0398,  0.0636],\n",
      "          [-0.0798, -0.0080, -0.0104],\n",
      "          [ 0.0668, -0.0636, -0.0459]],\n",
      "\n",
      "         [[ 0.0429,  0.0632,  0.0347],\n",
      "          [-0.0609,  0.0104, -0.0633],\n",
      "          [ 0.0397, -0.0081, -0.0157]],\n",
      "\n",
      "         [[ 0.0671,  0.0619,  0.0009],\n",
      "          [ 0.0706,  0.0421, -0.0769],\n",
      "          [ 0.0368,  0.0281, -0.0425]]]], device='cuda:0')), ('cnn2.bias', tensor([ 0.0598,  0.0754, -0.0104,  0.0282,  0.0390,  0.0713,  0.0059, -0.0259,\n",
      "        -0.0724, -0.0541,  0.0812,  0.0707, -0.0476, -0.0796,  0.0763,  0.0272,\n",
      "        -0.0113, -0.0428, -0.0546, -0.0741,  0.0453, -0.0010,  0.0560,  0.0828,\n",
      "         0.0580,  0.0697,  0.0669,  0.0520, -0.0455,  0.0304,  0.0240, -0.0452],\n",
      "       device='cuda:0')), ('cnn3.weight', tensor([[[[-8.7956e-02]],\n",
      "\n",
      "         [[-1.0884e-01]],\n",
      "\n",
      "         [[-1.4608e-01]],\n",
      "\n",
      "         [[ 8.3756e-02]],\n",
      "\n",
      "         [[-3.7343e-02]],\n",
      "\n",
      "         [[-6.0574e-02]],\n",
      "\n",
      "         [[ 1.7213e-01]],\n",
      "\n",
      "         [[-8.7259e-02]],\n",
      "\n",
      "         [[ 1.2363e-01]],\n",
      "\n",
      "         [[-1.9689e-02]],\n",
      "\n",
      "         [[ 7.8314e-02]],\n",
      "\n",
      "         [[-8.8146e-02]],\n",
      "\n",
      "         [[ 8.4815e-02]],\n",
      "\n",
      "         [[ 6.5944e-02]],\n",
      "\n",
      "         [[ 7.1772e-02]],\n",
      "\n",
      "         [[-3.9373e-02]],\n",
      "\n",
      "         [[-7.7238e-02]],\n",
      "\n",
      "         [[-3.4540e-02]],\n",
      "\n",
      "         [[-2.7594e-02]],\n",
      "\n",
      "         [[-1.0134e-01]],\n",
      "\n",
      "         [[-8.7288e-02]],\n",
      "\n",
      "         [[ 1.5581e-01]],\n",
      "\n",
      "         [[-8.0180e-02]],\n",
      "\n",
      "         [[-2.1829e-02]],\n",
      "\n",
      "         [[-4.8456e-02]],\n",
      "\n",
      "         [[-5.9211e-02]],\n",
      "\n",
      "         [[ 1.7020e-01]],\n",
      "\n",
      "         [[-1.6968e-01]],\n",
      "\n",
      "         [[ 1.6482e-01]],\n",
      "\n",
      "         [[ 9.2714e-02]],\n",
      "\n",
      "         [[ 1.2640e-01]],\n",
      "\n",
      "         [[ 1.2658e-02]]],\n",
      "\n",
      "\n",
      "        [[[ 1.1385e-01]],\n",
      "\n",
      "         [[-5.7030e-02]],\n",
      "\n",
      "         [[-8.0879e-02]],\n",
      "\n",
      "         [[ 1.3120e-02]],\n",
      "\n",
      "         [[-9.7831e-02]],\n",
      "\n",
      "         [[ 3.4996e-02]],\n",
      "\n",
      "         [[-1.6119e-01]],\n",
      "\n",
      "         [[ 9.9879e-02]],\n",
      "\n",
      "         [[-9.9722e-03]],\n",
      "\n",
      "         [[ 1.3998e-01]],\n",
      "\n",
      "         [[-1.6672e-02]],\n",
      "\n",
      "         [[-1.4936e-01]],\n",
      "\n",
      "         [[ 6.4688e-02]],\n",
      "\n",
      "         [[-6.1657e-02]],\n",
      "\n",
      "         [[ 1.5383e-02]],\n",
      "\n",
      "         [[-1.3549e-01]],\n",
      "\n",
      "         [[ 5.7672e-03]],\n",
      "\n",
      "         [[-9.9710e-02]],\n",
      "\n",
      "         [[-1.2930e-01]],\n",
      "\n",
      "         [[ 1.3571e-01]],\n",
      "\n",
      "         [[ 1.6997e-01]],\n",
      "\n",
      "         [[ 5.9471e-02]],\n",
      "\n",
      "         [[-1.6357e-01]],\n",
      "\n",
      "         [[ 1.5500e-01]],\n",
      "\n",
      "         [[ 3.0712e-02]],\n",
      "\n",
      "         [[ 8.8446e-02]],\n",
      "\n",
      "         [[-4.8120e-02]],\n",
      "\n",
      "         [[ 1.0631e-01]],\n",
      "\n",
      "         [[-1.2650e-01]],\n",
      "\n",
      "         [[-8.1808e-02]],\n",
      "\n",
      "         [[-1.2448e-01]],\n",
      "\n",
      "         [[-1.3019e-01]]],\n",
      "\n",
      "\n",
      "        [[[-1.0673e-01]],\n",
      "\n",
      "         [[ 1.6230e-01]],\n",
      "\n",
      "         [[-2.0220e-02]],\n",
      "\n",
      "         [[-9.2944e-02]],\n",
      "\n",
      "         [[ 1.0130e-01]],\n",
      "\n",
      "         [[ 1.5017e-01]],\n",
      "\n",
      "         [[-1.4219e-01]],\n",
      "\n",
      "         [[ 1.5010e-01]],\n",
      "\n",
      "         [[ 1.6623e-01]],\n",
      "\n",
      "         [[ 1.6098e-01]],\n",
      "\n",
      "         [[ 1.4387e-01]],\n",
      "\n",
      "         [[ 1.1896e-01]],\n",
      "\n",
      "         [[-1.3277e-01]],\n",
      "\n",
      "         [[-1.3527e-01]],\n",
      "\n",
      "         [[ 3.0883e-02]],\n",
      "\n",
      "         [[-9.1295e-02]],\n",
      "\n",
      "         [[-5.2417e-02]],\n",
      "\n",
      "         [[ 7.3084e-03]],\n",
      "\n",
      "         [[-1.7019e-01]],\n",
      "\n",
      "         [[ 8.0608e-02]],\n",
      "\n",
      "         [[ 5.3004e-02]],\n",
      "\n",
      "         [[-6.4817e-02]],\n",
      "\n",
      "         [[-5.9001e-02]],\n",
      "\n",
      "         [[-1.9369e-02]],\n",
      "\n",
      "         [[-2.4645e-03]],\n",
      "\n",
      "         [[-1.1540e-02]],\n",
      "\n",
      "         [[-9.6156e-02]],\n",
      "\n",
      "         [[-3.9383e-02]],\n",
      "\n",
      "         [[-1.4487e-01]],\n",
      "\n",
      "         [[-5.2705e-02]],\n",
      "\n",
      "         [[ 1.4571e-01]],\n",
      "\n",
      "         [[ 1.2141e-01]]],\n",
      "\n",
      "\n",
      "        [[[ 1.2710e-01]],\n",
      "\n",
      "         [[-2.7648e-02]],\n",
      "\n",
      "         [[ 8.3835e-02]],\n",
      "\n",
      "         [[ 1.4700e-01]],\n",
      "\n",
      "         [[-8.7511e-02]],\n",
      "\n",
      "         [[-1.0470e-01]],\n",
      "\n",
      "         [[ 3.9319e-02]],\n",
      "\n",
      "         [[-8.2484e-02]],\n",
      "\n",
      "         [[ 7.1151e-03]],\n",
      "\n",
      "         [[ 4.9843e-02]],\n",
      "\n",
      "         [[-7.7434e-02]],\n",
      "\n",
      "         [[ 1.5004e-02]],\n",
      "\n",
      "         [[-1.0941e-01]],\n",
      "\n",
      "         [[-1.1793e-01]],\n",
      "\n",
      "         [[-1.0391e-01]],\n",
      "\n",
      "         [[ 5.5028e-02]],\n",
      "\n",
      "         [[ 9.6015e-02]],\n",
      "\n",
      "         [[-1.2223e-01]],\n",
      "\n",
      "         [[ 1.1799e-01]],\n",
      "\n",
      "         [[-3.5434e-02]],\n",
      "\n",
      "         [[ 4.6337e-02]],\n",
      "\n",
      "         [[-1.2853e-01]],\n",
      "\n",
      "         [[ 1.6856e-01]],\n",
      "\n",
      "         [[ 1.4051e-01]],\n",
      "\n",
      "         [[-1.6989e-01]],\n",
      "\n",
      "         [[-1.5490e-01]],\n",
      "\n",
      "         [[-7.1269e-02]],\n",
      "\n",
      "         [[ 9.1735e-02]],\n",
      "\n",
      "         [[ 1.6415e-01]],\n",
      "\n",
      "         [[ 1.1158e-01]],\n",
      "\n",
      "         [[-1.0453e-01]],\n",
      "\n",
      "         [[ 3.3949e-02]]],\n",
      "\n",
      "\n",
      "        [[[-6.0300e-02]],\n",
      "\n",
      "         [[ 3.8679e-02]],\n",
      "\n",
      "         [[-2.2914e-02]],\n",
      "\n",
      "         [[-1.4487e-01]],\n",
      "\n",
      "         [[-9.2833e-02]],\n",
      "\n",
      "         [[ 1.3616e-01]],\n",
      "\n",
      "         [[ 1.5545e-01]],\n",
      "\n",
      "         [[ 2.0212e-02]],\n",
      "\n",
      "         [[ 1.0497e-01]],\n",
      "\n",
      "         [[ 4.3294e-02]],\n",
      "\n",
      "         [[ 1.5635e-01]],\n",
      "\n",
      "         [[ 1.2421e-01]],\n",
      "\n",
      "         [[ 1.5220e-02]],\n",
      "\n",
      "         [[ 1.5930e-01]],\n",
      "\n",
      "         [[-1.1991e-02]],\n",
      "\n",
      "         [[-3.0348e-02]],\n",
      "\n",
      "         [[-1.0943e-01]],\n",
      "\n",
      "         [[-1.7036e-01]],\n",
      "\n",
      "         [[-7.7664e-02]],\n",
      "\n",
      "         [[ 8.1746e-04]],\n",
      "\n",
      "         [[-1.7594e-01]],\n",
      "\n",
      "         [[ 1.6236e-01]],\n",
      "\n",
      "         [[-8.1301e-02]],\n",
      "\n",
      "         [[ 6.6452e-02]],\n",
      "\n",
      "         [[-1.5624e-01]],\n",
      "\n",
      "         [[ 9.4561e-02]],\n",
      "\n",
      "         [[ 4.6536e-02]],\n",
      "\n",
      "         [[ 9.3269e-02]],\n",
      "\n",
      "         [[ 3.0837e-02]],\n",
      "\n",
      "         [[-1.2652e-01]],\n",
      "\n",
      "         [[ 9.7419e-02]],\n",
      "\n",
      "         [[-1.5085e-01]]],\n",
      "\n",
      "\n",
      "        [[[ 1.3910e-01]],\n",
      "\n",
      "         [[ 9.6354e-02]],\n",
      "\n",
      "         [[-5.7746e-02]],\n",
      "\n",
      "         [[ 1.5364e-01]],\n",
      "\n",
      "         [[-1.1535e-02]],\n",
      "\n",
      "         [[-1.4017e-01]],\n",
      "\n",
      "         [[ 8.3196e-02]],\n",
      "\n",
      "         [[ 2.8839e-02]],\n",
      "\n",
      "         [[ 1.5826e-01]],\n",
      "\n",
      "         [[ 1.6012e-01]],\n",
      "\n",
      "         [[-6.5628e-02]],\n",
      "\n",
      "         [[-5.3697e-02]],\n",
      "\n",
      "         [[-7.4956e-02]],\n",
      "\n",
      "         [[-2.3944e-02]],\n",
      "\n",
      "         [[ 9.8988e-02]],\n",
      "\n",
      "         [[ 1.3793e-02]],\n",
      "\n",
      "         [[-1.2405e-01]],\n",
      "\n",
      "         [[-9.8515e-02]],\n",
      "\n",
      "         [[ 1.5800e-01]],\n",
      "\n",
      "         [[ 6.7252e-02]],\n",
      "\n",
      "         [[ 1.5513e-01]],\n",
      "\n",
      "         [[-2.7286e-02]],\n",
      "\n",
      "         [[ 9.4860e-02]],\n",
      "\n",
      "         [[-2.7672e-02]],\n",
      "\n",
      "         [[-4.0857e-02]],\n",
      "\n",
      "         [[ 1.6995e-01]],\n",
      "\n",
      "         [[ 6.9842e-02]],\n",
      "\n",
      "         [[ 9.6252e-02]],\n",
      "\n",
      "         [[-3.8181e-02]],\n",
      "\n",
      "         [[ 1.4524e-01]],\n",
      "\n",
      "         [[ 1.0152e-02]],\n",
      "\n",
      "         [[ 7.8109e-02]]],\n",
      "\n",
      "\n",
      "        [[[-3.3142e-02]],\n",
      "\n",
      "         [[-5.6877e-02]],\n",
      "\n",
      "         [[ 4.8052e-02]],\n",
      "\n",
      "         [[-2.2424e-02]],\n",
      "\n",
      "         [[-4.4252e-02]],\n",
      "\n",
      "         [[-1.3140e-02]],\n",
      "\n",
      "         [[ 1.2896e-01]],\n",
      "\n",
      "         [[-4.4582e-02]],\n",
      "\n",
      "         [[ 1.1986e-01]],\n",
      "\n",
      "         [[-1.4313e-01]],\n",
      "\n",
      "         [[ 1.0466e-01]],\n",
      "\n",
      "         [[ 4.0311e-02]],\n",
      "\n",
      "         [[ 9.0283e-03]],\n",
      "\n",
      "         [[ 9.3943e-02]],\n",
      "\n",
      "         [[ 7.5289e-02]],\n",
      "\n",
      "         [[-8.2909e-02]],\n",
      "\n",
      "         [[ 1.3925e-01]],\n",
      "\n",
      "         [[-1.5928e-01]],\n",
      "\n",
      "         [[-8.4462e-02]],\n",
      "\n",
      "         [[ 2.3998e-02]],\n",
      "\n",
      "         [[-5.2320e-02]],\n",
      "\n",
      "         [[ 1.0117e-01]],\n",
      "\n",
      "         [[ 1.2137e-01]],\n",
      "\n",
      "         [[ 1.5065e-01]],\n",
      "\n",
      "         [[-1.3307e-01]],\n",
      "\n",
      "         [[ 9.9230e-03]],\n",
      "\n",
      "         [[ 6.2897e-02]],\n",
      "\n",
      "         [[-1.0911e-01]],\n",
      "\n",
      "         [[ 7.9144e-02]],\n",
      "\n",
      "         [[ 4.0920e-02]],\n",
      "\n",
      "         [[-1.2797e-01]],\n",
      "\n",
      "         [[ 1.9428e-02]]],\n",
      "\n",
      "\n",
      "        [[[-6.4778e-02]],\n",
      "\n",
      "         [[ 5.1965e-02]],\n",
      "\n",
      "         [[-7.3237e-02]],\n",
      "\n",
      "         [[-5.4235e-02]],\n",
      "\n",
      "         [[-8.0658e-02]],\n",
      "\n",
      "         [[ 4.5327e-02]],\n",
      "\n",
      "         [[ 1.7147e-01]],\n",
      "\n",
      "         [[ 1.4310e-01]],\n",
      "\n",
      "         [[-9.9656e-02]],\n",
      "\n",
      "         [[ 6.9288e-02]],\n",
      "\n",
      "         [[-1.6609e-01]],\n",
      "\n",
      "         [[ 1.6438e-01]],\n",
      "\n",
      "         [[-3.7208e-02]],\n",
      "\n",
      "         [[ 1.5821e-01]],\n",
      "\n",
      "         [[-7.0787e-03]],\n",
      "\n",
      "         [[-1.3452e-01]],\n",
      "\n",
      "         [[-1.0670e-01]],\n",
      "\n",
      "         [[ 1.1829e-02]],\n",
      "\n",
      "         [[ 1.5204e-01]],\n",
      "\n",
      "         [[ 1.3568e-01]],\n",
      "\n",
      "         [[ 1.0815e-01]],\n",
      "\n",
      "         [[ 1.5260e-01]],\n",
      "\n",
      "         [[-1.3684e-01]],\n",
      "\n",
      "         [[-2.6976e-02]],\n",
      "\n",
      "         [[ 1.7227e-01]],\n",
      "\n",
      "         [[-1.1532e-01]],\n",
      "\n",
      "         [[ 1.4019e-01]],\n",
      "\n",
      "         [[-1.4930e-01]],\n",
      "\n",
      "         [[-1.5633e-02]],\n",
      "\n",
      "         [[-7.0491e-02]],\n",
      "\n",
      "         [[ 1.5761e-01]],\n",
      "\n",
      "         [[ 1.2357e-01]]],\n",
      "\n",
      "\n",
      "        [[[ 8.5050e-02]],\n",
      "\n",
      "         [[ 1.3978e-01]],\n",
      "\n",
      "         [[ 1.4050e-01]],\n",
      "\n",
      "         [[ 9.6982e-02]],\n",
      "\n",
      "         [[ 7.2779e-02]],\n",
      "\n",
      "         [[-1.0167e-01]],\n",
      "\n",
      "         [[ 1.7649e-01]],\n",
      "\n",
      "         [[ 3.7082e-02]],\n",
      "\n",
      "         [[-1.2622e-02]],\n",
      "\n",
      "         [[-1.0129e-01]],\n",
      "\n",
      "         [[-1.3662e-01]],\n",
      "\n",
      "         [[-8.5570e-02]],\n",
      "\n",
      "         [[-6.6585e-02]],\n",
      "\n",
      "         [[ 1.7485e-01]],\n",
      "\n",
      "         [[-1.5697e-02]],\n",
      "\n",
      "         [[-1.3009e-01]],\n",
      "\n",
      "         [[-1.6455e-02]],\n",
      "\n",
      "         [[ 7.2630e-02]],\n",
      "\n",
      "         [[ 6.2778e-02]],\n",
      "\n",
      "         [[ 7.4888e-02]],\n",
      "\n",
      "         [[ 5.3568e-03]],\n",
      "\n",
      "         [[ 1.6472e-01]],\n",
      "\n",
      "         [[-7.6393e-02]],\n",
      "\n",
      "         [[ 1.4624e-01]],\n",
      "\n",
      "         [[-1.4897e-01]],\n",
      "\n",
      "         [[ 4.8272e-02]],\n",
      "\n",
      "         [[ 1.5912e-01]],\n",
      "\n",
      "         [[ 6.6042e-02]],\n",
      "\n",
      "         [[ 8.6210e-02]],\n",
      "\n",
      "         [[-6.8493e-02]],\n",
      "\n",
      "         [[-1.4473e-01]],\n",
      "\n",
      "         [[ 6.7107e-02]]],\n",
      "\n",
      "\n",
      "        [[[-3.3603e-02]],\n",
      "\n",
      "         [[-1.3689e-01]],\n",
      "\n",
      "         [[ 6.6597e-03]],\n",
      "\n",
      "         [[-8.3244e-02]],\n",
      "\n",
      "         [[-4.1181e-02]],\n",
      "\n",
      "         [[ 4.4010e-02]],\n",
      "\n",
      "         [[-2.6204e-02]],\n",
      "\n",
      "         [[ 1.2483e-01]],\n",
      "\n",
      "         [[ 1.6715e-01]],\n",
      "\n",
      "         [[ 2.0724e-03]],\n",
      "\n",
      "         [[-7.0213e-02]],\n",
      "\n",
      "         [[ 1.2898e-01]],\n",
      "\n",
      "         [[-2.6565e-02]],\n",
      "\n",
      "         [[ 3.2590e-03]],\n",
      "\n",
      "         [[ 3.8355e-02]],\n",
      "\n",
      "         [[-1.4236e-01]],\n",
      "\n",
      "         [[-1.4106e-01]],\n",
      "\n",
      "         [[ 7.0401e-02]],\n",
      "\n",
      "         [[-1.2004e-01]],\n",
      "\n",
      "         [[-4.2189e-02]],\n",
      "\n",
      "         [[-8.2518e-02]],\n",
      "\n",
      "         [[ 1.2754e-01]],\n",
      "\n",
      "         [[ 2.9049e-02]],\n",
      "\n",
      "         [[ 7.1339e-02]],\n",
      "\n",
      "         [[-1.4966e-01]],\n",
      "\n",
      "         [[-3.9600e-02]],\n",
      "\n",
      "         [[-2.8700e-02]],\n",
      "\n",
      "         [[-4.6578e-02]],\n",
      "\n",
      "         [[-1.1980e-01]],\n",
      "\n",
      "         [[ 1.7421e-01]],\n",
      "\n",
      "         [[ 1.0357e-01]],\n",
      "\n",
      "         [[ 6.0671e-02]]],\n",
      "\n",
      "\n",
      "        [[[ 2.7550e-02]],\n",
      "\n",
      "         [[-3.6846e-02]],\n",
      "\n",
      "         [[-5.3437e-02]],\n",
      "\n",
      "         [[-7.3756e-02]],\n",
      "\n",
      "         [[ 1.7333e-02]],\n",
      "\n",
      "         [[-1.4886e-01]],\n",
      "\n",
      "         [[-1.2886e-02]],\n",
      "\n",
      "         [[-9.2673e-02]],\n",
      "\n",
      "         [[ 1.0461e-01]],\n",
      "\n",
      "         [[ 8.9163e-02]],\n",
      "\n",
      "         [[ 3.2396e-02]],\n",
      "\n",
      "         [[-5.9687e-02]],\n",
      "\n",
      "         [[-1.3042e-01]],\n",
      "\n",
      "         [[-2.2866e-02]],\n",
      "\n",
      "         [[ 1.4066e-01]],\n",
      "\n",
      "         [[ 1.4838e-01]],\n",
      "\n",
      "         [[-1.4326e-01]],\n",
      "\n",
      "         [[ 6.0616e-02]],\n",
      "\n",
      "         [[-2.6547e-02]],\n",
      "\n",
      "         [[-8.8257e-03]],\n",
      "\n",
      "         [[-6.3743e-02]],\n",
      "\n",
      "         [[-1.5816e-01]],\n",
      "\n",
      "         [[-1.0079e-01]],\n",
      "\n",
      "         [[-1.4777e-01]],\n",
      "\n",
      "         [[ 6.2045e-02]],\n",
      "\n",
      "         [[ 9.1802e-02]],\n",
      "\n",
      "         [[-1.5309e-01]],\n",
      "\n",
      "         [[ 9.6626e-02]],\n",
      "\n",
      "         [[-4.5462e-02]],\n",
      "\n",
      "         [[ 1.4056e-01]],\n",
      "\n",
      "         [[ 1.4273e-01]],\n",
      "\n",
      "         [[ 6.3107e-02]]],\n",
      "\n",
      "\n",
      "        [[[-3.9661e-02]],\n",
      "\n",
      "         [[ 9.6423e-02]],\n",
      "\n",
      "         [[-6.1890e-03]],\n",
      "\n",
      "         [[ 3.6296e-03]],\n",
      "\n",
      "         [[-1.1408e-01]],\n",
      "\n",
      "         [[ 1.2092e-01]],\n",
      "\n",
      "         [[ 1.5570e-01]],\n",
      "\n",
      "         [[ 5.2106e-02]],\n",
      "\n",
      "         [[ 1.2306e-01]],\n",
      "\n",
      "         [[-1.5705e-01]],\n",
      "\n",
      "         [[ 1.6172e-01]],\n",
      "\n",
      "         [[-1.3102e-01]],\n",
      "\n",
      "         [[-6.8238e-02]],\n",
      "\n",
      "         [[ 1.2925e-01]],\n",
      "\n",
      "         [[ 1.7890e-02]],\n",
      "\n",
      "         [[-9.3976e-02]],\n",
      "\n",
      "         [[-9.5540e-03]],\n",
      "\n",
      "         [[ 1.1529e-01]],\n",
      "\n",
      "         [[-1.5748e-01]],\n",
      "\n",
      "         [[ 1.4229e-01]],\n",
      "\n",
      "         [[-9.3251e-02]],\n",
      "\n",
      "         [[ 8.9689e-02]],\n",
      "\n",
      "         [[-3.8827e-02]],\n",
      "\n",
      "         [[ 1.0304e-01]],\n",
      "\n",
      "         [[-1.3874e-01]],\n",
      "\n",
      "         [[-8.5927e-02]],\n",
      "\n",
      "         [[ 1.5101e-01]],\n",
      "\n",
      "         [[-3.3648e-02]],\n",
      "\n",
      "         [[-1.1705e-01]],\n",
      "\n",
      "         [[-7.2305e-02]],\n",
      "\n",
      "         [[ 2.0150e-02]],\n",
      "\n",
      "         [[ 1.1775e-02]]],\n",
      "\n",
      "\n",
      "        [[[ 1.2728e-01]],\n",
      "\n",
      "         [[ 7.0663e-02]],\n",
      "\n",
      "         [[-8.3936e-02]],\n",
      "\n",
      "         [[ 8.7398e-03]],\n",
      "\n",
      "         [[ 1.0577e-01]],\n",
      "\n",
      "         [[ 1.1055e-01]],\n",
      "\n",
      "         [[ 9.8091e-02]],\n",
      "\n",
      "         [[ 4.2479e-02]],\n",
      "\n",
      "         [[-7.9902e-02]],\n",
      "\n",
      "         [[ 1.4778e-01]],\n",
      "\n",
      "         [[-5.1984e-02]],\n",
      "\n",
      "         [[ 1.4065e-01]],\n",
      "\n",
      "         [[-3.7737e-02]],\n",
      "\n",
      "         [[ 3.0274e-02]],\n",
      "\n",
      "         [[-1.4543e-01]],\n",
      "\n",
      "         [[ 9.7527e-02]],\n",
      "\n",
      "         [[-1.4661e-01]],\n",
      "\n",
      "         [[-3.8930e-02]],\n",
      "\n",
      "         [[ 1.2460e-01]],\n",
      "\n",
      "         [[ 1.4901e-08]],\n",
      "\n",
      "         [[ 1.4430e-01]],\n",
      "\n",
      "         [[-1.1156e-01]],\n",
      "\n",
      "         [[ 4.1875e-02]],\n",
      "\n",
      "         [[ 1.5161e-01]],\n",
      "\n",
      "         [[ 9.5661e-02]],\n",
      "\n",
      "         [[-8.7506e-02]],\n",
      "\n",
      "         [[ 1.3778e-02]],\n",
      "\n",
      "         [[ 4.7424e-02]],\n",
      "\n",
      "         [[ 5.5566e-02]],\n",
      "\n",
      "         [[ 7.5880e-03]],\n",
      "\n",
      "         [[-4.6457e-02]],\n",
      "\n",
      "         [[-4.6404e-02]]],\n",
      "\n",
      "\n",
      "        [[[ 5.4860e-02]],\n",
      "\n",
      "         [[ 1.0806e-02]],\n",
      "\n",
      "         [[ 1.3712e-01]],\n",
      "\n",
      "         [[ 1.3443e-01]],\n",
      "\n",
      "         [[ 1.5573e-01]],\n",
      "\n",
      "         [[ 9.0593e-02]],\n",
      "\n",
      "         [[ 1.7365e-01]],\n",
      "\n",
      "         [[-1.0711e-01]],\n",
      "\n",
      "         [[ 2.4710e-02]],\n",
      "\n",
      "         [[ 1.1417e-01]],\n",
      "\n",
      "         [[ 5.7487e-02]],\n",
      "\n",
      "         [[-1.7215e-01]],\n",
      "\n",
      "         [[ 1.0311e-01]],\n",
      "\n",
      "         [[ 1.3887e-01]],\n",
      "\n",
      "         [[-1.3500e-01]],\n",
      "\n",
      "         [[-7.9068e-02]],\n",
      "\n",
      "         [[ 1.6740e-01]],\n",
      "\n",
      "         [[-9.8883e-02]],\n",
      "\n",
      "         [[-2.1664e-02]],\n",
      "\n",
      "         [[-2.4304e-02]],\n",
      "\n",
      "         [[ 8.1290e-02]],\n",
      "\n",
      "         [[ 1.4392e-01]],\n",
      "\n",
      "         [[ 1.0627e-01]],\n",
      "\n",
      "         [[ 6.5740e-02]],\n",
      "\n",
      "         [[ 1.6150e-01]],\n",
      "\n",
      "         [[-1.3928e-01]],\n",
      "\n",
      "         [[-4.3802e-02]],\n",
      "\n",
      "         [[ 1.2629e-01]],\n",
      "\n",
      "         [[-1.5557e-01]],\n",
      "\n",
      "         [[ 1.6764e-01]],\n",
      "\n",
      "         [[ 1.7412e-01]],\n",
      "\n",
      "         [[ 6.1809e-02]]],\n",
      "\n",
      "\n",
      "        [[[ 6.9981e-02]],\n",
      "\n",
      "         [[ 1.6440e-01]],\n",
      "\n",
      "         [[-1.6538e-01]],\n",
      "\n",
      "         [[ 1.6742e-02]],\n",
      "\n",
      "         [[ 1.5153e-01]],\n",
      "\n",
      "         [[ 9.1513e-02]],\n",
      "\n",
      "         [[-1.1713e-01]],\n",
      "\n",
      "         [[-1.3880e-01]],\n",
      "\n",
      "         [[ 8.7473e-02]],\n",
      "\n",
      "         [[-3.0752e-02]],\n",
      "\n",
      "         [[-7.5363e-02]],\n",
      "\n",
      "         [[ 1.7373e-02]],\n",
      "\n",
      "         [[ 1.0706e-01]],\n",
      "\n",
      "         [[ 4.0901e-02]],\n",
      "\n",
      "         [[ 3.5323e-02]],\n",
      "\n",
      "         [[-1.4300e-01]],\n",
      "\n",
      "         [[-1.7394e-01]],\n",
      "\n",
      "         [[ 1.6141e-01]],\n",
      "\n",
      "         [[-1.5945e-01]],\n",
      "\n",
      "         [[-1.4426e-01]],\n",
      "\n",
      "         [[-7.0275e-02]],\n",
      "\n",
      "         [[ 1.3612e-01]],\n",
      "\n",
      "         [[ 5.0873e-02]],\n",
      "\n",
      "         [[-7.8186e-02]],\n",
      "\n",
      "         [[ 1.4502e-01]],\n",
      "\n",
      "         [[-1.1903e-01]],\n",
      "\n",
      "         [[-1.0357e-01]],\n",
      "\n",
      "         [[ 6.0058e-03]],\n",
      "\n",
      "         [[-1.5477e-01]],\n",
      "\n",
      "         [[ 8.7840e-02]],\n",
      "\n",
      "         [[ 6.5585e-02]],\n",
      "\n",
      "         [[ 1.3749e-01]]],\n",
      "\n",
      "\n",
      "        [[[ 2.1990e-02]],\n",
      "\n",
      "         [[ 1.0997e-01]],\n",
      "\n",
      "         [[ 5.1305e-02]],\n",
      "\n",
      "         [[-1.2200e-01]],\n",
      "\n",
      "         [[ 1.2811e-01]],\n",
      "\n",
      "         [[ 5.9324e-02]],\n",
      "\n",
      "         [[-1.7270e-01]],\n",
      "\n",
      "         [[-8.8546e-02]],\n",
      "\n",
      "         [[ 1.2328e-01]],\n",
      "\n",
      "         [[-6.8374e-02]],\n",
      "\n",
      "         [[ 1.2250e-01]],\n",
      "\n",
      "         [[-1.5149e-01]],\n",
      "\n",
      "         [[ 1.1594e-01]],\n",
      "\n",
      "         [[-1.1254e-01]],\n",
      "\n",
      "         [[-1.3886e-01]],\n",
      "\n",
      "         [[-7.9570e-02]],\n",
      "\n",
      "         [[ 1.7671e-01]],\n",
      "\n",
      "         [[ 1.6479e-01]],\n",
      "\n",
      "         [[ 1.4794e-01]],\n",
      "\n",
      "         [[-1.4124e-01]],\n",
      "\n",
      "         [[-1.4487e-01]],\n",
      "\n",
      "         [[-3.8919e-02]],\n",
      "\n",
      "         [[ 5.8865e-02]],\n",
      "\n",
      "         [[-7.5394e-02]],\n",
      "\n",
      "         [[ 2.4556e-02]],\n",
      "\n",
      "         [[-2.7685e-02]],\n",
      "\n",
      "         [[-1.1693e-01]],\n",
      "\n",
      "         [[ 1.2397e-01]],\n",
      "\n",
      "         [[-3.0279e-02]],\n",
      "\n",
      "         [[-5.4354e-02]],\n",
      "\n",
      "         [[ 1.3471e-01]],\n",
      "\n",
      "         [[-7.3500e-02]]]], device='cuda:0')), ('cnn3.bias', tensor([-0.0529, -0.0275,  0.0577,  0.0013, -0.0019,  0.0893, -0.1025,  0.1429,\n",
      "         0.0457,  0.0554, -0.1505, -0.0549, -0.1073,  0.1718,  0.1579, -0.1750],\n",
      "       device='cuda:0')), ('cnn4.weight', tensor([[[[-0.1279]],\n",
      "\n",
      "         [[-0.2439]],\n",
      "\n",
      "         [[-0.0510]],\n",
      "\n",
      "         [[ 0.1906]],\n",
      "\n",
      "         [[-0.1394]],\n",
      "\n",
      "         [[ 0.1857]],\n",
      "\n",
      "         [[ 0.0202]],\n",
      "\n",
      "         [[-0.2070]],\n",
      "\n",
      "         [[-0.1118]],\n",
      "\n",
      "         [[-0.1491]],\n",
      "\n",
      "         [[-0.0014]],\n",
      "\n",
      "         [[-0.2245]],\n",
      "\n",
      "         [[-0.1620]],\n",
      "\n",
      "         [[-0.0715]],\n",
      "\n",
      "         [[-0.0864]],\n",
      "\n",
      "         [[-0.1329]]],\n",
      "\n",
      "\n",
      "        [[[-0.1640]],\n",
      "\n",
      "         [[ 0.0935]],\n",
      "\n",
      "         [[ 0.0174]],\n",
      "\n",
      "         [[ 0.2056]],\n",
      "\n",
      "         [[ 0.0188]],\n",
      "\n",
      "         [[ 0.0707]],\n",
      "\n",
      "         [[ 0.2053]],\n",
      "\n",
      "         [[ 0.1130]],\n",
      "\n",
      "         [[ 0.0966]],\n",
      "\n",
      "         [[-0.2453]],\n",
      "\n",
      "         [[ 0.1883]],\n",
      "\n",
      "         [[ 0.1691]],\n",
      "\n",
      "         [[ 0.2038]],\n",
      "\n",
      "         [[ 0.1324]],\n",
      "\n",
      "         [[ 0.2417]],\n",
      "\n",
      "         [[-0.1319]]],\n",
      "\n",
      "\n",
      "        [[[ 0.0015]],\n",
      "\n",
      "         [[ 0.0801]],\n",
      "\n",
      "         [[ 0.1770]],\n",
      "\n",
      "         [[ 0.0019]],\n",
      "\n",
      "         [[-0.0624]],\n",
      "\n",
      "         [[ 0.1318]],\n",
      "\n",
      "         [[-0.0758]],\n",
      "\n",
      "         [[ 0.2431]],\n",
      "\n",
      "         [[-0.1290]],\n",
      "\n",
      "         [[ 0.0039]],\n",
      "\n",
      "         [[-0.1519]],\n",
      "\n",
      "         [[ 0.0896]],\n",
      "\n",
      "         [[-0.1633]],\n",
      "\n",
      "         [[-0.1913]],\n",
      "\n",
      "         [[-0.1803]],\n",
      "\n",
      "         [[-0.2331]]],\n",
      "\n",
      "\n",
      "        [[[-0.0332]],\n",
      "\n",
      "         [[-0.1520]],\n",
      "\n",
      "         [[ 0.2349]],\n",
      "\n",
      "         [[-0.1373]],\n",
      "\n",
      "         [[ 0.1925]],\n",
      "\n",
      "         [[ 0.0648]],\n",
      "\n",
      "         [[-0.2197]],\n",
      "\n",
      "         [[-0.2311]],\n",
      "\n",
      "         [[-0.2089]],\n",
      "\n",
      "         [[ 0.1137]],\n",
      "\n",
      "         [[ 0.1624]],\n",
      "\n",
      "         [[ 0.1446]],\n",
      "\n",
      "         [[ 0.1685]],\n",
      "\n",
      "         [[-0.0724]],\n",
      "\n",
      "         [[ 0.2219]],\n",
      "\n",
      "         [[ 0.0168]]],\n",
      "\n",
      "\n",
      "        [[[-0.1036]],\n",
      "\n",
      "         [[ 0.0053]],\n",
      "\n",
      "         [[-0.1093]],\n",
      "\n",
      "         [[-0.2273]],\n",
      "\n",
      "         [[ 0.2031]],\n",
      "\n",
      "         [[-0.1122]],\n",
      "\n",
      "         [[-0.0641]],\n",
      "\n",
      "         [[ 0.1321]],\n",
      "\n",
      "         [[-0.0278]],\n",
      "\n",
      "         [[ 0.0651]],\n",
      "\n",
      "         [[-0.1701]],\n",
      "\n",
      "         [[ 0.2104]],\n",
      "\n",
      "         [[ 0.0344]],\n",
      "\n",
      "         [[-0.0829]],\n",
      "\n",
      "         [[ 0.1422]],\n",
      "\n",
      "         [[ 0.2391]]],\n",
      "\n",
      "\n",
      "        [[[-0.0517]],\n",
      "\n",
      "         [[ 0.1047]],\n",
      "\n",
      "         [[ 0.1254]],\n",
      "\n",
      "         [[ 0.1351]],\n",
      "\n",
      "         [[ 0.0470]],\n",
      "\n",
      "         [[ 0.0714]],\n",
      "\n",
      "         [[ 0.2423]],\n",
      "\n",
      "         [[-0.1301]],\n",
      "\n",
      "         [[ 0.1075]],\n",
      "\n",
      "         [[ 0.1883]],\n",
      "\n",
      "         [[-0.0052]],\n",
      "\n",
      "         [[-0.1296]],\n",
      "\n",
      "         [[-0.0076]],\n",
      "\n",
      "         [[-0.2029]],\n",
      "\n",
      "         [[-0.1582]],\n",
      "\n",
      "         [[ 0.1040]]],\n",
      "\n",
      "\n",
      "        [[[-0.0922]],\n",
      "\n",
      "         [[ 0.0432]],\n",
      "\n",
      "         [[-0.1669]],\n",
      "\n",
      "         [[ 0.1435]],\n",
      "\n",
      "         [[ 0.0985]],\n",
      "\n",
      "         [[-0.0951]],\n",
      "\n",
      "         [[-0.0118]],\n",
      "\n",
      "         [[-0.0945]],\n",
      "\n",
      "         [[ 0.0183]],\n",
      "\n",
      "         [[ 0.0191]],\n",
      "\n",
      "         [[ 0.0290]],\n",
      "\n",
      "         [[-0.2288]],\n",
      "\n",
      "         [[ 0.2053]],\n",
      "\n",
      "         [[ 0.0607]],\n",
      "\n",
      "         [[ 0.0045]],\n",
      "\n",
      "         [[ 0.0044]]],\n",
      "\n",
      "\n",
      "        [[[ 0.0004]],\n",
      "\n",
      "         [[-0.1598]],\n",
      "\n",
      "         [[-0.1225]],\n",
      "\n",
      "         [[ 0.2103]],\n",
      "\n",
      "         [[-0.0009]],\n",
      "\n",
      "         [[-0.1105]],\n",
      "\n",
      "         [[ 0.0607]],\n",
      "\n",
      "         [[ 0.0845]],\n",
      "\n",
      "         [[ 0.0706]],\n",
      "\n",
      "         [[-0.1379]],\n",
      "\n",
      "         [[ 0.0131]],\n",
      "\n",
      "         [[-0.0917]],\n",
      "\n",
      "         [[-0.0240]],\n",
      "\n",
      "         [[ 0.0602]],\n",
      "\n",
      "         [[-0.1093]],\n",
      "\n",
      "         [[-0.0419]]]], device='cuda:0')), ('cnn4.bias', tensor([-0.0078, -0.1281,  0.1316,  0.1907, -0.1628,  0.1796, -0.1682, -0.1993],\n",
      "       device='cuda:0')), ('fc1.weight', tensor([[ 0.0263, -0.0064,  0.0155,  ...,  0.0241,  0.0215,  0.0124],\n",
      "        [-0.0173,  0.0224, -0.0092,  ...,  0.0280, -0.0189, -0.0140],\n",
      "        [-0.0310,  0.0012, -0.0146,  ...,  0.0233,  0.0058, -0.0145],\n",
      "        ...,\n",
      "        [ 0.0113,  0.0138,  0.0021,  ..., -0.0121,  0.0038,  0.0182],\n",
      "        [ 0.0133, -0.0177,  0.0251,  ..., -0.0269,  0.0253, -0.0094],\n",
      "        [-0.0182, -0.0232,  0.0195,  ..., -0.0020, -0.0026,  0.0091]],\n",
      "       device='cuda:0')), ('fc1.bias', tensor([ 1.4827e-06, -9.5071e-03,  1.9959e-02, -2.0325e-02,  2.8847e-02,\n",
      "        -1.3296e-02, -2.1517e-02,  2.2958e-02,  3.7869e-03, -7.2857e-03,\n",
      "        -3.0593e-02,  1.8769e-02, -2.7197e-02, -8.9273e-03,  1.8938e-02,\n",
      "        -3.1521e-02, -3.0177e-02, -7.5736e-03,  2.6590e-02,  5.1865e-03,\n",
      "         1.6005e-02,  4.9123e-03, -2.1720e-02,  2.7705e-02, -2.1740e-02,\n",
      "         5.3556e-03, -2.0639e-02, -2.5600e-02, -1.1550e-02, -1.5500e-02,\n",
      "         3.0804e-03, -2.9305e-02, -4.6228e-03, -2.4038e-02,  3.0602e-02,\n",
      "        -2.3952e-02, -4.5758e-03, -2.8711e-03, -1.8896e-02, -3.1953e-02,\n",
      "         1.1110e-02, -4.0379e-03,  2.4857e-02, -2.1139e-02,  1.1554e-02,\n",
      "         2.6811e-04,  1.8489e-02,  1.3413e-02,  3.8326e-03, -2.8964e-02,\n",
      "         2.9819e-04,  2.5436e-02,  7.6411e-03,  1.5951e-02, -2.3851e-02,\n",
      "         2.3388e-02,  3.0895e-02,  5.1335e-03,  2.1024e-02,  2.0990e-02,\n",
      "         3.1095e-02,  1.5798e-02, -1.0695e-03, -2.6087e-02,  7.8058e-03,\n",
      "         2.2357e-03, -1.4500e-02, -2.0156e-02,  9.2099e-03, -4.9968e-03,\n",
      "         2.7815e-02,  4.0742e-03,  1.7294e-02, -5.1123e-03,  1.5454e-03,\n",
      "        -8.2620e-03, -1.0809e-02,  3.0316e-02,  4.7763e-03, -9.3418e-03,\n",
      "        -2.3656e-02, -5.9045e-03,  2.9075e-02,  8.4536e-03, -8.3958e-04,\n",
      "        -2.8615e-02,  3.0297e-02, -2.2990e-02,  1.8252e-02, -8.3738e-03,\n",
      "        -2.5794e-02,  1.2764e-03, -1.3537e-02, -9.3133e-03, -1.2717e-02,\n",
      "        -7.1378e-03, -2.1822e-02, -9.6773e-03, -2.6454e-02, -2.9956e-02,\n",
      "         3.1686e-02,  2.2716e-02, -1.1501e-02,  2.2456e-02, -1.5259e-02,\n",
      "         9.7937e-03,  1.3019e-02,  6.0509e-03,  2.5271e-02, -1.9211e-02,\n",
      "        -2.6410e-02,  2.6619e-02, -2.5389e-02,  1.7241e-02,  1.5220e-02,\n",
      "         1.3956e-02,  1.3642e-02, -9.8980e-03, -3.1676e-02,  1.3594e-03,\n",
      "        -1.1993e-02, -7.2327e-05,  8.7954e-06,  8.9779e-03,  5.4087e-03,\n",
      "         2.3499e-02,  2.7778e-02,  2.2755e-02,  1.0558e-02, -2.8765e-02,\n",
      "         3.0502e-02,  1.2336e-02,  3.1602e-03,  7.4436e-04,  3.0478e-02,\n",
      "         3.0084e-02,  2.5487e-02,  1.8337e-03, -1.1859e-02, -2.6187e-02,\n",
      "        -2.8849e-03,  8.2878e-03, -1.7761e-02, -8.7522e-03,  1.4113e-02,\n",
      "        -9.5260e-03,  2.4976e-02,  1.3877e-02, -1.9528e-02, -2.0144e-02,\n",
      "        -2.9003e-02,  8.4538e-04, -1.5660e-02,  2.5605e-02, -4.2072e-03,\n",
      "        -1.6938e-02,  2.9273e-02, -1.5117e-02, -1.6734e-02, -2.0127e-02,\n",
      "        -2.0047e-02, -1.3371e-02,  2.7436e-02, -5.8336e-04,  2.5799e-03,\n",
      "         3.1343e-02, -3.1701e-02, -2.4195e-02, -2.7253e-02,  3.0900e-03,\n",
      "         2.8504e-02, -6.3772e-03,  2.7703e-03, -1.1161e-02, -1.5463e-02,\n",
      "        -6.0251e-03,  2.6158e-02, -2.2427e-02,  2.9030e-02, -1.3242e-02,\n",
      "         4.2466e-03,  8.2564e-03,  1.2541e-02, -4.9449e-03,  2.7206e-02,\n",
      "         2.5017e-02, -6.1303e-03,  4.0070e-04,  6.0532e-03,  1.1366e-02,\n",
      "        -8.9681e-03,  5.6512e-04,  2.9131e-02, -8.4361e-03,  8.6640e-03,\n",
      "         5.8183e-03, -3.3996e-03,  1.2229e-02,  1.4334e-02,  2.9070e-02,\n",
      "         2.4208e-02, -6.6944e-03, -2.3440e-02, -1.4147e-02, -3.5495e-03,\n",
      "        -1.5120e-02,  1.4818e-02, -9.7821e-03,  2.5779e-03,  2.3589e-02,\n",
      "         1.1957e-02, -2.4305e-02, -1.4712e-02,  2.3161e-02, -1.8280e-03,\n",
      "        -2.9762e-02,  1.3035e-02,  2.7353e-02, -1.8865e-02, -8.1384e-03,\n",
      "         3.9079e-03, -2.7414e-02, -3.3654e-03,  1.7472e-02,  1.3426e-02,\n",
      "        -2.4861e-03,  7.6742e-03, -1.9158e-02,  1.5181e-02,  9.0916e-03,\n",
      "         1.5044e-02,  1.8260e-02,  7.1815e-04,  1.8474e-02,  1.1710e-02,\n",
      "         2.7966e-02, -1.6715e-02,  2.7760e-02,  3.1947e-02,  2.7519e-02,\n",
      "        -1.4685e-02, -1.4732e-02,  7.9176e-03,  2.4735e-02, -2.8462e-02,\n",
      "        -1.4516e-02,  1.2442e-02,  1.9929e-02,  1.8336e-02,  2.9428e-02,\n",
      "         5.6627e-03,  1.7742e-02,  9.2852e-03, -1.6266e-03, -2.6527e-02,\n",
      "        -2.9413e-02,  6.5008e-03,  1.2751e-02, -1.6809e-02, -2.9202e-02,\n",
      "        -2.9773e-02,  2.3618e-02, -5.4721e-03, -1.5064e-02, -1.2655e-02,\n",
      "         1.9910e-02,  8.2896e-03,  2.2588e-02,  4.1812e-03, -1.4178e-02,\n",
      "         1.0358e-02,  4.1283e-04,  4.6547e-03,  2.5482e-02, -8.5345e-03,\n",
      "        -1.2339e-03,  9.3783e-03, -1.2914e-02, -2.9211e-02,  2.7627e-02,\n",
      "        -2.2600e-02, -6.7781e-03,  1.5146e-02, -2.3163e-02, -1.0158e-02,\n",
      "        -1.1784e-02, -2.3119e-02,  1.2245e-02, -2.3915e-02, -6.8434e-03,\n",
      "        -9.2931e-03, -1.5038e-02,  2.8898e-02, -2.5412e-02,  1.9922e-03,\n",
      "        -5.3717e-03, -1.2934e-02,  8.2284e-03, -1.6333e-02, -1.0972e-02,\n",
      "        -1.1598e-03, -2.9344e-02,  3.0247e-02, -1.4530e-02, -1.9383e-02,\n",
      "         4.0673e-03,  8.6327e-04,  3.2883e-03, -1.9517e-02, -1.6730e-02,\n",
      "         1.9267e-02,  1.8855e-02, -1.5333e-02,  4.1865e-03,  3.1125e-02,\n",
      "         1.8060e-02,  3.2061e-02, -1.1996e-02,  3.1167e-02,  2.3869e-02,\n",
      "        -8.0335e-03, -6.6457e-03,  8.5531e-04,  9.5314e-03,  2.1155e-02,\n",
      "        -1.2169e-02, -1.6725e-02,  2.1847e-02, -2.1458e-02, -6.2679e-03,\n",
      "        -7.6299e-04, -2.7961e-03,  3.2474e-03,  2.4309e-02, -2.1604e-02,\n",
      "         1.4315e-02,  2.0191e-02, -2.9279e-03, -7.7802e-03, -1.8199e-02,\n",
      "         3.0792e-02, -2.6120e-02, -1.7190e-02, -5.1455e-03, -2.4975e-02,\n",
      "         1.8836e-02,  2.8426e-02, -2.0378e-02, -1.2533e-02,  2.9148e-02,\n",
      "         2.4847e-02, -9.7107e-03,  1.0902e-02, -3.1041e-02, -2.4974e-02,\n",
      "         1.0221e-02,  2.7103e-02,  9.7182e-03, -3.7829e-03,  9.1627e-03,\n",
      "         2.9043e-02, -1.6305e-02, -3.6553e-03, -1.3399e-02, -1.9815e-02,\n",
      "         6.9275e-03, -1.6539e-03, -2.1004e-03,  1.2764e-02,  2.5739e-02,\n",
      "         2.3056e-02, -1.0548e-02, -1.7263e-02,  1.9479e-02, -1.1392e-02,\n",
      "        -3.8486e-03,  3.9100e-03, -1.0375e-03,  2.2166e-02, -1.6043e-02,\n",
      "         1.8121e-03,  7.3697e-03,  2.8686e-02, -2.2518e-02,  1.9099e-03,\n",
      "        -1.9921e-02, -3.1031e-02, -6.9070e-03,  2.5559e-03,  2.1421e-02,\n",
      "         1.1669e-02,  3.1208e-02,  1.2621e-02, -1.8876e-02, -1.1898e-02,\n",
      "        -2.5194e-02, -2.5107e-02,  2.7587e-02, -1.9081e-03, -2.5979e-02,\n",
      "        -1.7099e-02,  2.9795e-03,  3.2585e-03,  5.5512e-03,  2.9113e-03,\n",
      "         2.8017e-02,  1.0538e-02,  2.9418e-02, -1.8127e-02, -2.1403e-02,\n",
      "        -2.7580e-02, -1.5413e-02, -1.1804e-02, -2.4037e-03,  2.1311e-02,\n",
      "        -2.3672e-02,  2.6715e-02, -1.7997e-02,  5.4258e-03,  2.0465e-02,\n",
      "        -2.8764e-02,  2.7145e-02, -2.6274e-02,  4.3508e-03, -2.5933e-02,\n",
      "         3.1907e-02, -3.1058e-02,  2.1892e-02, -1.9713e-02,  2.2347e-03,\n",
      "         3.0904e-02, -5.1536e-03,  2.2543e-02,  1.7973e-03,  5.0879e-03,\n",
      "        -9.6143e-03,  5.8895e-03,  2.2841e-02, -1.3393e-02,  1.0565e-03,\n",
      "         9.6746e-06,  5.3087e-03,  2.3779e-02,  2.0716e-02, -4.2599e-03,\n",
      "         1.3964e-02, -1.3642e-02,  2.3941e-02, -1.8875e-02,  3.0889e-02,\n",
      "        -3.1010e-02, -1.9130e-02, -4.0483e-03,  8.2264e-03, -2.5172e-02,\n",
      "         1.7986e-02, -3.2991e-03, -1.9828e-02,  2.5572e-02, -2.3273e-02,\n",
      "        -5.9944e-05,  2.5561e-02, -1.0174e-02,  6.3992e-03, -3.2262e-03,\n",
      "         2.9490e-02,  1.4092e-02,  1.0457e-02, -2.4252e-02, -1.9920e-03,\n",
      "         2.0775e-02, -2.4790e-02, -2.9130e-03,  2.1822e-02,  3.1541e-02,\n",
      "        -2.3432e-02, -1.8323e-02, -3.1271e-02, -1.3310e-02,  2.9285e-02,\n",
      "        -2.9121e-02,  3.0995e-02,  2.8198e-02,  1.5067e-02,  2.3134e-02,\n",
      "         1.4264e-02,  4.7570e-03,  1.1478e-02, -3.0314e-02, -2.1195e-02,\n",
      "        -2.7556e-03,  2.8581e-02, -2.4636e-02, -2.0908e-02,  3.0573e-02,\n",
      "        -1.0160e-02, -2.9012e-03,  2.5418e-02, -1.7231e-02,  2.4685e-02,\n",
      "        -2.8405e-03,  2.6977e-03, -2.9341e-02, -2.2298e-03, -2.9403e-02,\n",
      "        -2.2037e-02, -1.4064e-02, -3.0981e-02,  1.1200e-02, -1.8812e-02,\n",
      "        -7.2667e-03, -6.6023e-04], device='cuda:0')), ('fc2.weight', tensor([[-0.0104, -0.0402, -0.0280,  ..., -0.0190, -0.0405, -0.0101],\n",
      "        [ 0.0068,  0.0271, -0.0031,  ..., -0.0404, -0.0375,  0.0107]],\n",
      "       device='cuda:0')), ('fc2.bias', tensor([0.0340, 0.0389], device='cuda:0'))])\n"
     ]
    }
   ],
   "source": [
    "print(model.state_dict())"
   ]
  },
  {
   "cell_type": "markdown",
   "metadata": {},
   "source": [
    "# Print model's all weight"
   ]
  },
  {
   "cell_type": "code",
   "execution_count": 40,
   "metadata": {},
   "outputs": [
    {
     "name": "stdout",
     "output_type": "stream",
     "text": [
      "cnn1.weight: torch.Size([16, 3, 3, 3])\n",
      "cnn1.bias: torch.Size([16])\n",
      "cnn2.weight: torch.Size([32, 16, 3, 3])\n",
      "cnn2.bias: torch.Size([32])\n",
      "cnn3.weight: torch.Size([16, 32, 1, 1])\n",
      "cnn3.bias: torch.Size([16])\n",
      "cnn4.weight: torch.Size([8, 16, 1, 1])\n",
      "cnn4.bias: torch.Size([8])\n",
      "fc1.weight: torch.Size([512, 968])\n",
      "fc1.bias: torch.Size([512])\n",
      "fc2.weight: torch.Size([2, 512])\n",
      "fc2.bias: torch.Size([2])\n",
      "cnn1.weight: torch.Size([16, 3, 3, 3])\n",
      "cnn1.bias: torch.Size([16])\n",
      "cnn2.weight: torch.Size([32, 16, 3, 3])\n",
      "cnn2.bias: torch.Size([32])\n",
      "cnn3.weight: torch.Size([16, 32, 1, 1])\n",
      "cnn3.bias: torch.Size([16])\n",
      "cnn4.weight: torch.Size([8, 16, 1, 1])\n",
      "cnn4.bias: torch.Size([8])\n",
      "fc1.weight: torch.Size([512, 968])\n",
      "fc1.bias: torch.Size([512])\n",
      "fc2.weight: torch.Size([2, 512])\n",
      "fc2.bias: torch.Size([2])\n"
     ]
    }
   ],
   "source": [
    "for name, para in bobs_model.named_parameters():\n",
    "    print('{}: {}'.format(name, para.shape))\n",
    "    #print(para.shape)\n",
    "for name, para in alices_model.named_parameters():\n",
    "    print('{}: {}'.format(name, para.shape))\n",
    "    #print(para.shape)    \n"
   ]
  },
  {
   "cell_type": "code",
   "execution_count": 41,
   "metadata": {},
   "outputs": [
    {
     "ename": "NameError",
     "evalue": "name 'mode1' is not defined",
     "output_type": "error",
     "traceback": [
      "\u001b[0;31m---------------------------------------------------------------------------\u001b[0m",
      "\u001b[0;31mNameError\u001b[0m                                 Traceback (most recent call last)",
      "\u001b[0;32m<ipython-input-41-d1080203a961>\u001b[0m in \u001b[0;36m<module>\u001b[0;34m\u001b[0m\n\u001b[0;32m----> 1\u001b[0;31m \u001b[0mlist\u001b[0m\u001b[0;34m(\u001b[0m\u001b[0;34m[\u001b[0m\u001b[0mmode1\u001b[0m\u001b[0;34m,\u001b[0m \u001b[0mmode2\u001b[0m\u001b[0;34m,\u001b[0m \u001b[0mmodel3\u001b[0m\u001b[0;34m,\u001b[0m \u001b[0mmodel4\u001b[0m\u001b[0;34m]\u001b[0m\u001b[0;34m)\u001b[0m\u001b[0;34m\u001b[0m\u001b[0;34m\u001b[0m\u001b[0m\n\u001b[0m\u001b[1;32m      2\u001b[0m \u001b[0;34m\u001b[0m\u001b[0m\n\u001b[1;32m      3\u001b[0m \u001b[0;31m# 1. 初始化model,資料分割並傳送給其他人 (資料科學家，你想要train一個模型，可是你沒有資料)\u001b[0m\u001b[0;34m\u001b[0m\u001b[0;34m\u001b[0m\u001b[0;34m\u001b[0m\u001b[0m\n\u001b[1;32m      4\u001b[0m \u001b[0;31m# 2. 傳送model到有資料的人，讓有資料的人去訓練 model，要可以設定epoch摩es\u001b[0m\u001b[0;34m\u001b[0m\u001b[0;34m\u001b[0m\u001b[0;34m\u001b[0m\u001b[0m\n\u001b[1;32m      5\u001b[0m \u001b[0;31m# 3. 資料科學家aggregate模型參數\u001b[0m\u001b[0;34m\u001b[0m\u001b[0;34m\u001b[0m\u001b[0;34m\u001b[0m\u001b[0m\n",
      "\u001b[0;31mNameError\u001b[0m: name 'mode1' is not defined"
     ]
    }
   ],
   "source": [
    "list([mode1, mode2, model3, model4])\n",
    "\n",
    "# 1. 初始化model,資料分割並傳送給其他人 (資料科學家，你想要train一個模型，可是你沒有資料)\n",
    "# 2. 傳送model到有資料的人，讓有資料的人去訓練 model，要可以設定epoch摩es\n",
    "# 3. 資料科學家aggregate模型參數\n",
    "# 4. 資料科學家更新有資料的人的model\n",
    "\n",
    "\n",
    "\n",
    "\n",
    "\n",
    "\n",
    "# aggregate\n",
    "# 初始化設定 第一個model agg_model = model_array(0)\n",
    "# \n",
    "\n",
    "\n",
    "\n",
    "\n",
    "for param in bobs_model.parameters():\n",
    "    print((param.data + param.data)/2)"
   ]
  },
  {
   "cell_type": "code",
   "execution_count": null,
   "metadata": {},
   "outputs": [],
   "source": [
    "import torch\n",
    "from torchvision import models\n",
    "\n",
    "m = models.resnet18()\n",
    "print(m)\n",
    "print('-'*60)\n",
    "for l in list(m.named_parameters()):\n",
    "    print(l[0], ':', l[1].detach().numpy().shape)"
   ]
  },
  {
   "cell_type": "code",
   "execution_count": null,
   "metadata": {},
   "outputs": [],
   "source": []
  }
 ],
 "metadata": {
  "kernelspec": {
   "display_name": "Python 3",
   "language": "python",
   "name": "python3"
  },
  "language_info": {
   "codemirror_mode": {
    "name": "ipython",
    "version": 3
   },
   "file_extension": ".py",
   "mimetype": "text/x-python",
   "name": "python",
   "nbconvert_exporter": "python",
   "pygments_lexer": "ipython3",
   "version": "3.6.9"
  }
 },
 "nbformat": 4,
 "nbformat_minor": 4
}
