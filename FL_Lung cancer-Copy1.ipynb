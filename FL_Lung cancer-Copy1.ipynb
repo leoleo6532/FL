{
 "cells": [
  {
   "cell_type": "code",
   "execution_count": 2,
   "metadata": {},
   "outputs": [],
   "source": [
    "import torch\n",
    "import torch.nn as nn\n",
    "from torchvision import datasets ,models,transforms\n",
    "from torch.utils.data.sampler import SubsetRandomSampler\n",
    "from torch.optim import lr_scheduler\n",
    "from pathlib import Path\n",
    "from matplotlib import pyplot as plt\n",
    "import numpy as np\n",
    "import torch.nn.functional as F\n",
    "from torch.autograd import Variable\n",
    "from sklearn.model_selection import train_test_split\n",
    "import matplotlib.pyplot as plt\n",
    "\n",
    "import sys\n",
    "from torch.nn import Parameter"
   ]
  },
  {
   "cell_type": "code",
   "execution_count": 3,
   "metadata": {},
   "outputs": [
    {
     "data": {
      "text/plain": [
       "'1.4.0'"
      ]
     },
     "execution_count": 3,
     "metadata": {},
     "output_type": "execute_result"
    }
   ],
   "source": [
    "torch.__version__ "
   ]
  },
  {
   "cell_type": "code",
   "execution_count": 4,
   "metadata": {
    "scrolled": true
   },
   "outputs": [
    {
     "data": {
      "text/plain": [
       "'10.1'"
      ]
     },
     "execution_count": 4,
     "metadata": {},
     "output_type": "execute_result"
    }
   ],
   "source": [
    "torch.version.cuda"
   ]
  },
  {
   "cell_type": "code",
   "execution_count": 6,
   "metadata": {
    "scrolled": false
   },
   "outputs": [
    {
     "name": "stderr",
     "output_type": "stream",
     "text": [
      "WARNING:root:Torch was already hooked... skipping hooking process\n"
     ]
    }
   ],
   "source": [
    "import syft as sy  # <-- NEW: import the Pysyft library\n",
    "hook = sy.TorchHook(torch)  # <-- NEW: hook PyTorch ie add extra functionalities to support Federated Learning\n",
    "bob = sy.VirtualWorker(hook, id=\"bob\")  # <-- NEW: define remote worker bob\n",
    "#alice = sy.VirtualWorker(hook, id=\"alice\")  # <-- NEW: and alice"
   ]
  },
  {
   "cell_type": "code",
   "execution_count": 7,
   "metadata": {},
   "outputs": [
    {
     "name": "stdout",
     "output_type": "stream",
     "text": [
      "CUDA is available!  Training on GPU ...\n"
     ]
    }
   ],
   "source": [
    "#Determine if there is a GPU\n",
    "train_on_gpu = torch.cuda.is_available()\n",
    "if not train_on_gpu:\n",
    "    print('CUDA is not available.  Training on CPU ...')\n",
    "else:\n",
    "    print('CUDA is available!  Training on GPU ...')"
   ]
  },
  {
   "cell_type": "code",
   "execution_count": 8,
   "metadata": {},
   "outputs": [],
   "source": [
    "PATH_train=\"./train\"\n",
    "PATH_val=\"./val\"\n",
    "PATH_test=\"./test\""
   ]
  },
  {
   "cell_type": "code",
   "execution_count": 9,
   "metadata": {},
   "outputs": [
    {
     "name": "stdout",
     "output_type": "stream",
     "text": [
      "train\n",
      "val\n",
      "test\n"
     ]
    }
   ],
   "source": [
    "TRAIN =Path(PATH_train)\n",
    "VALID = Path(PATH_val)\n",
    "TEST=Path(PATH_test)\n",
    "print(TRAIN)\n",
    "print(VALID)\n",
    "print(TEST)"
   ]
  },
  {
   "cell_type": "code",
   "execution_count": 10,
   "metadata": {},
   "outputs": [],
   "source": [
    "# number of subprocesses to use for data loading\n",
    "num_workers = 0\n",
    "# how many samples per batch to load\n",
    "batch_size = 32\n",
    "# learning rate\n",
    "LR = 0.001"
   ]
  },
  {
   "cell_type": "code",
   "execution_count": 11,
   "metadata": {},
   "outputs": [],
   "source": [
    "# convert data to a normalized torch.FloatTensor\n",
    "train_transforms = transforms.Compose([transforms.Resize((50,50)),\n",
    "                                      transforms.ToTensor(),\n",
    "                                      transforms.Normalize([0.485, 0.456, 0.406],\n",
    "                                                           [0.229, 0.224, 0.225])])\n",
    "\n",
    "valid_transforms = transforms.Compose([transforms.Resize((50,50)),\n",
    "                                      transforms.ToTensor(),\n",
    "                                      transforms.Normalize([0.485, 0.456, 0.406],\n",
    "                                                           [0.229, 0.224, 0.225])])\n",
    "\n",
    "test_transforms = transforms.Compose([transforms.Resize((50,50)),\n",
    "                                      transforms.ToTensor(),\n",
    "                                      transforms.Normalize([0.485, 0.456, 0.406],\n",
    "                                                           [0.229, 0.224, 0.225])])\n"
   ]
  },
  {
   "cell_type": "code",
   "execution_count": 12,
   "metadata": {},
   "outputs": [],
   "source": [
    "# choose the training and test datasets\n",
    "train_data = datasets.ImageFolder(TRAIN, transform=train_transforms)\n",
    "valid_data = datasets.ImageFolder(VALID,transform=valid_transforms)\n",
    "test_data = datasets.ImageFolder(TEST, transform=test_transforms)"
   ]
  },
  {
   "cell_type": "code",
   "execution_count": 13,
   "metadata": {},
   "outputs": [
    {
     "name": "stdout",
     "output_type": "stream",
     "text": [
      "{'sick': 0, 'unsick': 1}\n",
      "{'sick': 0, 'unsick': 1}\n"
     ]
    }
   ],
   "source": [
    "print(train_data.class_to_idx)\n",
    "print(valid_data.class_to_idx)"
   ]
  },
  {
   "cell_type": "code",
   "execution_count": 14,
   "metadata": {},
   "outputs": [],
   "source": [
    "# prepare data loaders (combine dataset and sampler)\n",
    "train_loader = torch.utils.data.DataLoader(train_data, batch_size=batch_size, num_workers=num_workers,shuffle=True)\n",
    "valid_loader = torch.utils.data.DataLoader(valid_data, batch_size=batch_size,  num_workers=num_workers,shuffle=True)\n",
    "test_loader = torch.utils.data.DataLoader(test_data, batch_size=batch_size,  num_workers=num_workers)"
   ]
  },
  {
   "cell_type": "code",
   "execution_count": 15,
   "metadata": {},
   "outputs": [
    {
     "data": {
      "text/plain": [
       "(torch.Size([32, 3, 50, 50]), torch.Size([32]))"
      ]
     },
     "execution_count": 15,
     "metadata": {},
     "output_type": "execute_result"
    }
   ],
   "source": [
    "images,labels=next(iter(train_loader))\n",
    "images.shape,labels.shape"
   ]
  },
  {
   "cell_type": "code",
   "execution_count": 16,
   "metadata": {},
   "outputs": [],
   "source": [
    "import matplotlib.pyplot as plt\n",
    "%matplotlib inline\n",
    "classes = ['sick','unsick']\n",
    "mean , std = torch.tensor([0.485, 0.456, 0.406]),torch.tensor([0.229, 0.224, 0.225])\n",
    "\n",
    "\n",
    "def denormalize(image):\n",
    "  image = transforms.Normalize(-mean/std,1/std)(image) #denormalize\n",
    "  image = image.permute(1,2,0) #Changing from 3x224x224 to 224x224x3\n",
    "  image = torch.clamp(image,0,1)\n",
    "  return image\n",
    "\n",
    "# helper function to un-normalize and display an image\n",
    "def imshow(img):\n",
    "    img = denormalize(img) \n",
    "    plt.imshow(img)"
   ]
  },
  {
   "cell_type": "code",
   "execution_count": 17,
   "metadata": {},
   "outputs": [
    {
     "data": {
      "image/png": "[encoded data removed]",
      "text/plain": [
       "<Figure size 432x288 with 1 Axes>"
      ]
     },
     "metadata": {
      "needs_background": "light"
     },
     "output_type": "display_data"
    }
   ],
   "source": [
    "imshow(images[0])"
   ]
  },
  {
   "cell_type": "code",
   "execution_count": 18,
   "metadata": {},
   "outputs": [],
   "source": [
    "#imshow(images[2])"
   ]
  },
  {
   "cell_type": "code",
   "execution_count": 19,
   "metadata": {},
   "outputs": [
    {
     "name": "stderr",
     "output_type": "stream",
     "text": [
      "/home/leo6532/.local/lib/python3.6/site-packages/ipykernel_launcher.py:10: MatplotlibDeprecationWarning: Passing non-integers as three-element position specification is deprecated since 3.3 and will be removed two minor releases later.\n",
      "  # Remove the CWD from sys.path while we load stuff.\n"
     ]
    },
    {
     "data": {
      "image/png": "[encoded data removed]",
      "text/plain": [
       "<Figure size 1800x576 with 20 Axes>"
      ]
     },
     "metadata": {},
     "output_type": "display_data"
    }
   ],
   "source": [
    "# obtain one batch of training images\n",
    "dataiter = iter(train_loader)\n",
    "images, labels = dataiter.next()\n",
    " # convert images to numpy for display\n",
    "\n",
    "# plot the images in the batch, along with the corresponding labels\n",
    "fig = plt.figure(figsize=(25, 8))\n",
    "#display 20 images\n",
    "for idx in np.arange(20):\n",
    "     ax = fig.add_subplot(2, 20/2, idx+1, xticks=[], yticks=[])\n",
    "     imshow(images[idx])\n",
    "     ax.set_title(\"{} \".format( classes[labels[idx]]))"
   ]
  },
  {
   "cell_type": "code",
   "execution_count": 20,
   "metadata": {},
   "outputs": [],
   "source": [
    "# Create CNN Model\n",
    "class CNN_Model(nn.Module):\n",
    "    def __init__(self):\n",
    "        super(CNN_Model, self).__init__()\n",
    "        self.cnn1 = nn.Conv2d(in_channels=3, out_channels=16, kernel_size=3, stride=1, padding=0) #output_shape=(16,220,220) 48\n",
    "        #(224-5+1)/1 #(weigh-kernel+1)/stride 無條件進位\n",
    "        self.relu1 = nn.ReLU()\n",
    "        self.maxpool1 = nn.MaxPool2d(kernel_size=2) #output_shape=(16,110,110) #(220/2) 16 24 24\n",
    "        self.cnn2 = nn.Conv2d(in_channels=16, out_channels=32, kernel_size=3, stride=1, padding=0) #output_shape=(32,106,106) 20 20\n",
    "        self.relu2 = nn.ReLU()\n",
    "        self.maxpool2 = nn.MaxPool2d(kernel_size=1) #output_shape=(32,53,53) 10 10\n",
    "        self.cnn3 = nn.Conv2d(in_channels=32, out_channels=16, kernel_size=1, stride=1, padding=0) #output_shape=(16,51,51) 10 10\n",
    "        self.relu3 = nn.ReLU()\n",
    "        self.maxpool3 = nn.MaxPool2d(kernel_size=1) #output_shape=(16,25,25) 5 5\n",
    "        self.cnn4 = nn.Conv2d(in_channels=16, out_channels=8, kernel_size=1, stride=1, padding=0) #output_shape=(8,23,23) 5 5\n",
    "        self.relu4 = nn.ReLU()\n",
    "        self.maxpool4 = nn.MaxPool2d(kernel_size=2) #output_shape=(8,11,11) 8 5 5\n",
    "        # Fully connected 1 ,#input_shape=(8*12*12)\n",
    "        self.fc1 = nn.Linear(8 * 11 * 11, 512) \n",
    "        #self.relu5 = nn.ReLU() # activation\n",
    "        self.fc2 = nn.Linear(512, 2) \n",
    "        #self.output = nn.Softmax(dim=1)\n",
    "        \n",
    "    \n",
    "    def forward(self, x):\n",
    "        out = self.cnn1(x) # Convolution 1\n",
    "        out = self.relu1(out)\n",
    "        out = self.maxpool1(out)# Max pool 1\n",
    "        out = self.cnn2(out) # Convolution 2\n",
    "        out = self.relu2(out) \n",
    "        out = self.maxpool2(out) # Max pool 2\n",
    "        out = self.cnn3(out) # Convolution 3\n",
    "        out = self.relu3(out)\n",
    "        out = self.maxpool3(out) # Max pool 3\n",
    "        out = self.cnn4(out) # Convolution 4\n",
    "        out = self.relu4(out)\n",
    "        out = self.maxpool4(out) # Max pool 4\n",
    "        out = out.view(out.size(0), -1) # last CNN faltten con. Linear NN\n",
    "        out = self.fc1(out) # Linear function (readout)\n",
    "        out = self.fc2(out)\n",
    "        #out = self.output(out)\n",
    "\n",
    "        return out"
   ]
  },
  {
   "cell_type": "code",
   "execution_count": 21,
   "metadata": {
    "scrolled": true
   },
   "outputs": [
    {
     "name": "stdout",
     "output_type": "stream",
     "text": [
      "----------------------------------------------------------------\n",
      "        Layer (type)               Output Shape         Param #\n",
      "================================================================\n",
      "            Conv2d-1           [-1, 16, 48, 48]             448\n",
      "              ReLU-2           [-1, 16, 48, 48]               0\n",
      "         MaxPool2d-3           [-1, 16, 24, 24]               0\n",
      "            Conv2d-4           [-1, 32, 22, 22]           4,640\n",
      "              ReLU-5           [-1, 32, 22, 22]               0\n",
      "         MaxPool2d-6           [-1, 32, 22, 22]               0\n",
      "            Conv2d-7           [-1, 16, 22, 22]             528\n",
      "              ReLU-8           [-1, 16, 22, 22]               0\n",
      "         MaxPool2d-9           [-1, 16, 22, 22]               0\n",
      "           Conv2d-10            [-1, 8, 22, 22]             136\n",
      "             ReLU-11            [-1, 8, 22, 22]               0\n",
      "        MaxPool2d-12            [-1, 8, 11, 11]               0\n",
      "           Linear-13                  [-1, 512]         496,128\n",
      "           Linear-14                    [-1, 2]           1,026\n",
      "================================================================\n",
      "Total params: 502,906\n",
      "Trainable params: 502,906\n",
      "Non-trainable params: 0\n",
      "----------------------------------------------------------------\n",
      "Input size (MB): 0.03\n",
      "Forward/backward pass size (MB): 1.23\n",
      "Params size (MB): 1.92\n",
      "Estimated Total Size (MB): 3.18\n",
      "----------------------------------------------------------------\n"
     ]
    }
   ],
   "source": [
    "model = CNN_Model()\n",
    "from torchsummary import summary\n",
    "summary(model.cuda(), (3, 50, 50))"
   ]
  },
  {
   "cell_type": "code",
   "execution_count": 22,
   "metadata": {},
   "outputs": [],
   "source": [
    "#from tqdm import tqdm_notebook as tqdm\n",
    "from tqdm.notebook import tqdm"
   ]
  },
  {
   "cell_type": "code",
   "execution_count": 23,
   "metadata": {},
   "outputs": [],
   "source": [
    "import torch.optim as optim    \n",
    "optimizer = torch.optim.Adam(model.parameters(), lr=LR) \n",
    "criterion = nn.CrossEntropyLoss() "
   ]
  },
  {
   "cell_type": "code",
   "execution_count": 24,
   "metadata": {},
   "outputs": [
    {
     "name": "stdout",
     "output_type": "stream",
     "text": [
      "running epoch: 1\n"
     ]
    },
    {
     "data": {
      "application/vnd.jupyter.widget-view+json": {
       "model_id": "1ff6a4b42b474eeab50f7d7dcaf56eab",
       "version_major": 2,
       "version_minor": 0
      },
      "text/plain": [
       "HBox(children=(HTML(value=''), FloatProgress(value=0.0, max=163.0), HTML(value='')))"
      ]
     },
     "metadata": {},
     "output_type": "display_data"
    },
    {
     "name": "stdout",
     "output_type": "stream",
     "text": [
      "\n"
     ]
    },
    {
     "data": {
      "application/vnd.jupyter.widget-view+json": {
       "model_id": "affdae8ea7174ebbad5918ca37939924",
       "version_major": 2,
       "version_minor": 0
      },
      "text/plain": [
       "HBox(children=(HTML(value=''), FloatProgress(value=0.0, max=41.0), HTML(value='')))"
      ]
     },
     "metadata": {},
     "output_type": "display_data"
    },
    {
     "name": "stdout",
     "output_type": "stream",
     "text": [
      "\n",
      "\tTraining Loss: 0.404103 \tValidation Loss: 0.411536\n",
      "Validation loss decreased (inf --> 0.411536).  Saving model ...\n",
      "running epoch: 2\n"
     ]
    },
    {
     "data": {
      "application/vnd.jupyter.widget-view+json": {
       "model_id": "2e8d6141ae6d49f59f81debd25816400",
       "version_major": 2,
       "version_minor": 0
      },
      "text/plain": [
       "HBox(children=(HTML(value=''), FloatProgress(value=0.0, max=163.0), HTML(value='')))"
      ]
     },
     "metadata": {},
     "output_type": "display_data"
    },
    {
     "name": "stdout",
     "output_type": "stream",
     "text": [
      "\n"
     ]
    },
    {
     "data": {
      "application/vnd.jupyter.widget-view+json": {
       "model_id": "035554b622e24336bdc842f8022286ca",
       "version_major": 2,
       "version_minor": 0
      },
      "text/plain": [
       "HBox(children=(HTML(value=''), FloatProgress(value=0.0, max=41.0), HTML(value='')))"
      ]
     },
     "metadata": {},
     "output_type": "display_data"
    },
    {
     "name": "stdout",
     "output_type": "stream",
     "text": [
      "\n",
      "\tTraining Loss: 0.338675 \tValidation Loss: 0.347964\n",
      "Validation loss decreased (0.411536 --> 0.347964).  Saving model ...\n",
      "running epoch: 3\n"
     ]
    },
    {
     "data": {
      "application/vnd.jupyter.widget-view+json": {
       "model_id": "b6d62474850e48f08d1e8c9fc7034ddd",
       "version_major": 2,
       "version_minor": 0
      },
      "text/plain": [
       "HBox(children=(HTML(value=''), FloatProgress(value=0.0, max=163.0), HTML(value='')))"
      ]
     },
     "metadata": {},
     "output_type": "display_data"
    },
    {
     "name": "stdout",
     "output_type": "stream",
     "text": [
      "\n"
     ]
    },
    {
     "data": {
      "application/vnd.jupyter.widget-view+json": {
       "model_id": "eedfd20a08db4b8e860990db1c67937f",
       "version_major": 2,
       "version_minor": 0
      },
      "text/plain": [
       "HBox(children=(HTML(value=''), FloatProgress(value=0.0, max=41.0), HTML(value='')))"
      ]
     },
     "metadata": {},
     "output_type": "display_data"
    },
    {
     "name": "stdout",
     "output_type": "stream",
     "text": [
      "\n",
      "\tTraining Loss: 0.298553 \tValidation Loss: 0.301773\n",
      "Validation loss decreased (0.347964 --> 0.301773).  Saving model ...\n",
      "running epoch: 4\n"
     ]
    },
    {
     "data": {
      "application/vnd.jupyter.widget-view+json": {
       "model_id": "c443ab954ab04e059291f55affcd5a8f",
       "version_major": 2,
       "version_minor": 0
      },
      "text/plain": [
       "HBox(children=(HTML(value=''), FloatProgress(value=0.0, max=163.0), HTML(value='')))"
      ]
     },
     "metadata": {},
     "output_type": "display_data"
    },
    {
     "name": "stdout",
     "output_type": "stream",
     "text": [
      "\n"
     ]
    },
    {
     "data": {
      "application/vnd.jupyter.widget-view+json": {
       "model_id": "99e06fb343b04740961e3b635e183451",
       "version_major": 2,
       "version_minor": 0
      },
      "text/plain": [
       "HBox(children=(HTML(value=''), FloatProgress(value=0.0, max=41.0), HTML(value='')))"
      ]
     },
     "metadata": {},
     "output_type": "display_data"
    },
    {
     "name": "stdout",
     "output_type": "stream",
     "text": [
      "\n",
      "\tTraining Loss: 0.274278 \tValidation Loss: 0.298450\n",
      "Validation loss decreased (0.301773 --> 0.298450).  Saving model ...\n",
      "running epoch: 5\n"
     ]
    },
    {
     "data": {
      "application/vnd.jupyter.widget-view+json": {
       "model_id": "7414d6f31b0c4f95a34d6a6d3b702c62",
       "version_major": 2,
       "version_minor": 0
      },
      "text/plain": [
       "HBox(children=(HTML(value=''), FloatProgress(value=0.0, max=163.0), HTML(value='')))"
      ]
     },
     "metadata": {},
     "output_type": "display_data"
    },
    {
     "name": "stdout",
     "output_type": "stream",
     "text": [
      "\n"
     ]
    },
    {
     "data": {
      "application/vnd.jupyter.widget-view+json": {
       "model_id": "443559262a1f45fbaba3adce9f288608",
       "version_major": 2,
       "version_minor": 0
      },
      "text/plain": [
       "HBox(children=(HTML(value=''), FloatProgress(value=0.0, max=41.0), HTML(value='')))"
      ]
     },
     "metadata": {},
     "output_type": "display_data"
    },
    {
     "name": "stdout",
     "output_type": "stream",
     "text": [
      "\n",
      "\tTraining Loss: 0.255180 \tValidation Loss: 0.280279\n",
      "Validation loss decreased (0.298450 --> 0.280279).  Saving model ...\n",
      "running epoch: 6\n"
     ]
    },
    {
     "data": {
      "application/vnd.jupyter.widget-view+json": {
       "model_id": "04405ec2e98d44d4a338fe19302312f9",
       "version_major": 2,
       "version_minor": 0
      },
      "text/plain": [
       "HBox(children=(HTML(value=''), FloatProgress(value=0.0, max=163.0), HTML(value='')))"
      ]
     },
     "metadata": {},
     "output_type": "display_data"
    },
    {
     "name": "stdout",
     "output_type": "stream",
     "text": [
      "\n"
     ]
    },
    {
     "data": {
      "application/vnd.jupyter.widget-view+json": {
       "model_id": "ef804684f76b4b678d600b210260352b",
       "version_major": 2,
       "version_minor": 0
      },
      "text/plain": [
       "HBox(children=(HTML(value=''), FloatProgress(value=0.0, max=41.0), HTML(value='')))"
      ]
     },
     "metadata": {},
     "output_type": "display_data"
    },
    {
     "name": "stdout",
     "output_type": "stream",
     "text": [
      "\n",
      "\tTraining Loss: 0.233963 \tValidation Loss: 0.267691\n",
      "Validation loss decreased (0.280279 --> 0.267691).  Saving model ...\n",
      "running epoch: 7\n"
     ]
    },
    {
     "data": {
      "application/vnd.jupyter.widget-view+json": {
       "model_id": "1839c9bea518493794059534ca06f1ba",
       "version_major": 2,
       "version_minor": 0
      },
      "text/plain": [
       "HBox(children=(HTML(value=''), FloatProgress(value=0.0, max=163.0), HTML(value='')))"
      ]
     },
     "metadata": {},
     "output_type": "display_data"
    },
    {
     "name": "stdout",
     "output_type": "stream",
     "text": [
      "\n"
     ]
    },
    {
     "data": {
      "application/vnd.jupyter.widget-view+json": {
       "model_id": "05248decf7d44c5f9d3e006f55d72148",
       "version_major": 2,
       "version_minor": 0
      },
      "text/plain": [
       "HBox(children=(HTML(value=''), FloatProgress(value=0.0, max=41.0), HTML(value='')))"
      ]
     },
     "metadata": {},
     "output_type": "display_data"
    },
    {
     "name": "stdout",
     "output_type": "stream",
     "text": [
      "\n",
      "\tTraining Loss: 0.223746 \tValidation Loss: 0.268835\n",
      "running epoch: 8\n"
     ]
    },
    {
     "data": {
      "application/vnd.jupyter.widget-view+json": {
       "model_id": "da99ce08f7094896be378dd536b45abf",
       "version_major": 2,
       "version_minor": 0
      },
      "text/plain": [
       "HBox(children=(HTML(value=''), FloatProgress(value=0.0, max=163.0), HTML(value='')))"
      ]
     },
     "metadata": {},
     "output_type": "display_data"
    },
    {
     "name": "stdout",
     "output_type": "stream",
     "text": [
      "\n"
     ]
    },
    {
     "data": {
      "application/vnd.jupyter.widget-view+json": {
       "model_id": "f82f5f2a37de41a9b799e3a67dee1082",
       "version_major": 2,
       "version_minor": 0
      },
      "text/plain": [
       "HBox(children=(HTML(value=''), FloatProgress(value=0.0, max=41.0), HTML(value='')))"
      ]
     },
     "metadata": {},
     "output_type": "display_data"
    },
    {
     "name": "stdout",
     "output_type": "stream",
     "text": [
      "\n",
      "\tTraining Loss: 0.217275 \tValidation Loss: 0.296662\n",
      "running epoch: 9\n"
     ]
    },
    {
     "data": {
      "application/vnd.jupyter.widget-view+json": {
       "model_id": "4f103a64738e4e0cbe67ac8b2e810f3c",
       "version_major": 2,
       "version_minor": 0
      },
      "text/plain": [
       "HBox(children=(HTML(value=''), FloatProgress(value=0.0, max=163.0), HTML(value='')))"
      ]
     },
     "metadata": {},
     "output_type": "display_data"
    },
    {
     "name": "stdout",
     "output_type": "stream",
     "text": [
      "\n"
     ]
    },
    {
     "data": {
      "application/vnd.jupyter.widget-view+json": {
       "model_id": "ebeab6c214d049cbb06b3d8431748495",
       "version_major": 2,
       "version_minor": 0
      },
      "text/plain": [
       "HBox(children=(HTML(value=''), FloatProgress(value=0.0, max=41.0), HTML(value='')))"
      ]
     },
     "metadata": {},
     "output_type": "display_data"
    },
    {
     "name": "stdout",
     "output_type": "stream",
     "text": [
      "\n",
      "\tTraining Loss: 0.211480 \tValidation Loss: 0.269180\n",
      "running epoch: 10\n"
     ]
    },
    {
     "data": {
      "application/vnd.jupyter.widget-view+json": {
       "model_id": "913a2d97a1884017a46837c06ed8be04",
       "version_major": 2,
       "version_minor": 0
      },
      "text/plain": [
       "HBox(children=(HTML(value=''), FloatProgress(value=0.0, max=163.0), HTML(value='')))"
      ]
     },
     "metadata": {},
     "output_type": "display_data"
    },
    {
     "name": "stdout",
     "output_type": "stream",
     "text": [
      "\n"
     ]
    },
    {
     "data": {
      "application/vnd.jupyter.widget-view+json": {
       "model_id": "089b9a63e8cb404489b888cc98f0fb08",
       "version_major": 2,
       "version_minor": 0
      },
      "text/plain": [
       "HBox(children=(HTML(value=''), FloatProgress(value=0.0, max=41.0), HTML(value='')))"
      ]
     },
     "metadata": {},
     "output_type": "display_data"
    },
    {
     "name": "stdout",
     "output_type": "stream",
     "text": [
      "\n",
      "\tTraining Loss: 0.190888 \tValidation Loss: 0.261047\n",
      "Validation loss decreased (0.267691 --> 0.261047).  Saving model ...\n",
      "running epoch: 11\n"
     ]
    },
    {
     "data": {
      "application/vnd.jupyter.widget-view+json": {
       "model_id": "ae4a57fdcaf0471d9f686ca7a28caaf4",
       "version_major": 2,
       "version_minor": 0
      },
      "text/plain": [
       "HBox(children=(HTML(value=''), FloatProgress(value=0.0, max=163.0), HTML(value='')))"
      ]
     },
     "metadata": {},
     "output_type": "display_data"
    },
    {
     "name": "stdout",
     "output_type": "stream",
     "text": [
      "\n"
     ]
    },
    {
     "data": {
      "application/vnd.jupyter.widget-view+json": {
       "model_id": "461accfa3a2c49f694445e7cb3bf6812",
       "version_major": 2,
       "version_minor": 0
      },
      "text/plain": [
       "HBox(children=(HTML(value=''), FloatProgress(value=0.0, max=41.0), HTML(value='')))"
      ]
     },
     "metadata": {},
     "output_type": "display_data"
    },
    {
     "name": "stdout",
     "output_type": "stream",
     "text": [
      "\n",
      "\tTraining Loss: 0.180047 \tValidation Loss: 0.274304\n",
      "running epoch: 12\n"
     ]
    },
    {
     "data": {
      "application/vnd.jupyter.widget-view+json": {
       "model_id": "50971597694f4610a8ead92f09193c1c",
       "version_major": 2,
       "version_minor": 0
      },
      "text/plain": [
       "HBox(children=(HTML(value=''), FloatProgress(value=0.0, max=163.0), HTML(value='')))"
      ]
     },
     "metadata": {},
     "output_type": "display_data"
    },
    {
     "name": "stdout",
     "output_type": "stream",
     "text": [
      "\n"
     ]
    },
    {
     "data": {
      "application/vnd.jupyter.widget-view+json": {
       "model_id": "223f322d0c9f431488097a5790f1b621",
       "version_major": 2,
       "version_minor": 0
      },
      "text/plain": [
       "HBox(children=(HTML(value=''), FloatProgress(value=0.0, max=41.0), HTML(value='')))"
      ]
     },
     "metadata": {},
     "output_type": "display_data"
    },
    {
     "name": "stdout",
     "output_type": "stream",
     "text": [
      "\n",
      "\tTraining Loss: 0.169557 \tValidation Loss: 0.307322\n",
      "running epoch: 13\n"
     ]
    },
    {
     "data": {
      "application/vnd.jupyter.widget-view+json": {
       "model_id": "d23ac41fc28b49c9bcd4b0a8e50f82a7",
       "version_major": 2,
       "version_minor": 0
      },
      "text/plain": [
       "HBox(children=(HTML(value=''), FloatProgress(value=0.0, max=163.0), HTML(value='')))"
      ]
     },
     "metadata": {},
     "output_type": "display_data"
    },
    {
     "name": "stdout",
     "output_type": "stream",
     "text": [
      "\n"
     ]
    },
    {
     "data": {
      "application/vnd.jupyter.widget-view+json": {
       "model_id": "7ae72cbec7544765ab04f6888c0a6c51",
       "version_major": 2,
       "version_minor": 0
      },
      "text/plain": [
       "HBox(children=(HTML(value=''), FloatProgress(value=0.0, max=41.0), HTML(value='')))"
      ]
     },
     "metadata": {},
     "output_type": "display_data"
    },
    {
     "name": "stdout",
     "output_type": "stream",
     "text": [
      "\n",
      "\tTraining Loss: 0.163607 \tValidation Loss: 0.309686\n",
      "running epoch: 14\n"
     ]
    },
    {
     "data": {
      "application/vnd.jupyter.widget-view+json": {
       "model_id": "d2ebf4a288e04fccb2cbc9a87c8e9231",
       "version_major": 2,
       "version_minor": 0
      },
      "text/plain": [
       "HBox(children=(HTML(value=''), FloatProgress(value=0.0, max=163.0), HTML(value='')))"
      ]
     },
     "metadata": {},
     "output_type": "display_data"
    },
    {
     "name": "stdout",
     "output_type": "stream",
     "text": [
      "\n"
     ]
    },
    {
     "data": {
      "application/vnd.jupyter.widget-view+json": {
       "model_id": "9b7c0856661442a5905c905847adfdac",
       "version_major": 2,
       "version_minor": 0
      },
      "text/plain": [
       "HBox(children=(HTML(value=''), FloatProgress(value=0.0, max=41.0), HTML(value='')))"
      ]
     },
     "metadata": {},
     "output_type": "display_data"
    },
    {
     "name": "stdout",
     "output_type": "stream",
     "text": [
      "\n",
      "\tTraining Loss: 0.158909 \tValidation Loss: 0.306301\n",
      "running epoch: 15\n"
     ]
    },
    {
     "data": {
      "application/vnd.jupyter.widget-view+json": {
       "model_id": "c1e91c34ccb04ad9b158a57b6b81bd91",
       "version_major": 2,
       "version_minor": 0
      },
      "text/plain": [
       "HBox(children=(HTML(value=''), FloatProgress(value=0.0, max=163.0), HTML(value='')))"
      ]
     },
     "metadata": {},
     "output_type": "display_data"
    },
    {
     "name": "stdout",
     "output_type": "stream",
     "text": [
      "\n"
     ]
    },
    {
     "data": {
      "application/vnd.jupyter.widget-view+json": {
       "model_id": "f3d0ec51b8c74d3091ecb67c6ca00d2b",
       "version_major": 2,
       "version_minor": 0
      },
      "text/plain": [
       "HBox(children=(HTML(value=''), FloatProgress(value=0.0, max=41.0), HTML(value='')))"
      ]
     },
     "metadata": {},
     "output_type": "display_data"
    },
    {
     "name": "stdout",
     "output_type": "stream",
     "text": [
      "\n",
      "\tTraining Loss: 0.146262 \tValidation Loss: 0.283939\n",
      "running epoch: 16\n"
     ]
    },
    {
     "data": {
      "application/vnd.jupyter.widget-view+json": {
       "model_id": "6272d252006446269a529ddf1b2ce1c8",
       "version_major": 2,
       "version_minor": 0
      },
      "text/plain": [
       "HBox(children=(HTML(value=''), FloatProgress(value=0.0, max=163.0), HTML(value='')))"
      ]
     },
     "metadata": {},
     "output_type": "display_data"
    },
    {
     "name": "stdout",
     "output_type": "stream",
     "text": [
      "\n"
     ]
    },
    {
     "data": {
      "application/vnd.jupyter.widget-view+json": {
       "model_id": "350b42b8825b4fadb37c38cd7da5a74a",
       "version_major": 2,
       "version_minor": 0
      },
      "text/plain": [
       "HBox(children=(HTML(value=''), FloatProgress(value=0.0, max=41.0), HTML(value='')))"
      ]
     },
     "metadata": {},
     "output_type": "display_data"
    },
    {
     "name": "stdout",
     "output_type": "stream",
     "text": [
      "\n",
      "\tTraining Loss: 0.136771 \tValidation Loss: 0.302087\n",
      "running epoch: 17\n"
     ]
    },
    {
     "data": {
      "application/vnd.jupyter.widget-view+json": {
       "model_id": "e5e64eb66a624004947c4b60bedd1db3",
       "version_major": 2,
       "version_minor": 0
      },
      "text/plain": [
       "HBox(children=(HTML(value=''), FloatProgress(value=0.0, max=163.0), HTML(value='')))"
      ]
     },
     "metadata": {},
     "output_type": "display_data"
    },
    {
     "name": "stdout",
     "output_type": "stream",
     "text": [
      "\n"
     ]
    },
    {
     "data": {
      "application/vnd.jupyter.widget-view+json": {
       "model_id": "03741d6747c2484aaa059d727785c9b8",
       "version_major": 2,
       "version_minor": 0
      },
      "text/plain": [
       "HBox(children=(HTML(value=''), FloatProgress(value=0.0, max=41.0), HTML(value='')))"
      ]
     },
     "metadata": {},
     "output_type": "display_data"
    },
    {
     "name": "stdout",
     "output_type": "stream",
     "text": [
      "\n",
      "\tTraining Loss: 0.127703 \tValidation Loss: 0.355536\n",
      "running epoch: 18\n"
     ]
    },
    {
     "data": {
      "application/vnd.jupyter.widget-view+json": {
       "model_id": "73ef043e16384eee9f1048978f00b6ea",
       "version_major": 2,
       "version_minor": 0
      },
      "text/plain": [
       "HBox(children=(HTML(value=''), FloatProgress(value=0.0, max=163.0), HTML(value='')))"
      ]
     },
     "metadata": {},
     "output_type": "display_data"
    },
    {
     "name": "stdout",
     "output_type": "stream",
     "text": [
      "\n"
     ]
    },
    {
     "data": {
      "application/vnd.jupyter.widget-view+json": {
       "model_id": "36d761d46a444ea58f38d6310eef3505",
       "version_major": 2,
       "version_minor": 0
      },
      "text/plain": [
       "HBox(children=(HTML(value=''), FloatProgress(value=0.0, max=41.0), HTML(value='')))"
      ]
     },
     "metadata": {},
     "output_type": "display_data"
    },
    {
     "name": "stdout",
     "output_type": "stream",
     "text": [
      "\n",
      "\tTraining Loss: 0.128410 \tValidation Loss: 0.367267\n",
      "running epoch: 19\n"
     ]
    },
    {
     "data": {
      "application/vnd.jupyter.widget-view+json": {
       "model_id": "9890f8aa49e24e2e99276f3c77fdd0a5",
       "version_major": 2,
       "version_minor": 0
      },
      "text/plain": [
       "HBox(children=(HTML(value=''), FloatProgress(value=0.0, max=163.0), HTML(value='')))"
      ]
     },
     "metadata": {},
     "output_type": "display_data"
    },
    {
     "name": "stdout",
     "output_type": "stream",
     "text": [
      "\n"
     ]
    },
    {
     "data": {
      "application/vnd.jupyter.widget-view+json": {
       "model_id": "7e83adea0a354672bce76517bb516c29",
       "version_major": 2,
       "version_minor": 0
      },
      "text/plain": [
       "HBox(children=(HTML(value=''), FloatProgress(value=0.0, max=41.0), HTML(value='')))"
      ]
     },
     "metadata": {},
     "output_type": "display_data"
    },
    {
     "name": "stdout",
     "output_type": "stream",
     "text": [
      "\n",
      "\tTraining Loss: 0.117120 \tValidation Loss: 0.306303\n",
      "running epoch: 20\n"
     ]
    },
    {
     "data": {
      "application/vnd.jupyter.widget-view+json": {
       "model_id": "176760ad92c34bfcbf5fec4fa0c1621d",
       "version_major": 2,
       "version_minor": 0
      },
      "text/plain": [
       "HBox(children=(HTML(value=''), FloatProgress(value=0.0, max=163.0), HTML(value='')))"
      ]
     },
     "metadata": {},
     "output_type": "display_data"
    },
    {
     "name": "stdout",
     "output_type": "stream",
     "text": [
      "\n"
     ]
    },
    {
     "data": {
      "application/vnd.jupyter.widget-view+json": {
       "model_id": "95cfc48223b94214a8cba83f19a5d5f5",
       "version_major": 2,
       "version_minor": 0
      },
      "text/plain": [
       "HBox(children=(HTML(value=''), FloatProgress(value=0.0, max=41.0), HTML(value='')))"
      ]
     },
     "metadata": {},
     "output_type": "display_data"
    },
    {
     "name": "stdout",
     "output_type": "stream",
     "text": [
      "\n",
      "\tTraining Loss: 0.110519 \tValidation Loss: 0.338167\n",
      "running epoch: 21\n"
     ]
    },
    {
     "data": {
      "application/vnd.jupyter.widget-view+json": {
       "model_id": "dc81d044f5e74e45b92dfe6da4aa0f1d",
       "version_major": 2,
       "version_minor": 0
      },
      "text/plain": [
       "HBox(children=(HTML(value=''), FloatProgress(value=0.0, max=163.0), HTML(value='')))"
      ]
     },
     "metadata": {},
     "output_type": "display_data"
    },
    {
     "name": "stdout",
     "output_type": "stream",
     "text": [
      "\n"
     ]
    },
    {
     "data": {
      "application/vnd.jupyter.widget-view+json": {
       "model_id": "2255386331e2441ab72f60732ff638e6",
       "version_major": 2,
       "version_minor": 0
      },
      "text/plain": [
       "HBox(children=(HTML(value=''), FloatProgress(value=0.0, max=41.0), HTML(value='')))"
      ]
     },
     "metadata": {},
     "output_type": "display_data"
    },
    {
     "name": "stdout",
     "output_type": "stream",
     "text": [
      "\n",
      "\tTraining Loss: 0.114815 \tValidation Loss: 0.382223\n",
      "running epoch: 22\n"
     ]
    },
    {
     "data": {
      "application/vnd.jupyter.widget-view+json": {
       "model_id": "d878dbb66b9642338070654aa063d434",
       "version_major": 2,
       "version_minor": 0
      },
      "text/plain": [
       "HBox(children=(HTML(value=''), FloatProgress(value=0.0, max=163.0), HTML(value='')))"
      ]
     },
     "metadata": {},
     "output_type": "display_data"
    },
    {
     "name": "stdout",
     "output_type": "stream",
     "text": [
      "\n"
     ]
    },
    {
     "data": {
      "application/vnd.jupyter.widget-view+json": {
       "model_id": "ce01c37bd52c44b5abcf33497e305bb0",
       "version_major": 2,
       "version_minor": 0
      },
      "text/plain": [
       "HBox(children=(HTML(value=''), FloatProgress(value=0.0, max=41.0), HTML(value='')))"
      ]
     },
     "metadata": {},
     "output_type": "display_data"
    },
    {
     "name": "stdout",
     "output_type": "stream",
     "text": [
      "\n",
      "\tTraining Loss: 0.101441 \tValidation Loss: 0.365126\n",
      "running epoch: 23\n"
     ]
    },
    {
     "data": {
      "application/vnd.jupyter.widget-view+json": {
       "model_id": "4123f43a68ac4f37b5fd654b78e2b7c1",
       "version_major": 2,
       "version_minor": 0
      },
      "text/plain": [
       "HBox(children=(HTML(value=''), FloatProgress(value=0.0, max=163.0), HTML(value='')))"
      ]
     },
     "metadata": {},
     "output_type": "display_data"
    },
    {
     "name": "stdout",
     "output_type": "stream",
     "text": [
      "\n"
     ]
    },
    {
     "data": {
      "application/vnd.jupyter.widget-view+json": {
       "model_id": "d37c9e31f8174dff85f453b72ee0c970",
       "version_major": 2,
       "version_minor": 0
      },
      "text/plain": [
       "HBox(children=(HTML(value=''), FloatProgress(value=0.0, max=41.0), HTML(value='')))"
      ]
     },
     "metadata": {},
     "output_type": "display_data"
    },
    {
     "name": "stdout",
     "output_type": "stream",
     "text": [
      "\n",
      "\tTraining Loss: 0.101956 \tValidation Loss: 0.409721\n",
      "running epoch: 24\n"
     ]
    },
    {
     "data": {
      "application/vnd.jupyter.widget-view+json": {
       "model_id": "af6c5195c8bb43e29d22d855e5a3f056",
       "version_major": 2,
       "version_minor": 0
      },
      "text/plain": [
       "HBox(children=(HTML(value=''), FloatProgress(value=0.0, max=163.0), HTML(value='')))"
      ]
     },
     "metadata": {},
     "output_type": "display_data"
    },
    {
     "name": "stdout",
     "output_type": "stream",
     "text": [
      "\n"
     ]
    },
    {
     "data": {
      "application/vnd.jupyter.widget-view+json": {
       "model_id": "ba7fd1022a984e05abb6bf2d19b3ef1f",
       "version_major": 2,
       "version_minor": 0
      },
      "text/plain": [
       "HBox(children=(HTML(value=''), FloatProgress(value=0.0, max=41.0), HTML(value='')))"
      ]
     },
     "metadata": {},
     "output_type": "display_data"
    },
    {
     "name": "stdout",
     "output_type": "stream",
     "text": [
      "\n",
      "\tTraining Loss: 0.088593 \tValidation Loss: 0.481840\n",
      "running epoch: 25\n"
     ]
    },
    {
     "data": {
      "application/vnd.jupyter.widget-view+json": {
       "model_id": "bfafff0e07704eb1a5b67d04f01c4ee3",
       "version_major": 2,
       "version_minor": 0
      },
      "text/plain": [
       "HBox(children=(HTML(value=''), FloatProgress(value=0.0, max=163.0), HTML(value='')))"
      ]
     },
     "metadata": {},
     "output_type": "display_data"
    },
    {
     "name": "stdout",
     "output_type": "stream",
     "text": [
      "\n"
     ]
    },
    {
     "data": {
      "application/vnd.jupyter.widget-view+json": {
       "model_id": "d78aa14f95dd4979a86bfff61e789051",
       "version_major": 2,
       "version_minor": 0
      },
      "text/plain": [
       "HBox(children=(HTML(value=''), FloatProgress(value=0.0, max=41.0), HTML(value='')))"
      ]
     },
     "metadata": {},
     "output_type": "display_data"
    },
    {
     "name": "stdout",
     "output_type": "stream",
     "text": [
      "\n",
      "\tTraining Loss: 0.095750 \tValidation Loss: 0.476299\n",
      "running epoch: 26\n"
     ]
    },
    {
     "data": {
      "application/vnd.jupyter.widget-view+json": {
       "model_id": "ef48f79a2de84feaabe7eb0c7699cc2c",
       "version_major": 2,
       "version_minor": 0
      },
      "text/plain": [
       "HBox(children=(HTML(value=''), FloatProgress(value=0.0, max=163.0), HTML(value='')))"
      ]
     },
     "metadata": {},
     "output_type": "display_data"
    },
    {
     "name": "stdout",
     "output_type": "stream",
     "text": [
      "\n"
     ]
    },
    {
     "data": {
      "application/vnd.jupyter.widget-view+json": {
       "model_id": "5c69eecd277a425aa77d024ad3dd6c83",
       "version_major": 2,
       "version_minor": 0
      },
      "text/plain": [
       "HBox(children=(HTML(value=''), FloatProgress(value=0.0, max=41.0), HTML(value='')))"
      ]
     },
     "metadata": {},
     "output_type": "display_data"
    },
    {
     "name": "stdout",
     "output_type": "stream",
     "text": [
      "\n",
      "\tTraining Loss: 0.083969 \tValidation Loss: 0.402441\n",
      "running epoch: 27\n"
     ]
    },
    {
     "data": {
      "application/vnd.jupyter.widget-view+json": {
       "model_id": "a38961a0da164f16aa483ded00f735a5",
       "version_major": 2,
       "version_minor": 0
      },
      "text/plain": [
       "HBox(children=(HTML(value=''), FloatProgress(value=0.0, max=163.0), HTML(value='')))"
      ]
     },
     "metadata": {},
     "output_type": "display_data"
    },
    {
     "name": "stdout",
     "output_type": "stream",
     "text": [
      "\n"
     ]
    },
    {
     "data": {
      "application/vnd.jupyter.widget-view+json": {
       "model_id": "3de5e81312714b729ef48d12b6691b9f",
       "version_major": 2,
       "version_minor": 0
      },
      "text/plain": [
       "HBox(children=(HTML(value=''), FloatProgress(value=0.0, max=41.0), HTML(value='')))"
      ]
     },
     "metadata": {},
     "output_type": "display_data"
    },
    {
     "name": "stdout",
     "output_type": "stream",
     "text": [
      "\n",
      "\tTraining Loss: 0.113063 \tValidation Loss: 0.414286\n",
      "running epoch: 28\n"
     ]
    },
    {
     "data": {
      "application/vnd.jupyter.widget-view+json": {
       "model_id": "896a473162c5454695e97871a9fc76bc",
       "version_major": 2,
       "version_minor": 0
      },
      "text/plain": [
       "HBox(children=(HTML(value=''), FloatProgress(value=0.0, max=163.0), HTML(value='')))"
      ]
     },
     "metadata": {},
     "output_type": "display_data"
    },
    {
     "name": "stdout",
     "output_type": "stream",
     "text": [
      "\n"
     ]
    },
    {
     "data": {
      "application/vnd.jupyter.widget-view+json": {
       "model_id": "d57a5eea7cbb4848a01dcc02c6f47149",
       "version_major": 2,
       "version_minor": 0
      },
      "text/plain": [
       "HBox(children=(HTML(value=''), FloatProgress(value=0.0, max=41.0), HTML(value='')))"
      ]
     },
     "metadata": {},
     "output_type": "display_data"
    },
    {
     "name": "stdout",
     "output_type": "stream",
     "text": [
      "\n",
      "\tTraining Loss: 0.084861 \tValidation Loss: 0.424687\n",
      "running epoch: 29\n"
     ]
    },
    {
     "data": {
      "application/vnd.jupyter.widget-view+json": {
       "model_id": "c9329d0d87214663af54121506924eeb",
       "version_major": 2,
       "version_minor": 0
      },
      "text/plain": [
       "HBox(children=(HTML(value=''), FloatProgress(value=0.0, max=163.0), HTML(value='')))"
      ]
     },
     "metadata": {},
     "output_type": "display_data"
    },
    {
     "name": "stdout",
     "output_type": "stream",
     "text": [
      "\n"
     ]
    },
    {
     "data": {
      "application/vnd.jupyter.widget-view+json": {
       "model_id": "36b40c05387a4d62b5edbf5d549aaf41",
       "version_major": 2,
       "version_minor": 0
      },
      "text/plain": [
       "HBox(children=(HTML(value=''), FloatProgress(value=0.0, max=41.0), HTML(value='')))"
      ]
     },
     "metadata": {},
     "output_type": "display_data"
    },
    {
     "name": "stdout",
     "output_type": "stream",
     "text": [
      "\n",
      "\tTraining Loss: 0.076014 \tValidation Loss: 0.502492\n",
      "running epoch: 30\n"
     ]
    },
    {
     "data": {
      "application/vnd.jupyter.widget-view+json": {
       "model_id": "b810385c44e943869ecb37471740dfe6",
       "version_major": 2,
       "version_minor": 0
      },
      "text/plain": [
       "HBox(children=(HTML(value=''), FloatProgress(value=0.0, max=163.0), HTML(value='')))"
      ]
     },
     "metadata": {},
     "output_type": "display_data"
    },
    {
     "name": "stdout",
     "output_type": "stream",
     "text": [
      "\n"
     ]
    },
    {
     "data": {
      "application/vnd.jupyter.widget-view+json": {
       "model_id": "367322b8cd6a4bbfa9921e24d7ad6d81",
       "version_major": 2,
       "version_minor": 0
      },
      "text/plain": [
       "HBox(children=(HTML(value=''), FloatProgress(value=0.0, max=41.0), HTML(value='')))"
      ]
     },
     "metadata": {},
     "output_type": "display_data"
    },
    {
     "name": "stdout",
     "output_type": "stream",
     "text": [
      "\n",
      "\tTraining Loss: 0.065363 \tValidation Loss: 0.489580\n",
      "running epoch: 31\n"
     ]
    },
    {
     "data": {
      "application/vnd.jupyter.widget-view+json": {
       "model_id": "457ea880379b4b44a467f28c380eb085",
       "version_major": 2,
       "version_minor": 0
      },
      "text/plain": [
       "HBox(children=(HTML(value=''), FloatProgress(value=0.0, max=163.0), HTML(value='')))"
      ]
     },
     "metadata": {},
     "output_type": "display_data"
    },
    {
     "name": "stdout",
     "output_type": "stream",
     "text": [
      "\n"
     ]
    },
    {
     "data": {
      "application/vnd.jupyter.widget-view+json": {
       "model_id": "5b85035aab5b4ca5bb8d40421b315ac9",
       "version_major": 2,
       "version_minor": 0
      },
      "text/plain": [
       "HBox(children=(HTML(value=''), FloatProgress(value=0.0, max=41.0), HTML(value='')))"
      ]
     },
     "metadata": {},
     "output_type": "display_data"
    },
    {
     "name": "stdout",
     "output_type": "stream",
     "text": [
      "\n",
      "\tTraining Loss: 0.061528 \tValidation Loss: 0.560421\n",
      "running epoch: 32\n"
     ]
    },
    {
     "data": {
      "application/vnd.jupyter.widget-view+json": {
       "model_id": "33280218c920484a9aefe703c0b73718",
       "version_major": 2,
       "version_minor": 0
      },
      "text/plain": [
       "HBox(children=(HTML(value=''), FloatProgress(value=0.0, max=163.0), HTML(value='')))"
      ]
     },
     "metadata": {},
     "output_type": "display_data"
    },
    {
     "name": "stdout",
     "output_type": "stream",
     "text": [
      "\n"
     ]
    },
    {
     "data": {
      "application/vnd.jupyter.widget-view+json": {
       "model_id": "54c9374f688047f7b4ef25744b040af4",
       "version_major": 2,
       "version_minor": 0
      },
      "text/plain": [
       "HBox(children=(HTML(value=''), FloatProgress(value=0.0, max=41.0), HTML(value='')))"
      ]
     },
     "metadata": {},
     "output_type": "display_data"
    },
    {
     "name": "stdout",
     "output_type": "stream",
     "text": [
      "\n",
      "\tTraining Loss: 0.049270 \tValidation Loss: 0.537228\n",
      "running epoch: 33\n"
     ]
    },
    {
     "data": {
      "application/vnd.jupyter.widget-view+json": {
       "model_id": "7cf228a491c4475aba84d50243b59ced",
       "version_major": 2,
       "version_minor": 0
      },
      "text/plain": [
       "HBox(children=(HTML(value=''), FloatProgress(value=0.0, max=163.0), HTML(value='')))"
      ]
     },
     "metadata": {},
     "output_type": "display_data"
    },
    {
     "name": "stdout",
     "output_type": "stream",
     "text": [
      "\n"
     ]
    },
    {
     "data": {
      "application/vnd.jupyter.widget-view+json": {
       "model_id": "c261df428fef47a298286f35e486c3a3",
       "version_major": 2,
       "version_minor": 0
      },
      "text/plain": [
       "HBox(children=(HTML(value=''), FloatProgress(value=0.0, max=41.0), HTML(value='')))"
      ]
     },
     "metadata": {},
     "output_type": "display_data"
    },
    {
     "name": "stdout",
     "output_type": "stream",
     "text": [
      "\n",
      "\tTraining Loss: 0.060260 \tValidation Loss: 0.560726\n",
      "running epoch: 34\n"
     ]
    },
    {
     "data": {
      "application/vnd.jupyter.widget-view+json": {
       "model_id": "5bbc886b034643c494345639430ec184",
       "version_major": 2,
       "version_minor": 0
      },
      "text/plain": [
       "HBox(children=(HTML(value=''), FloatProgress(value=0.0, max=163.0), HTML(value='')))"
      ]
     },
     "metadata": {},
     "output_type": "display_data"
    },
    {
     "name": "stdout",
     "output_type": "stream",
     "text": [
      "\n"
     ]
    },
    {
     "data": {
      "application/vnd.jupyter.widget-view+json": {
       "model_id": "9055c6059d8040e39f0b3cdb76441f13",
       "version_major": 2,
       "version_minor": 0
      },
      "text/plain": [
       "HBox(children=(HTML(value=''), FloatProgress(value=0.0, max=41.0), HTML(value='')))"
      ]
     },
     "metadata": {},
     "output_type": "display_data"
    },
    {
     "name": "stdout",
     "output_type": "stream",
     "text": [
      "\n",
      "\tTraining Loss: 0.053033 \tValidation Loss: 0.564356\n",
      "running epoch: 35\n"
     ]
    },
    {
     "data": {
      "application/vnd.jupyter.widget-view+json": {
       "model_id": "8c051226de724fe6804df77d449fcccd",
       "version_major": 2,
       "version_minor": 0
      },
      "text/plain": [
       "HBox(children=(HTML(value=''), FloatProgress(value=0.0, max=163.0), HTML(value='')))"
      ]
     },
     "metadata": {},
     "output_type": "display_data"
    },
    {
     "name": "stdout",
     "output_type": "stream",
     "text": [
      "\n"
     ]
    },
    {
     "data": {
      "application/vnd.jupyter.widget-view+json": {
       "model_id": "733b838153ca4c56b6cde3bac1c0ea2c",
       "version_major": 2,
       "version_minor": 0
      },
      "text/plain": [
       "HBox(children=(HTML(value=''), FloatProgress(value=0.0, max=41.0), HTML(value='')))"
      ]
     },
     "metadata": {},
     "output_type": "display_data"
    },
    {
     "name": "stdout",
     "output_type": "stream",
     "text": [
      "\n",
      "\tTraining Loss: 0.046448 \tValidation Loss: 0.603441\n",
      "running epoch: 36\n"
     ]
    },
    {
     "data": {
      "application/vnd.jupyter.widget-view+json": {
       "model_id": "1bb304866e0e40f1bf11b71cf3b0cd53",
       "version_major": 2,
       "version_minor": 0
      },
      "text/plain": [
       "HBox(children=(HTML(value=''), FloatProgress(value=0.0, max=163.0), HTML(value='')))"
      ]
     },
     "metadata": {},
     "output_type": "display_data"
    },
    {
     "name": "stdout",
     "output_type": "stream",
     "text": [
      "\n"
     ]
    },
    {
     "data": {
      "application/vnd.jupyter.widget-view+json": {
       "model_id": "3a06d79ee04848c79ece0215fa4191af",
       "version_major": 2,
       "version_minor": 0
      },
      "text/plain": [
       "HBox(children=(HTML(value=''), FloatProgress(value=0.0, max=41.0), HTML(value='')))"
      ]
     },
     "metadata": {},
     "output_type": "display_data"
    },
    {
     "name": "stdout",
     "output_type": "stream",
     "text": [
      "\n",
      "\tTraining Loss: 0.047681 \tValidation Loss: 0.570301\n",
      "running epoch: 37\n"
     ]
    },
    {
     "data": {
      "application/vnd.jupyter.widget-view+json": {
       "model_id": "d8b63afb3cd54bcdb82389a99b53e8ee",
       "version_major": 2,
       "version_minor": 0
      },
      "text/plain": [
       "HBox(children=(HTML(value=''), FloatProgress(value=0.0, max=163.0), HTML(value='')))"
      ]
     },
     "metadata": {},
     "output_type": "display_data"
    },
    {
     "name": "stdout",
     "output_type": "stream",
     "text": [
      "\n"
     ]
    },
    {
     "data": {
      "application/vnd.jupyter.widget-view+json": {
       "model_id": "7286b6c420c6445287ad1ddfed78e289",
       "version_major": 2,
       "version_minor": 0
      },
      "text/plain": [
       "HBox(children=(HTML(value=''), FloatProgress(value=0.0, max=41.0), HTML(value='')))"
      ]
     },
     "metadata": {},
     "output_type": "display_data"
    },
    {
     "name": "stdout",
     "output_type": "stream",
     "text": [
      "\n",
      "\tTraining Loss: 0.055043 \tValidation Loss: 0.585778\n",
      "running epoch: 38\n"
     ]
    },
    {
     "data": {
      "application/vnd.jupyter.widget-view+json": {
       "model_id": "4031c49dc54e4818a2804d84cc070e57",
       "version_major": 2,
       "version_minor": 0
      },
      "text/plain": [
       "HBox(children=(HTML(value=''), FloatProgress(value=0.0, max=163.0), HTML(value='')))"
      ]
     },
     "metadata": {},
     "output_type": "display_data"
    },
    {
     "name": "stdout",
     "output_type": "stream",
     "text": [
      "\n"
     ]
    },
    {
     "data": {
      "application/vnd.jupyter.widget-view+json": {
       "model_id": "e0b8102fa08c4739a101c06cb528ba30",
       "version_major": 2,
       "version_minor": 0
      },
      "text/plain": [
       "HBox(children=(HTML(value=''), FloatProgress(value=0.0, max=41.0), HTML(value='')))"
      ]
     },
     "metadata": {},
     "output_type": "display_data"
    },
    {
     "name": "stdout",
     "output_type": "stream",
     "text": [
      "\n",
      "\tTraining Loss: 0.040980 \tValidation Loss: 0.687492\n",
      "running epoch: 39\n"
     ]
    },
    {
     "data": {
      "application/vnd.jupyter.widget-view+json": {
       "model_id": "b9bbbcc2c9bc4bffbb481cc9b887e0ba",
       "version_major": 2,
       "version_minor": 0
      },
      "text/plain": [
       "HBox(children=(HTML(value=''), FloatProgress(value=0.0, max=163.0), HTML(value='')))"
      ]
     },
     "metadata": {},
     "output_type": "display_data"
    },
    {
     "name": "stdout",
     "output_type": "stream",
     "text": [
      "\n"
     ]
    },
    {
     "data": {
      "application/vnd.jupyter.widget-view+json": {
       "model_id": "d91eced927cd4a918f8ebd9b3364f105",
       "version_major": 2,
       "version_minor": 0
      },
      "text/plain": [
       "HBox(children=(HTML(value=''), FloatProgress(value=0.0, max=41.0), HTML(value='')))"
      ]
     },
     "metadata": {},
     "output_type": "display_data"
    },
    {
     "name": "stdout",
     "output_type": "stream",
     "text": [
      "\n",
      "\tTraining Loss: 0.065690 \tValidation Loss: 0.635193\n",
      "running epoch: 40\n"
     ]
    },
    {
     "data": {
      "application/vnd.jupyter.widget-view+json": {
       "model_id": "74d328392fbf45148be9457e6e9fc266",
       "version_major": 2,
       "version_minor": 0
      },
      "text/plain": [
       "HBox(children=(HTML(value=''), FloatProgress(value=0.0, max=163.0), HTML(value='')))"
      ]
     },
     "metadata": {},
     "output_type": "display_data"
    },
    {
     "name": "stdout",
     "output_type": "stream",
     "text": [
      "\n"
     ]
    },
    {
     "data": {
      "application/vnd.jupyter.widget-view+json": {
       "model_id": "f315a2f536bb4beb846f985c429b4802",
       "version_major": 2,
       "version_minor": 0
      },
      "text/plain": [
       "HBox(children=(HTML(value=''), FloatProgress(value=0.0, max=41.0), HTML(value='')))"
      ]
     },
     "metadata": {},
     "output_type": "display_data"
    },
    {
     "name": "stdout",
     "output_type": "stream",
     "text": [
      "\n",
      "\tTraining Loss: 0.035366 \tValidation Loss: 0.719420\n",
      "running epoch: 41\n"
     ]
    },
    {
     "data": {
      "application/vnd.jupyter.widget-view+json": {
       "model_id": "5f9cc5320f3e4d639333fab89ddfeffd",
       "version_major": 2,
       "version_minor": 0
      },
      "text/plain": [
       "HBox(children=(HTML(value=''), FloatProgress(value=0.0, max=163.0), HTML(value='')))"
      ]
     },
     "metadata": {},
     "output_type": "display_data"
    },
    {
     "name": "stdout",
     "output_type": "stream",
     "text": [
      "\n"
     ]
    },
    {
     "data": {
      "application/vnd.jupyter.widget-view+json": {
       "model_id": "d9b348399ec44886bb1d67e2dfecb961",
       "version_major": 2,
       "version_minor": 0
      },
      "text/plain": [
       "HBox(children=(HTML(value=''), FloatProgress(value=0.0, max=41.0), HTML(value='')))"
      ]
     },
     "metadata": {},
     "output_type": "display_data"
    },
    {
     "name": "stdout",
     "output_type": "stream",
     "text": [
      "\n",
      "\tTraining Loss: 0.028414 \tValidation Loss: 0.801882\n",
      "running epoch: 42\n"
     ]
    },
    {
     "data": {
      "application/vnd.jupyter.widget-view+json": {
       "model_id": "fc3b39566eb44ce0b0939df7e04a184c",
       "version_major": 2,
       "version_minor": 0
      },
      "text/plain": [
       "HBox(children=(HTML(value=''), FloatProgress(value=0.0, max=163.0), HTML(value='')))"
      ]
     },
     "metadata": {},
     "output_type": "display_data"
    },
    {
     "name": "stdout",
     "output_type": "stream",
     "text": [
      "\n"
     ]
    },
    {
     "data": {
      "application/vnd.jupyter.widget-view+json": {
       "model_id": "7fb659b6188e495ebf64b840ddfeec46",
       "version_major": 2,
       "version_minor": 0
      },
      "text/plain": [
       "HBox(children=(HTML(value=''), FloatProgress(value=0.0, max=41.0), HTML(value='')))"
      ]
     },
     "metadata": {},
     "output_type": "display_data"
    },
    {
     "name": "stdout",
     "output_type": "stream",
     "text": [
      "\n",
      "\tTraining Loss: 0.061476 \tValidation Loss: 0.668959\n",
      "running epoch: 43\n"
     ]
    },
    {
     "data": {
      "application/vnd.jupyter.widget-view+json": {
       "model_id": "90f0e19ecd9a4d2fb13264b2f46c5c59",
       "version_major": 2,
       "version_minor": 0
      },
      "text/plain": [
       "HBox(children=(HTML(value=''), FloatProgress(value=0.0, max=163.0), HTML(value='')))"
      ]
     },
     "metadata": {},
     "output_type": "display_data"
    },
    {
     "name": "stdout",
     "output_type": "stream",
     "text": [
      "\n"
     ]
    },
    {
     "data": {
      "application/vnd.jupyter.widget-view+json": {
       "model_id": "e872884b34c44448890d9f50dcf7d60b",
       "version_major": 2,
       "version_minor": 0
      },
      "text/plain": [
       "HBox(children=(HTML(value=''), FloatProgress(value=0.0, max=41.0), HTML(value='')))"
      ]
     },
     "metadata": {},
     "output_type": "display_data"
    },
    {
     "name": "stdout",
     "output_type": "stream",
     "text": [
      "\n",
      "\tTraining Loss: 0.027229 \tValidation Loss: 0.791289\n",
      "running epoch: 44\n"
     ]
    },
    {
     "data": {
      "application/vnd.jupyter.widget-view+json": {
       "model_id": "fa5643895e1a4f7fbc8220a7fb4a2b3b",
       "version_major": 2,
       "version_minor": 0
      },
      "text/plain": [
       "HBox(children=(HTML(value=''), FloatProgress(value=0.0, max=163.0), HTML(value='')))"
      ]
     },
     "metadata": {},
     "output_type": "display_data"
    },
    {
     "name": "stdout",
     "output_type": "stream",
     "text": [
      "\n"
     ]
    },
    {
     "data": {
      "application/vnd.jupyter.widget-view+json": {
       "model_id": "2dfffe0c886c4178937674dcec4a25be",
       "version_major": 2,
       "version_minor": 0
      },
      "text/plain": [
       "HBox(children=(HTML(value=''), FloatProgress(value=0.0, max=41.0), HTML(value='')))"
      ]
     },
     "metadata": {},
     "output_type": "display_data"
    },
    {
     "name": "stdout",
     "output_type": "stream",
     "text": [
      "\n",
      "\tTraining Loss: 0.028041 \tValidation Loss: 0.903887\n",
      "running epoch: 45\n"
     ]
    },
    {
     "data": {
      "application/vnd.jupyter.widget-view+json": {
       "model_id": "bce28e0b53c549dc80baaef22363e280",
       "version_major": 2,
       "version_minor": 0
      },
      "text/plain": [
       "HBox(children=(HTML(value=''), FloatProgress(value=0.0, max=163.0), HTML(value='')))"
      ]
     },
     "metadata": {},
     "output_type": "display_data"
    },
    {
     "name": "stdout",
     "output_type": "stream",
     "text": [
      "\n"
     ]
    },
    {
     "data": {
      "application/vnd.jupyter.widget-view+json": {
       "model_id": "81c141b4d529430285f605eb3f80d37e",
       "version_major": 2,
       "version_minor": 0
      },
      "text/plain": [
       "HBox(children=(HTML(value=''), FloatProgress(value=0.0, max=41.0), HTML(value='')))"
      ]
     },
     "metadata": {},
     "output_type": "display_data"
    },
    {
     "name": "stdout",
     "output_type": "stream",
     "text": [
      "\n",
      "\tTraining Loss: 0.039375 \tValidation Loss: 0.740335\n",
      "running epoch: 46\n"
     ]
    },
    {
     "data": {
      "application/vnd.jupyter.widget-view+json": {
       "model_id": "f5cb689089dc465392953a5bf8967208",
       "version_major": 2,
       "version_minor": 0
      },
      "text/plain": [
       "HBox(children=(HTML(value=''), FloatProgress(value=0.0, max=163.0), HTML(value='')))"
      ]
     },
     "metadata": {},
     "output_type": "display_data"
    },
    {
     "name": "stdout",
     "output_type": "stream",
     "text": [
      "\n"
     ]
    },
    {
     "data": {
      "application/vnd.jupyter.widget-view+json": {
       "model_id": "91f9e28e1acc4ea89614f82100d6003a",
       "version_major": 2,
       "version_minor": 0
      },
      "text/plain": [
       "HBox(children=(HTML(value=''), FloatProgress(value=0.0, max=41.0), HTML(value='')))"
      ]
     },
     "metadata": {},
     "output_type": "display_data"
    },
    {
     "name": "stdout",
     "output_type": "stream",
     "text": [
      "\n",
      "\tTraining Loss: 0.039470 \tValidation Loss: 0.798169\n",
      "running epoch: 47\n"
     ]
    },
    {
     "data": {
      "application/vnd.jupyter.widget-view+json": {
       "model_id": "57f4c849405449779eec9e2a3c1719da",
       "version_major": 2,
       "version_minor": 0
      },
      "text/plain": [
       "HBox(children=(HTML(value=''), FloatProgress(value=0.0, max=163.0), HTML(value='')))"
      ]
     },
     "metadata": {},
     "output_type": "display_data"
    },
    {
     "name": "stdout",
     "output_type": "stream",
     "text": [
      "\n"
     ]
    },
    {
     "data": {
      "application/vnd.jupyter.widget-view+json": {
       "model_id": "b037c0fce91a46bb9563245bdef663cc",
       "version_major": 2,
       "version_minor": 0
      },
      "text/plain": [
       "HBox(children=(HTML(value=''), FloatProgress(value=0.0, max=41.0), HTML(value='')))"
      ]
     },
     "metadata": {},
     "output_type": "display_data"
    },
    {
     "name": "stdout",
     "output_type": "stream",
     "text": [
      "\n",
      "\tTraining Loss: 0.020089 \tValidation Loss: 0.910274\n",
      "running epoch: 48\n"
     ]
    },
    {
     "data": {
      "application/vnd.jupyter.widget-view+json": {
       "model_id": "1e545b169c7e403aa8f0f2db8a7b2660",
       "version_major": 2,
       "version_minor": 0
      },
      "text/plain": [
       "HBox(children=(HTML(value=''), FloatProgress(value=0.0, max=163.0), HTML(value='')))"
      ]
     },
     "metadata": {},
     "output_type": "display_data"
    },
    {
     "name": "stdout",
     "output_type": "stream",
     "text": [
      "\n"
     ]
    },
    {
     "data": {
      "application/vnd.jupyter.widget-view+json": {
       "model_id": "22e0ce94e90842f989d993b97b5f857f",
       "version_major": 2,
       "version_minor": 0
      },
      "text/plain": [
       "HBox(children=(HTML(value=''), FloatProgress(value=0.0, max=41.0), HTML(value='')))"
      ]
     },
     "metadata": {},
     "output_type": "display_data"
    },
    {
     "name": "stdout",
     "output_type": "stream",
     "text": [
      "\n",
      "\tTraining Loss: 0.045119 \tValidation Loss: 0.650387\n",
      "running epoch: 49\n"
     ]
    },
    {
     "data": {
      "application/vnd.jupyter.widget-view+json": {
       "model_id": "c6a36d40229141638bb2ba2093854b7c",
       "version_major": 2,
       "version_minor": 0
      },
      "text/plain": [
       "HBox(children=(HTML(value=''), FloatProgress(value=0.0, max=163.0), HTML(value='')))"
      ]
     },
     "metadata": {},
     "output_type": "display_data"
    },
    {
     "name": "stdout",
     "output_type": "stream",
     "text": [
      "\n"
     ]
    },
    {
     "data": {
      "application/vnd.jupyter.widget-view+json": {
       "model_id": "f0077f98ef404bcbb1751c9de546ac9b",
       "version_major": 2,
       "version_minor": 0
      },
      "text/plain": [
       "HBox(children=(HTML(value=''), FloatProgress(value=0.0, max=41.0), HTML(value='')))"
      ]
     },
     "metadata": {},
     "output_type": "display_data"
    },
    {
     "name": "stdout",
     "output_type": "stream",
     "text": [
      "\n",
      "\tTraining Loss: 0.027861 \tValidation Loss: 0.824585\n",
      "running epoch: 50\n"
     ]
    },
    {
     "data": {
      "application/vnd.jupyter.widget-view+json": {
       "model_id": "3e93dd848a1c46ee81f608cd30ed3674",
       "version_major": 2,
       "version_minor": 0
      },
      "text/plain": [
       "HBox(children=(HTML(value=''), FloatProgress(value=0.0, max=163.0), HTML(value='')))"
      ]
     },
     "metadata": {},
     "output_type": "display_data"
    },
    {
     "name": "stdout",
     "output_type": "stream",
     "text": [
      "\n"
     ]
    },
    {
     "data": {
      "application/vnd.jupyter.widget-view+json": {
       "model_id": "de4b4c65b2e542429169047603d0c4bf",
       "version_major": 2,
       "version_minor": 0
      },
      "text/plain": [
       "HBox(children=(HTML(value=''), FloatProgress(value=0.0, max=41.0), HTML(value='')))"
      ]
     },
     "metadata": {},
     "output_type": "display_data"
    },
    {
     "name": "stdout",
     "output_type": "stream",
     "text": [
      "\n",
      "\tTraining Loss: 0.031780 \tValidation Loss: 0.688634\n",
      "running epoch: 51\n"
     ]
    },
    {
     "data": {
      "application/vnd.jupyter.widget-view+json": {
       "model_id": "fa77af0c240c4337bf75699a4cef5e63",
       "version_major": 2,
       "version_minor": 0
      },
      "text/plain": [
       "HBox(children=(HTML(value=''), FloatProgress(value=0.0, max=163.0), HTML(value='')))"
      ]
     },
     "metadata": {},
     "output_type": "display_data"
    },
    {
     "name": "stdout",
     "output_type": "stream",
     "text": [
      "\n"
     ]
    },
    {
     "data": {
      "application/vnd.jupyter.widget-view+json": {
       "model_id": "f0360def8d7648d4b62031dd9f57b55d",
       "version_major": 2,
       "version_minor": 0
      },
      "text/plain": [
       "HBox(children=(HTML(value=''), FloatProgress(value=0.0, max=41.0), HTML(value='')))"
      ]
     },
     "metadata": {},
     "output_type": "display_data"
    },
    {
     "name": "stdout",
     "output_type": "stream",
     "text": [
      "\n",
      "\tTraining Loss: 0.027143 \tValidation Loss: 0.893106\n",
      "running epoch: 52\n"
     ]
    },
    {
     "data": {
      "application/vnd.jupyter.widget-view+json": {
       "model_id": "12ecaf9ce4cd484ab9587452c4755857",
       "version_major": 2,
       "version_minor": 0
      },
      "text/plain": [
       "HBox(children=(HTML(value=''), FloatProgress(value=0.0, max=163.0), HTML(value='')))"
      ]
     },
     "metadata": {},
     "output_type": "display_data"
    },
    {
     "name": "stdout",
     "output_type": "stream",
     "text": [
      "\n"
     ]
    },
    {
     "data": {
      "application/vnd.jupyter.widget-view+json": {
       "model_id": "845f503b247f4943af8ec238afcc3899",
       "version_major": 2,
       "version_minor": 0
      },
      "text/plain": [
       "HBox(children=(HTML(value=''), FloatProgress(value=0.0, max=41.0), HTML(value='')))"
      ]
     },
     "metadata": {},
     "output_type": "display_data"
    },
    {
     "name": "stdout",
     "output_type": "stream",
     "text": [
      "\n",
      "\tTraining Loss: 0.032501 \tValidation Loss: 0.776974\n",
      "running epoch: 53\n"
     ]
    },
    {
     "data": {
      "application/vnd.jupyter.widget-view+json": {
       "model_id": "1dfdb500f80b4a0b98a723f13c996070",
       "version_major": 2,
       "version_minor": 0
      },
      "text/plain": [
       "HBox(children=(HTML(value=''), FloatProgress(value=0.0, max=163.0), HTML(value='')))"
      ]
     },
     "metadata": {},
     "output_type": "display_data"
    },
    {
     "name": "stdout",
     "output_type": "stream",
     "text": [
      "\n"
     ]
    },
    {
     "data": {
      "application/vnd.jupyter.widget-view+json": {
       "model_id": "6166fb1873574ebc8f5fc15572a1101f",
       "version_major": 2,
       "version_minor": 0
      },
      "text/plain": [
       "HBox(children=(HTML(value=''), FloatProgress(value=0.0, max=41.0), HTML(value='')))"
      ]
     },
     "metadata": {},
     "output_type": "display_data"
    },
    {
     "name": "stdout",
     "output_type": "stream",
     "text": [
      "\n",
      "\tTraining Loss: 0.027781 \tValidation Loss: 0.817629\n",
      "running epoch: 54\n"
     ]
    },
    {
     "data": {
      "application/vnd.jupyter.widget-view+json": {
       "model_id": "f6f28c711fe14500b3748177c06ccd49",
       "version_major": 2,
       "version_minor": 0
      },
      "text/plain": [
       "HBox(children=(HTML(value=''), FloatProgress(value=0.0, max=163.0), HTML(value='')))"
      ]
     },
     "metadata": {},
     "output_type": "display_data"
    },
    {
     "name": "stdout",
     "output_type": "stream",
     "text": [
      "\n"
     ]
    },
    {
     "data": {
      "application/vnd.jupyter.widget-view+json": {
       "model_id": "0fba1b1878a64fefb2892a132917f66e",
       "version_major": 2,
       "version_minor": 0
      },
      "text/plain": [
       "HBox(children=(HTML(value=''), FloatProgress(value=0.0, max=41.0), HTML(value='')))"
      ]
     },
     "metadata": {},
     "output_type": "display_data"
    },
    {
     "name": "stdout",
     "output_type": "stream",
     "text": [
      "\n",
      "\tTraining Loss: 0.025622 \tValidation Loss: 0.792984\n",
      "running epoch: 55\n"
     ]
    },
    {
     "data": {
      "application/vnd.jupyter.widget-view+json": {
       "model_id": "4b90284b48f74a15ad1d472bd76dc7c0",
       "version_major": 2,
       "version_minor": 0
      },
      "text/plain": [
       "HBox(children=(HTML(value=''), FloatProgress(value=0.0, max=163.0), HTML(value='')))"
      ]
     },
     "metadata": {},
     "output_type": "display_data"
    },
    {
     "name": "stdout",
     "output_type": "stream",
     "text": [
      "\n"
     ]
    },
    {
     "data": {
      "application/vnd.jupyter.widget-view+json": {
       "model_id": "faf68185759c46debd41ed8f138798e0",
       "version_major": 2,
       "version_minor": 0
      },
      "text/plain": [
       "HBox(children=(HTML(value=''), FloatProgress(value=0.0, max=41.0), HTML(value='')))"
      ]
     },
     "metadata": {},
     "output_type": "display_data"
    },
    {
     "name": "stdout",
     "output_type": "stream",
     "text": [
      "\n",
      "\tTraining Loss: 0.025957 \tValidation Loss: 0.930946\n",
      "running epoch: 56\n"
     ]
    },
    {
     "data": {
      "application/vnd.jupyter.widget-view+json": {
       "model_id": "e3bb14e5a53c4d25bcbd1303376c8ae4",
       "version_major": 2,
       "version_minor": 0
      },
      "text/plain": [
       "HBox(children=(HTML(value=''), FloatProgress(value=0.0, max=163.0), HTML(value='')))"
      ]
     },
     "metadata": {},
     "output_type": "display_data"
    },
    {
     "name": "stdout",
     "output_type": "stream",
     "text": [
      "\n"
     ]
    },
    {
     "data": {
      "application/vnd.jupyter.widget-view+json": {
       "model_id": "b4bb7649793b412d90bcb0ad73b58224",
       "version_major": 2,
       "version_minor": 0
      },
      "text/plain": [
       "HBox(children=(HTML(value=''), FloatProgress(value=0.0, max=41.0), HTML(value='')))"
      ]
     },
     "metadata": {},
     "output_type": "display_data"
    },
    {
     "name": "stdout",
     "output_type": "stream",
     "text": [
      "\n",
      "\tTraining Loss: 0.130808 \tValidation Loss: 0.507232\n",
      "running epoch: 57\n"
     ]
    },
    {
     "data": {
      "application/vnd.jupyter.widget-view+json": {
       "model_id": "e1be1b68888c41c08f979b64ffa4ebe6",
       "version_major": 2,
       "version_minor": 0
      },
      "text/plain": [
       "HBox(children=(HTML(value=''), FloatProgress(value=0.0, max=163.0), HTML(value='')))"
      ]
     },
     "metadata": {},
     "output_type": "display_data"
    },
    {
     "name": "stdout",
     "output_type": "stream",
     "text": [
      "\n"
     ]
    },
    {
     "data": {
      "application/vnd.jupyter.widget-view+json": {
       "model_id": "0f595c0c2ac34ed38cdd0c09c72e4962",
       "version_major": 2,
       "version_minor": 0
      },
      "text/plain": [
       "HBox(children=(HTML(value=''), FloatProgress(value=0.0, max=41.0), HTML(value='')))"
      ]
     },
     "metadata": {},
     "output_type": "display_data"
    },
    {
     "name": "stdout",
     "output_type": "stream",
     "text": [
      "\n",
      "\tTraining Loss: 0.023898 \tValidation Loss: 0.738020\n",
      "running epoch: 58\n"
     ]
    },
    {
     "data": {
      "application/vnd.jupyter.widget-view+json": {
       "model_id": "13f43ef053a44b06935c15f299abdd13",
       "version_major": 2,
       "version_minor": 0
      },
      "text/plain": [
       "HBox(children=(HTML(value=''), FloatProgress(value=0.0, max=163.0), HTML(value='')))"
      ]
     },
     "metadata": {},
     "output_type": "display_data"
    },
    {
     "name": "stdout",
     "output_type": "stream",
     "text": [
      "\n"
     ]
    },
    {
     "data": {
      "application/vnd.jupyter.widget-view+json": {
       "model_id": "1f0cfb5d1cfc400fa4407c213946be31",
       "version_major": 2,
       "version_minor": 0
      },
      "text/plain": [
       "HBox(children=(HTML(value=''), FloatProgress(value=0.0, max=41.0), HTML(value='')))"
      ]
     },
     "metadata": {},
     "output_type": "display_data"
    },
    {
     "name": "stdout",
     "output_type": "stream",
     "text": [
      "\n",
      "\tTraining Loss: 0.017964 \tValidation Loss: 0.929540\n",
      "running epoch: 59\n"
     ]
    },
    {
     "data": {
      "application/vnd.jupyter.widget-view+json": {
       "model_id": "21fa25c55b724b269ac5e8af20f31620",
       "version_major": 2,
       "version_minor": 0
      },
      "text/plain": [
       "HBox(children=(HTML(value=''), FloatProgress(value=0.0, max=163.0), HTML(value='')))"
      ]
     },
     "metadata": {},
     "output_type": "display_data"
    },
    {
     "name": "stdout",
     "output_type": "stream",
     "text": [
      "\n"
     ]
    },
    {
     "data": {
      "application/vnd.jupyter.widget-view+json": {
       "model_id": "383378a5442e4c84a3811f94d69acc04",
       "version_major": 2,
       "version_minor": 0
      },
      "text/plain": [
       "HBox(children=(HTML(value=''), FloatProgress(value=0.0, max=41.0), HTML(value='')))"
      ]
     },
     "metadata": {},
     "output_type": "display_data"
    },
    {
     "name": "stdout",
     "output_type": "stream",
     "text": [
      "\n",
      "\tTraining Loss: 0.025224 \tValidation Loss: 0.871775\n",
      "running epoch: 60\n"
     ]
    },
    {
     "data": {
      "application/vnd.jupyter.widget-view+json": {
       "model_id": "c5a7f2f7164144a5aad00f20329bca2e",
       "version_major": 2,
       "version_minor": 0
      },
      "text/plain": [
       "HBox(children=(HTML(value=''), FloatProgress(value=0.0, max=163.0), HTML(value='')))"
      ]
     },
     "metadata": {},
     "output_type": "display_data"
    },
    {
     "name": "stdout",
     "output_type": "stream",
     "text": [
      "\n"
     ]
    },
    {
     "data": {
      "application/vnd.jupyter.widget-view+json": {
       "model_id": "f84085beda21478d9af2a8f85a0c10ba",
       "version_major": 2,
       "version_minor": 0
      },
      "text/plain": [
       "HBox(children=(HTML(value=''), FloatProgress(value=0.0, max=41.0), HTML(value='')))"
      ]
     },
     "metadata": {},
     "output_type": "display_data"
    },
    {
     "name": "stdout",
     "output_type": "stream",
     "text": [
      "\n",
      "\tTraining Loss: 0.032856 \tValidation Loss: 0.867484\n",
      "running epoch: 61\n"
     ]
    },
    {
     "data": {
      "application/vnd.jupyter.widget-view+json": {
       "model_id": "08da2bb881f649bc8fb1e82c6f725955",
       "version_major": 2,
       "version_minor": 0
      },
      "text/plain": [
       "HBox(children=(HTML(value=''), FloatProgress(value=0.0, max=163.0), HTML(value='')))"
      ]
     },
     "metadata": {},
     "output_type": "display_data"
    },
    {
     "name": "stdout",
     "output_type": "stream",
     "text": [
      "\n"
     ]
    },
    {
     "data": {
      "application/vnd.jupyter.widget-view+json": {
       "model_id": "38445f11b7a64e06b3cd1c84bdbfbcd2",
       "version_major": 2,
       "version_minor": 0
      },
      "text/plain": [
       "HBox(children=(HTML(value=''), FloatProgress(value=0.0, max=41.0), HTML(value='')))"
      ]
     },
     "metadata": {},
     "output_type": "display_data"
    },
    {
     "name": "stdout",
     "output_type": "stream",
     "text": [
      "\n",
      "\tTraining Loss: 0.013911 \tValidation Loss: 1.056545\n",
      "running epoch: 62\n"
     ]
    },
    {
     "data": {
      "application/vnd.jupyter.widget-view+json": {
       "model_id": "b93a7a77a0a94bf18636675f31356998",
       "version_major": 2,
       "version_minor": 0
      },
      "text/plain": [
       "HBox(children=(HTML(value=''), FloatProgress(value=0.0, max=163.0), HTML(value='')))"
      ]
     },
     "metadata": {},
     "output_type": "display_data"
    },
    {
     "name": "stdout",
     "output_type": "stream",
     "text": [
      "\n"
     ]
    },
    {
     "data": {
      "application/vnd.jupyter.widget-view+json": {
       "model_id": "a6743bfd427e473c92b15af551552507",
       "version_major": 2,
       "version_minor": 0
      },
      "text/plain": [
       "HBox(children=(HTML(value=''), FloatProgress(value=0.0, max=41.0), HTML(value='')))"
      ]
     },
     "metadata": {},
     "output_type": "display_data"
    },
    {
     "name": "stdout",
     "output_type": "stream",
     "text": [
      "\n",
      "\tTraining Loss: 0.027818 \tValidation Loss: 0.948348\n",
      "running epoch: 63\n"
     ]
    },
    {
     "data": {
      "application/vnd.jupyter.widget-view+json": {
       "model_id": "fd323966dab74c929abcbc170ea0d1f5",
       "version_major": 2,
       "version_minor": 0
      },
      "text/plain": [
       "HBox(children=(HTML(value=''), FloatProgress(value=0.0, max=163.0), HTML(value='')))"
      ]
     },
     "metadata": {},
     "output_type": "display_data"
    },
    {
     "name": "stdout",
     "output_type": "stream",
     "text": [
      "\n"
     ]
    },
    {
     "data": {
      "application/vnd.jupyter.widget-view+json": {
       "model_id": "f4d6e2d2cadd44699d412cec31860c62",
       "version_major": 2,
       "version_minor": 0
      },
      "text/plain": [
       "HBox(children=(HTML(value=''), FloatProgress(value=0.0, max=41.0), HTML(value='')))"
      ]
     },
     "metadata": {},
     "output_type": "display_data"
    },
    {
     "name": "stdout",
     "output_type": "stream",
     "text": [
      "\n",
      "\tTraining Loss: 0.025675 \tValidation Loss: 0.934016\n",
      "running epoch: 64\n"
     ]
    },
    {
     "data": {
      "application/vnd.jupyter.widget-view+json": {
       "model_id": "ef662e6727724a43b52ab47514d56ebe",
       "version_major": 2,
       "version_minor": 0
      },
      "text/plain": [
       "HBox(children=(HTML(value=''), FloatProgress(value=0.0, max=163.0), HTML(value='')))"
      ]
     },
     "metadata": {},
     "output_type": "display_data"
    },
    {
     "name": "stdout",
     "output_type": "stream",
     "text": [
      "\n"
     ]
    },
    {
     "data": {
      "application/vnd.jupyter.widget-view+json": {
       "model_id": "687a8e5f9732462397da699aea53e1ed",
       "version_major": 2,
       "version_minor": 0
      },
      "text/plain": [
       "HBox(children=(HTML(value=''), FloatProgress(value=0.0, max=41.0), HTML(value='')))"
      ]
     },
     "metadata": {},
     "output_type": "display_data"
    },
    {
     "name": "stdout",
     "output_type": "stream",
     "text": [
      "\n",
      "\tTraining Loss: 0.050895 \tValidation Loss: 0.760953\n",
      "running epoch: 65\n"
     ]
    },
    {
     "data": {
      "application/vnd.jupyter.widget-view+json": {
       "model_id": "528b53b3bb3c4050b8dfd7359e23eeb1",
       "version_major": 2,
       "version_minor": 0
      },
      "text/plain": [
       "HBox(children=(HTML(value=''), FloatProgress(value=0.0, max=163.0), HTML(value='')))"
      ]
     },
     "metadata": {},
     "output_type": "display_data"
    },
    {
     "name": "stdout",
     "output_type": "stream",
     "text": [
      "\n"
     ]
    },
    {
     "data": {
      "application/vnd.jupyter.widget-view+json": {
       "model_id": "29e1996512e547dea8000c194c6da497",
       "version_major": 2,
       "version_minor": 0
      },
      "text/plain": [
       "HBox(children=(HTML(value=''), FloatProgress(value=0.0, max=41.0), HTML(value='')))"
      ]
     },
     "metadata": {},
     "output_type": "display_data"
    },
    {
     "name": "stdout",
     "output_type": "stream",
     "text": [
      "\n",
      "\tTraining Loss: 0.009950 \tValidation Loss: 0.942628\n",
      "running epoch: 66\n"
     ]
    },
    {
     "data": {
      "application/vnd.jupyter.widget-view+json": {
       "model_id": "d842176f24e8429091ed67b21080a21b",
       "version_major": 2,
       "version_minor": 0
      },
      "text/plain": [
       "HBox(children=(HTML(value=''), FloatProgress(value=0.0, max=163.0), HTML(value='')))"
      ]
     },
     "metadata": {},
     "output_type": "display_data"
    },
    {
     "name": "stdout",
     "output_type": "stream",
     "text": [
      "\n"
     ]
    },
    {
     "data": {
      "application/vnd.jupyter.widget-view+json": {
       "model_id": "b31ded8973684a8f86a693bd95489046",
       "version_major": 2,
       "version_minor": 0
      },
      "text/plain": [
       "HBox(children=(HTML(value=''), FloatProgress(value=0.0, max=41.0), HTML(value='')))"
      ]
     },
     "metadata": {},
     "output_type": "display_data"
    },
    {
     "name": "stdout",
     "output_type": "stream",
     "text": [
      "\n",
      "\tTraining Loss: 0.001916 \tValidation Loss: 1.100883\n",
      "running epoch: 67\n"
     ]
    },
    {
     "data": {
      "application/vnd.jupyter.widget-view+json": {
       "model_id": "09e340bb360847048192480ff3f9dbb5",
       "version_major": 2,
       "version_minor": 0
      },
      "text/plain": [
       "HBox(children=(HTML(value=''), FloatProgress(value=0.0, max=163.0), HTML(value='')))"
      ]
     },
     "metadata": {},
     "output_type": "display_data"
    },
    {
     "name": "stdout",
     "output_type": "stream",
     "text": [
      "\n"
     ]
    },
    {
     "data": {
      "application/vnd.jupyter.widget-view+json": {
       "model_id": "abec87f22efa44acbaf72012e607084d",
       "version_major": 2,
       "version_minor": 0
      },
      "text/plain": [
       "HBox(children=(HTML(value=''), FloatProgress(value=0.0, max=41.0), HTML(value='')))"
      ]
     },
     "metadata": {},
     "output_type": "display_data"
    },
    {
     "name": "stdout",
     "output_type": "stream",
     "text": [
      "\n",
      "\tTraining Loss: 0.000545 \tValidation Loss: 1.157736\n",
      "running epoch: 68\n"
     ]
    },
    {
     "data": {
      "application/vnd.jupyter.widget-view+json": {
       "model_id": "ac873c38c7b74bbe8413ee782d6fb069",
       "version_major": 2,
       "version_minor": 0
      },
      "text/plain": [
       "HBox(children=(HTML(value=''), FloatProgress(value=0.0, max=163.0), HTML(value='')))"
      ]
     },
     "metadata": {},
     "output_type": "display_data"
    },
    {
     "name": "stdout",
     "output_type": "stream",
     "text": [
      "\n"
     ]
    },
    {
     "data": {
      "application/vnd.jupyter.widget-view+json": {
       "model_id": "6fb0bd44050d45918e6fc730c0f10da3",
       "version_major": 2,
       "version_minor": 0
      },
      "text/plain": [
       "HBox(children=(HTML(value=''), FloatProgress(value=0.0, max=41.0), HTML(value='')))"
      ]
     },
     "metadata": {},
     "output_type": "display_data"
    },
    {
     "name": "stdout",
     "output_type": "stream",
     "text": [
      "\n",
      "\tTraining Loss: 0.000293 \tValidation Loss: 1.208883\n",
      "running epoch: 69\n"
     ]
    },
    {
     "data": {
      "application/vnd.jupyter.widget-view+json": {
       "model_id": "f09199ebc7024185941569156e56d530",
       "version_major": 2,
       "version_minor": 0
      },
      "text/plain": [
       "HBox(children=(HTML(value=''), FloatProgress(value=0.0, max=163.0), HTML(value='')))"
      ]
     },
     "metadata": {},
     "output_type": "display_data"
    },
    {
     "name": "stdout",
     "output_type": "stream",
     "text": [
      "\n"
     ]
    },
    {
     "data": {
      "application/vnd.jupyter.widget-view+json": {
       "model_id": "f6b1d3595e67416aa3227c3dd2acc3fb",
       "version_major": 2,
       "version_minor": 0
      },
      "text/plain": [
       "HBox(children=(HTML(value=''), FloatProgress(value=0.0, max=41.0), HTML(value='')))"
      ]
     },
     "metadata": {},
     "output_type": "display_data"
    },
    {
     "name": "stdout",
     "output_type": "stream",
     "text": [
      "\n",
      "\tTraining Loss: 0.000200 \tValidation Loss: 1.242844\n",
      "running epoch: 70\n"
     ]
    },
    {
     "data": {
      "application/vnd.jupyter.widget-view+json": {
       "model_id": "9ab0cf2a47c94ea5bddb949b8ef58f68",
       "version_major": 2,
       "version_minor": 0
      },
      "text/plain": [
       "HBox(children=(HTML(value=''), FloatProgress(value=0.0, max=163.0), HTML(value='')))"
      ]
     },
     "metadata": {},
     "output_type": "display_data"
    },
    {
     "name": "stdout",
     "output_type": "stream",
     "text": [
      "\n"
     ]
    },
    {
     "data": {
      "application/vnd.jupyter.widget-view+json": {
       "model_id": "6213efe24f3f4e6aaedb7035d452a1d5",
       "version_major": 2,
       "version_minor": 0
      },
      "text/plain": [
       "HBox(children=(HTML(value=''), FloatProgress(value=0.0, max=41.0), HTML(value='')))"
      ]
     },
     "metadata": {},
     "output_type": "display_data"
    },
    {
     "name": "stdout",
     "output_type": "stream",
     "text": [
      "\n",
      "\tTraining Loss: 0.000154 \tValidation Loss: 1.274756\n",
      "running epoch: 71\n"
     ]
    },
    {
     "data": {
      "application/vnd.jupyter.widget-view+json": {
       "model_id": "da9b9d928bd9400f99c01717d6ca09f4",
       "version_major": 2,
       "version_minor": 0
      },
      "text/plain": [
       "HBox(children=(HTML(value=''), FloatProgress(value=0.0, max=163.0), HTML(value='')))"
      ]
     },
     "metadata": {},
     "output_type": "display_data"
    },
    {
     "name": "stdout",
     "output_type": "stream",
     "text": [
      "\n"
     ]
    },
    {
     "data": {
      "application/vnd.jupyter.widget-view+json": {
       "model_id": "410ab1ba3d704547bfc165b130e86577",
       "version_major": 2,
       "version_minor": 0
      },
      "text/plain": [
       "HBox(children=(HTML(value=''), FloatProgress(value=0.0, max=41.0), HTML(value='')))"
      ]
     },
     "metadata": {},
     "output_type": "display_data"
    },
    {
     "name": "stdout",
     "output_type": "stream",
     "text": [
      "\n",
      "\tTraining Loss: 0.000124 \tValidation Loss: 1.306221\n",
      "running epoch: 72\n"
     ]
    },
    {
     "data": {
      "application/vnd.jupyter.widget-view+json": {
       "model_id": "b651799415d6430383d8d664ed376bae",
       "version_major": 2,
       "version_minor": 0
      },
      "text/plain": [
       "HBox(children=(HTML(value=''), FloatProgress(value=0.0, max=163.0), HTML(value='')))"
      ]
     },
     "metadata": {},
     "output_type": "display_data"
    },
    {
     "name": "stdout",
     "output_type": "stream",
     "text": [
      "\n"
     ]
    },
    {
     "data": {
      "application/vnd.jupyter.widget-view+json": {
       "model_id": "c59fcdffdc9148a38e856098848ea0bd",
       "version_major": 2,
       "version_minor": 0
      },
      "text/plain": [
       "HBox(children=(HTML(value=''), FloatProgress(value=0.0, max=41.0), HTML(value='')))"
      ]
     },
     "metadata": {},
     "output_type": "display_data"
    },
    {
     "name": "stdout",
     "output_type": "stream",
     "text": [
      "\n",
      "\tTraining Loss: 0.000102 \tValidation Loss: 1.330508\n",
      "running epoch: 73\n"
     ]
    },
    {
     "data": {
      "application/vnd.jupyter.widget-view+json": {
       "model_id": "b6a907cecfcb457ebae9da3807f0279e",
       "version_major": 2,
       "version_minor": 0
      },
      "text/plain": [
       "HBox(children=(HTML(value=''), FloatProgress(value=0.0, max=163.0), HTML(value='')))"
      ]
     },
     "metadata": {},
     "output_type": "display_data"
    },
    {
     "name": "stdout",
     "output_type": "stream",
     "text": [
      "\n"
     ]
    },
    {
     "data": {
      "application/vnd.jupyter.widget-view+json": {
       "model_id": "a4f34e2501f2406397a9b2dda901389d",
       "version_major": 2,
       "version_minor": 0
      },
      "text/plain": [
       "HBox(children=(HTML(value=''), FloatProgress(value=0.0, max=41.0), HTML(value='')))"
      ]
     },
     "metadata": {},
     "output_type": "display_data"
    },
    {
     "name": "stdout",
     "output_type": "stream",
     "text": [
      "\n",
      "\tTraining Loss: 0.000087 \tValidation Loss: 1.349014\n",
      "running epoch: 74\n"
     ]
    },
    {
     "data": {
      "application/vnd.jupyter.widget-view+json": {
       "model_id": "3464c6ca81f64f0aafb09832c5ab3a02",
       "version_major": 2,
       "version_minor": 0
      },
      "text/plain": [
       "HBox(children=(HTML(value=''), FloatProgress(value=0.0, max=163.0), HTML(value='')))"
      ]
     },
     "metadata": {},
     "output_type": "display_data"
    },
    {
     "name": "stdout",
     "output_type": "stream",
     "text": [
      "\n"
     ]
    },
    {
     "data": {
      "application/vnd.jupyter.widget-view+json": {
       "model_id": "9a1863c0c29c487888fe9b3a7e66e8d4",
       "version_major": 2,
       "version_minor": 0
      },
      "text/plain": [
       "HBox(children=(HTML(value=''), FloatProgress(value=0.0, max=41.0), HTML(value='')))"
      ]
     },
     "metadata": {},
     "output_type": "display_data"
    },
    {
     "name": "stdout",
     "output_type": "stream",
     "text": [
      "\n",
      "\tTraining Loss: 0.000075 \tValidation Loss: 1.375846\n",
      "running epoch: 75\n"
     ]
    },
    {
     "data": {
      "application/vnd.jupyter.widget-view+json": {
       "model_id": "2fffd91963024d28bfcdde29e60689e5",
       "version_major": 2,
       "version_minor": 0
      },
      "text/plain": [
       "HBox(children=(HTML(value=''), FloatProgress(value=0.0, max=163.0), HTML(value='')))"
      ]
     },
     "metadata": {},
     "output_type": "display_data"
    },
    {
     "name": "stdout",
     "output_type": "stream",
     "text": [
      "\n"
     ]
    },
    {
     "data": {
      "application/vnd.jupyter.widget-view+json": {
       "model_id": "9f820609b548404c8843de35391a15ac",
       "version_major": 2,
       "version_minor": 0
      },
      "text/plain": [
       "HBox(children=(HTML(value=''), FloatProgress(value=0.0, max=41.0), HTML(value='')))"
      ]
     },
     "metadata": {},
     "output_type": "display_data"
    },
    {
     "name": "stdout",
     "output_type": "stream",
     "text": [
      "\n",
      "\tTraining Loss: 0.000064 \tValidation Loss: 1.398211\n",
      "running epoch: 76\n"
     ]
    },
    {
     "data": {
      "application/vnd.jupyter.widget-view+json": {
       "model_id": "06fda148ae684ee58a8c2d64f8a5156c",
       "version_major": 2,
       "version_minor": 0
      },
      "text/plain": [
       "HBox(children=(HTML(value=''), FloatProgress(value=0.0, max=163.0), HTML(value='')))"
      ]
     },
     "metadata": {},
     "output_type": "display_data"
    },
    {
     "name": "stdout",
     "output_type": "stream",
     "text": [
      "\n"
     ]
    },
    {
     "data": {
      "application/vnd.jupyter.widget-view+json": {
       "model_id": "e37b8982f93d4aa999b528de63515943",
       "version_major": 2,
       "version_minor": 0
      },
      "text/plain": [
       "HBox(children=(HTML(value=''), FloatProgress(value=0.0, max=41.0), HTML(value='')))"
      ]
     },
     "metadata": {},
     "output_type": "display_data"
    },
    {
     "name": "stdout",
     "output_type": "stream",
     "text": [
      "\n",
      "\tTraining Loss: 0.000056 \tValidation Loss: 1.417407\n",
      "running epoch: 77\n"
     ]
    },
    {
     "data": {
      "application/vnd.jupyter.widget-view+json": {
       "model_id": "de4f91a81a8544a3848fdd012c74083c",
       "version_major": 2,
       "version_minor": 0
      },
      "text/plain": [
       "HBox(children=(HTML(value=''), FloatProgress(value=0.0, max=163.0), HTML(value='')))"
      ]
     },
     "metadata": {},
     "output_type": "display_data"
    },
    {
     "name": "stdout",
     "output_type": "stream",
     "text": [
      "\n"
     ]
    },
    {
     "data": {
      "application/vnd.jupyter.widget-view+json": {
       "model_id": "0d83d11462d245c2948302c7d3fd0c58",
       "version_major": 2,
       "version_minor": 0
      },
      "text/plain": [
       "HBox(children=(HTML(value=''), FloatProgress(value=0.0, max=41.0), HTML(value='')))"
      ]
     },
     "metadata": {},
     "output_type": "display_data"
    },
    {
     "name": "stdout",
     "output_type": "stream",
     "text": [
      "\n",
      "\tTraining Loss: 0.000048 \tValidation Loss: 1.437563\n",
      "running epoch: 78\n"
     ]
    },
    {
     "data": {
      "application/vnd.jupyter.widget-view+json": {
       "model_id": "642ba0c671214644b91c3f73190f7dcc",
       "version_major": 2,
       "version_minor": 0
      },
      "text/plain": [
       "HBox(children=(HTML(value=''), FloatProgress(value=0.0, max=163.0), HTML(value='')))"
      ]
     },
     "metadata": {},
     "output_type": "display_data"
    },
    {
     "name": "stdout",
     "output_type": "stream",
     "text": [
      "\n"
     ]
    },
    {
     "data": {
      "application/vnd.jupyter.widget-view+json": {
       "model_id": "c6a255e7be44481fb6a6bc01dc85939a",
       "version_major": 2,
       "version_minor": 0
      },
      "text/plain": [
       "HBox(children=(HTML(value=''), FloatProgress(value=0.0, max=41.0), HTML(value='')))"
      ]
     },
     "metadata": {},
     "output_type": "display_data"
    },
    {
     "name": "stdout",
     "output_type": "stream",
     "text": [
      "\n",
      "\tTraining Loss: 0.000043 \tValidation Loss: 1.449420\n",
      "running epoch: 79\n"
     ]
    },
    {
     "data": {
      "application/vnd.jupyter.widget-view+json": {
       "model_id": "205318df7ca64678aa0ab04b03bebba1",
       "version_major": 2,
       "version_minor": 0
      },
      "text/plain": [
       "HBox(children=(HTML(value=''), FloatProgress(value=0.0, max=163.0), HTML(value='')))"
      ]
     },
     "metadata": {},
     "output_type": "display_data"
    },
    {
     "name": "stdout",
     "output_type": "stream",
     "text": [
      "\n"
     ]
    },
    {
     "data": {
      "application/vnd.jupyter.widget-view+json": {
       "model_id": "e06458f0a6134d83baebc2cba86a756c",
       "version_major": 2,
       "version_minor": 0
      },
      "text/plain": [
       "HBox(children=(HTML(value=''), FloatProgress(value=0.0, max=41.0), HTML(value='')))"
      ]
     },
     "metadata": {},
     "output_type": "display_data"
    },
    {
     "name": "stdout",
     "output_type": "stream",
     "text": [
      "\n",
      "\tTraining Loss: 0.000038 \tValidation Loss: 1.472412\n",
      "running epoch: 80\n"
     ]
    },
    {
     "data": {
      "application/vnd.jupyter.widget-view+json": {
       "model_id": "59dbe7a271704aa681d44ad281ae0f6d",
       "version_major": 2,
       "version_minor": 0
      },
      "text/plain": [
       "HBox(children=(HTML(value=''), FloatProgress(value=0.0, max=163.0), HTML(value='')))"
      ]
     },
     "metadata": {},
     "output_type": "display_data"
    },
    {
     "name": "stdout",
     "output_type": "stream",
     "text": [
      "\n"
     ]
    },
    {
     "data": {
      "application/vnd.jupyter.widget-view+json": {
       "model_id": "0c45f1c1d1ed453f966726c8fc31a018",
       "version_major": 2,
       "version_minor": 0
      },
      "text/plain": [
       "HBox(children=(HTML(value=''), FloatProgress(value=0.0, max=41.0), HTML(value='')))"
      ]
     },
     "metadata": {},
     "output_type": "display_data"
    },
    {
     "name": "stdout",
     "output_type": "stream",
     "text": [
      "\n",
      "\tTraining Loss: 0.000033 \tValidation Loss: 1.491363\n",
      "running epoch: 81\n"
     ]
    },
    {
     "data": {
      "application/vnd.jupyter.widget-view+json": {
       "model_id": "1021821675fa4bb2b8fd457446fc5a35",
       "version_major": 2,
       "version_minor": 0
      },
      "text/plain": [
       "HBox(children=(HTML(value=''), FloatProgress(value=0.0, max=163.0), HTML(value='')))"
      ]
     },
     "metadata": {},
     "output_type": "display_data"
    },
    {
     "name": "stdout",
     "output_type": "stream",
     "text": [
      "\n"
     ]
    },
    {
     "data": {
      "application/vnd.jupyter.widget-view+json": {
       "model_id": "0322a57058374a35a8269032f023c38d",
       "version_major": 2,
       "version_minor": 0
      },
      "text/plain": [
       "HBox(children=(HTML(value=''), FloatProgress(value=0.0, max=41.0), HTML(value='')))"
      ]
     },
     "metadata": {},
     "output_type": "display_data"
    },
    {
     "name": "stdout",
     "output_type": "stream",
     "text": [
      "\n",
      "\tTraining Loss: 0.000029 \tValidation Loss: 1.508862\n",
      "running epoch: 82\n"
     ]
    },
    {
     "data": {
      "application/vnd.jupyter.widget-view+json": {
       "model_id": "b6a32a1c743c4536b074f294d97be89e",
       "version_major": 2,
       "version_minor": 0
      },
      "text/plain": [
       "HBox(children=(HTML(value=''), FloatProgress(value=0.0, max=163.0), HTML(value='')))"
      ]
     },
     "metadata": {},
     "output_type": "display_data"
    },
    {
     "name": "stdout",
     "output_type": "stream",
     "text": [
      "\n"
     ]
    },
    {
     "data": {
      "application/vnd.jupyter.widget-view+json": {
       "model_id": "94029d1e7c4d4ef29bf9d5743062de38",
       "version_major": 2,
       "version_minor": 0
      },
      "text/plain": [
       "HBox(children=(HTML(value=''), FloatProgress(value=0.0, max=41.0), HTML(value='')))"
      ]
     },
     "metadata": {},
     "output_type": "display_data"
    },
    {
     "name": "stdout",
     "output_type": "stream",
     "text": [
      "\n",
      "\tTraining Loss: 0.000026 \tValidation Loss: 1.523484\n",
      "running epoch: 83\n"
     ]
    },
    {
     "data": {
      "application/vnd.jupyter.widget-view+json": {
       "model_id": "37889da586c649c5a049801374921c5a",
       "version_major": 2,
       "version_minor": 0
      },
      "text/plain": [
       "HBox(children=(HTML(value=''), FloatProgress(value=0.0, max=163.0), HTML(value='')))"
      ]
     },
     "metadata": {},
     "output_type": "display_data"
    },
    {
     "name": "stdout",
     "output_type": "stream",
     "text": [
      "\n"
     ]
    },
    {
     "data": {
      "application/vnd.jupyter.widget-view+json": {
       "model_id": "8c3f585dd0e64156924af205551421dd",
       "version_major": 2,
       "version_minor": 0
      },
      "text/plain": [
       "HBox(children=(HTML(value=''), FloatProgress(value=0.0, max=41.0), HTML(value='')))"
      ]
     },
     "metadata": {},
     "output_type": "display_data"
    },
    {
     "name": "stdout",
     "output_type": "stream",
     "text": [
      "\n",
      "\tTraining Loss: 0.000023 \tValidation Loss: 1.538896\n",
      "running epoch: 84\n"
     ]
    },
    {
     "data": {
      "application/vnd.jupyter.widget-view+json": {
       "model_id": "9e48bb9015fc4783905cb1305adb8ae5",
       "version_major": 2,
       "version_minor": 0
      },
      "text/plain": [
       "HBox(children=(HTML(value=''), FloatProgress(value=0.0, max=163.0), HTML(value='')))"
      ]
     },
     "metadata": {},
     "output_type": "display_data"
    },
    {
     "name": "stdout",
     "output_type": "stream",
     "text": [
      "\n"
     ]
    },
    {
     "data": {
      "application/vnd.jupyter.widget-view+json": {
       "model_id": "a433a8acd0af498886beeb64e500c751",
       "version_major": 2,
       "version_minor": 0
      },
      "text/plain": [
       "HBox(children=(HTML(value=''), FloatProgress(value=0.0, max=41.0), HTML(value='')))"
      ]
     },
     "metadata": {},
     "output_type": "display_data"
    },
    {
     "name": "stdout",
     "output_type": "stream",
     "text": [
      "\n",
      "\tTraining Loss: 0.000021 \tValidation Loss: 1.556191\n",
      "running epoch: 85\n"
     ]
    },
    {
     "data": {
      "application/vnd.jupyter.widget-view+json": {
       "model_id": "89ce6a98d6a34dc0a4861bfae5b54862",
       "version_major": 2,
       "version_minor": 0
      },
      "text/plain": [
       "HBox(children=(HTML(value=''), FloatProgress(value=0.0, max=163.0), HTML(value='')))"
      ]
     },
     "metadata": {},
     "output_type": "display_data"
    },
    {
     "name": "stdout",
     "output_type": "stream",
     "text": [
      "\n"
     ]
    },
    {
     "data": {
      "application/vnd.jupyter.widget-view+json": {
       "model_id": "5752bc62dc684684810c6ab22e02d312",
       "version_major": 2,
       "version_minor": 0
      },
      "text/plain": [
       "HBox(children=(HTML(value=''), FloatProgress(value=0.0, max=41.0), HTML(value='')))"
      ]
     },
     "metadata": {},
     "output_type": "display_data"
    },
    {
     "name": "stdout",
     "output_type": "stream",
     "text": [
      "\n",
      "\tTraining Loss: 0.000019 \tValidation Loss: 1.574256\n",
      "running epoch: 86\n"
     ]
    },
    {
     "data": {
      "application/vnd.jupyter.widget-view+json": {
       "model_id": "42f897b323cf4e27959d4f50e70260b7",
       "version_major": 2,
       "version_minor": 0
      },
      "text/plain": [
       "HBox(children=(HTML(value=''), FloatProgress(value=0.0, max=163.0), HTML(value='')))"
      ]
     },
     "metadata": {},
     "output_type": "display_data"
    },
    {
     "name": "stdout",
     "output_type": "stream",
     "text": [
      "\n"
     ]
    },
    {
     "data": {
      "application/vnd.jupyter.widget-view+json": {
       "model_id": "8a38fa90b1fc4f14a735952c9085f2d8",
       "version_major": 2,
       "version_minor": 0
      },
      "text/plain": [
       "HBox(children=(HTML(value=''), FloatProgress(value=0.0, max=41.0), HTML(value='')))"
      ]
     },
     "metadata": {},
     "output_type": "display_data"
    },
    {
     "name": "stdout",
     "output_type": "stream",
     "text": [
      "\n",
      "\tTraining Loss: 0.000017 \tValidation Loss: 1.586905\n",
      "running epoch: 87\n"
     ]
    },
    {
     "data": {
      "application/vnd.jupyter.widget-view+json": {
       "model_id": "aae2855c7cb84a13967be4f5e97b4b27",
       "version_major": 2,
       "version_minor": 0
      },
      "text/plain": [
       "HBox(children=(HTML(value=''), FloatProgress(value=0.0, max=163.0), HTML(value='')))"
      ]
     },
     "metadata": {},
     "output_type": "display_data"
    },
    {
     "name": "stdout",
     "output_type": "stream",
     "text": [
      "\n"
     ]
    },
    {
     "data": {
      "application/vnd.jupyter.widget-view+json": {
       "model_id": "0fca6a4bd720406ba70a25535d7ecb64",
       "version_major": 2,
       "version_minor": 0
      },
      "text/plain": [
       "HBox(children=(HTML(value=''), FloatProgress(value=0.0, max=41.0), HTML(value='')))"
      ]
     },
     "metadata": {},
     "output_type": "display_data"
    },
    {
     "name": "stdout",
     "output_type": "stream",
     "text": [
      "\n",
      "\tTraining Loss: 0.000015 \tValidation Loss: 1.604174\n",
      "running epoch: 88\n"
     ]
    },
    {
     "data": {
      "application/vnd.jupyter.widget-view+json": {
       "model_id": "c897c33be31c473c9e5118efea81dcc6",
       "version_major": 2,
       "version_minor": 0
      },
      "text/plain": [
       "HBox(children=(HTML(value=''), FloatProgress(value=0.0, max=163.0), HTML(value='')))"
      ]
     },
     "metadata": {},
     "output_type": "display_data"
    },
    {
     "name": "stdout",
     "output_type": "stream",
     "text": [
      "\n"
     ]
    },
    {
     "data": {
      "application/vnd.jupyter.widget-view+json": {
       "model_id": "6f0e2954bd7748978c46cb62c31fbeca",
       "version_major": 2,
       "version_minor": 0
      },
      "text/plain": [
       "HBox(children=(HTML(value=''), FloatProgress(value=0.0, max=41.0), HTML(value='')))"
      ]
     },
     "metadata": {},
     "output_type": "display_data"
    },
    {
     "name": "stdout",
     "output_type": "stream",
     "text": [
      "\n",
      "\tTraining Loss: 0.000014 \tValidation Loss: 1.618102\n",
      "running epoch: 89\n"
     ]
    },
    {
     "data": {
      "application/vnd.jupyter.widget-view+json": {
       "model_id": "4e73fc577fd94a54ab5a19d2090c5b32",
       "version_major": 2,
       "version_minor": 0
      },
      "text/plain": [
       "HBox(children=(HTML(value=''), FloatProgress(value=0.0, max=163.0), HTML(value='')))"
      ]
     },
     "metadata": {},
     "output_type": "display_data"
    },
    {
     "name": "stdout",
     "output_type": "stream",
     "text": [
      "\n"
     ]
    },
    {
     "data": {
      "application/vnd.jupyter.widget-view+json": {
       "model_id": "a0eb3b20ea57445aad42647e816b2257",
       "version_major": 2,
       "version_minor": 0
      },
      "text/plain": [
       "HBox(children=(HTML(value=''), FloatProgress(value=0.0, max=41.0), HTML(value='')))"
      ]
     },
     "metadata": {},
     "output_type": "display_data"
    },
    {
     "name": "stdout",
     "output_type": "stream",
     "text": [
      "\n",
      "\tTraining Loss: 0.000012 \tValidation Loss: 1.635114\n",
      "running epoch: 90\n"
     ]
    },
    {
     "data": {
      "application/vnd.jupyter.widget-view+json": {
       "model_id": "574d70dfe94d4e8f8c5a494e86eb22cd",
       "version_major": 2,
       "version_minor": 0
      },
      "text/plain": [
       "HBox(children=(HTML(value=''), FloatProgress(value=0.0, max=163.0), HTML(value='')))"
      ]
     },
     "metadata": {},
     "output_type": "display_data"
    },
    {
     "name": "stdout",
     "output_type": "stream",
     "text": [
      "\n"
     ]
    },
    {
     "data": {
      "application/vnd.jupyter.widget-view+json": {
       "model_id": "f779d2d4a87a44a7a6b8fd6bd73088e8",
       "version_major": 2,
       "version_minor": 0
      },
      "text/plain": [
       "HBox(children=(HTML(value=''), FloatProgress(value=0.0, max=41.0), HTML(value='')))"
      ]
     },
     "metadata": {},
     "output_type": "display_data"
    },
    {
     "name": "stdout",
     "output_type": "stream",
     "text": [
      "\n",
      "\tTraining Loss: 0.000011 \tValidation Loss: 1.648217\n",
      "running epoch: 91\n"
     ]
    },
    {
     "data": {
      "application/vnd.jupyter.widget-view+json": {
       "model_id": "d8e3c94a8581410ab9551ea2e7f4a995",
       "version_major": 2,
       "version_minor": 0
      },
      "text/plain": [
       "HBox(children=(HTML(value=''), FloatProgress(value=0.0, max=163.0), HTML(value='')))"
      ]
     },
     "metadata": {},
     "output_type": "display_data"
    },
    {
     "name": "stdout",
     "output_type": "stream",
     "text": [
      "\n"
     ]
    },
    {
     "data": {
      "application/vnd.jupyter.widget-view+json": {
       "model_id": "04105cf201b644788e7aa39f9bb11da1",
       "version_major": 2,
       "version_minor": 0
      },
      "text/plain": [
       "HBox(children=(HTML(value=''), FloatProgress(value=0.0, max=41.0), HTML(value='')))"
      ]
     },
     "metadata": {},
     "output_type": "display_data"
    },
    {
     "name": "stdout",
     "output_type": "stream",
     "text": [
      "\n",
      "\tTraining Loss: 0.000010 \tValidation Loss: 1.660765\n",
      "running epoch: 92\n"
     ]
    },
    {
     "data": {
      "application/vnd.jupyter.widget-view+json": {
       "model_id": "72b25fe952d04fc68949f16becdec6f3",
       "version_major": 2,
       "version_minor": 0
      },
      "text/plain": [
       "HBox(children=(HTML(value=''), FloatProgress(value=0.0, max=163.0), HTML(value='')))"
      ]
     },
     "metadata": {},
     "output_type": "display_data"
    },
    {
     "name": "stdout",
     "output_type": "stream",
     "text": [
      "\n"
     ]
    },
    {
     "data": {
      "application/vnd.jupyter.widget-view+json": {
       "model_id": "4c82776685a04b65aa9cece4808aef05",
       "version_major": 2,
       "version_minor": 0
      },
      "text/plain": [
       "HBox(children=(HTML(value=''), FloatProgress(value=0.0, max=41.0), HTML(value='')))"
      ]
     },
     "metadata": {},
     "output_type": "display_data"
    },
    {
     "name": "stdout",
     "output_type": "stream",
     "text": [
      "\n",
      "\tTraining Loss: 0.000009 \tValidation Loss: 1.680679\n",
      "running epoch: 93\n"
     ]
    },
    {
     "data": {
      "application/vnd.jupyter.widget-view+json": {
       "model_id": "e4f31f51a4f643a6bfa7722c9bd36029",
       "version_major": 2,
       "version_minor": 0
      },
      "text/plain": [
       "HBox(children=(HTML(value=''), FloatProgress(value=0.0, max=163.0), HTML(value='')))"
      ]
     },
     "metadata": {},
     "output_type": "display_data"
    },
    {
     "name": "stdout",
     "output_type": "stream",
     "text": [
      "\n"
     ]
    },
    {
     "data": {
      "application/vnd.jupyter.widget-view+json": {
       "model_id": "af1b6b526a1c430d94a8e9ad1744f06b",
       "version_major": 2,
       "version_minor": 0
      },
      "text/plain": [
       "HBox(children=(HTML(value=''), FloatProgress(value=0.0, max=41.0), HTML(value='')))"
      ]
     },
     "metadata": {},
     "output_type": "display_data"
    },
    {
     "name": "stdout",
     "output_type": "stream",
     "text": [
      "\n",
      "\tTraining Loss: 0.000008 \tValidation Loss: 1.691379\n",
      "running epoch: 94\n"
     ]
    },
    {
     "data": {
      "application/vnd.jupyter.widget-view+json": {
       "model_id": "6cdca39682074f03a5414b97699fa5b4",
       "version_major": 2,
       "version_minor": 0
      },
      "text/plain": [
       "HBox(children=(HTML(value=''), FloatProgress(value=0.0, max=163.0), HTML(value='')))"
      ]
     },
     "metadata": {},
     "output_type": "display_data"
    },
    {
     "name": "stdout",
     "output_type": "stream",
     "text": [
      "\n"
     ]
    },
    {
     "data": {
      "application/vnd.jupyter.widget-view+json": {
       "model_id": "c92417aa6a9f4f6f922467563c6eeb30",
       "version_major": 2,
       "version_minor": 0
      },
      "text/plain": [
       "HBox(children=(HTML(value=''), FloatProgress(value=0.0, max=41.0), HTML(value='')))"
      ]
     },
     "metadata": {},
     "output_type": "display_data"
    },
    {
     "name": "stdout",
     "output_type": "stream",
     "text": [
      "\n",
      "\tTraining Loss: 0.000008 \tValidation Loss: 1.705804\n",
      "running epoch: 95\n"
     ]
    },
    {
     "data": {
      "application/vnd.jupyter.widget-view+json": {
       "model_id": "f5aa783bfbf84a08ba038bf997f28004",
       "version_major": 2,
       "version_minor": 0
      },
      "text/plain": [
       "HBox(children=(HTML(value=''), FloatProgress(value=0.0, max=163.0), HTML(value='')))"
      ]
     },
     "metadata": {},
     "output_type": "display_data"
    },
    {
     "name": "stdout",
     "output_type": "stream",
     "text": [
      "\n"
     ]
    },
    {
     "data": {
      "application/vnd.jupyter.widget-view+json": {
       "model_id": "69f252c0341b45dcba8655204acb43d1",
       "version_major": 2,
       "version_minor": 0
      },
      "text/plain": [
       "HBox(children=(HTML(value=''), FloatProgress(value=0.0, max=41.0), HTML(value='')))"
      ]
     },
     "metadata": {},
     "output_type": "display_data"
    },
    {
     "name": "stdout",
     "output_type": "stream",
     "text": [
      "\n",
      "\tTraining Loss: 0.000007 \tValidation Loss: 1.721625\n",
      "running epoch: 96\n"
     ]
    },
    {
     "data": {
      "application/vnd.jupyter.widget-view+json": {
       "model_id": "ac524e55536c43cbaa337b4d601a7593",
       "version_major": 2,
       "version_minor": 0
      },
      "text/plain": [
       "HBox(children=(HTML(value=''), FloatProgress(value=0.0, max=163.0), HTML(value='')))"
      ]
     },
     "metadata": {},
     "output_type": "display_data"
    },
    {
     "name": "stdout",
     "output_type": "stream",
     "text": [
      "\n"
     ]
    },
    {
     "data": {
      "application/vnd.jupyter.widget-view+json": {
       "model_id": "1a88cdc958cc473b9f4eee041833f8b1",
       "version_major": 2,
       "version_minor": 0
      },
      "text/plain": [
       "HBox(children=(HTML(value=''), FloatProgress(value=0.0, max=41.0), HTML(value='')))"
      ]
     },
     "metadata": {},
     "output_type": "display_data"
    },
    {
     "name": "stdout",
     "output_type": "stream",
     "text": [
      "\n",
      "\tTraining Loss: 0.000006 \tValidation Loss: 1.733824\n",
      "running epoch: 97\n"
     ]
    },
    {
     "data": {
      "application/vnd.jupyter.widget-view+json": {
       "model_id": "04d7235a63ad4a9fbca1c828ec5d51f6",
       "version_major": 2,
       "version_minor": 0
      },
      "text/plain": [
       "HBox(children=(HTML(value=''), FloatProgress(value=0.0, max=163.0), HTML(value='')))"
      ]
     },
     "metadata": {},
     "output_type": "display_data"
    },
    {
     "name": "stdout",
     "output_type": "stream",
     "text": [
      "\n"
     ]
    },
    {
     "data": {
      "application/vnd.jupyter.widget-view+json": {
       "model_id": "45b066a392e24462b23f183d53a744be",
       "version_major": 2,
       "version_minor": 0
      },
      "text/plain": [
       "HBox(children=(HTML(value=''), FloatProgress(value=0.0, max=41.0), HTML(value='')))"
      ]
     },
     "metadata": {},
     "output_type": "display_data"
    },
    {
     "name": "stdout",
     "output_type": "stream",
     "text": [
      "\n",
      "\tTraining Loss: 0.000006 \tValidation Loss: 1.747273\n",
      "running epoch: 98\n"
     ]
    },
    {
     "data": {
      "application/vnd.jupyter.widget-view+json": {
       "model_id": "9d66aea5b0194e4b8480fbf7de5cbf6b",
       "version_major": 2,
       "version_minor": 0
      },
      "text/plain": [
       "HBox(children=(HTML(value=''), FloatProgress(value=0.0, max=163.0), HTML(value='')))"
      ]
     },
     "metadata": {},
     "output_type": "display_data"
    },
    {
     "name": "stdout",
     "output_type": "stream",
     "text": [
      "\n"
     ]
    },
    {
     "data": {
      "application/vnd.jupyter.widget-view+json": {
       "model_id": "96f01479688544428ce69196bdc39ed3",
       "version_major": 2,
       "version_minor": 0
      },
      "text/plain": [
       "HBox(children=(HTML(value=''), FloatProgress(value=0.0, max=41.0), HTML(value='')))"
      ]
     },
     "metadata": {},
     "output_type": "display_data"
    },
    {
     "name": "stdout",
     "output_type": "stream",
     "text": [
      "\n",
      "\tTraining Loss: 0.000005 \tValidation Loss: 1.762961\n",
      "running epoch: 99\n"
     ]
    },
    {
     "data": {
      "application/vnd.jupyter.widget-view+json": {
       "model_id": "e1478bff0c7544618ac8d64478661174",
       "version_major": 2,
       "version_minor": 0
      },
      "text/plain": [
       "HBox(children=(HTML(value=''), FloatProgress(value=0.0, max=163.0), HTML(value='')))"
      ]
     },
     "metadata": {},
     "output_type": "display_data"
    },
    {
     "name": "stdout",
     "output_type": "stream",
     "text": [
      "\n"
     ]
    },
    {
     "data": {
      "application/vnd.jupyter.widget-view+json": {
       "model_id": "22ea06efcb924aecaa5d22adc8a977a6",
       "version_major": 2,
       "version_minor": 0
      },
      "text/plain": [
       "HBox(children=(HTML(value=''), FloatProgress(value=0.0, max=41.0), HTML(value='')))"
      ]
     },
     "metadata": {},
     "output_type": "display_data"
    },
    {
     "name": "stdout",
     "output_type": "stream",
     "text": [
      "\n",
      "\tTraining Loss: 0.000005 \tValidation Loss: 1.775780\n",
      "running epoch: 100\n"
     ]
    },
    {
     "data": {
      "application/vnd.jupyter.widget-view+json": {
       "model_id": "3d0a2b8a781b4bf29bf5d3c7adef814e",
       "version_major": 2,
       "version_minor": 0
      },
      "text/plain": [
       "HBox(children=(HTML(value=''), FloatProgress(value=0.0, max=163.0), HTML(value='')))"
      ]
     },
     "metadata": {},
     "output_type": "display_data"
    },
    {
     "name": "stdout",
     "output_type": "stream",
     "text": [
      "\n"
     ]
    },
    {
     "data": {
      "application/vnd.jupyter.widget-view+json": {
       "model_id": "e65df336172e4649be3ef94d79987c83",
       "version_major": 2,
       "version_minor": 0
      },
      "text/plain": [
       "HBox(children=(HTML(value=''), FloatProgress(value=0.0, max=41.0), HTML(value='')))"
      ]
     },
     "metadata": {},
     "output_type": "display_data"
    },
    {
     "name": "stdout",
     "output_type": "stream",
     "text": [
      "\n",
      "\tTraining Loss: 0.000004 \tValidation Loss: 1.789809\n",
      "running epoch: 101\n"
     ]
    },
    {
     "data": {
      "application/vnd.jupyter.widget-view+json": {
       "model_id": "45190a28a4684435a03c6e8a8ddcdefa",
       "version_major": 2,
       "version_minor": 0
      },
      "text/plain": [
       "HBox(children=(HTML(value=''), FloatProgress(value=0.0, max=163.0), HTML(value='')))"
      ]
     },
     "metadata": {},
     "output_type": "display_data"
    },
    {
     "name": "stdout",
     "output_type": "stream",
     "text": [
      "\n"
     ]
    },
    {
     "data": {
      "application/vnd.jupyter.widget-view+json": {
       "model_id": "91cba38591334fe6bab146b638908475",
       "version_major": 2,
       "version_minor": 0
      },
      "text/plain": [
       "HBox(children=(HTML(value=''), FloatProgress(value=0.0, max=41.0), HTML(value='')))"
      ]
     },
     "metadata": {},
     "output_type": "display_data"
    },
    {
     "name": "stdout",
     "output_type": "stream",
     "text": [
      "\n",
      "\tTraining Loss: 0.000004 \tValidation Loss: 1.803229\n",
      "running epoch: 102\n"
     ]
    },
    {
     "data": {
      "application/vnd.jupyter.widget-view+json": {
       "model_id": "268fdba968ba44189c58881e0a3f35d1",
       "version_major": 2,
       "version_minor": 0
      },
      "text/plain": [
       "HBox(children=(HTML(value=''), FloatProgress(value=0.0, max=163.0), HTML(value='')))"
      ]
     },
     "metadata": {},
     "output_type": "display_data"
    },
    {
     "name": "stdout",
     "output_type": "stream",
     "text": [
      "\n"
     ]
    },
    {
     "data": {
      "application/vnd.jupyter.widget-view+json": {
       "model_id": "f1379256d440460b85218a8ab5d4f328",
       "version_major": 2,
       "version_minor": 0
      },
      "text/plain": [
       "HBox(children=(HTML(value=''), FloatProgress(value=0.0, max=41.0), HTML(value='')))"
      ]
     },
     "metadata": {},
     "output_type": "display_data"
    },
    {
     "name": "stdout",
     "output_type": "stream",
     "text": [
      "\n",
      "\tTraining Loss: 0.000004 \tValidation Loss: 1.812567\n",
      "running epoch: 103\n"
     ]
    },
    {
     "data": {
      "application/vnd.jupyter.widget-view+json": {
       "model_id": "1b5b0778a0e14983b4bff49d0172c88e",
       "version_major": 2,
       "version_minor": 0
      },
      "text/plain": [
       "HBox(children=(HTML(value=''), FloatProgress(value=0.0, max=163.0), HTML(value='')))"
      ]
     },
     "metadata": {},
     "output_type": "display_data"
    },
    {
     "name": "stdout",
     "output_type": "stream",
     "text": [
      "\n"
     ]
    },
    {
     "data": {
      "application/vnd.jupyter.widget-view+json": {
       "model_id": "20dc9671b5814e82a1d8aa5a4104fd92",
       "version_major": 2,
       "version_minor": 0
      },
      "text/plain": [
       "HBox(children=(HTML(value=''), FloatProgress(value=0.0, max=41.0), HTML(value='')))"
      ]
     },
     "metadata": {},
     "output_type": "display_data"
    },
    {
     "name": "stdout",
     "output_type": "stream",
     "text": [
      "\n",
      "\tTraining Loss: 0.000003 \tValidation Loss: 1.830770\n",
      "running epoch: 104\n"
     ]
    },
    {
     "data": {
      "application/vnd.jupyter.widget-view+json": {
       "model_id": "762cbe82de36481ca0f35c40fe0acc35",
       "version_major": 2,
       "version_minor": 0
      },
      "text/plain": [
       "HBox(children=(HTML(value=''), FloatProgress(value=0.0, max=163.0), HTML(value='')))"
      ]
     },
     "metadata": {},
     "output_type": "display_data"
    },
    {
     "name": "stdout",
     "output_type": "stream",
     "text": [
      "\n"
     ]
    },
    {
     "data": {
      "application/vnd.jupyter.widget-view+json": {
       "model_id": "cda6380b095f4ac8a76fc6824135d31d",
       "version_major": 2,
       "version_minor": 0
      },
      "text/plain": [
       "HBox(children=(HTML(value=''), FloatProgress(value=0.0, max=41.0), HTML(value='')))"
      ]
     },
     "metadata": {},
     "output_type": "display_data"
    },
    {
     "name": "stdout",
     "output_type": "stream",
     "text": [
      "\n",
      "\tTraining Loss: 0.000003 \tValidation Loss: 1.839827\n",
      "running epoch: 105\n"
     ]
    },
    {
     "data": {
      "application/vnd.jupyter.widget-view+json": {
       "model_id": "fe7f82b97b514b848f68ddcdfd0355ab",
       "version_major": 2,
       "version_minor": 0
      },
      "text/plain": [
       "HBox(children=(HTML(value=''), FloatProgress(value=0.0, max=163.0), HTML(value='')))"
      ]
     },
     "metadata": {},
     "output_type": "display_data"
    },
    {
     "name": "stdout",
     "output_type": "stream",
     "text": [
      "\n"
     ]
    },
    {
     "data": {
      "application/vnd.jupyter.widget-view+json": {
       "model_id": "9834858860d34955b311e2ac85e49ea2",
       "version_major": 2,
       "version_minor": 0
      },
      "text/plain": [
       "HBox(children=(HTML(value=''), FloatProgress(value=0.0, max=41.0), HTML(value='')))"
      ]
     },
     "metadata": {},
     "output_type": "display_data"
    },
    {
     "name": "stdout",
     "output_type": "stream",
     "text": [
      "\n",
      "\tTraining Loss: 0.000003 \tValidation Loss: 1.855787\n",
      "running epoch: 106\n"
     ]
    },
    {
     "data": {
      "application/vnd.jupyter.widget-view+json": {
       "model_id": "c0690bcd9d084b1ca4296c9e8d603927",
       "version_major": 2,
       "version_minor": 0
      },
      "text/plain": [
       "HBox(children=(HTML(value=''), FloatProgress(value=0.0, max=163.0), HTML(value='')))"
      ]
     },
     "metadata": {},
     "output_type": "display_data"
    },
    {
     "name": "stdout",
     "output_type": "stream",
     "text": [
      "\n"
     ]
    },
    {
     "data": {
      "application/vnd.jupyter.widget-view+json": {
       "model_id": "1100caf895c04aaa8644c074853dc669",
       "version_major": 2,
       "version_minor": 0
      },
      "text/plain": [
       "HBox(children=(HTML(value=''), FloatProgress(value=0.0, max=41.0), HTML(value='')))"
      ]
     },
     "metadata": {},
     "output_type": "display_data"
    },
    {
     "name": "stdout",
     "output_type": "stream",
     "text": [
      "\n",
      "\tTraining Loss: 0.000002 \tValidation Loss: 1.867331\n",
      "running epoch: 107\n"
     ]
    },
    {
     "data": {
      "application/vnd.jupyter.widget-view+json": {
       "model_id": "e76fbcabca2c4694a2d20c6df7f3a201",
       "version_major": 2,
       "version_minor": 0
      },
      "text/plain": [
       "HBox(children=(HTML(value=''), FloatProgress(value=0.0, max=163.0), HTML(value='')))"
      ]
     },
     "metadata": {},
     "output_type": "display_data"
    },
    {
     "name": "stdout",
     "output_type": "stream",
     "text": [
      "\n"
     ]
    },
    {
     "data": {
      "application/vnd.jupyter.widget-view+json": {
       "model_id": "fdf682fbcfcc4e7880de9b7a59014eb2",
       "version_major": 2,
       "version_minor": 0
      },
      "text/plain": [
       "HBox(children=(HTML(value=''), FloatProgress(value=0.0, max=41.0), HTML(value='')))"
      ]
     },
     "metadata": {},
     "output_type": "display_data"
    },
    {
     "name": "stdout",
     "output_type": "stream",
     "text": [
      "\n",
      "\tTraining Loss: 0.000002 \tValidation Loss: 1.879887\n",
      "running epoch: 108\n"
     ]
    },
    {
     "data": {
      "application/vnd.jupyter.widget-view+json": {
       "model_id": "dc5701a3095a4969814b6c84ab02a67e",
       "version_major": 2,
       "version_minor": 0
      },
      "text/plain": [
       "HBox(children=(HTML(value=''), FloatProgress(value=0.0, max=163.0), HTML(value='')))"
      ]
     },
     "metadata": {},
     "output_type": "display_data"
    },
    {
     "name": "stdout",
     "output_type": "stream",
     "text": [
      "\n"
     ]
    },
    {
     "data": {
      "application/vnd.jupyter.widget-view+json": {
       "model_id": "907e0b7c6a3140a996c26ae07d42762a",
       "version_major": 2,
       "version_minor": 0
      },
      "text/plain": [
       "HBox(children=(HTML(value=''), FloatProgress(value=0.0, max=41.0), HTML(value='')))"
      ]
     },
     "metadata": {},
     "output_type": "display_data"
    },
    {
     "name": "stdout",
     "output_type": "stream",
     "text": [
      "\n",
      "\tTraining Loss: 0.000002 \tValidation Loss: 1.893637\n",
      "running epoch: 109\n"
     ]
    },
    {
     "data": {
      "application/vnd.jupyter.widget-view+json": {
       "model_id": "a9713f9d8dcb4a7084bed91493f8ef75",
       "version_major": 2,
       "version_minor": 0
      },
      "text/plain": [
       "HBox(children=(HTML(value=''), FloatProgress(value=0.0, max=163.0), HTML(value='')))"
      ]
     },
     "metadata": {},
     "output_type": "display_data"
    },
    {
     "name": "stdout",
     "output_type": "stream",
     "text": [
      "\n"
     ]
    },
    {
     "data": {
      "application/vnd.jupyter.widget-view+json": {
       "model_id": "1dc89bce59e2446f94674edb0732ba1a",
       "version_major": 2,
       "version_minor": 0
      },
      "text/plain": [
       "HBox(children=(HTML(value=''), FloatProgress(value=0.0, max=41.0), HTML(value='')))"
      ]
     },
     "metadata": {},
     "output_type": "display_data"
    },
    {
     "name": "stdout",
     "output_type": "stream",
     "text": [
      "\n",
      "\tTraining Loss: 0.000002 \tValidation Loss: 1.906748\n",
      "running epoch: 110\n"
     ]
    },
    {
     "data": {
      "application/vnd.jupyter.widget-view+json": {
       "model_id": "6f7b6c29bd8b4df0a45002d1229a4f9e",
       "version_major": 2,
       "version_minor": 0
      },
      "text/plain": [
       "HBox(children=(HTML(value=''), FloatProgress(value=0.0, max=163.0), HTML(value='')))"
      ]
     },
     "metadata": {},
     "output_type": "display_data"
    },
    {
     "name": "stdout",
     "output_type": "stream",
     "text": [
      "\n"
     ]
    },
    {
     "data": {
      "application/vnd.jupyter.widget-view+json": {
       "model_id": "eab9396ff70647f6929a1dc84564b643",
       "version_major": 2,
       "version_minor": 0
      },
      "text/plain": [
       "HBox(children=(HTML(value=''), FloatProgress(value=0.0, max=41.0), HTML(value='')))"
      ]
     },
     "metadata": {},
     "output_type": "display_data"
    },
    {
     "name": "stdout",
     "output_type": "stream",
     "text": [
      "\n",
      "\tTraining Loss: 0.000002 \tValidation Loss: 1.921467\n",
      "running epoch: 111\n"
     ]
    },
    {
     "data": {
      "application/vnd.jupyter.widget-view+json": {
       "model_id": "ef250c574f3044b1993a720f807799e8",
       "version_major": 2,
       "version_minor": 0
      },
      "text/plain": [
       "HBox(children=(HTML(value=''), FloatProgress(value=0.0, max=163.0), HTML(value='')))"
      ]
     },
     "metadata": {},
     "output_type": "display_data"
    },
    {
     "name": "stdout",
     "output_type": "stream",
     "text": [
      "\n"
     ]
    },
    {
     "data": {
      "application/vnd.jupyter.widget-view+json": {
       "model_id": "fc1c09ce3e134774a6b8f7ccfd94c4cd",
       "version_major": 2,
       "version_minor": 0
      },
      "text/plain": [
       "HBox(children=(HTML(value=''), FloatProgress(value=0.0, max=41.0), HTML(value='')))"
      ]
     },
     "metadata": {},
     "output_type": "display_data"
    },
    {
     "name": "stdout",
     "output_type": "stream",
     "text": [
      "\n",
      "\tTraining Loss: 0.000002 \tValidation Loss: 1.933122\n",
      "running epoch: 112\n"
     ]
    },
    {
     "data": {
      "application/vnd.jupyter.widget-view+json": {
       "model_id": "a7c7216d1b4b483cbf52043eda44c132",
       "version_major": 2,
       "version_minor": 0
      },
      "text/plain": [
       "HBox(children=(HTML(value=''), FloatProgress(value=0.0, max=163.0), HTML(value='')))"
      ]
     },
     "metadata": {},
     "output_type": "display_data"
    },
    {
     "name": "stdout",
     "output_type": "stream",
     "text": [
      "\n"
     ]
    },
    {
     "data": {
      "application/vnd.jupyter.widget-view+json": {
       "model_id": "091b0b9d89db4461b0d0caf306ba71a0",
       "version_major": 2,
       "version_minor": 0
      },
      "text/plain": [
       "HBox(children=(HTML(value=''), FloatProgress(value=0.0, max=41.0), HTML(value='')))"
      ]
     },
     "metadata": {},
     "output_type": "display_data"
    },
    {
     "name": "stdout",
     "output_type": "stream",
     "text": [
      "\n",
      "\tTraining Loss: 0.000001 \tValidation Loss: 1.946133\n",
      "running epoch: 113\n"
     ]
    },
    {
     "data": {
      "application/vnd.jupyter.widget-view+json": {
       "model_id": "fd25ab68122d4fe9a0692a92fe39256a",
       "version_major": 2,
       "version_minor": 0
      },
      "text/plain": [
       "HBox(children=(HTML(value=''), FloatProgress(value=0.0, max=163.0), HTML(value='')))"
      ]
     },
     "metadata": {},
     "output_type": "display_data"
    },
    {
     "name": "stdout",
     "output_type": "stream",
     "text": [
      "\n"
     ]
    },
    {
     "data": {
      "application/vnd.jupyter.widget-view+json": {
       "model_id": "ea2bddbb226340cbb0681e35a2c0df91",
       "version_major": 2,
       "version_minor": 0
      },
      "text/plain": [
       "HBox(children=(HTML(value=''), FloatProgress(value=0.0, max=41.0), HTML(value='')))"
      ]
     },
     "metadata": {},
     "output_type": "display_data"
    },
    {
     "name": "stdout",
     "output_type": "stream",
     "text": [
      "\n",
      "\tTraining Loss: 0.000001 \tValidation Loss: 1.958134\n",
      "running epoch: 114\n"
     ]
    },
    {
     "data": {
      "application/vnd.jupyter.widget-view+json": {
       "model_id": "ccc4aba7d1c64b00ba2e18670d49e2c7",
       "version_major": 2,
       "version_minor": 0
      },
      "text/plain": [
       "HBox(children=(HTML(value=''), FloatProgress(value=0.0, max=163.0), HTML(value='')))"
      ]
     },
     "metadata": {},
     "output_type": "display_data"
    },
    {
     "name": "stdout",
     "output_type": "stream",
     "text": [
      "\n"
     ]
    },
    {
     "data": {
      "application/vnd.jupyter.widget-view+json": {
       "model_id": "ba1da855954843f4bedc39754cbd5b79",
       "version_major": 2,
       "version_minor": 0
      },
      "text/plain": [
       "HBox(children=(HTML(value=''), FloatProgress(value=0.0, max=41.0), HTML(value='')))"
      ]
     },
     "metadata": {},
     "output_type": "display_data"
    },
    {
     "name": "stdout",
     "output_type": "stream",
     "text": [
      "\n",
      "\tTraining Loss: 0.000001 \tValidation Loss: 1.973609\n",
      "running epoch: 115\n"
     ]
    },
    {
     "data": {
      "application/vnd.jupyter.widget-view+json": {
       "model_id": "aaf258bf3aff4bb7b1d0663195e2adfb",
       "version_major": 2,
       "version_minor": 0
      },
      "text/plain": [
       "HBox(children=(HTML(value=''), FloatProgress(value=0.0, max=163.0), HTML(value='')))"
      ]
     },
     "metadata": {},
     "output_type": "display_data"
    },
    {
     "name": "stdout",
     "output_type": "stream",
     "text": [
      "\n"
     ]
    },
    {
     "data": {
      "application/vnd.jupyter.widget-view+json": {
       "model_id": "752b19cb0cb84f9bab8d76c4a913f8fd",
       "version_major": 2,
       "version_minor": 0
      },
      "text/plain": [
       "HBox(children=(HTML(value=''), FloatProgress(value=0.0, max=41.0), HTML(value='')))"
      ]
     },
     "metadata": {},
     "output_type": "display_data"
    },
    {
     "name": "stdout",
     "output_type": "stream",
     "text": [
      "\n",
      "\tTraining Loss: 0.000001 \tValidation Loss: 1.983226\n",
      "running epoch: 116\n"
     ]
    },
    {
     "data": {
      "application/vnd.jupyter.widget-view+json": {
       "model_id": "dabfbf4bb2244656aec9716e4753252d",
       "version_major": 2,
       "version_minor": 0
      },
      "text/plain": [
       "HBox(children=(HTML(value=''), FloatProgress(value=0.0, max=163.0), HTML(value='')))"
      ]
     },
     "metadata": {},
     "output_type": "display_data"
    },
    {
     "name": "stdout",
     "output_type": "stream",
     "text": [
      "\n"
     ]
    },
    {
     "data": {
      "application/vnd.jupyter.widget-view+json": {
       "model_id": "f2b365b0832c4515afd6c1612d294d78",
       "version_major": 2,
       "version_minor": 0
      },
      "text/plain": [
       "HBox(children=(HTML(value=''), FloatProgress(value=0.0, max=41.0), HTML(value='')))"
      ]
     },
     "metadata": {},
     "output_type": "display_data"
    },
    {
     "name": "stdout",
     "output_type": "stream",
     "text": [
      "\n",
      "\tTraining Loss: 0.000001 \tValidation Loss: 2.000554\n",
      "running epoch: 117\n"
     ]
    },
    {
     "data": {
      "application/vnd.jupyter.widget-view+json": {
       "model_id": "acacc9abf5ab4122a909b2bfb6e4cada",
       "version_major": 2,
       "version_minor": 0
      },
      "text/plain": [
       "HBox(children=(HTML(value=''), FloatProgress(value=0.0, max=163.0), HTML(value='')))"
      ]
     },
     "metadata": {},
     "output_type": "display_data"
    },
    {
     "name": "stdout",
     "output_type": "stream",
     "text": [
      "\n"
     ]
    },
    {
     "data": {
      "application/vnd.jupyter.widget-view+json": {
       "model_id": "f225145416284bd6b119c4a940a083eb",
       "version_major": 2,
       "version_minor": 0
      },
      "text/plain": [
       "HBox(children=(HTML(value=''), FloatProgress(value=0.0, max=41.0), HTML(value='')))"
      ]
     },
     "metadata": {},
     "output_type": "display_data"
    },
    {
     "name": "stdout",
     "output_type": "stream",
     "text": [
      "\n",
      "\tTraining Loss: 0.000001 \tValidation Loss: 2.013525\n",
      "running epoch: 118\n"
     ]
    },
    {
     "data": {
      "application/vnd.jupyter.widget-view+json": {
       "model_id": "549a2338c79c499f94a712e4ee7530f8",
       "version_major": 2,
       "version_minor": 0
      },
      "text/plain": [
       "HBox(children=(HTML(value=''), FloatProgress(value=0.0, max=163.0), HTML(value='')))"
      ]
     },
     "metadata": {},
     "output_type": "display_data"
    },
    {
     "name": "stdout",
     "output_type": "stream",
     "text": [
      "\n"
     ]
    },
    {
     "data": {
      "application/vnd.jupyter.widget-view+json": {
       "model_id": "9e0de8b05c9743a1868ca1e88f3f4642",
       "version_major": 2,
       "version_minor": 0
      },
      "text/plain": [
       "HBox(children=(HTML(value=''), FloatProgress(value=0.0, max=41.0), HTML(value='')))"
      ]
     },
     "metadata": {},
     "output_type": "display_data"
    },
    {
     "name": "stdout",
     "output_type": "stream",
     "text": [
      "\n",
      "\tTraining Loss: 0.000001 \tValidation Loss: 2.025566\n",
      "running epoch: 119\n"
     ]
    },
    {
     "data": {
      "application/vnd.jupyter.widget-view+json": {
       "model_id": "d2588604ed0942b98491c91e3767c70c",
       "version_major": 2,
       "version_minor": 0
      },
      "text/plain": [
       "HBox(children=(HTML(value=''), FloatProgress(value=0.0, max=163.0), HTML(value='')))"
      ]
     },
     "metadata": {},
     "output_type": "display_data"
    },
    {
     "name": "stdout",
     "output_type": "stream",
     "text": [
      "\n"
     ]
    },
    {
     "data": {
      "application/vnd.jupyter.widget-view+json": {
       "model_id": "f196f63c1a8d428a9af64564538777aa",
       "version_major": 2,
       "version_minor": 0
      },
      "text/plain": [
       "HBox(children=(HTML(value=''), FloatProgress(value=0.0, max=41.0), HTML(value='')))"
      ]
     },
     "metadata": {},
     "output_type": "display_data"
    },
    {
     "name": "stdout",
     "output_type": "stream",
     "text": [
      "\n",
      "\tTraining Loss: 0.000001 \tValidation Loss: 2.038718\n",
      "running epoch: 120\n"
     ]
    },
    {
     "data": {
      "application/vnd.jupyter.widget-view+json": {
       "model_id": "9901bba6ee734cb4a5719f29e101df8d",
       "version_major": 2,
       "version_minor": 0
      },
      "text/plain": [
       "HBox(children=(HTML(value=''), FloatProgress(value=0.0, max=163.0), HTML(value='')))"
      ]
     },
     "metadata": {},
     "output_type": "display_data"
    },
    {
     "name": "stdout",
     "output_type": "stream",
     "text": [
      "\n"
     ]
    },
    {
     "data": {
      "application/vnd.jupyter.widget-view+json": {
       "model_id": "348908d5685d47ec9439a28d71eec4e0",
       "version_major": 2,
       "version_minor": 0
      },
      "text/plain": [
       "HBox(children=(HTML(value=''), FloatProgress(value=0.0, max=41.0), HTML(value='')))"
      ]
     },
     "metadata": {},
     "output_type": "display_data"
    },
    {
     "name": "stdout",
     "output_type": "stream",
     "text": [
      "\n",
      "\tTraining Loss: 0.000001 \tValidation Loss: 2.046213\n",
      "running epoch: 121\n"
     ]
    },
    {
     "data": {
      "application/vnd.jupyter.widget-view+json": {
       "model_id": "43b0233d05bc4a9184a6ca8feb31a707",
       "version_major": 2,
       "version_minor": 0
      },
      "text/plain": [
       "HBox(children=(HTML(value=''), FloatProgress(value=0.0, max=163.0), HTML(value='')))"
      ]
     },
     "metadata": {},
     "output_type": "display_data"
    },
    {
     "name": "stdout",
     "output_type": "stream",
     "text": [
      "\n"
     ]
    },
    {
     "data": {
      "application/vnd.jupyter.widget-view+json": {
       "model_id": "cd175f3a0417443ebbff9294d825940f",
       "version_major": 2,
       "version_minor": 0
      },
      "text/plain": [
       "HBox(children=(HTML(value=''), FloatProgress(value=0.0, max=41.0), HTML(value='')))"
      ]
     },
     "metadata": {},
     "output_type": "display_data"
    },
    {
     "name": "stdout",
     "output_type": "stream",
     "text": [
      "\n",
      "\tTraining Loss: 0.000001 \tValidation Loss: 2.066170\n",
      "running epoch: 122\n"
     ]
    },
    {
     "data": {
      "application/vnd.jupyter.widget-view+json": {
       "model_id": "a618ee5f78e44e139251e54968144003",
       "version_major": 2,
       "version_minor": 0
      },
      "text/plain": [
       "HBox(children=(HTML(value=''), FloatProgress(value=0.0, max=163.0), HTML(value='')))"
      ]
     },
     "metadata": {},
     "output_type": "display_data"
    },
    {
     "name": "stdout",
     "output_type": "stream",
     "text": [
      "\n"
     ]
    },
    {
     "data": {
      "application/vnd.jupyter.widget-view+json": {
       "model_id": "a7dbea3104f240f9b81328a0ce70b7e1",
       "version_major": 2,
       "version_minor": 0
      },
      "text/plain": [
       "HBox(children=(HTML(value=''), FloatProgress(value=0.0, max=41.0), HTML(value='')))"
      ]
     },
     "metadata": {},
     "output_type": "display_data"
    },
    {
     "name": "stdout",
     "output_type": "stream",
     "text": [
      "\n",
      "\tTraining Loss: 0.000001 \tValidation Loss: 2.076819\n",
      "running epoch: 123\n"
     ]
    },
    {
     "data": {
      "application/vnd.jupyter.widget-view+json": {
       "model_id": "76c2c6ad94e54d79ae343b5094733fc1",
       "version_major": 2,
       "version_minor": 0
      },
      "text/plain": [
       "HBox(children=(HTML(value=''), FloatProgress(value=0.0, max=163.0), HTML(value='')))"
      ]
     },
     "metadata": {},
     "output_type": "display_data"
    },
    {
     "name": "stdout",
     "output_type": "stream",
     "text": [
      "\n"
     ]
    },
    {
     "data": {
      "application/vnd.jupyter.widget-view+json": {
       "model_id": "9899fed3c18646f19a83f7301c2682b3",
       "version_major": 2,
       "version_minor": 0
      },
      "text/plain": [
       "HBox(children=(HTML(value=''), FloatProgress(value=0.0, max=41.0), HTML(value='')))"
      ]
     },
     "metadata": {},
     "output_type": "display_data"
    },
    {
     "name": "stdout",
     "output_type": "stream",
     "text": [
      "\n",
      "\tTraining Loss: 0.000001 \tValidation Loss: 2.093330\n",
      "running epoch: 124\n"
     ]
    },
    {
     "data": {
      "application/vnd.jupyter.widget-view+json": {
       "model_id": "b4dad1ad009f4505a4e5c76cacd0e9bd",
       "version_major": 2,
       "version_minor": 0
      },
      "text/plain": [
       "HBox(children=(HTML(value=''), FloatProgress(value=0.0, max=163.0), HTML(value='')))"
      ]
     },
     "metadata": {},
     "output_type": "display_data"
    },
    {
     "name": "stdout",
     "output_type": "stream",
     "text": [
      "\n"
     ]
    },
    {
     "data": {
      "application/vnd.jupyter.widget-view+json": {
       "model_id": "7c953918c5144b2b9e7b551321e8b0b2",
       "version_major": 2,
       "version_minor": 0
      },
      "text/plain": [
       "HBox(children=(HTML(value=''), FloatProgress(value=0.0, max=41.0), HTML(value='')))"
      ]
     },
     "metadata": {},
     "output_type": "display_data"
    },
    {
     "name": "stdout",
     "output_type": "stream",
     "text": [
      "\n",
      "\tTraining Loss: 0.000000 \tValidation Loss: 2.102938\n",
      "running epoch: 125\n"
     ]
    },
    {
     "data": {
      "application/vnd.jupyter.widget-view+json": {
       "model_id": "69b223a4d60f4d339c3f5dc4b126aebf",
       "version_major": 2,
       "version_minor": 0
      },
      "text/plain": [
       "HBox(children=(HTML(value=''), FloatProgress(value=0.0, max=163.0), HTML(value='')))"
      ]
     },
     "metadata": {},
     "output_type": "display_data"
    },
    {
     "name": "stdout",
     "output_type": "stream",
     "text": [
      "\n"
     ]
    },
    {
     "data": {
      "application/vnd.jupyter.widget-view+json": {
       "model_id": "bc34c5f411c044d3add30f161c5edb85",
       "version_major": 2,
       "version_minor": 0
      },
      "text/plain": [
       "HBox(children=(HTML(value=''), FloatProgress(value=0.0, max=41.0), HTML(value='')))"
      ]
     },
     "metadata": {},
     "output_type": "display_data"
    },
    {
     "name": "stdout",
     "output_type": "stream",
     "text": [
      "\n",
      "\tTraining Loss: 0.000000 \tValidation Loss: 2.114150\n",
      "running epoch: 126\n"
     ]
    },
    {
     "data": {
      "application/vnd.jupyter.widget-view+json": {
       "model_id": "4c7d4333d0aa498a8f4e8345b6508c34",
       "version_major": 2,
       "version_minor": 0
      },
      "text/plain": [
       "HBox(children=(HTML(value=''), FloatProgress(value=0.0, max=163.0), HTML(value='')))"
      ]
     },
     "metadata": {},
     "output_type": "display_data"
    },
    {
     "name": "stdout",
     "output_type": "stream",
     "text": [
      "\n"
     ]
    },
    {
     "data": {
      "application/vnd.jupyter.widget-view+json": {
       "model_id": "2c402960dc48496d93ce2383e9533b64",
       "version_major": 2,
       "version_minor": 0
      },
      "text/plain": [
       "HBox(children=(HTML(value=''), FloatProgress(value=0.0, max=41.0), HTML(value='')))"
      ]
     },
     "metadata": {},
     "output_type": "display_data"
    },
    {
     "name": "stdout",
     "output_type": "stream",
     "text": [
      "\n",
      "\tTraining Loss: 0.000001 \tValidation Loss: 2.130272\n",
      "running epoch: 127\n"
     ]
    },
    {
     "data": {
      "application/vnd.jupyter.widget-view+json": {
       "model_id": "8a03b6b0f51a4d15840464f6efdc8282",
       "version_major": 2,
       "version_minor": 0
      },
      "text/plain": [
       "HBox(children=(HTML(value=''), FloatProgress(value=0.0, max=163.0), HTML(value='')))"
      ]
     },
     "metadata": {},
     "output_type": "display_data"
    },
    {
     "name": "stdout",
     "output_type": "stream",
     "text": [
      "\n"
     ]
    },
    {
     "data": {
      "application/vnd.jupyter.widget-view+json": {
       "model_id": "f831384d4a254b9299464ac83d869c6d",
       "version_major": 2,
       "version_minor": 0
      },
      "text/plain": [
       "HBox(children=(HTML(value=''), FloatProgress(value=0.0, max=41.0), HTML(value='')))"
      ]
     },
     "metadata": {},
     "output_type": "display_data"
    },
    {
     "name": "stdout",
     "output_type": "stream",
     "text": [
      "\n",
      "\tTraining Loss: 0.000000 \tValidation Loss: 2.148405\n",
      "running epoch: 128\n"
     ]
    },
    {
     "data": {
      "application/vnd.jupyter.widget-view+json": {
       "model_id": "def23c580ce2454f8c5e51fd4057dcd3",
       "version_major": 2,
       "version_minor": 0
      },
      "text/plain": [
       "HBox(children=(HTML(value=''), FloatProgress(value=0.0, max=163.0), HTML(value='')))"
      ]
     },
     "metadata": {},
     "output_type": "display_data"
    },
    {
     "name": "stdout",
     "output_type": "stream",
     "text": [
      "\n"
     ]
    },
    {
     "data": {
      "application/vnd.jupyter.widget-view+json": {
       "model_id": "66b5cac8f6364d0495653cf1080189be",
       "version_major": 2,
       "version_minor": 0
      },
      "text/plain": [
       "HBox(children=(HTML(value=''), FloatProgress(value=0.0, max=41.0), HTML(value='')))"
      ]
     },
     "metadata": {},
     "output_type": "display_data"
    },
    {
     "name": "stdout",
     "output_type": "stream",
     "text": [
      "\n",
      "\tTraining Loss: 0.000000 \tValidation Loss: 2.159363\n",
      "running epoch: 129\n"
     ]
    },
    {
     "data": {
      "application/vnd.jupyter.widget-view+json": {
       "model_id": "560ba8b7c49c4d298cbb1512aa59f388",
       "version_major": 2,
       "version_minor": 0
      },
      "text/plain": [
       "HBox(children=(HTML(value=''), FloatProgress(value=0.0, max=163.0), HTML(value='')))"
      ]
     },
     "metadata": {},
     "output_type": "display_data"
    },
    {
     "name": "stdout",
     "output_type": "stream",
     "text": [
      "\n"
     ]
    },
    {
     "data": {
      "application/vnd.jupyter.widget-view+json": {
       "model_id": "a174e6c4485e41f9a2c51acb81c5ace2",
       "version_major": 2,
       "version_minor": 0
      },
      "text/plain": [
       "HBox(children=(HTML(value=''), FloatProgress(value=0.0, max=41.0), HTML(value='')))"
      ]
     },
     "metadata": {},
     "output_type": "display_data"
    },
    {
     "name": "stdout",
     "output_type": "stream",
     "text": [
      "\n",
      "\tTraining Loss: 0.000000 \tValidation Loss: 2.167608\n",
      "running epoch: 130\n"
     ]
    },
    {
     "data": {
      "application/vnd.jupyter.widget-view+json": {
       "model_id": "6e7af11909694eaf95ab5d8950928c26",
       "version_major": 2,
       "version_minor": 0
      },
      "text/plain": [
       "HBox(children=(HTML(value=''), FloatProgress(value=0.0, max=163.0), HTML(value='')))"
      ]
     },
     "metadata": {},
     "output_type": "display_data"
    },
    {
     "name": "stdout",
     "output_type": "stream",
     "text": [
      "\n"
     ]
    },
    {
     "data": {
      "application/vnd.jupyter.widget-view+json": {
       "model_id": "ca0e29936ac14c55a33a348176353b59",
       "version_major": 2,
       "version_minor": 0
      },
      "text/plain": [
       "HBox(children=(HTML(value=''), FloatProgress(value=0.0, max=41.0), HTML(value='')))"
      ]
     },
     "metadata": {},
     "output_type": "display_data"
    },
    {
     "name": "stdout",
     "output_type": "stream",
     "text": [
      "\n",
      "\tTraining Loss: 0.000000 \tValidation Loss: 2.184481\n",
      "running epoch: 131\n"
     ]
    },
    {
     "data": {
      "application/vnd.jupyter.widget-view+json": {
       "model_id": "0ee77eb48d73411aa7d469bb8cc033e2",
       "version_major": 2,
       "version_minor": 0
      },
      "text/plain": [
       "HBox(children=(HTML(value=''), FloatProgress(value=0.0, max=163.0), HTML(value='')))"
      ]
     },
     "metadata": {},
     "output_type": "display_data"
    },
    {
     "name": "stdout",
     "output_type": "stream",
     "text": [
      "\n"
     ]
    },
    {
     "data": {
      "application/vnd.jupyter.widget-view+json": {
       "model_id": "20fe5ce415884472a1a0ba93a9cb3415",
       "version_major": 2,
       "version_minor": 0
      },
      "text/plain": [
       "HBox(children=(HTML(value=''), FloatProgress(value=0.0, max=41.0), HTML(value='')))"
      ]
     },
     "metadata": {},
     "output_type": "display_data"
    },
    {
     "name": "stdout",
     "output_type": "stream",
     "text": [
      "\n",
      "\tTraining Loss: 0.000000 \tValidation Loss: 2.192724\n",
      "running epoch: 132\n"
     ]
    },
    {
     "data": {
      "application/vnd.jupyter.widget-view+json": {
       "model_id": "1999f033e4884d8a8e10a0f36f165ccf",
       "version_major": 2,
       "version_minor": 0
      },
      "text/plain": [
       "HBox(children=(HTML(value=''), FloatProgress(value=0.0, max=163.0), HTML(value='')))"
      ]
     },
     "metadata": {},
     "output_type": "display_data"
    },
    {
     "name": "stdout",
     "output_type": "stream",
     "text": [
      "\n"
     ]
    },
    {
     "data": {
      "application/vnd.jupyter.widget-view+json": {
       "model_id": "096d1e82f82545a6a33c1b18956c8c2b",
       "version_major": 2,
       "version_minor": 0
      },
      "text/plain": [
       "HBox(children=(HTML(value=''), FloatProgress(value=0.0, max=41.0), HTML(value='')))"
      ]
     },
     "metadata": {},
     "output_type": "display_data"
    },
    {
     "name": "stdout",
     "output_type": "stream",
     "text": [
      "\n",
      "\tTraining Loss: 0.000000 \tValidation Loss: 2.208189\n",
      "running epoch: 133\n"
     ]
    },
    {
     "data": {
      "application/vnd.jupyter.widget-view+json": {
       "model_id": "ca76423e182b4de29e702aebd4df4c68",
       "version_major": 2,
       "version_minor": 0
      },
      "text/plain": [
       "HBox(children=(HTML(value=''), FloatProgress(value=0.0, max=163.0), HTML(value='')))"
      ]
     },
     "metadata": {},
     "output_type": "display_data"
    },
    {
     "name": "stdout",
     "output_type": "stream",
     "text": [
      "\n"
     ]
    },
    {
     "data": {
      "application/vnd.jupyter.widget-view+json": {
       "model_id": "322d40af852348fba22d1e3f7c7cf3f5",
       "version_major": 2,
       "version_minor": 0
      },
      "text/plain": [
       "HBox(children=(HTML(value=''), FloatProgress(value=0.0, max=41.0), HTML(value='')))"
      ]
     },
     "metadata": {},
     "output_type": "display_data"
    },
    {
     "name": "stdout",
     "output_type": "stream",
     "text": [
      "\n",
      "\tTraining Loss: 0.000000 \tValidation Loss: 2.222103\n",
      "running epoch: 134\n"
     ]
    },
    {
     "data": {
      "application/vnd.jupyter.widget-view+json": {
       "model_id": "65659c21bda1473e8b3193ff8f2e6a72",
       "version_major": 2,
       "version_minor": 0
      },
      "text/plain": [
       "HBox(children=(HTML(value=''), FloatProgress(value=0.0, max=163.0), HTML(value='')))"
      ]
     },
     "metadata": {},
     "output_type": "display_data"
    },
    {
     "name": "stdout",
     "output_type": "stream",
     "text": [
      "\n"
     ]
    },
    {
     "data": {
      "application/vnd.jupyter.widget-view+json": {
       "model_id": "edf01d54f4e84ddbb49265a8a62edd8d",
       "version_major": 2,
       "version_minor": 0
      },
      "text/plain": [
       "HBox(children=(HTML(value=''), FloatProgress(value=0.0, max=41.0), HTML(value='')))"
      ]
     },
     "metadata": {},
     "output_type": "display_data"
    },
    {
     "name": "stdout",
     "output_type": "stream",
     "text": [
      "\n",
      "\tTraining Loss: 0.000000 \tValidation Loss: 2.232564\n",
      "running epoch: 135\n"
     ]
    },
    {
     "data": {
      "application/vnd.jupyter.widget-view+json": {
       "model_id": "4ec7fb80f75a4255b2ee11f4a5fe55a5",
       "version_major": 2,
       "version_minor": 0
      },
      "text/plain": [
       "HBox(children=(HTML(value=''), FloatProgress(value=0.0, max=163.0), HTML(value='')))"
      ]
     },
     "metadata": {},
     "output_type": "display_data"
    },
    {
     "name": "stdout",
     "output_type": "stream",
     "text": [
      "\n"
     ]
    },
    {
     "data": {
      "application/vnd.jupyter.widget-view+json": {
       "model_id": "d7669642056149d39e4e108c141703d6",
       "version_major": 2,
       "version_minor": 0
      },
      "text/plain": [
       "HBox(children=(HTML(value=''), FloatProgress(value=0.0, max=41.0), HTML(value='')))"
      ]
     },
     "metadata": {},
     "output_type": "display_data"
    },
    {
     "name": "stdout",
     "output_type": "stream",
     "text": [
      "\n",
      "\tTraining Loss: 0.000000 \tValidation Loss: 2.244731\n",
      "running epoch: 136\n"
     ]
    },
    {
     "data": {
      "application/vnd.jupyter.widget-view+json": {
       "model_id": "dcd3b92242e8414c9137bac3a134ce08",
       "version_major": 2,
       "version_minor": 0
      },
      "text/plain": [
       "HBox(children=(HTML(value=''), FloatProgress(value=0.0, max=163.0), HTML(value='')))"
      ]
     },
     "metadata": {},
     "output_type": "display_data"
    },
    {
     "name": "stdout",
     "output_type": "stream",
     "text": [
      "\n"
     ]
    },
    {
     "data": {
      "application/vnd.jupyter.widget-view+json": {
       "model_id": "5dffd434417d4462aef2fc540aa62f39",
       "version_major": 2,
       "version_minor": 0
      },
      "text/plain": [
       "HBox(children=(HTML(value=''), FloatProgress(value=0.0, max=41.0), HTML(value='')))"
      ]
     },
     "metadata": {},
     "output_type": "display_data"
    },
    {
     "name": "stdout",
     "output_type": "stream",
     "text": [
      "\n",
      "\tTraining Loss: 0.000000 \tValidation Loss: 2.256774\n",
      "running epoch: 137\n"
     ]
    },
    {
     "data": {
      "application/vnd.jupyter.widget-view+json": {
       "model_id": "fb0c84d300aa4020b74116e76d6f25a3",
       "version_major": 2,
       "version_minor": 0
      },
      "text/plain": [
       "HBox(children=(HTML(value=''), FloatProgress(value=0.0, max=163.0), HTML(value='')))"
      ]
     },
     "metadata": {},
     "output_type": "display_data"
    },
    {
     "name": "stdout",
     "output_type": "stream",
     "text": [
      "\n"
     ]
    },
    {
     "data": {
      "application/vnd.jupyter.widget-view+json": {
       "model_id": "aa6616400a4f4594b1a3429f5d40331f",
       "version_major": 2,
       "version_minor": 0
      },
      "text/plain": [
       "HBox(children=(HTML(value=''), FloatProgress(value=0.0, max=41.0), HTML(value='')))"
      ]
     },
     "metadata": {},
     "output_type": "display_data"
    },
    {
     "name": "stdout",
     "output_type": "stream",
     "text": [
      "\n",
      "\tTraining Loss: 0.000000 \tValidation Loss: 2.268033\n",
      "running epoch: 138\n"
     ]
    },
    {
     "data": {
      "application/vnd.jupyter.widget-view+json": {
       "model_id": "f9591044cb654344ba5dbda3a6c9becf",
       "version_major": 2,
       "version_minor": 0
      },
      "text/plain": [
       "HBox(children=(HTML(value=''), FloatProgress(value=0.0, max=163.0), HTML(value='')))"
      ]
     },
     "metadata": {},
     "output_type": "display_data"
    },
    {
     "name": "stdout",
     "output_type": "stream",
     "text": [
      "\n"
     ]
    },
    {
     "data": {
      "application/vnd.jupyter.widget-view+json": {
       "model_id": "dbd8c19ae79341708d22fce47e7b0365",
       "version_major": 2,
       "version_minor": 0
      },
      "text/plain": [
       "HBox(children=(HTML(value=''), FloatProgress(value=0.0, max=41.0), HTML(value='')))"
      ]
     },
     "metadata": {},
     "output_type": "display_data"
    },
    {
     "name": "stdout",
     "output_type": "stream",
     "text": [
      "\n",
      "\tTraining Loss: 0.000000 \tValidation Loss: 2.281835\n",
      "running epoch: 139\n"
     ]
    },
    {
     "data": {
      "application/vnd.jupyter.widget-view+json": {
       "model_id": "c35884c1b9f0480b87c3cec7e1711755",
       "version_major": 2,
       "version_minor": 0
      },
      "text/plain": [
       "HBox(children=(HTML(value=''), FloatProgress(value=0.0, max=163.0), HTML(value='')))"
      ]
     },
     "metadata": {},
     "output_type": "display_data"
    },
    {
     "name": "stdout",
     "output_type": "stream",
     "text": [
      "\n"
     ]
    },
    {
     "data": {
      "application/vnd.jupyter.widget-view+json": {
       "model_id": "1e023dcea0884d3197dbb50f3e819a3d",
       "version_major": 2,
       "version_minor": 0
      },
      "text/plain": [
       "HBox(children=(HTML(value=''), FloatProgress(value=0.0, max=41.0), HTML(value='')))"
      ]
     },
     "metadata": {},
     "output_type": "display_data"
    },
    {
     "name": "stdout",
     "output_type": "stream",
     "text": [
      "\n",
      "\tTraining Loss: 0.000000 \tValidation Loss: 2.295056\n",
      "running epoch: 140\n"
     ]
    },
    {
     "data": {
      "application/vnd.jupyter.widget-view+json": {
       "model_id": "e6a20de1c3b34c66a5386eb02ebf6078",
       "version_major": 2,
       "version_minor": 0
      },
      "text/plain": [
       "HBox(children=(HTML(value=''), FloatProgress(value=0.0, max=163.0), HTML(value='')))"
      ]
     },
     "metadata": {},
     "output_type": "display_data"
    },
    {
     "name": "stdout",
     "output_type": "stream",
     "text": [
      "\n"
     ]
    },
    {
     "data": {
      "application/vnd.jupyter.widget-view+json": {
       "model_id": "3bffab31f3814614955458167886f652",
       "version_major": 2,
       "version_minor": 0
      },
      "text/plain": [
       "HBox(children=(HTML(value=''), FloatProgress(value=0.0, max=41.0), HTML(value='')))"
      ]
     },
     "metadata": {},
     "output_type": "display_data"
    },
    {
     "name": "stdout",
     "output_type": "stream",
     "text": [
      "\n",
      "\tTraining Loss: 0.000000 \tValidation Loss: 2.309681\n",
      "running epoch: 141\n"
     ]
    },
    {
     "data": {
      "application/vnd.jupyter.widget-view+json": {
       "model_id": "82c3b4f5c0a144cfaf964cfd5fcfe8ff",
       "version_major": 2,
       "version_minor": 0
      },
      "text/plain": [
       "HBox(children=(HTML(value=''), FloatProgress(value=0.0, max=163.0), HTML(value='')))"
      ]
     },
     "metadata": {},
     "output_type": "display_data"
    },
    {
     "name": "stdout",
     "output_type": "stream",
     "text": [
      "\n"
     ]
    },
    {
     "data": {
      "application/vnd.jupyter.widget-view+json": {
       "model_id": "ec5a8add1d474813b6e4ff0d62704b61",
       "version_major": 2,
       "version_minor": 0
      },
      "text/plain": [
       "HBox(children=(HTML(value=''), FloatProgress(value=0.0, max=41.0), HTML(value='')))"
      ]
     },
     "metadata": {},
     "output_type": "display_data"
    },
    {
     "name": "stdout",
     "output_type": "stream",
     "text": [
      "\n",
      "\tTraining Loss: 0.000000 \tValidation Loss: 2.317525\n",
      "running epoch: 142\n"
     ]
    },
    {
     "data": {
      "application/vnd.jupyter.widget-view+json": {
       "model_id": "39816600a33b4a5ab88475a276b9d46b",
       "version_major": 2,
       "version_minor": 0
      },
      "text/plain": [
       "HBox(children=(HTML(value=''), FloatProgress(value=0.0, max=163.0), HTML(value='')))"
      ]
     },
     "metadata": {},
     "output_type": "display_data"
    },
    {
     "name": "stdout",
     "output_type": "stream",
     "text": [
      "\n"
     ]
    },
    {
     "data": {
      "application/vnd.jupyter.widget-view+json": {
       "model_id": "7b4351119aab44bb9b9c829994e57696",
       "version_major": 2,
       "version_minor": 0
      },
      "text/plain": [
       "HBox(children=(HTML(value=''), FloatProgress(value=0.0, max=41.0), HTML(value='')))"
      ]
     },
     "metadata": {},
     "output_type": "display_data"
    },
    {
     "name": "stdout",
     "output_type": "stream",
     "text": [
      "\n",
      "\tTraining Loss: 0.000000 \tValidation Loss: 2.331574\n",
      "running epoch: 143\n"
     ]
    },
    {
     "data": {
      "application/vnd.jupyter.widget-view+json": {
       "model_id": "f6fe41b21e634fe79f6f432d5dc91ea6",
       "version_major": 2,
       "version_minor": 0
      },
      "text/plain": [
       "HBox(children=(HTML(value=''), FloatProgress(value=0.0, max=163.0), HTML(value='')))"
      ]
     },
     "metadata": {},
     "output_type": "display_data"
    },
    {
     "name": "stdout",
     "output_type": "stream",
     "text": [
      "\n"
     ]
    },
    {
     "data": {
      "application/vnd.jupyter.widget-view+json": {
       "model_id": "52fc7395f908443e93c740c42a2da39b",
       "version_major": 2,
       "version_minor": 0
      },
      "text/plain": [
       "HBox(children=(HTML(value=''), FloatProgress(value=0.0, max=41.0), HTML(value='')))"
      ]
     },
     "metadata": {},
     "output_type": "display_data"
    },
    {
     "name": "stdout",
     "output_type": "stream",
     "text": [
      "\n",
      "\tTraining Loss: 0.000000 \tValidation Loss: 2.338942\n",
      "running epoch: 144\n"
     ]
    },
    {
     "data": {
      "application/vnd.jupyter.widget-view+json": {
       "model_id": "cd4f49c741be457780700d08e17742a5",
       "version_major": 2,
       "version_minor": 0
      },
      "text/plain": [
       "HBox(children=(HTML(value=''), FloatProgress(value=0.0, max=163.0), HTML(value='')))"
      ]
     },
     "metadata": {},
     "output_type": "display_data"
    },
    {
     "name": "stdout",
     "output_type": "stream",
     "text": [
      "\n"
     ]
    },
    {
     "data": {
      "application/vnd.jupyter.widget-view+json": {
       "model_id": "48673311ba26404dbe26413e58df4e4f",
       "version_major": 2,
       "version_minor": 0
      },
      "text/plain": [
       "HBox(children=(HTML(value=''), FloatProgress(value=0.0, max=41.0), HTML(value='')))"
      ]
     },
     "metadata": {},
     "output_type": "display_data"
    },
    {
     "name": "stdout",
     "output_type": "stream",
     "text": [
      "\n",
      "\tTraining Loss: 0.000000 \tValidation Loss: 2.353925\n",
      "running epoch: 145\n"
     ]
    },
    {
     "data": {
      "application/vnd.jupyter.widget-view+json": {
       "model_id": "9c32b0fb7aae4e73a541e717e6aac3fd",
       "version_major": 2,
       "version_minor": 0
      },
      "text/plain": [
       "HBox(children=(HTML(value=''), FloatProgress(value=0.0, max=163.0), HTML(value='')))"
      ]
     },
     "metadata": {},
     "output_type": "display_data"
    },
    {
     "name": "stdout",
     "output_type": "stream",
     "text": [
      "\n"
     ]
    },
    {
     "data": {
      "application/vnd.jupyter.widget-view+json": {
       "model_id": "4bc5e8b98f2e43c29d83f8183524f36b",
       "version_major": 2,
       "version_minor": 0
      },
      "text/plain": [
       "HBox(children=(HTML(value=''), FloatProgress(value=0.0, max=41.0), HTML(value='')))"
      ]
     },
     "metadata": {},
     "output_type": "display_data"
    },
    {
     "name": "stdout",
     "output_type": "stream",
     "text": [
      "\n",
      "\tTraining Loss: 0.000000 \tValidation Loss: 2.370019\n",
      "running epoch: 146\n"
     ]
    },
    {
     "data": {
      "application/vnd.jupyter.widget-view+json": {
       "model_id": "1568e763887d4bfca78e386f9ee3f332",
       "version_major": 2,
       "version_minor": 0
      },
      "text/plain": [
       "HBox(children=(HTML(value=''), FloatProgress(value=0.0, max=163.0), HTML(value='')))"
      ]
     },
     "metadata": {},
     "output_type": "display_data"
    },
    {
     "name": "stdout",
     "output_type": "stream",
     "text": [
      "\n"
     ]
    },
    {
     "data": {
      "application/vnd.jupyter.widget-view+json": {
       "model_id": "8bec5cdb6e3f4f89a7feebc76fbc1529",
       "version_major": 2,
       "version_minor": 0
      },
      "text/plain": [
       "HBox(children=(HTML(value=''), FloatProgress(value=0.0, max=41.0), HTML(value='')))"
      ]
     },
     "metadata": {},
     "output_type": "display_data"
    },
    {
     "name": "stdout",
     "output_type": "stream",
     "text": [
      "\n",
      "\tTraining Loss: 0.000000 \tValidation Loss: 2.380696\n",
      "running epoch: 147\n"
     ]
    },
    {
     "data": {
      "application/vnd.jupyter.widget-view+json": {
       "model_id": "8ec16ae27ad549ef95cc031a4658f7d6",
       "version_major": 2,
       "version_minor": 0
      },
      "text/plain": [
       "HBox(children=(HTML(value=''), FloatProgress(value=0.0, max=163.0), HTML(value='')))"
      ]
     },
     "metadata": {},
     "output_type": "display_data"
    },
    {
     "name": "stdout",
     "output_type": "stream",
     "text": [
      "\n"
     ]
    },
    {
     "data": {
      "application/vnd.jupyter.widget-view+json": {
       "model_id": "ec8d508ff35149e2932f518af884b424",
       "version_major": 2,
       "version_minor": 0
      },
      "text/plain": [
       "HBox(children=(HTML(value=''), FloatProgress(value=0.0, max=41.0), HTML(value='')))"
      ]
     },
     "metadata": {},
     "output_type": "display_data"
    },
    {
     "name": "stdout",
     "output_type": "stream",
     "text": [
      "\n",
      "\tTraining Loss: 0.000000 \tValidation Loss: 2.391097\n",
      "running epoch: 148\n"
     ]
    },
    {
     "data": {
      "application/vnd.jupyter.widget-view+json": {
       "model_id": "fc5f1d1ebf0e468ea85f157a5fc1d573",
       "version_major": 2,
       "version_minor": 0
      },
      "text/plain": [
       "HBox(children=(HTML(value=''), FloatProgress(value=0.0, max=163.0), HTML(value='')))"
      ]
     },
     "metadata": {},
     "output_type": "display_data"
    },
    {
     "name": "stdout",
     "output_type": "stream",
     "text": [
      "\n"
     ]
    },
    {
     "data": {
      "application/vnd.jupyter.widget-view+json": {
       "model_id": "258bbcfaf9ce45598e5d3a397250c47b",
       "version_major": 2,
       "version_minor": 0
      },
      "text/plain": [
       "HBox(children=(HTML(value=''), FloatProgress(value=0.0, max=41.0), HTML(value='')))"
      ]
     },
     "metadata": {},
     "output_type": "display_data"
    },
    {
     "name": "stdout",
     "output_type": "stream",
     "text": [
      "\n",
      "\tTraining Loss: 0.000000 \tValidation Loss: 2.402538\n",
      "running epoch: 149\n"
     ]
    },
    {
     "data": {
      "application/vnd.jupyter.widget-view+json": {
       "model_id": "3f64c556072341d8919f099b78056bc9",
       "version_major": 2,
       "version_minor": 0
      },
      "text/plain": [
       "HBox(children=(HTML(value=''), FloatProgress(value=0.0, max=163.0), HTML(value='')))"
      ]
     },
     "metadata": {},
     "output_type": "display_data"
    },
    {
     "name": "stdout",
     "output_type": "stream",
     "text": [
      "\n"
     ]
    },
    {
     "data": {
      "application/vnd.jupyter.widget-view+json": {
       "model_id": "3d0fb33a6e7d44429143519f57034faa",
       "version_major": 2,
       "version_minor": 0
      },
      "text/plain": [
       "HBox(children=(HTML(value=''), FloatProgress(value=0.0, max=41.0), HTML(value='')))"
      ]
     },
     "metadata": {},
     "output_type": "display_data"
    },
    {
     "name": "stdout",
     "output_type": "stream",
     "text": [
      "\n",
      "\tTraining Loss: 0.000000 \tValidation Loss: 2.415978\n",
      "running epoch: 150\n"
     ]
    },
    {
     "data": {
      "application/vnd.jupyter.widget-view+json": {
       "model_id": "36bca6cb575a49958940c1827866e4b1",
       "version_major": 2,
       "version_minor": 0
      },
      "text/plain": [
       "HBox(children=(HTML(value=''), FloatProgress(value=0.0, max=163.0), HTML(value='')))"
      ]
     },
     "metadata": {},
     "output_type": "display_data"
    },
    {
     "name": "stdout",
     "output_type": "stream",
     "text": [
      "\n"
     ]
    },
    {
     "data": {
      "application/vnd.jupyter.widget-view+json": {
       "model_id": "93a5e4918c164b438d3502f81519bf9a",
       "version_major": 2,
       "version_minor": 0
      },
      "text/plain": [
       "HBox(children=(HTML(value=''), FloatProgress(value=0.0, max=41.0), HTML(value='')))"
      ]
     },
     "metadata": {},
     "output_type": "display_data"
    },
    {
     "name": "stdout",
     "output_type": "stream",
     "text": [
      "\n",
      "\tTraining Loss: 0.000000 \tValidation Loss: 2.427072\n",
      "running epoch: 151\n"
     ]
    },
    {
     "data": {
      "application/vnd.jupyter.widget-view+json": {
       "model_id": "1581eae19adf4968a53631aaae82fa05",
       "version_major": 2,
       "version_minor": 0
      },
      "text/plain": [
       "HBox(children=(HTML(value=''), FloatProgress(value=0.0, max=163.0), HTML(value='')))"
      ]
     },
     "metadata": {},
     "output_type": "display_data"
    },
    {
     "name": "stdout",
     "output_type": "stream",
     "text": [
      "\n"
     ]
    },
    {
     "data": {
      "application/vnd.jupyter.widget-view+json": {
       "model_id": "5aad01870cc94d7c999f06c772ca0f97",
       "version_major": 2,
       "version_minor": 0
      },
      "text/plain": [
       "HBox(children=(HTML(value=''), FloatProgress(value=0.0, max=41.0), HTML(value='')))"
      ]
     },
     "metadata": {},
     "output_type": "display_data"
    },
    {
     "name": "stdout",
     "output_type": "stream",
     "text": [
      "\n",
      "\tTraining Loss: 0.000000 \tValidation Loss: 2.438354\n",
      "running epoch: 152\n"
     ]
    },
    {
     "data": {
      "application/vnd.jupyter.widget-view+json": {
       "model_id": "e5c1108823aa44bb989b085f348a3282",
       "version_major": 2,
       "version_minor": 0
      },
      "text/plain": [
       "HBox(children=(HTML(value=''), FloatProgress(value=0.0, max=163.0), HTML(value='')))"
      ]
     },
     "metadata": {},
     "output_type": "display_data"
    },
    {
     "name": "stdout",
     "output_type": "stream",
     "text": [
      "\n"
     ]
    },
    {
     "data": {
      "application/vnd.jupyter.widget-view+json": {
       "model_id": "d5f6941c42374cf5ab9ab96003699cf5",
       "version_major": 2,
       "version_minor": 0
      },
      "text/plain": [
       "HBox(children=(HTML(value=''), FloatProgress(value=0.0, max=41.0), HTML(value='')))"
      ]
     },
     "metadata": {},
     "output_type": "display_data"
    },
    {
     "name": "stdout",
     "output_type": "stream",
     "text": [
      "\n",
      "\tTraining Loss: 0.000000 \tValidation Loss: 2.450216\n",
      "running epoch: 153\n"
     ]
    },
    {
     "data": {
      "application/vnd.jupyter.widget-view+json": {
       "model_id": "6b439a8826e54ebca0674ef6ccebd789",
       "version_major": 2,
       "version_minor": 0
      },
      "text/plain": [
       "HBox(children=(HTML(value=''), FloatProgress(value=0.0, max=163.0), HTML(value='')))"
      ]
     },
     "metadata": {},
     "output_type": "display_data"
    },
    {
     "name": "stdout",
     "output_type": "stream",
     "text": [
      "\n"
     ]
    },
    {
     "data": {
      "application/vnd.jupyter.widget-view+json": {
       "model_id": "a4f12e4338634190ad744be6f2d6bf97",
       "version_major": 2,
       "version_minor": 0
      },
      "text/plain": [
       "HBox(children=(HTML(value=''), FloatProgress(value=0.0, max=41.0), HTML(value='')))"
      ]
     },
     "metadata": {},
     "output_type": "display_data"
    },
    {
     "name": "stdout",
     "output_type": "stream",
     "text": [
      "\n",
      "\tTraining Loss: 0.000000 \tValidation Loss: 2.461947\n",
      "running epoch: 154\n"
     ]
    },
    {
     "data": {
      "application/vnd.jupyter.widget-view+json": {
       "model_id": "b1bdbe87ab3f49a7bd803c24e23a73f1",
       "version_major": 2,
       "version_minor": 0
      },
      "text/plain": [
       "HBox(children=(HTML(value=''), FloatProgress(value=0.0, max=163.0), HTML(value='')))"
      ]
     },
     "metadata": {},
     "output_type": "display_data"
    },
    {
     "name": "stdout",
     "output_type": "stream",
     "text": [
      "\n"
     ]
    },
    {
     "data": {
      "application/vnd.jupyter.widget-view+json": {
       "model_id": "2c76a9bbb1314eb9a38459164620fb3b",
       "version_major": 2,
       "version_minor": 0
      },
      "text/plain": [
       "HBox(children=(HTML(value=''), FloatProgress(value=0.0, max=41.0), HTML(value='')))"
      ]
     },
     "metadata": {},
     "output_type": "display_data"
    },
    {
     "name": "stdout",
     "output_type": "stream",
     "text": [
      "\n",
      "\tTraining Loss: 0.000000 \tValidation Loss: 2.473950\n",
      "running epoch: 155\n"
     ]
    },
    {
     "data": {
      "application/vnd.jupyter.widget-view+json": {
       "model_id": "e600047e78254e1781e42e7c396c9855",
       "version_major": 2,
       "version_minor": 0
      },
      "text/plain": [
       "HBox(children=(HTML(value=''), FloatProgress(value=0.0, max=163.0), HTML(value='')))"
      ]
     },
     "metadata": {},
     "output_type": "display_data"
    },
    {
     "name": "stdout",
     "output_type": "stream",
     "text": [
      "\n"
     ]
    },
    {
     "data": {
      "application/vnd.jupyter.widget-view+json": {
       "model_id": "a5d3f481816a4ac78675d7aceee9ab20",
       "version_major": 2,
       "version_minor": 0
      },
      "text/plain": [
       "HBox(children=(HTML(value=''), FloatProgress(value=0.0, max=41.0), HTML(value='')))"
      ]
     },
     "metadata": {},
     "output_type": "display_data"
    },
    {
     "name": "stdout",
     "output_type": "stream",
     "text": [
      "\n",
      "\tTraining Loss: 0.000000 \tValidation Loss: 2.485142\n",
      "running epoch: 156\n"
     ]
    },
    {
     "data": {
      "application/vnd.jupyter.widget-view+json": {
       "model_id": "b3f53faf48944ed399be18fc9377e020",
       "version_major": 2,
       "version_minor": 0
      },
      "text/plain": [
       "HBox(children=(HTML(value=''), FloatProgress(value=0.0, max=163.0), HTML(value='')))"
      ]
     },
     "metadata": {},
     "output_type": "display_data"
    },
    {
     "name": "stdout",
     "output_type": "stream",
     "text": [
      "\n"
     ]
    },
    {
     "data": {
      "application/vnd.jupyter.widget-view+json": {
       "model_id": "b2b8bcdd73264c029465f6916d9d8fdd",
       "version_major": 2,
       "version_minor": 0
      },
      "text/plain": [
       "HBox(children=(HTML(value=''), FloatProgress(value=0.0, max=41.0), HTML(value='')))"
      ]
     },
     "metadata": {},
     "output_type": "display_data"
    },
    {
     "name": "stdout",
     "output_type": "stream",
     "text": [
      "\n",
      "\tTraining Loss: 0.000000 \tValidation Loss: 2.498623\n",
      "running epoch: 157\n"
     ]
    },
    {
     "data": {
      "application/vnd.jupyter.widget-view+json": {
       "model_id": "89c776cd0c5343d99a6c892ec52d0733",
       "version_major": 2,
       "version_minor": 0
      },
      "text/plain": [
       "HBox(children=(HTML(value=''), FloatProgress(value=0.0, max=163.0), HTML(value='')))"
      ]
     },
     "metadata": {},
     "output_type": "display_data"
    },
    {
     "name": "stdout",
     "output_type": "stream",
     "text": [
      "\n"
     ]
    },
    {
     "data": {
      "application/vnd.jupyter.widget-view+json": {
       "model_id": "b86005d70d504cf1947f02b91a89158d",
       "version_major": 2,
       "version_minor": 0
      },
      "text/plain": [
       "HBox(children=(HTML(value=''), FloatProgress(value=0.0, max=41.0), HTML(value='')))"
      ]
     },
     "metadata": {},
     "output_type": "display_data"
    },
    {
     "name": "stdout",
     "output_type": "stream",
     "text": [
      "\n",
      "\tTraining Loss: 0.000000 \tValidation Loss: 2.509822\n",
      "running epoch: 158\n"
     ]
    },
    {
     "data": {
      "application/vnd.jupyter.widget-view+json": {
       "model_id": "65720870f9af48829102da13695697fb",
       "version_major": 2,
       "version_minor": 0
      },
      "text/plain": [
       "HBox(children=(HTML(value=''), FloatProgress(value=0.0, max=163.0), HTML(value='')))"
      ]
     },
     "metadata": {},
     "output_type": "display_data"
    },
    {
     "name": "stdout",
     "output_type": "stream",
     "text": [
      "\n"
     ]
    },
    {
     "data": {
      "application/vnd.jupyter.widget-view+json": {
       "model_id": "7d3d95391f934aec8f65dbd6044314e3",
       "version_major": 2,
       "version_minor": 0
      },
      "text/plain": [
       "HBox(children=(HTML(value=''), FloatProgress(value=0.0, max=41.0), HTML(value='')))"
      ]
     },
     "metadata": {},
     "output_type": "display_data"
    },
    {
     "name": "stdout",
     "output_type": "stream",
     "text": [
      "\n",
      "\tTraining Loss: 0.000000 \tValidation Loss: 2.523023\n",
      "running epoch: 159\n"
     ]
    },
    {
     "data": {
      "application/vnd.jupyter.widget-view+json": {
       "model_id": "b9cb84be062f40b0b1a4142cd0106e67",
       "version_major": 2,
       "version_minor": 0
      },
      "text/plain": [
       "HBox(children=(HTML(value=''), FloatProgress(value=0.0, max=163.0), HTML(value='')))"
      ]
     },
     "metadata": {},
     "output_type": "display_data"
    },
    {
     "name": "stdout",
     "output_type": "stream",
     "text": [
      "\n"
     ]
    },
    {
     "data": {
      "application/vnd.jupyter.widget-view+json": {
       "model_id": "3b9c3c3a83ee4d2cb048dbe31395b189",
       "version_major": 2,
       "version_minor": 0
      },
      "text/plain": [
       "HBox(children=(HTML(value=''), FloatProgress(value=0.0, max=41.0), HTML(value='')))"
      ]
     },
     "metadata": {},
     "output_type": "display_data"
    },
    {
     "name": "stdout",
     "output_type": "stream",
     "text": [
      "\n",
      "\tTraining Loss: 0.000000 \tValidation Loss: 2.530909\n",
      "running epoch: 160\n"
     ]
    },
    {
     "data": {
      "application/vnd.jupyter.widget-view+json": {
       "model_id": "77a55a589d40419f8ec68552244024e7",
       "version_major": 2,
       "version_minor": 0
      },
      "text/plain": [
       "HBox(children=(HTML(value=''), FloatProgress(value=0.0, max=163.0), HTML(value='')))"
      ]
     },
     "metadata": {},
     "output_type": "display_data"
    },
    {
     "name": "stdout",
     "output_type": "stream",
     "text": [
      "\n"
     ]
    },
    {
     "data": {
      "application/vnd.jupyter.widget-view+json": {
       "model_id": "65cda15eaa534c9495ec1938d0517bbd",
       "version_major": 2,
       "version_minor": 0
      },
      "text/plain": [
       "HBox(children=(HTML(value=''), FloatProgress(value=0.0, max=41.0), HTML(value='')))"
      ]
     },
     "metadata": {},
     "output_type": "display_data"
    },
    {
     "name": "stdout",
     "output_type": "stream",
     "text": [
      "\n",
      "\tTraining Loss: 0.000000 \tValidation Loss: 2.543374\n",
      "running epoch: 161\n"
     ]
    },
    {
     "data": {
      "application/vnd.jupyter.widget-view+json": {
       "model_id": "5da897a83ab84120bf4d27bed53ee6da",
       "version_major": 2,
       "version_minor": 0
      },
      "text/plain": [
       "HBox(children=(HTML(value=''), FloatProgress(value=0.0, max=163.0), HTML(value='')))"
      ]
     },
     "metadata": {},
     "output_type": "display_data"
    },
    {
     "name": "stdout",
     "output_type": "stream",
     "text": [
      "\n"
     ]
    },
    {
     "data": {
      "application/vnd.jupyter.widget-view+json": {
       "model_id": "9132d12cf59a4627bd99dd057c603eae",
       "version_major": 2,
       "version_minor": 0
      },
      "text/plain": [
       "HBox(children=(HTML(value=''), FloatProgress(value=0.0, max=41.0), HTML(value='')))"
      ]
     },
     "metadata": {},
     "output_type": "display_data"
    },
    {
     "name": "stdout",
     "output_type": "stream",
     "text": [
      "\n",
      "\tTraining Loss: 0.000000 \tValidation Loss: 2.552141\n",
      "running epoch: 162\n"
     ]
    },
    {
     "data": {
      "application/vnd.jupyter.widget-view+json": {
       "model_id": "6b927c927c454f10b41866bc0fbccc10",
       "version_major": 2,
       "version_minor": 0
      },
      "text/plain": [
       "HBox(children=(HTML(value=''), FloatProgress(value=0.0, max=163.0), HTML(value='')))"
      ]
     },
     "metadata": {},
     "output_type": "display_data"
    },
    {
     "name": "stdout",
     "output_type": "stream",
     "text": [
      "\n"
     ]
    },
    {
     "data": {
      "application/vnd.jupyter.widget-view+json": {
       "model_id": "51f1a00235f240eb9b5585084ad52292",
       "version_major": 2,
       "version_minor": 0
      },
      "text/plain": [
       "HBox(children=(HTML(value=''), FloatProgress(value=0.0, max=41.0), HTML(value='')))"
      ]
     },
     "metadata": {},
     "output_type": "display_data"
    },
    {
     "name": "stdout",
     "output_type": "stream",
     "text": [
      "\n",
      "\tTraining Loss: 0.000000 \tValidation Loss: 2.566046\n",
      "running epoch: 163\n"
     ]
    },
    {
     "data": {
      "application/vnd.jupyter.widget-view+json": {
       "model_id": "64d9bca593ea4476bfb1f379947afe40",
       "version_major": 2,
       "version_minor": 0
      },
      "text/plain": [
       "HBox(children=(HTML(value=''), FloatProgress(value=0.0, max=163.0), HTML(value='')))"
      ]
     },
     "metadata": {},
     "output_type": "display_data"
    },
    {
     "name": "stdout",
     "output_type": "stream",
     "text": [
      "\n"
     ]
    },
    {
     "data": {
      "application/vnd.jupyter.widget-view+json": {
       "model_id": "c1b9cf0ff6904a99abd4bb6137fe7156",
       "version_major": 2,
       "version_minor": 0
      },
      "text/plain": [
       "HBox(children=(HTML(value=''), FloatProgress(value=0.0, max=41.0), HTML(value='')))"
      ]
     },
     "metadata": {},
     "output_type": "display_data"
    },
    {
     "name": "stdout",
     "output_type": "stream",
     "text": [
      "\n",
      "\tTraining Loss: 0.000000 \tValidation Loss: 2.572724\n",
      "running epoch: 164\n"
     ]
    },
    {
     "data": {
      "application/vnd.jupyter.widget-view+json": {
       "model_id": "73382aedeece4e9988af1f4a58473b87",
       "version_major": 2,
       "version_minor": 0
      },
      "text/plain": [
       "HBox(children=(HTML(value=''), FloatProgress(value=0.0, max=163.0), HTML(value='')))"
      ]
     },
     "metadata": {},
     "output_type": "display_data"
    },
    {
     "name": "stdout",
     "output_type": "stream",
     "text": [
      "\n"
     ]
    },
    {
     "data": {
      "application/vnd.jupyter.widget-view+json": {
       "model_id": "c13eebc31dcd4a98b0de70f6fa3a6574",
       "version_major": 2,
       "version_minor": 0
      },
      "text/plain": [
       "HBox(children=(HTML(value=''), FloatProgress(value=0.0, max=41.0), HTML(value='')))"
      ]
     },
     "metadata": {},
     "output_type": "display_data"
    },
    {
     "name": "stdout",
     "output_type": "stream",
     "text": [
      "\n",
      "\tTraining Loss: 0.000000 \tValidation Loss: 2.589115\n",
      "running epoch: 165\n"
     ]
    },
    {
     "data": {
      "application/vnd.jupyter.widget-view+json": {
       "model_id": "1148800cb37445ec8ca5d8009041e5ad",
       "version_major": 2,
       "version_minor": 0
      },
      "text/plain": [
       "HBox(children=(HTML(value=''), FloatProgress(value=0.0, max=163.0), HTML(value='')))"
      ]
     },
     "metadata": {},
     "output_type": "display_data"
    },
    {
     "name": "stdout",
     "output_type": "stream",
     "text": [
      "\n"
     ]
    },
    {
     "data": {
      "application/vnd.jupyter.widget-view+json": {
       "model_id": "37fe1f406d674d5a8fe4a5777c34b2d4",
       "version_major": 2,
       "version_minor": 0
      },
      "text/plain": [
       "HBox(children=(HTML(value=''), FloatProgress(value=0.0, max=41.0), HTML(value='')))"
      ]
     },
     "metadata": {},
     "output_type": "display_data"
    },
    {
     "name": "stdout",
     "output_type": "stream",
     "text": [
      "\n",
      "\tTraining Loss: 0.000000 \tValidation Loss: 2.599145\n",
      "running epoch: 166\n"
     ]
    },
    {
     "data": {
      "application/vnd.jupyter.widget-view+json": {
       "model_id": "c3224fdc052240dcbffab9e46f246849",
       "version_major": 2,
       "version_minor": 0
      },
      "text/plain": [
       "HBox(children=(HTML(value=''), FloatProgress(value=0.0, max=163.0), HTML(value='')))"
      ]
     },
     "metadata": {},
     "output_type": "display_data"
    },
    {
     "name": "stdout",
     "output_type": "stream",
     "text": [
      "\n"
     ]
    },
    {
     "data": {
      "application/vnd.jupyter.widget-view+json": {
       "model_id": "77d7dde307aa4b4cbb8de8b494183838",
       "version_major": 2,
       "version_minor": 0
      },
      "text/plain": [
       "HBox(children=(HTML(value=''), FloatProgress(value=0.0, max=41.0), HTML(value='')))"
      ]
     },
     "metadata": {},
     "output_type": "display_data"
    },
    {
     "name": "stdout",
     "output_type": "stream",
     "text": [
      "\n",
      "\tTraining Loss: 0.000000 \tValidation Loss: 2.608206\n",
      "running epoch: 167\n"
     ]
    },
    {
     "data": {
      "application/vnd.jupyter.widget-view+json": {
       "model_id": "9ecf3ca32da74e49b7089949797b9cab",
       "version_major": 2,
       "version_minor": 0
      },
      "text/plain": [
       "HBox(children=(HTML(value=''), FloatProgress(value=0.0, max=163.0), HTML(value='')))"
      ]
     },
     "metadata": {},
     "output_type": "display_data"
    },
    {
     "name": "stdout",
     "output_type": "stream",
     "text": [
      "\n"
     ]
    },
    {
     "data": {
      "application/vnd.jupyter.widget-view+json": {
       "model_id": "4edea04422b4468a8a6f1e7fa0603c3b",
       "version_major": 2,
       "version_minor": 0
      },
      "text/plain": [
       "HBox(children=(HTML(value=''), FloatProgress(value=0.0, max=41.0), HTML(value='')))"
      ]
     },
     "metadata": {},
     "output_type": "display_data"
    },
    {
     "name": "stdout",
     "output_type": "stream",
     "text": [
      "\n",
      "\tTraining Loss: 0.000000 \tValidation Loss: 2.618897\n",
      "running epoch: 168\n"
     ]
    },
    {
     "data": {
      "application/vnd.jupyter.widget-view+json": {
       "model_id": "d7d6b4896f2f4f228835477982e8aefb",
       "version_major": 2,
       "version_minor": 0
      },
      "text/plain": [
       "HBox(children=(HTML(value=''), FloatProgress(value=0.0, max=163.0), HTML(value='')))"
      ]
     },
     "metadata": {},
     "output_type": "display_data"
    },
    {
     "name": "stdout",
     "output_type": "stream",
     "text": [
      "\n"
     ]
    },
    {
     "data": {
      "application/vnd.jupyter.widget-view+json": {
       "model_id": "6b1948a7753c493a8fdf5a123de05dd1",
       "version_major": 2,
       "version_minor": 0
      },
      "text/plain": [
       "HBox(children=(HTML(value=''), FloatProgress(value=0.0, max=41.0), HTML(value='')))"
      ]
     },
     "metadata": {},
     "output_type": "display_data"
    },
    {
     "name": "stdout",
     "output_type": "stream",
     "text": [
      "\n",
      "\tTraining Loss: 0.000000 \tValidation Loss: 2.627466\n",
      "running epoch: 169\n"
     ]
    },
    {
     "data": {
      "application/vnd.jupyter.widget-view+json": {
       "model_id": "3577bfb210b247c3bdb4eb239100512e",
       "version_major": 2,
       "version_minor": 0
      },
      "text/plain": [
       "HBox(children=(HTML(value=''), FloatProgress(value=0.0, max=163.0), HTML(value='')))"
      ]
     },
     "metadata": {},
     "output_type": "display_data"
    },
    {
     "name": "stdout",
     "output_type": "stream",
     "text": [
      "\n"
     ]
    },
    {
     "data": {
      "application/vnd.jupyter.widget-view+json": {
       "model_id": "567c7b03ddf049dfa4b13e48697e2e45",
       "version_major": 2,
       "version_minor": 0
      },
      "text/plain": [
       "HBox(children=(HTML(value=''), FloatProgress(value=0.0, max=41.0), HTML(value='')))"
      ]
     },
     "metadata": {},
     "output_type": "display_data"
    },
    {
     "name": "stdout",
     "output_type": "stream",
     "text": [
      "\n",
      "\tTraining Loss: 0.000000 \tValidation Loss: 2.635736\n",
      "running epoch: 170\n"
     ]
    },
    {
     "data": {
      "application/vnd.jupyter.widget-view+json": {
       "model_id": "413f845873844a649e1fdd039149b341",
       "version_major": 2,
       "version_minor": 0
      },
      "text/plain": [
       "HBox(children=(HTML(value=''), FloatProgress(value=0.0, max=163.0), HTML(value='')))"
      ]
     },
     "metadata": {},
     "output_type": "display_data"
    },
    {
     "name": "stdout",
     "output_type": "stream",
     "text": [
      "\n"
     ]
    },
    {
     "data": {
      "application/vnd.jupyter.widget-view+json": {
       "model_id": "d51d07993d05469ba72016394d40a1d4",
       "version_major": 2,
       "version_minor": 0
      },
      "text/plain": [
       "HBox(children=(HTML(value=''), FloatProgress(value=0.0, max=41.0), HTML(value='')))"
      ]
     },
     "metadata": {},
     "output_type": "display_data"
    },
    {
     "name": "stdout",
     "output_type": "stream",
     "text": [
      "\n",
      "\tTraining Loss: 0.000000 \tValidation Loss: 2.645623\n",
      "[0.40410319924159205, 0.3386745413767825, 0.2985533202156433, 0.2742780899068444, 0.25517999535383046, 0.2339627958574902, 0.22374576813962754, 0.2172751125635578, 0.21147958449092885, 0.19088768749906307, 0.1800465818206561, 0.16955720821579734, 0.16360676110204483, 0.15890871571868526, 0.14626243871932765, 0.1367708133529647, 0.12770335233467053, 0.12841015239439205, 0.11711962409333652, 0.11051867486586202, 0.11481450515017647, 0.10144141795020677, 0.1019563526464567, 0.08859334804199553, 0.09574959920232705, 0.08396933114733199, 0.113063444423841, 0.08486124015346252, 0.0760135373295629, 0.06536270534044772, 0.061527526267172956, 0.04926954437621262, 0.06026047551532242, 0.05303287372230384, 0.04644790533673981, 0.04768094294048244, 0.0550428829672179, 0.040980286167976554, 0.06568998171916834, 0.035365913446086986, 0.028413518984606853, 0.061475683555957894, 0.027229246960821123, 0.02804135562069549, 0.03937522387008157, 0.03947040250197021, 0.02008949508321338, 0.045118555900607926, 0.02786134784686244, 0.03178038996654552, 0.027142506195489073, 0.03250123641728574, 0.027781255734273896, 0.02562228515698873, 0.02595725102830949, 0.13080803613017375, 0.023897669613303904, 0.017963825053324792, 0.02522428054811409, 0.03285643221073668, 0.013910629902360342, 0.02781804367621234, 0.025674699725777468, 0.05089473622672961, 0.009949914971731795, 0.0019160916528560212, 0.0005451101534670433, 0.00029341777395545216, 0.00019993227250272194, 0.0001542758040743479, 0.000123977063592514, 0.00010176906471701057, 8.731180701764033e-05, 7.464491794719295e-05, 6.425075041942108e-05, 5.5814170874261726e-05, 4.836918647196887e-05, 4.2637671858032064e-05, 3.758689353800197e-05, 3.3417073476514493e-05, 2.9473261541775112e-05, 2.632992378383695e-05, 2.348691897284716e-05, 2.125225615037161e-05, 1.8772555840872654e-05, 1.699919412882827e-05, 1.5214249327942565e-05, 1.3732257458388223e-05, 1.237041715346802e-05, 1.1218543316554199e-05, 1.0140764476569467e-05, 9.015090483471863e-06, 8.347637969696505e-06, 7.604803449734802e-06, 6.876861472246572e-06, 6.205501964913155e-06, 5.625887875017321e-06, 5.17129760177374e-06, 4.6972183218713855e-06, 4.2774232798558524e-06, 3.860799797886204e-06, 3.501861937040995e-06, 3.2208341381925366e-06, 2.9252355489883436e-06, 2.6816689303920105e-06, 2.4467436645061215e-06, 2.298599634415064e-06, 2.0236851324666458e-06, 1.8662562461310277e-06, 1.6733886236305155e-06, 1.5550756445274846e-06, 1.3882240073309024e-06, 1.2607181005586382e-06, 1.168972682419691e-06, 1.0682181951648953e-06, 9.689345763371771e-07, 8.876690957438955e-07, 8.175270576249066e-07, 7.384678796695013e-07, 6.714514369662708e-07, 6.235562838917571e-07, 5.727193937932271e-07, 5.172860399504907e-07, 4.7031017955796945e-07, 4.293097221531895e-07, 5.104832734725184e-07, 3.573290985030937e-07, 3.219363269765459e-07, 2.9215124132823044e-07, 2.654917510901939e-07, 2.419578562542173e-07, 2.2017061767813464e-07, 1.9939460114566765e-07, 1.854213510884332e-07, 1.6869022273042883e-07, 1.5462504339924177e-07, 1.4258230810597132e-07, 1.3522796601442006e-07, 1.1766947416618469e-07, 1.0838461722025918e-07, 9.652574052694838e-08, 8.779245924117686e-08, 7.997847072506837e-08, 7.492236050425041e-08, 6.747608909217154e-08, 6.269576670417029e-08, 5.607685878232239e-08, 5.129653639432114e-08, 4.532113340931957e-08, 4.3482547875472936e-08, 3.9713447531087335e-08, 3.5852417910009397e-08, 3.1715600458854466e-08, 2.8406146497930525e-08, 2.5832126750545234e-08, 2.2430743512928956e-08, 2.0776016532466985e-08, 1.847778461515869e-08, 1.7282704018158376e-08, 1.544411848431174e-08, 1.3697462227157437e-08, 1.2226593800080128e-08, 9.560644776002506e-09, 9.28485694592551e-09, 8.273634902309862e-09, 6.0673322616938985e-09, 4.780322388001253e-09, 5.14803949477058e-09, 3.585241793740646e-09, 4.0448881744625985e-09]\n",
      "[0.411535880936966, 0.34796388041150506, 0.3017732989539894, 0.2984498275318969, 0.28027891643982994, 0.2676912154212491, 0.26883513688374777, 0.2966623205631259, 0.2691799618803545, 0.2610470112599863, 0.27430356237046427, 0.30732204706200567, 0.30968593160924124, 0.3063013072692162, 0.28393949318961537, 0.3020869380433282, 0.3555357917603292, 0.3672674759222897, 0.3063025175835779, 0.33816726348357834, 0.3822234528470977, 0.36512592076428046, 0.4097207796601212, 0.48183992852039675, 0.476299333177168, 0.40244099518475207, 0.4142855729336176, 0.42468651966030263, 0.5024915726808006, 0.48957987259513336, 0.5604206494579154, 0.5372284967897484, 0.5607258375782919, 0.5643563630402594, 0.6034407720756743, 0.570301073991802, 0.5857782200748588, 0.6874915084750632, 0.6351926030782133, 0.7194202435457807, 0.8018820426881359, 0.6689586843505398, 0.7912890937268366, 0.9038870007678602, 0.7403345199139557, 0.7981688170223487, 0.9102739342470397, 0.6503873428842519, 0.8245853952655631, 0.6886343444965395, 0.8931056310522528, 0.776973679408994, 0.8176294203528829, 0.7929835217037656, 0.930945690850524, 0.5072316991520002, 0.7380195238448697, 0.929540426940668, 0.8717754575823855, 0.867483794918733, 1.056545398744511, 0.9483475286683029, 0.9340159502411771, 0.7609533173309994, 0.9426275585464265, 1.1008834542797084, 1.1577362371759408, 1.208882677665378, 1.242844118185933, 1.274756238846799, 1.3062211240633874, 1.3305079385971417, 1.3490139116391644, 1.3758462242604037, 1.3982109446293958, 1.4174067082548472, 1.43756263391183, 1.449419801717275, 1.4724123211392275, 1.4913630363751855, 1.5088615329245374, 1.5234841624750204, 1.5388958209643748, 1.5561909937546081, 1.5742562594281404, 1.5869052427588928, 1.604173843549965, 1.6181018108944265, 1.6351141857016336, 1.648217155222559, 1.66076464922316, 1.6806794482648786, 1.6913792068166005, 1.7058042728082896, 1.7216245400602301, 1.7338237111724528, 1.747272704643935, 1.762960781339691, 1.7757797487074354, 1.7898087266691851, 1.8032292259961895, 1.812567166300489, 1.8307695254603071, 1.8398273772888214, 1.8557865255689658, 1.8673310351537207, 1.8798869996573617, 1.8936368864871211, 1.9067478233699902, 1.9214665019337545, 1.9331220053854408, 1.946133099892733, 1.9581336381348997, 1.9736088575420465, 1.983226067622809, 2.0005544773320922, 2.013524772896616, 2.0255656460200995, 2.0387184550969897, 2.0462130909482608, 2.0661696376668184, 2.076819463610741, 2.093330474293223, 2.1029375594858504, 2.1141500569989153, 2.130272413550107, 2.148405121396667, 2.159362558226633, 2.167607626367185, 2.1844814621377378, 2.192723619106097, 2.2081886810252733, 2.222102572482188, 2.232563623737719, 2.2447306646598517, 2.2567743723817117, 2.2680334640449984, 2.281834664580081, 2.295056376993978, 2.30968106601821, 2.317525403997764, 2.3315742684035645, 2.3389416283015203, 2.353924904900417, 2.3700194265075893, 2.3806955095613196, 2.3910970476929188, 2.4025376411980632, 2.4159780223735408, 2.427072387708548, 2.4383540096941907, 2.450216296919512, 2.4619470919290687, 2.4739504696868804, 2.4851422124214144, 2.498622561567273, 2.509822099780522, 2.523022790826461, 2.5309093347423888, 2.543373619122237, 2.5521406844292773, 2.566045996401983, 2.5727243998368703, 2.589114504381612, 2.5991446145608412, 2.608206244551777, 2.6188971706785966, 2.627465865225082, 2.6357359869855133, 2.645623091927104]\n"
     ]
    },
    {
     "data": {
      "image/png": "[encoded data removed]",
      "text/plain": [
       "<Figure size 432x288 with 1 Axes>"
      ]
     },
     "metadata": {
      "needs_background": "light"
     },
     "output_type": "display_data"
    }
   ],
   "source": [
    "if train_on_gpu:\n",
    "    model.cuda()\n",
    "# number of epochs to train the model\n",
    "n_epochs = 170 #170\n",
    "\n",
    "\n",
    "valid_loss_min = np.Inf # track change in validation loss\n",
    "\n",
    "#train_losses,valid_losses=[],[]\n",
    "\n",
    "train_loss_i = [] \n",
    "valid_loss_i = []\n",
    "for epoch in range(1, n_epochs+1):\n",
    "\n",
    "    # keep track of training and validation loss\n",
    "    train_loss = 0.0\n",
    "    valid_loss = 0.0\n",
    "    print('running epoch: {}'.format(epoch))\n",
    "    ###################\n",
    "    # train the model #\n",
    "    ###################\n",
    "    model.train()\n",
    "    for data, target in tqdm(train_loader):\n",
    "        # move tensors to GPU if CUDA is available\n",
    "        if train_on_gpu:\n",
    "            data, target = data.cuda(), target.cuda()\n",
    "        # clear the gradients of all optimized variables\n",
    "        optimizer.zero_grad()\n",
    "        # forward pass: compute predicted outputs by passing inputs to the model\n",
    "        output = model(data)\n",
    "        # calculate the batch loss\n",
    "        loss = criterion(output, target)\n",
    "        # backward pass: compute gradient of the loss with respect to model parameters\n",
    "        loss.backward()\n",
    "        # perform a single optimization step (parameter update)\n",
    "        optimizer.step()\n",
    "        # update training loss\n",
    "        train_loss += loss.item()*data.size(0)\n",
    "        \n",
    "    ######################    \n",
    "    # validate the model #\n",
    "    ######################\n",
    "    model.eval()\n",
    "    for data, target in tqdm(valid_loader):\n",
    "        # move tensors to GPU if CUDA is available\n",
    "        if train_on_gpu:\n",
    "            data, target = data.cuda(), target.cuda()\n",
    "        # forward pass: compute predicted outputs by passing inputs to the model\n",
    "        \n",
    "        with torch.no_grad():\n",
    "            output = model(data)\n",
    "        # calculate the batch loss\n",
    "        loss = criterion(output, target)\n",
    "        # update average validation loss \n",
    "        valid_loss += loss.item()*data.size(0)\n",
    "    \n",
    "    # calculate average losses\n",
    "    #train_losses.append(train_loss/len(train_loader.dataset))\n",
    "    #valid_losses.append(valid_loss.item()/len(valid_loader.dataset)\n",
    "    train_loss = train_loss/len(train_loader.dataset)\n",
    "    valid_loss = valid_loss/len(valid_loader.dataset)\n",
    "        \n",
    "    # print training/validation statistics \n",
    "    print('\\tTraining Loss: {:.6f} \\tValidation Loss: {:.6f}'.format(\n",
    "        train_loss, valid_loss))\n",
    "    \n",
    "    #作圖接收矩陣\n",
    "    train_loss_i.append(train_loss)\n",
    "    valid_loss_i.append(valid_loss)\n",
    "\n",
    "    # save model if validation loss has decreased\n",
    "    if valid_loss <= valid_loss_min:\n",
    "        print('Validation loss decreased ({:.6f} --> {:.6f}).  Saving model ...'.format(\n",
    "        valid_loss_min,\n",
    "        valid_loss))\n",
    "        torch.save(model.state_dict(), 'model_CNN.pth')\n",
    "        valid_loss_min = valid_loss\n",
    "#作圖區\n",
    "print(train_loss_i) \n",
    "print(valid_loss_i)\n",
    "\n",
    "plt.plot(range(n_epochs), train_loss_i,'b-', label='Training_loss')\n",
    "plt.plot(range(n_epochs), valid_loss_i,'g-', label='validation_loss')\n",
    "plt.title('Training & Validation loss')\n",
    "plt.xlabel('Number of epochs')\n",
    "plt.ylabel('Loss')\n",
    "plt.legend()\n",
    "plt.show()"
   ]
  },
  {
   "cell_type": "markdown",
   "metadata": {},
   "source": [
    "#TEST MODEL"
   ]
  },
  {
   "cell_type": "code",
   "execution_count": 25,
   "metadata": {},
   "outputs": [],
   "source": [
    "def test(loaders, model, criterion, use_cuda):\n",
    "\n",
    "    # monitor test loss and accuracy\n",
    "    test_loss = 0.\n",
    "    correct = 0.\n",
    "    total = 0.\n",
    "\n",
    "    model.eval()\n",
    "    for batch_idx, (data, target) in enumerate(loaders):\n",
    "        # move to GPU\n",
    "        if use_cuda:\n",
    "            data, target = data.cuda(), target.cuda()\n",
    "        # forward pass: compute predicted outputs by passing inputs to the model\n",
    "        output = model(data)\n",
    "        # calculate the loss\n",
    "        loss = criterion(output, target)\n",
    "        # update average test loss \n",
    "        test_loss = test_loss + ((1 / (batch_idx + 1)) * (loss.data - test_loss))\n",
    "        # convert output probabilities to predicted class\n",
    "        pred = output.data.max(1, keepdim=True)[1]\n",
    "        # compare predictions to true label\n",
    "        correct += np.sum(np.squeeze(pred.eq(target.data.view_as(pred))).cpu().numpy())\n",
    "        total += data.size(0)\n",
    "            \n",
    "    print('Test Loss: {:.6f}'.format(test_loss))\n",
    "\n",
    "    print('Test Accuracy: %2d%% (%2d/%2d)' % (\n",
    "        100. * correct / total, correct, total))"
   ]
  },
  {
   "cell_type": "code",
   "execution_count": 30,
   "metadata": {},
   "outputs": [
    {
     "ename": "AttributeError",
     "evalue": "can't set attribute",
     "output_type": "error",
     "traceback": [
      "\u001b[0;31m---------------------------------------------------------------------------\u001b[0m",
      "\u001b[0;31mAttributeError\u001b[0m                            Traceback (most recent call last)",
      "\u001b[0;32m<ipython-input-30-989dedfbd08c>\u001b[0m in \u001b[0;36m<module>\u001b[0;34m\u001b[0m\n\u001b[1;32m      1\u001b[0m \u001b[0muse_cuda\u001b[0m \u001b[0;34m=\u001b[0m \u001b[0mtorch\u001b[0m\u001b[0;34m.\u001b[0m\u001b[0mcuda\u001b[0m\u001b[0;34m.\u001b[0m\u001b[0mis_available\u001b[0m\u001b[0;34m(\u001b[0m\u001b[0;34m)\u001b[0m\u001b[0;34m\u001b[0m\u001b[0;34m\u001b[0m\u001b[0m\n\u001b[0;32m----> 2\u001b[0;31m \u001b[0mmodel\u001b[0m\u001b[0;34m.\u001b[0m\u001b[0mcuda\u001b[0m\u001b[0;34m(\u001b[0m\u001b[0;34m)\u001b[0m\u001b[0;34m\u001b[0m\u001b[0;34m\u001b[0m\u001b[0m\n\u001b[0m\u001b[1;32m      3\u001b[0m \u001b[0mtest\u001b[0m\u001b[0;34m(\u001b[0m\u001b[0mtest_loader\u001b[0m\u001b[0;34m,\u001b[0m \u001b[0mmodel\u001b[0m\u001b[0;34m,\u001b[0m \u001b[0mcriterion\u001b[0m\u001b[0;34m,\u001b[0m \u001b[0muse_cuda\u001b[0m\u001b[0;34m)\u001b[0m\u001b[0;34m\u001b[0m\u001b[0;34m\u001b[0m\u001b[0m\n",
      "\u001b[0;32m~/.local/lib/python3.6/site-packages/torch/nn/modules/module.py\u001b[0m in \u001b[0;36mcuda\u001b[0;34m(self, device)\u001b[0m\n\u001b[1;32m    302\u001b[0m             \u001b[0mModule\u001b[0m\u001b[0;34m:\u001b[0m \u001b[0mself\u001b[0m\u001b[0;34m\u001b[0m\u001b[0;34m\u001b[0m\u001b[0m\n\u001b[1;32m    303\u001b[0m         \"\"\"\n\u001b[0;32m--> 304\u001b[0;31m         \u001b[0;32mreturn\u001b[0m \u001b[0mself\u001b[0m\u001b[0;34m.\u001b[0m\u001b[0m_apply\u001b[0m\u001b[0;34m(\u001b[0m\u001b[0;32mlambda\u001b[0m \u001b[0mt\u001b[0m\u001b[0;34m:\u001b[0m \u001b[0mt\u001b[0m\u001b[0;34m.\u001b[0m\u001b[0mcuda\u001b[0m\u001b[0;34m(\u001b[0m\u001b[0mdevice\u001b[0m\u001b[0;34m)\u001b[0m\u001b[0;34m)\u001b[0m\u001b[0;34m\u001b[0m\u001b[0;34m\u001b[0m\u001b[0m\n\u001b[0m\u001b[1;32m    305\u001b[0m \u001b[0;34m\u001b[0m\u001b[0m\n\u001b[1;32m    306\u001b[0m     \u001b[0;32mdef\u001b[0m \u001b[0mcpu\u001b[0m\u001b[0;34m(\u001b[0m\u001b[0mself\u001b[0m\u001b[0;34m)\u001b[0m\u001b[0;34m:\u001b[0m\u001b[0;34m\u001b[0m\u001b[0;34m\u001b[0m\u001b[0m\n",
      "\u001b[0;32m~/.local/lib/python3.6/site-packages/torch/nn/modules/module.py\u001b[0m in \u001b[0;36m_apply\u001b[0;34m(self, fn)\u001b[0m\n\u001b[1;32m    199\u001b[0m     \u001b[0;32mdef\u001b[0m \u001b[0m_apply\u001b[0m\u001b[0;34m(\u001b[0m\u001b[0mself\u001b[0m\u001b[0;34m,\u001b[0m \u001b[0mfn\u001b[0m\u001b[0;34m)\u001b[0m\u001b[0;34m:\u001b[0m\u001b[0;34m\u001b[0m\u001b[0;34m\u001b[0m\u001b[0m\n\u001b[1;32m    200\u001b[0m         \u001b[0;32mfor\u001b[0m \u001b[0mmodule\u001b[0m \u001b[0;32min\u001b[0m \u001b[0mself\u001b[0m\u001b[0;34m.\u001b[0m\u001b[0mchildren\u001b[0m\u001b[0;34m(\u001b[0m\u001b[0;34m)\u001b[0m\u001b[0;34m:\u001b[0m\u001b[0;34m\u001b[0m\u001b[0;34m\u001b[0m\u001b[0m\n\u001b[0;32m--> 201\u001b[0;31m             \u001b[0mmodule\u001b[0m\u001b[0;34m.\u001b[0m\u001b[0m_apply\u001b[0m\u001b[0;34m(\u001b[0m\u001b[0mfn\u001b[0m\u001b[0;34m)\u001b[0m\u001b[0;34m\u001b[0m\u001b[0;34m\u001b[0m\u001b[0m\n\u001b[0m\u001b[1;32m    202\u001b[0m \u001b[0;34m\u001b[0m\u001b[0m\n\u001b[1;32m    203\u001b[0m         \u001b[0;32mdef\u001b[0m \u001b[0mcompute_should_use_set_data\u001b[0m\u001b[0;34m(\u001b[0m\u001b[0mtensor\u001b[0m\u001b[0;34m,\u001b[0m \u001b[0mtensor_applied\u001b[0m\u001b[0;34m)\u001b[0m\u001b[0;34m:\u001b[0m\u001b[0;34m\u001b[0m\u001b[0;34m\u001b[0m\u001b[0m\n",
      "\u001b[0;32m~/.local/lib/python3.6/site-packages/torch/nn/modules/module.py\u001b[0m in \u001b[0;36m_apply\u001b[0;34m(self, fn)\u001b[0m\n\u001b[1;32m    235\u001b[0m                     \u001b[0mshould_use_set_data\u001b[0m \u001b[0;34m=\u001b[0m \u001b[0mcompute_should_use_set_data\u001b[0m\u001b[0;34m(\u001b[0m\u001b[0mparam\u001b[0m\u001b[0;34m.\u001b[0m\u001b[0mgrad\u001b[0m\u001b[0;34m,\u001b[0m \u001b[0mgrad_applied\u001b[0m\u001b[0;34m)\u001b[0m\u001b[0;34m\u001b[0m\u001b[0;34m\u001b[0m\u001b[0m\n\u001b[1;32m    236\u001b[0m                     \u001b[0;32mif\u001b[0m \u001b[0mshould_use_set_data\u001b[0m\u001b[0;34m:\u001b[0m\u001b[0;34m\u001b[0m\u001b[0;34m\u001b[0m\u001b[0m\n\u001b[0;32m--> 237\u001b[0;31m                         \u001b[0mparam\u001b[0m\u001b[0;34m.\u001b[0m\u001b[0mgrad\u001b[0m\u001b[0;34m.\u001b[0m\u001b[0mdata\u001b[0m \u001b[0;34m=\u001b[0m \u001b[0mgrad_applied\u001b[0m\u001b[0;34m\u001b[0m\u001b[0;34m\u001b[0m\u001b[0m\n\u001b[0m\u001b[1;32m    238\u001b[0m                     \u001b[0;32melse\u001b[0m\u001b[0;34m:\u001b[0m\u001b[0;34m\u001b[0m\u001b[0;34m\u001b[0m\u001b[0m\n\u001b[1;32m    239\u001b[0m                         \u001b[0;32massert\u001b[0m \u001b[0mparam\u001b[0m\u001b[0;34m.\u001b[0m\u001b[0mgrad\u001b[0m\u001b[0;34m.\u001b[0m\u001b[0mis_leaf\u001b[0m\u001b[0;34m\u001b[0m\u001b[0;34m\u001b[0m\u001b[0m\n",
      "\u001b[0;31mAttributeError\u001b[0m: can't set attribute"
     ]
    }
   ],
   "source": [
    "use_cuda = torch.cuda.is_available()\n",
    "model.cuda()\n",
    "test(test_loader, model, criterion, use_cuda)"
   ]
  },
  {
   "cell_type": "code",
   "execution_count": 28,
   "metadata": {},
   "outputs": [],
   "source": [
    "sent_model = model.send(bob)"
   ]
  },
  {
   "cell_type": "code",
   "execution_count": 29,
   "metadata": {},
   "outputs": [
    {
     "data": {
      "text/plain": [
       "{38717198139: Parameter containing:\n",
       " tensor([[[[ 2.2518e-01,  4.4474e-02,  1.8611e-01],\n",
       "           [-7.1386e-02, -4.6517e-02,  1.8708e-01],\n",
       "           [-3.9694e-02, -7.7668e-02, -1.7973e-01]],\n",
       " \n",
       "          [[ 5.5263e-02, -1.1953e-01,  1.3421e-02],\n",
       "           [ 1.8741e-01, -4.2726e-02,  4.9921e-02],\n",
       "           [ 6.8323e-02, -1.7339e-02, -2.2771e-01]],\n",
       " \n",
       "          [[ 1.5304e-01,  1.1970e-01,  1.8366e-01],\n",
       "           [ 1.7631e-01, -7.2917e-02,  1.6216e-01],\n",
       "           [-9.3266e-02,  1.5026e-02, -1.7069e-01]]],\n",
       " \n",
       " \n",
       "         [[[ 1.4097e-01, -4.6749e-02, -1.6216e-02],\n",
       "           [ 1.5247e-01, -1.8864e-01,  2.0428e-01],\n",
       "           [-1.7078e-01, -8.0918e-02,  1.3040e-01]],\n",
       " \n",
       "          [[ 4.3684e-02,  1.3602e-01,  2.0695e-01],\n",
       "           [-2.1768e-01, -2.2349e-01, -7.2285e-02],\n",
       "           [-2.9923e-01, -1.5102e-01,  4.3255e-02]],\n",
       " \n",
       "          [[ 1.7050e-01, -1.0519e-01,  1.3465e-01],\n",
       "           [-1.2877e-01,  9.7038e-02, -1.2267e-01],\n",
       "           [-3.4613e-01, -2.1380e-01,  1.0116e-02]]],\n",
       " \n",
       " \n",
       "         [[[ 1.5283e-01,  1.4490e-01, -1.1006e-02],\n",
       "           [ 2.0004e-01,  1.7231e-01, -2.4718e-01],\n",
       "           [ 5.9690e-02,  2.0309e-01, -1.6296e-01]],\n",
       " \n",
       "          [[ 1.0660e-01,  1.9394e-02, -2.3723e-01],\n",
       "           [ 2.3146e-01, -6.3968e-03, -1.7320e-01],\n",
       "           [ 1.2321e-01, -1.3088e-01, -2.9883e-01]],\n",
       " \n",
       "          [[-7.5190e-02,  7.9195e-02, -1.9178e-01],\n",
       "           [ 2.0317e-01, -1.9286e-01, -3.1037e-01],\n",
       "           [-1.0645e-02,  1.5711e-01, -7.5644e-02]]],\n",
       " \n",
       " \n",
       "         [[[ 2.0832e-01,  1.1140e-01,  1.5395e-01],\n",
       "           [ 1.2712e-01,  1.0013e-01,  5.4403e-02],\n",
       "           [ 1.4295e-01,  1.5693e-02,  1.0622e-01]],\n",
       " \n",
       "          [[ 1.7976e-01,  1.1478e-01, -1.2561e-01],\n",
       "           [ 9.1835e-02,  1.3182e-01,  6.6676e-02],\n",
       "           [-1.0676e-02,  5.5672e-02,  2.0715e-01]],\n",
       " \n",
       "          [[ 7.4629e-02,  1.5419e-01, -1.0214e-01],\n",
       "           [-1.0523e-01,  1.0769e-01, -2.3412e-01],\n",
       "           [ 9.9744e-02, -2.1715e-01,  1.1884e-01]]],\n",
       " \n",
       " \n",
       "         [[[-1.2408e-01, -5.3392e-02, -7.4133e-02],\n",
       "           [-8.9608e-02, -1.0112e-01, -7.8961e-02],\n",
       "           [ 1.2241e-01,  3.0166e-01,  5.9985e-02]],\n",
       " \n",
       "          [[-1.5947e-01, -1.8104e-01, -9.8601e-02],\n",
       "           [ 8.4183e-02, -1.7407e-01,  1.1154e-01],\n",
       "           [ 3.7149e-03,  2.1614e-01,  1.9230e-01]],\n",
       " \n",
       "          [[ 8.3527e-02, -3.2413e-02, -1.4139e-01],\n",
       "           [-1.4090e-02, -1.9643e-02, -1.7917e-01],\n",
       "           [-3.6774e-03, -2.0895e-02,  1.9962e-01]]],\n",
       " \n",
       " \n",
       "         [[[ 1.2209e-03,  2.2239e-01, -1.0017e-01],\n",
       "           [-4.1416e-03,  7.6379e-02,  5.5278e-02],\n",
       "           [ 2.0441e-01,  9.9611e-02, -2.6694e-01]],\n",
       " \n",
       "          [[-4.6619e-02,  3.0729e-01, -1.2962e-01],\n",
       "           [-1.2350e-01,  8.1268e-02, -1.0989e-01],\n",
       "           [ 1.3385e-02, -9.4565e-02,  3.2599e-04]],\n",
       " \n",
       "          [[-9.7155e-02,  2.4170e-01, -1.9046e-01],\n",
       "           [-1.5182e-01,  2.4587e-01, -1.5161e-01],\n",
       "           [ 1.6638e-01, -1.6642e-01, -1.4842e-01]]],\n",
       " \n",
       " \n",
       "         [[[ 7.1867e-02, -1.7035e-02, -1.7038e-01],\n",
       "           [ 1.8519e-01,  1.2212e-02, -1.9115e-01],\n",
       "           [ 2.6887e-01, -1.2705e-01, -2.4559e-01]],\n",
       " \n",
       "          [[ 2.7827e-01, -7.9725e-02,  5.2334e-02],\n",
       "           [ 3.9023e-01,  1.0625e-01, -2.4229e-01],\n",
       "           [-3.2497e-02,  1.0274e-01,  4.7995e-02]],\n",
       " \n",
       "          [[ 7.9226e-02,  1.2249e-01, -2.9543e-01],\n",
       "           [ 4.7293e-02, -1.9096e-01, -2.5265e-01],\n",
       "           [ 3.4717e-02,  4.1123e-02, -9.2543e-02]]],\n",
       " \n",
       " \n",
       "         [[[ 1.3582e-01,  8.9313e-02,  1.0885e-01],\n",
       "           [-2.0250e-01, -3.8976e-02,  1.2952e-01],\n",
       "           [-2.2953e-01, -1.0024e-01,  2.2348e-01]],\n",
       " \n",
       "          [[-1.9650e-01,  8.8280e-02,  8.8147e-02],\n",
       "           [-2.2779e-01, -3.0389e-02,  2.5294e-01],\n",
       "           [-1.1669e-01, -1.6268e-01,  1.8517e-01]],\n",
       " \n",
       "          [[-4.7990e-03,  1.5362e-02,  2.2402e-01],\n",
       "           [-2.1937e-01,  1.0533e-01, -8.3369e-02],\n",
       "           [-3.8826e-01, -4.2025e-02,  9.3018e-02]]],\n",
       " \n",
       " \n",
       "         [[[-2.3869e-01,  3.2920e-02,  8.8637e-02],\n",
       "           [ 2.7633e-02,  5.8303e-02,  7.7203e-02],\n",
       "           [ 9.5107e-02,  5.3554e-04, -2.4510e-01]],\n",
       " \n",
       "          [[-6.5902e-02,  1.4638e-01,  2.4173e-01],\n",
       "           [ 1.6846e-01,  6.5446e-02,  1.6790e-01],\n",
       "           [ 1.6948e-01, -1.9992e-02, -3.2926e-01]],\n",
       " \n",
       "          [[-1.5070e-01, -4.6125e-02,  1.5349e-01],\n",
       "           [-5.9711e-02,  3.1108e-01,  1.6413e-01],\n",
       "           [ 8.2110e-02,  1.3074e-01, -3.4210e-01]]],\n",
       " \n",
       " \n",
       "         [[[ 1.7695e-02,  1.5683e-03, -1.0064e-02],\n",
       "           [-2.5014e-01,  1.5790e-01, -2.0437e-01],\n",
       "           [ 2.2964e-01,  1.5066e-01,  1.7760e-01]],\n",
       " \n",
       "          [[ 1.5327e-01, -1.8373e-01, -1.6234e-01],\n",
       "           [-2.5305e-01,  1.6262e-01, -1.1508e-01],\n",
       "           [ 9.7935e-02,  1.2445e-01, -6.6541e-02]],\n",
       " \n",
       "          [[-9.1307e-02, -3.0928e-02, -1.6193e-01],\n",
       "           [-2.5892e-01,  1.3269e-01, -1.9563e-02],\n",
       "           [ 1.8401e-01, -3.8285e-02,  1.5090e-01]]],\n",
       " \n",
       " \n",
       "         [[[ 1.1771e-01, -1.8771e-01,  1.5150e-01],\n",
       "           [ 2.2434e-01, -5.6253e-02, -3.1501e-02],\n",
       "           [ 7.7106e-02, -4.0125e-03,  1.3807e-01]],\n",
       " \n",
       "          [[ 2.4272e-03, -3.0164e-01, -1.3607e-01],\n",
       "           [ 2.1621e-01, -2.3407e-03, -2.3443e-01],\n",
       "           [-3.1406e-03,  9.1085e-02, -1.5392e-01]],\n",
       " \n",
       "          [[-1.5526e-01, -2.2395e-01, -5.2302e-02],\n",
       "           [ 1.1048e-01,  2.7387e-02, -9.2357e-02],\n",
       "           [ 1.2062e-01,  8.1393e-02, -1.2515e-02]]],\n",
       " \n",
       " \n",
       "         [[[ 4.1966e-01,  1.0545e-01,  2.1296e-01],\n",
       "           [ 1.3251e-01,  5.0930e-02, -1.4902e-01],\n",
       "           [ 1.2840e-01, -2.1255e-01,  2.0771e-02]],\n",
       " \n",
       "          [[ 7.1022e-02,  2.4681e-01,  6.5859e-03],\n",
       "           [-4.2344e-02, -1.5491e-01, -2.8591e-01],\n",
       "           [ 1.8101e-01, -2.2476e-01, -3.7454e-02]],\n",
       " \n",
       "          [[ 3.4752e-01, -1.1953e-01, -1.0209e-01],\n",
       "           [ 1.3974e-01,  1.2181e-01, -2.8195e-01],\n",
       "           [ 1.4517e-01, -3.5171e-01, -1.8279e-02]]],\n",
       " \n",
       " \n",
       "         [[[-2.6209e-01, -1.1852e-01,  1.7430e-01],\n",
       "           [-7.8940e-03,  9.6445e-02,  2.8634e-01],\n",
       "           [ 5.1264e-02,  2.3779e-01,  8.5869e-02]],\n",
       " \n",
       "          [[-2.7392e-01, -1.5853e-01,  1.6327e-01],\n",
       "           [-4.8402e-02, -1.0049e-01,  7.2881e-02],\n",
       "           [-8.4954e-02,  2.2753e-01,  6.5615e-02]],\n",
       " \n",
       "          [[-3.2146e-01, -2.3200e-01,  1.0425e-01],\n",
       "           [-2.8174e-01,  1.8301e-01, -8.4614e-02],\n",
       "           [ 3.2973e-02,  1.0974e-01,  1.0141e-01]]],\n",
       " \n",
       " \n",
       "         [[[ 2.7513e-01,  3.5118e-01,  4.7579e-02],\n",
       "           [-1.1647e-01,  5.4089e-02,  3.2494e-01],\n",
       "           [-2.2138e-01, -3.1637e-01, -5.6056e-02]],\n",
       " \n",
       "          [[ 3.2627e-02,  2.3032e-01, -5.9713e-04],\n",
       "           [ 1.4579e-02, -7.9300e-02,  3.2036e-01],\n",
       "           [-1.8482e-02, -3.1263e-01, -1.4079e-01]],\n",
       " \n",
       "          [[ 1.4433e-01,  1.1627e-01,  2.2431e-02],\n",
       "           [-2.4518e-01, -3.1765e-03,  4.5436e-02],\n",
       "           [-2.1237e-01, -4.7896e-02, -4.8259e-02]]],\n",
       " \n",
       " \n",
       "         [[[-1.0656e-01, -7.6306e-02, -1.4203e-01],\n",
       "           [ 2.2775e-01,  1.7426e-01, -1.0000e-01],\n",
       "           [ 2.2737e-01,  2.2801e-01,  7.3123e-02]],\n",
       " \n",
       "          [[ 1.3542e-01, -2.0622e-01, -2.2695e-01],\n",
       "           [ 3.4358e-01,  1.8246e-01, -3.6843e-02],\n",
       "           [-2.5853e-02,  1.6592e-01, -1.5310e-01]],\n",
       " \n",
       "          [[ 4.9248e-02, -8.6012e-02, -1.5345e-01],\n",
       "           [ 2.2331e-02,  9.6716e-02, -3.0429e-01],\n",
       "           [ 1.1581e-01,  4.5345e-02,  6.0071e-02]]],\n",
       " \n",
       " \n",
       "         [[[ 2.8072e-01,  1.3621e-01, -1.4061e-01],\n",
       "           [-9.0621e-02, -6.8719e-02, -3.2462e-02],\n",
       "           [ 9.2516e-03, -6.8930e-02,  2.4645e-01]],\n",
       " \n",
       "          [[ 1.5084e-01,  2.7189e-02, -1.4702e-01],\n",
       "           [-1.5954e-01,  8.5011e-02, -1.1187e-01],\n",
       "           [-9.9737e-02, -9.2171e-03,  6.2028e-02]],\n",
       " \n",
       "          [[-1.2441e-01, -1.5053e-02, -2.0264e-01],\n",
       "           [-1.2958e-01, -2.9565e-01,  7.8464e-02],\n",
       "           [-6.7269e-02, -8.8024e-02, -5.8778e-02]]]], device='cuda:0',\n",
       "        requires_grad=True),\n",
       " 45983549766: Parameter containing:\n",
       " tensor([-0.1527, -0.2805, -0.0377, -0.0495, -0.0190, -0.2200, -0.2460, -0.0342,\n",
       "         -0.3143,  0.1757, -0.3560, -0.3393, -0.0506, -0.1332, -0.2833, -0.1823],\n",
       "        device='cuda:0', requires_grad=True),\n",
       " 19945323052: Parameter containing:\n",
       " tensor([[[[-0.0797,  0.0418,  0.0399],\n",
       "           [ 0.0879,  0.0657,  0.0118],\n",
       "           [ 0.1126,  0.0571, -0.0099]],\n",
       " \n",
       "          [[-0.1462,  0.0089, -0.2444],\n",
       "           [ 0.0006, -0.2767, -0.1456],\n",
       "           [-0.2063, -0.0153, -0.1434]],\n",
       " \n",
       "          [[ 0.0696, -0.0613,  0.0897],\n",
       "           [ 0.0006,  0.0633,  0.0139],\n",
       "           [-0.0533,  0.0989, -0.0268]],\n",
       " \n",
       "          ...,\n",
       " \n",
       "          [[ 0.0287,  0.1716, -0.1089],\n",
       "           [-0.1652,  0.0320, -0.0108],\n",
       "           [ 0.0581,  0.0530, -0.0629]],\n",
       " \n",
       "          [[ 0.1101,  0.1285,  0.0856],\n",
       "           [ 0.1266,  0.0415, -0.0390],\n",
       "           [ 0.0839,  0.1482,  0.0579]],\n",
       " \n",
       "          [[-0.0834, -0.1241, -0.0330],\n",
       "           [-0.0867, -0.1321, -0.0597],\n",
       "           [-0.1778, -0.1924, -0.0026]]],\n",
       " \n",
       " \n",
       "         [[[ 0.0427, -0.1092, -0.0759],\n",
       "           [ 0.0620, -0.0623, -0.0405],\n",
       "           [ 0.0573,  0.0123,  0.0168]],\n",
       " \n",
       "          [[-0.0663, -0.0811, -0.0457],\n",
       "           [-0.0763, -0.0655, -0.0073],\n",
       "           [-0.0700,  0.0235,  0.0171]],\n",
       " \n",
       "          [[-0.0277, -0.1109,  0.0385],\n",
       "           [ 0.0241, -0.0193, -0.0804],\n",
       "           [ 0.0618,  0.0418, -0.1056]],\n",
       " \n",
       "          ...,\n",
       " \n",
       "          [[-0.0272,  0.0431,  0.0453],\n",
       "           [-0.0270,  0.0470,  0.0373],\n",
       "           [-0.0738, -0.0627, -0.0212]],\n",
       " \n",
       "          [[-0.0180, -0.0627, -0.0019],\n",
       "           [-0.0275, -0.0045, -0.0876],\n",
       "           [-0.0322, -0.0581, -0.0313]],\n",
       " \n",
       "          [[-0.0241, -0.0229, -0.0577],\n",
       "           [ 0.0597,  0.0341, -0.0341],\n",
       "           [ 0.0497, -0.0254, -0.0732]]],\n",
       " \n",
       " \n",
       "         [[[-0.0363,  0.0134,  0.0201],\n",
       "           [ 0.0034, -0.0617, -0.0390],\n",
       "           [-0.0340, -0.1029, -0.0239]],\n",
       " \n",
       "          [[ 0.0563, -0.0018,  0.0246],\n",
       "           [ 0.0128, -0.0644, -0.1169],\n",
       "           [ 0.0444, -0.0615,  0.0318]],\n",
       " \n",
       "          [[-0.0412, -0.0466, -0.0695],\n",
       "           [-0.0068, -0.0166, -0.0279],\n",
       "           [ 0.0186, -0.0495,  0.0048]],\n",
       " \n",
       "          ...,\n",
       " \n",
       "          [[ 0.0056,  0.0077, -0.0357],\n",
       "           [-0.0027, -0.0462,  0.0389],\n",
       "           [-0.0282, -0.0738, -0.1005]],\n",
       " \n",
       "          [[-0.0732, -0.0540,  0.0443],\n",
       "           [-0.0163, -0.0272, -0.0135],\n",
       "           [-0.0623, -0.0462, -0.0628]],\n",
       " \n",
       "          [[-0.0548, -0.0843, -0.0691],\n",
       "           [-0.1171, -0.0206, -0.1079],\n",
       "           [-0.0733, -0.0701, -0.0408]]],\n",
       " \n",
       " \n",
       "         ...,\n",
       " \n",
       " \n",
       "         [[[-0.0229,  0.1665,  0.1842],\n",
       "           [-0.4419, -0.0846, -0.1391],\n",
       "           [-0.0621, -0.0650,  0.0495]],\n",
       " \n",
       "          [[ 0.1679, -0.0633,  0.1474],\n",
       "           [ 0.1341, -0.1310, -0.0515],\n",
       "           [-0.1338, -0.1882, -0.0431]],\n",
       " \n",
       "          [[-0.0972, -0.1831,  0.1342],\n",
       "           [-0.2723,  0.1421,  0.1263],\n",
       "           [-0.2170, -0.0868,  0.3475]],\n",
       " \n",
       "          ...,\n",
       " \n",
       "          [[ 0.0157,  0.0921,  0.2093],\n",
       "           [ 0.1492, -0.1791, -0.1733],\n",
       "           [-0.0566, -0.1359,  0.0559]],\n",
       " \n",
       "          [[-0.4473, -0.0979,  0.0784],\n",
       "           [ 0.0202,  0.0920, -0.0650],\n",
       "           [-0.1430, -0.0702,  0.0075]],\n",
       " \n",
       "          [[ 0.1678,  0.0199,  0.0625],\n",
       "           [ 0.0324,  0.0254,  0.1122],\n",
       "           [-0.0277, -0.1390, -0.1952]]],\n",
       " \n",
       " \n",
       "         [[[ 0.0684, -0.0016,  0.0117],\n",
       "           [ 0.0219,  0.1010,  0.0379],\n",
       "           [ 0.0203,  0.0168,  0.0954]],\n",
       " \n",
       "          [[ 0.0793,  0.0252,  0.0768],\n",
       "           [-0.0614, -0.3614, -0.3029],\n",
       "           [ 0.1479, -0.1979, -0.2890]],\n",
       " \n",
       "          [[ 0.2612, -0.1799,  0.0727],\n",
       "           [ 0.0861, -0.0733, -0.0433],\n",
       "           [-0.2427, -0.3162,  0.1198]],\n",
       " \n",
       "          ...,\n",
       " \n",
       "          [[ 0.1147,  0.1124,  0.0372],\n",
       "           [-0.1083, -0.0561,  0.0800],\n",
       "           [ 0.3438, -0.0147,  0.2328]],\n",
       " \n",
       "          [[ 0.0283, -0.0330, -0.0463],\n",
       "           [ 0.0323, -0.0319, -0.0109],\n",
       "           [-0.0635, -0.1505, -0.0703]],\n",
       " \n",
       "          [[ 0.0732, -0.0685,  0.0678],\n",
       "           [-0.2823, -0.0410, -0.0069],\n",
       "           [-0.1164, -0.3335, -0.1426]]],\n",
       " \n",
       " \n",
       "         [[[ 0.0455,  0.0882,  0.0618],\n",
       "           [-0.2951,  0.1108, -0.2373],\n",
       "           [-0.2405,  0.0422, -0.2500]],\n",
       " \n",
       "          [[ 0.1176,  0.1898, -0.0223],\n",
       "           [ 0.1784,  0.1112, -0.0044],\n",
       "           [-0.0230,  0.0326,  0.0806]],\n",
       " \n",
       "          [[ 0.1989, -0.0263, -0.0112],\n",
       "           [ 0.2128, -0.0851,  0.1731],\n",
       "           [-0.0515, -0.0085,  0.0841]],\n",
       " \n",
       "          ...,\n",
       " \n",
       "          [[ 0.1406,  0.0174, -0.1612],\n",
       "           [-0.0626,  0.1683,  0.1420],\n",
       "           [ 0.1864, -0.0216,  0.0058]],\n",
       " \n",
       "          [[-0.3102, -0.1756, -0.1271],\n",
       "           [-0.2078, -0.0330, -0.2599],\n",
       "           [-0.1195, -0.1291, -0.1245]],\n",
       " \n",
       "          [[ 0.1836,  0.1389,  0.0275],\n",
       "           [ 0.1771,  0.2328, -0.0443],\n",
       "           [ 0.0459,  0.0244,  0.1022]]]], device='cuda:0', requires_grad=True),\n",
       " 25596593387: Parameter containing:\n",
       " tensor([-0.0323, -0.0906, -0.0298, -0.0201,  0.0768,  0.1896,  0.0737, -0.1233,\n",
       "          0.2963, -0.1508,  0.0791,  0.0083,  0.2149, -0.0162,  0.0011,  0.0890,\n",
       "          0.0238,  0.0395, -0.0147, -0.0302,  0.0852,  0.1361,  0.0757,  0.0213,\n",
       "         -0.0809, -0.0035, -0.0908,  0.1295,  0.3393,  0.0467,  0.1289,  0.2432],\n",
       "        device='cuda:0', requires_grad=True),\n",
       " 57892940280: Parameter containing:\n",
       " tensor([[[[ 1.2294e-01]],\n",
       " \n",
       "          [[-2.5039e-02]],\n",
       " \n",
       "          [[ 4.0212e-02]],\n",
       " \n",
       "          [[-2.1835e-01]],\n",
       " \n",
       "          [[-8.5716e-02]],\n",
       " \n",
       "          [[-2.2317e-01]],\n",
       " \n",
       "          [[-9.7943e-02]],\n",
       " \n",
       "          [[ 1.2733e-01]],\n",
       " \n",
       "          [[-3.8037e-01]],\n",
       " \n",
       "          [[ 6.9036e-02]],\n",
       " \n",
       "          [[-3.2607e-02]],\n",
       " \n",
       "          [[-1.8381e-01]],\n",
       " \n",
       "          [[ 1.4579e-01]],\n",
       " \n",
       "          [[ 5.9814e-02]],\n",
       " \n",
       "          [[ 6.2365e-02]],\n",
       " \n",
       "          [[-5.5795e-01]],\n",
       " \n",
       "          [[-3.6642e-01]],\n",
       " \n",
       "          [[-2.5067e-01]],\n",
       " \n",
       "          [[-1.6827e-01]],\n",
       " \n",
       "          [[ 1.1814e-01]],\n",
       " \n",
       "          [[ 1.7585e-01]],\n",
       " \n",
       "          [[ 1.1894e-01]],\n",
       " \n",
       "          [[-5.4746e-02]],\n",
       " \n",
       "          [[ 5.4320e-02]],\n",
       " \n",
       "          [[ 1.0891e-01]],\n",
       " \n",
       "          [[-3.5083e-01]],\n",
       " \n",
       "          [[ 5.0913e-03]],\n",
       " \n",
       "          [[ 3.8077e-01]],\n",
       " \n",
       "          [[ 3.1833e-01]],\n",
       " \n",
       "          [[ 5.6775e-02]],\n",
       " \n",
       "          [[-7.4402e-02]],\n",
       " \n",
       "          [[-1.7473e-01]]],\n",
       " \n",
       " \n",
       "         [[[-1.2862e-01]],\n",
       " \n",
       "          [[ 1.2786e-01]],\n",
       " \n",
       "          [[-1.0685e-01]],\n",
       " \n",
       "          [[-2.7110e-01]],\n",
       " \n",
       "          [[ 1.6583e-02]],\n",
       " \n",
       "          [[-2.4469e-02]],\n",
       " \n",
       "          [[ 3.2340e-01]],\n",
       " \n",
       "          [[-2.0423e-02]],\n",
       " \n",
       "          [[-2.6665e-01]],\n",
       " \n",
       "          [[-3.0217e-02]],\n",
       " \n",
       "          [[ 4.3809e-02]],\n",
       " \n",
       "          [[-2.1124e-02]],\n",
       " \n",
       "          [[ 2.6771e-01]],\n",
       " \n",
       "          [[ 5.4238e-02]],\n",
       " \n",
       "          [[-8.8176e-02]],\n",
       " \n",
       "          [[ 5.1905e-02]],\n",
       " \n",
       "          [[-1.9192e-01]],\n",
       " \n",
       "          [[-3.9213e-02]],\n",
       " \n",
       "          [[-1.0577e-01]],\n",
       " \n",
       "          [[-1.2027e-01]],\n",
       " \n",
       "          [[-8.5363e-02]],\n",
       " \n",
       "          [[-3.0255e-02]],\n",
       " \n",
       "          [[-1.8967e-02]],\n",
       " \n",
       "          [[-9.1687e-03]],\n",
       " \n",
       "          [[ 1.0616e-01]],\n",
       " \n",
       "          [[ 1.8782e-02]],\n",
       " \n",
       "          [[ 1.7357e-01]],\n",
       " \n",
       "          [[ 1.3019e-01]],\n",
       " \n",
       "          [[ 2.7048e-01]],\n",
       " \n",
       "          [[ 1.5309e-01]],\n",
       " \n",
       "          [[ 5.5409e-02]],\n",
       " \n",
       "          [[-3.1571e-01]]],\n",
       " \n",
       " \n",
       "         [[[ 7.6898e-02]],\n",
       " \n",
       "          [[-5.9697e-03]],\n",
       " \n",
       "          [[-4.5413e-02]],\n",
       " \n",
       "          [[-2.7495e-01]],\n",
       " \n",
       "          [[ 1.7806e-01]],\n",
       " \n",
       "          [[-1.3165e-01]],\n",
       " \n",
       "          [[ 7.1070e-02]],\n",
       " \n",
       "          [[ 2.9711e-02]],\n",
       " \n",
       "          [[-1.7695e-01]],\n",
       " \n",
       "          [[-2.5821e-01]],\n",
       " \n",
       "          [[-2.8533e-01]],\n",
       " \n",
       "          [[ 1.5929e-01]],\n",
       " \n",
       "          [[-2.9533e-01]],\n",
       " \n",
       "          [[ 1.0782e-01]],\n",
       " \n",
       "          [[-2.1340e-01]],\n",
       " \n",
       "          [[ 4.7929e-02]],\n",
       " \n",
       "          [[ 2.2972e-01]],\n",
       " \n",
       "          [[ 9.6510e-02]],\n",
       " \n",
       "          [[ 6.2017e-02]],\n",
       " \n",
       "          [[ 1.0235e-01]],\n",
       " \n",
       "          [[ 7.7742e-02]],\n",
       " \n",
       "          [[ 6.3960e-02]],\n",
       " \n",
       "          [[-2.0618e-01]],\n",
       " \n",
       "          [[ 1.4329e-01]],\n",
       " \n",
       "          [[ 2.5490e-02]],\n",
       " \n",
       "          [[-1.0822e-02]],\n",
       " \n",
       "          [[-2.2006e-01]],\n",
       " \n",
       "          [[-5.9922e-02]],\n",
       " \n",
       "          [[-1.6064e-01]],\n",
       " \n",
       "          [[-6.3572e-02]],\n",
       " \n",
       "          [[-8.9082e-02]],\n",
       " \n",
       "          [[-1.3656e-01]]],\n",
       " \n",
       " \n",
       "         [[[-3.0089e-01]],\n",
       " \n",
       "          [[-1.4805e-01]],\n",
       " \n",
       "          [[-6.1293e-02]],\n",
       " \n",
       "          [[-3.0792e-01]],\n",
       " \n",
       "          [[ 1.0920e-01]],\n",
       " \n",
       "          [[-3.9336e-01]],\n",
       " \n",
       "          [[-1.9467e-01]],\n",
       " \n",
       "          [[-6.2807e-02]],\n",
       " \n",
       "          [[-1.9659e-01]],\n",
       " \n",
       "          [[-1.1264e-01]],\n",
       " \n",
       "          [[ 4.6200e-02]],\n",
       " \n",
       "          [[-3.5309e-01]],\n",
       " \n",
       "          [[ 2.4113e-01]],\n",
       " \n",
       "          [[-9.3680e-03]],\n",
       " \n",
       "          [[ 6.5625e-02]],\n",
       " \n",
       "          [[-3.9744e-02]],\n",
       " \n",
       "          [[ 6.3926e-03]],\n",
       " \n",
       "          [[ 8.0617e-02]],\n",
       " \n",
       "          [[-3.0954e-01]],\n",
       " \n",
       "          [[ 1.4531e-01]],\n",
       " \n",
       "          [[-3.7838e-02]],\n",
       " \n",
       "          [[ 5.1524e-02]],\n",
       " \n",
       "          [[-6.9960e-02]],\n",
       " \n",
       "          [[-6.7057e-02]],\n",
       " \n",
       "          [[ 6.0917e-02]],\n",
       " \n",
       "          [[-2.6062e-01]],\n",
       " \n",
       "          [[ 2.5280e-01]],\n",
       " \n",
       "          [[-5.5794e-02]],\n",
       " \n",
       "          [[ 2.3028e-02]],\n",
       " \n",
       "          [[ 1.1715e-01]],\n",
       " \n",
       "          [[ 2.0806e-01]],\n",
       " \n",
       "          [[-2.7134e-01]]],\n",
       " \n",
       " \n",
       "         [[[-4.9104e-02]],\n",
       " \n",
       "          [[ 7.2365e-02]],\n",
       " \n",
       "          [[-1.0797e-01]],\n",
       " \n",
       "          [[ 1.0242e-01]],\n",
       " \n",
       "          [[-1.1796e-01]],\n",
       " \n",
       "          [[-2.5189e-02]],\n",
       " \n",
       "          [[-1.1539e-01]],\n",
       " \n",
       "          [[-5.7653e-02]],\n",
       " \n",
       "          [[ 3.3252e-01]],\n",
       " \n",
       "          [[-1.7783e-01]],\n",
       " \n",
       "          [[-5.9630e-03]],\n",
       " \n",
       "          [[-1.1674e-02]],\n",
       " \n",
       "          [[ 1.7475e-02]],\n",
       " \n",
       "          [[-1.3293e-01]],\n",
       " \n",
       "          [[-2.0959e-01]],\n",
       " \n",
       "          [[-1.5129e-01]],\n",
       " \n",
       "          [[-1.3615e-01]],\n",
       " \n",
       "          [[ 3.5887e-01]],\n",
       " \n",
       "          [[ 7.1288e-02]],\n",
       " \n",
       "          [[ 7.6517e-02]],\n",
       " \n",
       "          [[ 1.5084e-01]],\n",
       " \n",
       "          [[ 1.9821e-01]],\n",
       " \n",
       "          [[-1.0492e-01]],\n",
       " \n",
       "          [[ 9.0656e-03]],\n",
       " \n",
       "          [[-1.8739e-01]],\n",
       " \n",
       "          [[-1.7545e-01]],\n",
       " \n",
       "          [[ 2.1623e-01]],\n",
       " \n",
       "          [[-8.4343e-02]],\n",
       " \n",
       "          [[ 2.6477e-02]],\n",
       " \n",
       "          [[ 3.0408e-01]],\n",
       " \n",
       "          [[-6.0135e-02]],\n",
       " \n",
       "          [[-1.1778e-01]]],\n",
       " \n",
       " \n",
       "         [[[ 1.6462e-01]],\n",
       " \n",
       "          [[-1.5346e-01]],\n",
       " \n",
       "          [[ 1.5143e-01]],\n",
       " \n",
       "          [[-3.9689e-02]],\n",
       " \n",
       "          [[-2.7155e-02]],\n",
       " \n",
       "          [[-1.7466e-01]],\n",
       " \n",
       "          [[ 1.6606e-01]],\n",
       " \n",
       "          [[-1.6751e-01]],\n",
       " \n",
       "          [[ 2.6883e-02]],\n",
       " \n",
       "          [[ 2.4294e-01]],\n",
       " \n",
       "          [[-2.3355e-01]],\n",
       " \n",
       "          [[ 1.4258e-01]],\n",
       " \n",
       "          [[-6.0401e-02]],\n",
       " \n",
       "          [[-6.6225e-02]],\n",
       " \n",
       "          [[ 1.7252e-01]],\n",
       " \n",
       "          [[-2.4304e-01]],\n",
       " \n",
       "          [[-2.3898e-01]],\n",
       " \n",
       "          [[-2.0223e-01]],\n",
       " \n",
       "          [[ 8.6951e-02]],\n",
       " \n",
       "          [[-1.7752e-01]],\n",
       " \n",
       "          [[-2.5382e-01]],\n",
       " \n",
       "          [[-1.9242e-01]],\n",
       " \n",
       "          [[ 4.6116e-03]],\n",
       " \n",
       "          [[ 8.1129e-03]],\n",
       " \n",
       "          [[-1.6216e-01]],\n",
       " \n",
       "          [[ 3.9237e-02]],\n",
       " \n",
       "          [[ 1.5658e-01]],\n",
       " \n",
       "          [[-1.2648e-01]],\n",
       " \n",
       "          [[-2.1597e-01]],\n",
       " \n",
       "          [[ 2.8978e-01]],\n",
       " \n",
       "          [[ 3.0994e-02]],\n",
       " \n",
       "          [[-8.7523e-02]]],\n",
       " \n",
       " \n",
       "         [[[ 6.0755e-02]],\n",
       " \n",
       "          [[ 7.4776e-02]],\n",
       " \n",
       "          [[-8.1807e-02]],\n",
       " \n",
       "          [[-8.2940e-02]],\n",
       " \n",
       "          [[-1.9485e-01]],\n",
       " \n",
       "          [[ 2.6160e-01]],\n",
       " \n",
       "          [[ 1.3524e-01]],\n",
       " \n",
       "          [[ 6.4749e-04]],\n",
       " \n",
       "          [[ 3.4955e-01]],\n",
       " \n",
       "          [[-1.0115e-01]],\n",
       " \n",
       "          [[ 2.0386e-02]],\n",
       " \n",
       "          [[ 7.8207e-02]],\n",
       " \n",
       "          [[-8.4376e-02]],\n",
       " \n",
       "          [[-1.0959e-01]],\n",
       " \n",
       "          [[-9.2856e-02]],\n",
       " \n",
       "          [[-2.5444e-01]],\n",
       " \n",
       "          [[ 2.0487e-01]],\n",
       " \n",
       "          [[-1.6378e-01]],\n",
       " \n",
       "          [[ 1.8115e-02]],\n",
       " \n",
       "          [[ 9.3190e-02]],\n",
       " \n",
       "          [[ 2.4567e-01]],\n",
       " \n",
       "          [[-1.2986e-01]],\n",
       " \n",
       "          [[ 7.9344e-02]],\n",
       " \n",
       "          [[-1.7599e-01]],\n",
       " \n",
       "          [[ 1.3891e-01]],\n",
       " \n",
       "          [[ 1.3115e-01]],\n",
       " \n",
       "          [[-2.3281e-01]],\n",
       " \n",
       "          [[ 1.9617e-01]],\n",
       " \n",
       "          [[-5.0273e-02]],\n",
       " \n",
       "          [[ 1.5271e-01]],\n",
       " \n",
       "          [[ 1.1421e-01]],\n",
       " \n",
       "          [[ 1.9076e-01]]],\n",
       " \n",
       " \n",
       "         [[[ 1.1920e-01]],\n",
       " \n",
       "          [[ 1.3232e-01]],\n",
       " \n",
       "          [[ 9.3589e-02]],\n",
       " \n",
       "          [[ 1.5551e-01]],\n",
       " \n",
       "          [[-2.8001e-01]],\n",
       " \n",
       "          [[-3.4554e-03]],\n",
       " \n",
       "          [[-1.8297e-01]],\n",
       " \n",
       "          [[ 9.7003e-02]],\n",
       " \n",
       "          [[-3.5283e-04]],\n",
       " \n",
       "          [[ 4.5121e-02]],\n",
       " \n",
       "          [[ 1.8209e-01]],\n",
       " \n",
       "          [[ 1.1447e-01]],\n",
       " \n",
       "          [[-2.8200e-01]],\n",
       " \n",
       "          [[-3.8219e-02]],\n",
       " \n",
       "          [[ 1.7505e-02]],\n",
       " \n",
       "          [[-7.5228e-02]],\n",
       " \n",
       "          [[ 3.8495e-02]],\n",
       " \n",
       "          [[-2.5285e-02]],\n",
       " \n",
       "          [[ 1.5465e-01]],\n",
       " \n",
       "          [[-2.7934e-01]],\n",
       " \n",
       "          [[-3.1087e-01]],\n",
       " \n",
       "          [[-2.7628e-01]],\n",
       " \n",
       "          [[-2.8098e-01]],\n",
       " \n",
       "          [[ 3.2604e-02]],\n",
       " \n",
       "          [[-6.0794e-02]],\n",
       " \n",
       "          [[ 6.9369e-04]],\n",
       " \n",
       "          [[ 1.1988e-01]],\n",
       " \n",
       "          [[ 5.1525e-02]],\n",
       " \n",
       "          [[ 2.4605e-02]],\n",
       " \n",
       "          [[-3.0730e-01]],\n",
       " \n",
       "          [[ 1.3086e-01]],\n",
       " \n",
       "          [[-2.6295e-01]]],\n",
       " \n",
       " \n",
       "         [[[-2.4174e-01]],\n",
       " \n",
       "          [[-7.8717e-02]],\n",
       " \n",
       "          [[ 9.4071e-02]],\n",
       " \n",
       "          [[ 6.3029e-02]],\n",
       " \n",
       "          [[ 1.3490e-01]],\n",
       " \n",
       "          [[ 2.3267e-01]],\n",
       " \n",
       "          [[ 6.1475e-02]],\n",
       " \n",
       "          [[ 5.8008e-02]],\n",
       " \n",
       "          [[-2.9465e-01]],\n",
       " \n",
       "          [[ 1.7477e-01]],\n",
       " \n",
       "          [[ 1.2009e-01]],\n",
       " \n",
       "          [[-2.5320e-02]],\n",
       " \n",
       "          [[-1.5842e-02]],\n",
       " \n",
       "          [[-7.3410e-02]],\n",
       " \n",
       "          [[-1.2291e-01]],\n",
       " \n",
       "          [[-2.6507e-01]],\n",
       " \n",
       "          [[ 2.3720e-02]],\n",
       " \n",
       "          [[-3.7890e-01]],\n",
       " \n",
       "          [[ 1.3850e-01]],\n",
       " \n",
       "          [[ 1.4596e-01]],\n",
       " \n",
       "          [[-1.1886e-01]],\n",
       " \n",
       "          [[ 1.9486e-01]],\n",
       " \n",
       "          [[ 5.5051e-02]],\n",
       " \n",
       "          [[-6.7163e-02]],\n",
       " \n",
       "          [[ 1.2036e-01]],\n",
       " \n",
       "          [[-1.3888e-01]],\n",
       " \n",
       "          [[-3.5646e-01]],\n",
       " \n",
       "          [[-2.4931e-02]],\n",
       " \n",
       "          [[-6.0545e-02]],\n",
       " \n",
       "          [[-3.4862e-02]],\n",
       " \n",
       "          [[-3.0387e-01]],\n",
       " \n",
       "          [[ 7.0034e-02]]],\n",
       " \n",
       " \n",
       "         [[[ 1.1383e-02]],\n",
       " \n",
       "          [[ 1.0206e-01]],\n",
       " \n",
       "          [[ 4.4983e-02]],\n",
       " \n",
       "          [[-3.3477e-02]],\n",
       " \n",
       "          [[ 2.3151e-01]],\n",
       " \n",
       "          [[-3.0843e-02]],\n",
       " \n",
       "          [[ 9.9437e-03]],\n",
       " \n",
       "          [[ 9.6278e-02]],\n",
       " \n",
       "          [[ 1.4188e-01]],\n",
       " \n",
       "          [[-1.3796e-01]],\n",
       " \n",
       "          [[ 1.7721e-01]],\n",
       " \n",
       "          [[-2.9875e-02]],\n",
       " \n",
       "          [[ 9.8265e-02]],\n",
       " \n",
       "          [[-9.5938e-02]],\n",
       " \n",
       "          [[ 2.5530e-01]],\n",
       " \n",
       "          [[ 3.3374e-01]],\n",
       " \n",
       "          [[-3.6775e-01]],\n",
       " \n",
       "          [[ 4.4117e-01]],\n",
       " \n",
       "          [[-1.3438e-01]],\n",
       " \n",
       "          [[ 1.8924e-02]],\n",
       " \n",
       "          [[-3.0666e-01]],\n",
       " \n",
       "          [[ 1.6014e-01]],\n",
       " \n",
       "          [[ 1.2107e-01]],\n",
       " \n",
       "          [[ 1.1526e-01]],\n",
       " \n",
       "          [[-2.9494e-02]],\n",
       " \n",
       "          [[-3.2146e-01]],\n",
       " \n",
       "          [[ 2.0514e-01]],\n",
       " \n",
       "          [[-8.2327e-02]],\n",
       " \n",
       "          [[-9.8344e-02]],\n",
       " \n",
       "          [[ 1.3412e-01]],\n",
       " \n",
       "          [[ 1.8690e-01]],\n",
       " \n",
       "          [[ 8.8574e-02]]],\n",
       " \n",
       " \n",
       "         [[[-6.3272e-02]],\n",
       " \n",
       "          [[ 7.4577e-02]],\n",
       " \n",
       "          [[-6.0483e-03]],\n",
       " \n",
       "          [[-1.7158e-01]],\n",
       " \n",
       "          [[ 1.6821e-01]],\n",
       " \n",
       "          [[-1.1286e-02]],\n",
       " \n",
       "          [[-2.9111e-02]],\n",
       " \n",
       "          [[-5.1741e-03]],\n",
       " \n",
       "          [[-9.5083e-02]],\n",
       " \n",
       "          [[ 3.1382e-01]],\n",
       " \n",
       "          [[-4.0239e-01]],\n",
       " \n",
       "          [[ 1.8070e-01]],\n",
       " \n",
       "          [[-1.2104e-01]],\n",
       " \n",
       "          [[ 1.7051e-01]],\n",
       " \n",
       "          [[ 1.0459e-01]],\n",
       " \n",
       "          [[ 5.7322e-03]],\n",
       " \n",
       "          [[-1.8263e-01]],\n",
       " \n",
       "          [[ 1.1325e-01]],\n",
       " \n",
       "          [[-2.0707e-01]],\n",
       " \n",
       "          [[-1.2691e-01]],\n",
       " \n",
       "          [[-1.4460e-02]],\n",
       " \n",
       "          [[-2.2541e-01]],\n",
       " \n",
       "          [[ 8.7382e-03]],\n",
       " \n",
       "          [[ 1.0815e-01]],\n",
       " \n",
       "          [[-1.7891e-01]],\n",
       " \n",
       "          [[ 4.6469e-02]],\n",
       " \n",
       "          [[ 1.2057e-01]],\n",
       " \n",
       "          [[-1.9190e-02]],\n",
       " \n",
       "          [[ 1.0934e-01]],\n",
       " \n",
       "          [[ 7.4366e-02]],\n",
       " \n",
       "          [[-2.3158e-01]],\n",
       " \n",
       "          [[-2.8195e-01]]],\n",
       " \n",
       " \n",
       "         [[[ 1.4882e-01]],\n",
       " \n",
       "          [[-1.3797e-01]],\n",
       " \n",
       "          [[-7.1680e-02]],\n",
       " \n",
       "          [[-1.8845e-01]],\n",
       " \n",
       "          [[ 7.5420e-03]],\n",
       " \n",
       "          [[ 3.8726e-02]],\n",
       " \n",
       "          [[ 1.1478e-01]],\n",
       " \n",
       "          [[-6.9854e-02]],\n",
       " \n",
       "          [[ 1.9240e-02]],\n",
       " \n",
       "          [[-1.7816e-01]],\n",
       " \n",
       "          [[-1.3600e-01]],\n",
       " \n",
       "          [[ 6.3184e-02]],\n",
       " \n",
       "          [[-9.9315e-02]],\n",
       " \n",
       "          [[-5.3530e-02]],\n",
       " \n",
       "          [[-5.9633e-02]],\n",
       " \n",
       "          [[-8.9060e-02]],\n",
       " \n",
       "          [[ 7.0240e-02]],\n",
       " \n",
       "          [[ 2.1900e-01]],\n",
       " \n",
       "          [[-1.6834e-01]],\n",
       " \n",
       "          [[-3.8167e-01]],\n",
       " \n",
       "          [[-5.3739e-02]],\n",
       " \n",
       "          [[-2.7690e-01]],\n",
       " \n",
       "          [[ 2.4778e-01]],\n",
       " \n",
       "          [[-6.6210e-02]],\n",
       " \n",
       "          [[ 1.2906e-01]],\n",
       " \n",
       "          [[ 1.3823e-01]],\n",
       " \n",
       "          [[ 1.8138e-01]],\n",
       " \n",
       "          [[-2.1155e-01]],\n",
       " \n",
       "          [[-1.1173e-01]],\n",
       " \n",
       "          [[ 2.2303e-02]],\n",
       " \n",
       "          [[-3.9278e-02]],\n",
       " \n",
       "          [[ 2.3484e-01]]],\n",
       " \n",
       " \n",
       "         [[[ 2.2885e-01]],\n",
       " \n",
       "          [[-3.7322e-02]],\n",
       " \n",
       "          [[ 3.8505e-02]],\n",
       " \n",
       "          [[ 5.3087e-02]],\n",
       " \n",
       "          [[ 5.2923e-02]],\n",
       " \n",
       "          [[ 1.2407e-02]],\n",
       " \n",
       "          [[ 5.0037e-02]],\n",
       " \n",
       "          [[ 6.3267e-02]],\n",
       " \n",
       "          [[ 9.3638e-02]],\n",
       " \n",
       "          [[ 1.1227e-02]],\n",
       " \n",
       "          [[ 2.9393e-01]],\n",
       " \n",
       "          [[-2.8592e-01]],\n",
       " \n",
       "          [[ 2.0048e-01]],\n",
       " \n",
       "          [[ 4.5773e-03]],\n",
       " \n",
       "          [[ 1.2894e-02]],\n",
       " \n",
       "          [[ 2.7738e-01]],\n",
       " \n",
       "          [[-2.0830e-01]],\n",
       " \n",
       "          [[ 1.0396e-01]],\n",
       " \n",
       "          [[-2.3274e-01]],\n",
       " \n",
       "          [[-1.6424e-01]],\n",
       " \n",
       "          [[-2.8099e-01]],\n",
       " \n",
       "          [[-3.0595e-02]],\n",
       " \n",
       "          [[ 1.2526e-01]],\n",
       " \n",
       "          [[-8.7467e-02]],\n",
       " \n",
       "          [[-5.4649e-02]],\n",
       " \n",
       "          [[-6.9941e-02]],\n",
       " \n",
       "          [[-5.6283e-02]],\n",
       " \n",
       "          [[-2.8825e-03]],\n",
       " \n",
       "          [[-4.7062e-01]],\n",
       " \n",
       "          [[ 4.3546e-03]],\n",
       " \n",
       "          [[ 2.2754e-01]],\n",
       " \n",
       "          [[ 5.2622e-02]]],\n",
       " \n",
       " \n",
       "         [[[ 1.5119e-01]],\n",
       " \n",
       "          [[ 7.6852e-02]],\n",
       " \n",
       "          [[ 2.0584e-02]],\n",
       " \n",
       "          [[ 1.8836e-01]],\n",
       " \n",
       "          [[-2.5534e-01]],\n",
       " \n",
       "          [[ 3.4719e-02]],\n",
       " \n",
       "          [[-6.5449e-02]],\n",
       " \n",
       "          [[ 1.5779e-01]],\n",
       " \n",
       "          [[ 1.2421e-01]],\n",
       " \n",
       "          [[ 1.1493e-01]],\n",
       " \n",
       "          [[-1.0559e-01]],\n",
       " \n",
       "          [[-2.8761e-02]],\n",
       " \n",
       "          [[-4.8090e-01]],\n",
       " \n",
       "          [[ 9.7141e-02]],\n",
       " \n",
       "          [[ 1.1921e-02]],\n",
       " \n",
       "          [[-1.7035e-01]],\n",
       " \n",
       "          [[-2.0438e-01]],\n",
       " \n",
       "          [[-1.6114e-01]],\n",
       " \n",
       "          [[-1.2371e-01]],\n",
       " \n",
       "          [[-2.1641e-01]],\n",
       " \n",
       "          [[-2.7192e-01]],\n",
       " \n",
       "          [[-2.8469e-01]],\n",
       " \n",
       "          [[-2.3459e-01]],\n",
       " \n",
       "          [[ 6.4369e-02]],\n",
       " \n",
       "          [[-6.9348e-02]],\n",
       " \n",
       "          [[-3.2283e-02]],\n",
       " \n",
       "          [[ 3.5843e-01]],\n",
       " \n",
       "          [[ 4.4871e-03]],\n",
       " \n",
       "          [[ 1.1235e-01]],\n",
       " \n",
       "          [[ 1.2663e-01]],\n",
       " \n",
       "          [[ 4.6036e-02]],\n",
       " \n",
       "          [[-3.4319e-01]]],\n",
       " \n",
       " \n",
       "         [[[-5.4742e-02]],\n",
       " \n",
       "          [[-1.0585e-01]],\n",
       " \n",
       "          [[ 1.1872e-01]],\n",
       " \n",
       "          [[-2.0577e-01]],\n",
       " \n",
       "          [[ 1.8274e-01]],\n",
       " \n",
       "          [[ 1.2718e-02]],\n",
       " \n",
       "          [[ 1.2994e-01]],\n",
       " \n",
       "          [[ 9.7627e-02]],\n",
       " \n",
       "          [[ 4.3927e-02]],\n",
       " \n",
       "          [[-1.8904e-01]],\n",
       " \n",
       "          [[ 2.9831e-01]],\n",
       " \n",
       "          [[-3.3293e-01]],\n",
       " \n",
       "          [[-2.1479e-01]],\n",
       " \n",
       "          [[ 1.4488e-01]],\n",
       " \n",
       "          [[-5.9972e-02]],\n",
       " \n",
       "          [[ 3.7340e-02]],\n",
       " \n",
       "          [[ 7.0131e-02]],\n",
       " \n",
       "          [[ 9.1777e-02]],\n",
       " \n",
       "          [[-6.5249e-02]],\n",
       " \n",
       "          [[-1.7940e-01]],\n",
       " \n",
       "          [[-2.1542e-02]],\n",
       " \n",
       "          [[-1.6312e-01]],\n",
       " \n",
       "          [[-2.9910e-02]],\n",
       " \n",
       "          [[-8.6933e-02]],\n",
       " \n",
       "          [[ 1.7441e-02]],\n",
       " \n",
       "          [[-6.5149e-02]],\n",
       " \n",
       "          [[-1.1519e-01]],\n",
       " \n",
       "          [[ 1.4666e-01]],\n",
       " \n",
       "          [[-3.1796e-02]],\n",
       " \n",
       "          [[ 2.7667e-01]],\n",
       " \n",
       "          [[-4.6607e-01]],\n",
       " \n",
       "          [[ 9.7239e-02]]],\n",
       " \n",
       " \n",
       "         [[[-1.2244e-02]],\n",
       " \n",
       "          [[ 1.1273e-01]],\n",
       " \n",
       "          [[-1.1377e-01]],\n",
       " \n",
       "          [[-3.1987e-01]],\n",
       " \n",
       "          [[ 1.2316e-01]],\n",
       " \n",
       "          [[ 2.1252e-02]],\n",
       " \n",
       "          [[-4.2876e-01]],\n",
       " \n",
       "          [[-4.3919e-02]],\n",
       " \n",
       "          [[ 1.7301e-01]],\n",
       " \n",
       "          [[-2.0814e-01]],\n",
       " \n",
       "          [[ 3.3243e-01]],\n",
       " \n",
       "          [[ 2.1462e-01]],\n",
       " \n",
       "          [[-4.8052e-02]],\n",
       " \n",
       "          [[-1.8101e-02]],\n",
       " \n",
       "          [[ 2.2839e-01]],\n",
       " \n",
       "          [[ 3.9918e-01]],\n",
       " \n",
       "          [[-5.7089e-02]],\n",
       " \n",
       "          [[-1.1295e-02]],\n",
       " \n",
       "          [[ 3.7446e-02]],\n",
       " \n",
       "          [[-2.2370e-02]],\n",
       " \n",
       "          [[-1.6177e-01]],\n",
       " \n",
       "          [[-1.2284e-01]],\n",
       " \n",
       "          [[-5.3589e-02]],\n",
       " \n",
       "          [[-1.4816e-01]],\n",
       " \n",
       "          [[-7.5894e-02]],\n",
       " \n",
       "          [[-8.3841e-02]],\n",
       " \n",
       "          [[-2.2919e-01]],\n",
       " \n",
       "          [[-6.7919e-02]],\n",
       " \n",
       "          [[-3.8643e-02]],\n",
       " \n",
       "          [[ 1.2420e-01]],\n",
       " \n",
       "          [[-1.6625e-01]],\n",
       " \n",
       "          [[-1.3409e-01]]]], device='cuda:0', requires_grad=True),\n",
       " 13767324466: Parameter containing:\n",
       " tensor([ 0.1811,  0.1823,  0.0200, -0.1471, -0.0742, -0.3006,  0.1099, -0.2273,\n",
       "          0.2122,  0.1915, -0.1510, -0.1478,  0.1743, -0.2195,  0.2893,  0.0467],\n",
       "        device='cuda:0', requires_grad=True),\n",
       " 32206734154: Parameter containing:\n",
       " tensor([[[[-1.7064e-01]],\n",
       " \n",
       "          [[-1.9446e-01]],\n",
       " \n",
       "          [[-2.0472e-01]],\n",
       " \n",
       "          [[-2.0482e-01]],\n",
       " \n",
       "          [[-3.5530e-02]],\n",
       " \n",
       "          [[-3.6476e-01]],\n",
       " \n",
       "          [[-2.3971e-02]],\n",
       " \n",
       "          [[ 1.5021e-01]],\n",
       " \n",
       "          [[-1.2588e-01]],\n",
       " \n",
       "          [[ 2.7632e-01]],\n",
       " \n",
       "          [[-4.1771e-01]],\n",
       " \n",
       "          [[-1.8400e-01]],\n",
       " \n",
       "          [[ 2.8881e-01]],\n",
       " \n",
       "          [[-5.4312e-02]],\n",
       " \n",
       "          [[ 1.6462e-01]],\n",
       " \n",
       "          [[ 2.0478e-01]]],\n",
       " \n",
       " \n",
       "         [[[ 9.2847e-02]],\n",
       " \n",
       "          [[-1.5956e-01]],\n",
       " \n",
       "          [[-1.9495e-01]],\n",
       " \n",
       "          [[ 3.4759e-02]],\n",
       " \n",
       "          [[ 3.6341e-01]],\n",
       " \n",
       "          [[-5.0417e-02]],\n",
       " \n",
       "          [[-2.6347e-01]],\n",
       " \n",
       "          [[ 2.5299e-03]],\n",
       " \n",
       "          [[ 7.1417e-02]],\n",
       " \n",
       "          [[ 1.3013e-01]],\n",
       " \n",
       "          [[ 2.0585e-01]],\n",
       " \n",
       "          [[-3.1463e-01]],\n",
       " \n",
       "          [[-2.1980e-01]],\n",
       " \n",
       "          [[-2.0151e-01]],\n",
       " \n",
       "          [[-2.3771e-01]],\n",
       " \n",
       "          [[-3.5829e-01]]],\n",
       " \n",
       " \n",
       "         [[[-8.0453e-02]],\n",
       " \n",
       "          [[-2.3026e-02]],\n",
       " \n",
       "          [[ 2.2959e-01]],\n",
       " \n",
       "          [[ 1.4255e-01]],\n",
       " \n",
       "          [[-1.9838e-01]],\n",
       " \n",
       "          [[-1.5715e-01]],\n",
       " \n",
       "          [[ 2.8049e-01]],\n",
       " \n",
       "          [[-2.0292e-01]],\n",
       " \n",
       "          [[-2.2460e-01]],\n",
       " \n",
       "          [[-9.2298e-02]],\n",
       " \n",
       "          [[ 2.4714e-01]],\n",
       " \n",
       "          [[-9.8200e-02]],\n",
       " \n",
       "          [[-3.4461e-01]],\n",
       " \n",
       "          [[-3.1115e-01]],\n",
       " \n",
       "          [[-2.5708e-01]],\n",
       " \n",
       "          [[-1.8728e-02]]],\n",
       " \n",
       " \n",
       "         [[[ 2.9876e-01]],\n",
       " \n",
       "          [[ 5.4899e-02]],\n",
       " \n",
       "          [[ 3.0478e-01]],\n",
       " \n",
       "          [[-1.7683e-02]],\n",
       " \n",
       "          [[ 4.5873e-02]],\n",
       " \n",
       "          [[ 1.2037e-03]],\n",
       " \n",
       "          [[-3.4725e-01]],\n",
       " \n",
       "          [[-1.0072e-01]],\n",
       " \n",
       "          [[-2.7189e-01]],\n",
       " \n",
       "          [[ 1.3952e-01]],\n",
       " \n",
       "          [[ 1.7110e-01]],\n",
       " \n",
       "          [[-6.1844e-01]],\n",
       " \n",
       "          [[ 2.6849e-02]],\n",
       " \n",
       "          [[ 1.0502e-01]],\n",
       " \n",
       "          [[ 2.8242e-01]],\n",
       " \n",
       "          [[-1.1091e-01]]],\n",
       " \n",
       " \n",
       "         [[[ 9.1869e-02]],\n",
       " \n",
       "          [[ 1.5709e-01]],\n",
       " \n",
       "          [[-3.3366e-01]],\n",
       " \n",
       "          [[-3.0042e-01]],\n",
       " \n",
       "          [[ 2.0820e-01]],\n",
       " \n",
       "          [[-5.2121e-01]],\n",
       " \n",
       "          [[ 1.7194e-01]],\n",
       " \n",
       "          [[ 3.7978e-04]],\n",
       " \n",
       "          [[-2.1268e-02]],\n",
       " \n",
       "          [[ 1.5936e-02]],\n",
       " \n",
       "          [[-1.3867e-01]],\n",
       " \n",
       "          [[ 1.7471e-01]],\n",
       " \n",
       "          [[-2.6021e-01]],\n",
       " \n",
       "          [[ 2.2815e-01]],\n",
       " \n",
       "          [[ 3.7096e-01]],\n",
       " \n",
       "          [[-1.6597e-01]]],\n",
       " \n",
       " \n",
       "         [[[ 3.8060e-03]],\n",
       " \n",
       "          [[ 1.3680e-01]],\n",
       " \n",
       "          [[-1.7254e-01]],\n",
       " \n",
       "          [[ 4.5673e-01]],\n",
       " \n",
       "          [[ 3.6870e-02]],\n",
       " \n",
       "          [[-3.7498e-02]],\n",
       " \n",
       "          [[-1.5170e-01]],\n",
       " \n",
       "          [[-3.7437e-01]],\n",
       " \n",
       "          [[-3.4321e-01]],\n",
       " \n",
       "          [[ 2.7712e-01]],\n",
       " \n",
       "          [[ 1.1410e-01]],\n",
       " \n",
       "          [[-3.2398e-02]],\n",
       " \n",
       "          [[-7.0237e-02]],\n",
       " \n",
       "          [[-7.0562e-02]],\n",
       " \n",
       "          [[ 1.6776e-01]],\n",
       " \n",
       "          [[ 2.7732e-01]]],\n",
       " \n",
       " \n",
       "         [[[-8.7658e-02]],\n",
       " \n",
       "          [[ 2.8184e-01]],\n",
       " \n",
       "          [[-5.4952e-03]],\n",
       " \n",
       "          [[-1.1568e-01]],\n",
       " \n",
       "          [[-6.8986e-02]],\n",
       " \n",
       "          [[ 2.5371e-01]],\n",
       " \n",
       "          [[-1.7758e-01]],\n",
       " \n",
       "          [[ 2.7878e-01]],\n",
       " \n",
       "          [[ 8.8353e-03]],\n",
       " \n",
       "          [[-1.2917e-01]],\n",
       " \n",
       "          [[-2.6398e-01]],\n",
       " \n",
       "          [[-3.2081e-02]],\n",
       " \n",
       "          [[ 3.9876e-02]],\n",
       " \n",
       "          [[ 2.4106e-01]],\n",
       " \n",
       "          [[ 1.7904e-01]],\n",
       " \n",
       "          [[-1.4864e-02]]],\n",
       " \n",
       " \n",
       "         [[[ 2.2702e-01]],\n",
       " \n",
       "          [[ 1.6678e-01]],\n",
       " \n",
       "          [[-9.2857e-02]],\n",
       " \n",
       "          [[-5.4107e-02]],\n",
       " \n",
       "          [[ 4.4545e-02]],\n",
       " \n",
       "          [[-4.4018e-02]],\n",
       " \n",
       "          [[ 8.7922e-02]],\n",
       " \n",
       "          [[-8.8554e-02]],\n",
       " \n",
       "          [[-8.6711e-02]],\n",
       " \n",
       "          [[-5.4329e-01]],\n",
       " \n",
       "          [[-2.1145e-01]],\n",
       " \n",
       "          [[-6.3155e-02]],\n",
       " \n",
       "          [[-5.5626e-01]],\n",
       " \n",
       "          [[ 7.5773e-02]],\n",
       " \n",
       "          [[ 6.7074e-02]],\n",
       " \n",
       "          [[ 9.5090e-03]]]], device='cuda:0', requires_grad=True),\n",
       " 37045821339: Parameter containing:\n",
       " tensor([-0.0012,  0.1030, -0.2736,  0.1457, -0.0820, -0.2214, -0.0483,  0.1155],\n",
       "        device='cuda:0', requires_grad=True),\n",
       " 13950838387: Parameter containing:\n",
       " tensor([[ 0.2370,  0.2578, -0.0861,  ...,  0.0674,  0.0820,  0.1478],\n",
       "         [ 0.0627,  0.1259, -0.1186,  ...,  0.0279,  0.0438,  0.1047],\n",
       "         [-0.0931, -0.0809, -0.0521,  ..., -0.0169, -0.0046, -0.0262],\n",
       "         ...,\n",
       "         [ 0.1407, -0.0982, -0.0505,  ..., -0.0047, -0.0327, -0.0274],\n",
       "         [-0.2251, -0.2246,  0.0540,  ..., -0.0658, -0.0570, -0.1555],\n",
       "         [-0.0103,  0.0369,  0.0039,  ...,  0.0306,  0.0672,  0.0603]],\n",
       "        device='cuda:0', requires_grad=True),\n",
       " 31551202193: Parameter containing:\n",
       " tensor([ 3.5056e-02,  2.9430e-02,  4.9024e-03,  3.0401e-02, -4.2848e-02,\n",
       "          4.8850e-02, -5.4173e-02, -5.2511e-02,  3.9005e-03, -1.7574e-02,\n",
       "          5.4838e-02,  4.3323e-02,  3.0730e-02, -1.6223e-02, -5.9276e-02,\n",
       "         -5.1913e-03,  5.5668e-02, -1.5734e-02, -1.3540e-02, -2.1963e-02,\n",
       "          5.9425e-03, -1.5572e-02, -5.7388e-02,  6.2542e-02,  7.0559e-02,\n",
       "         -9.8552e-03,  2.9378e-02,  4.9179e-02,  2.7697e-02, -1.9012e-02,\n",
       "          2.4644e-02, -4.0714e-02,  5.2261e-02,  5.1829e-02,  2.8212e-02,\n",
       "         -2.6925e-02, -2.6933e-02, -1.5345e-02,  1.9868e-02,  5.2988e-02,\n",
       "         -2.0203e-02, -1.3218e-02,  2.1022e-02,  3.5912e-02,  7.0093e-02,\n",
       "          2.3053e-02, -5.9084e-02,  6.8652e-02, -9.6371e-03, -3.9892e-02,\n",
       "          1.8389e-02,  5.0485e-02,  6.0827e-02,  3.4004e-02,  5.2286e-02,\n",
       "         -4.1839e-02,  6.3553e-02,  2.8017e-02, -3.1121e-03,  5.7920e-02,\n",
       "         -1.7395e-03, -3.6587e-03,  3.9138e-02, -2.5458e-02, -4.0222e-02,\n",
       "          3.6171e-02, -5.0768e-02,  6.0691e-02, -1.2555e-02, -1.8000e-02,\n",
       "          3.1034e-02, -3.7381e-02,  5.2447e-02, -2.9775e-02, -9.6967e-03,\n",
       "          4.8305e-02,  1.5167e-02,  4.0618e-02,  6.3882e-02,  5.8336e-02,\n",
       "         -6.6955e-02,  3.8998e-02, -7.1504e-02, -1.6122e-02,  5.9795e-02,\n",
       "         -2.3194e-02, -1.6931e-02,  8.5785e-03,  2.0466e-02, -3.6556e-02,\n",
       "          7.3984e-02,  3.6917e-02, -1.9080e-02,  3.4386e-02,  1.0757e-02,\n",
       "         -6.8339e-02, -5.4428e-02,  7.0190e-02,  3.8805e-02,  3.0807e-02,\n",
       "         -3.8452e-02,  3.6365e-02, -3.7174e-02,  3.7021e-02, -4.1556e-02,\n",
       "         -6.4770e-02,  5.7201e-02, -1.9343e-02, -6.6789e-02, -1.6620e-03,\n",
       "          2.5570e-02,  4.1836e-02,  1.0916e-02, -4.4425e-02,  3.3329e-02,\n",
       "          1.8351e-02, -1.3992e-02,  1.0021e-02,  2.9662e-02,  1.1788e-02,\n",
       "         -1.6298e-02,  4.0014e-02,  6.1229e-03,  3.6520e-02, -1.8561e-02,\n",
       "         -6.5364e-02, -1.9353e-02, -6.1677e-02,  5.8745e-02,  3.9589e-02,\n",
       "          1.8031e-02,  2.3677e-02, -5.3752e-02,  2.2809e-02,  6.8195e-02,\n",
       "         -3.1634e-02,  8.9462e-03, -2.7042e-02,  3.0206e-02,  2.3469e-02,\n",
       "          3.2430e-02, -7.7307e-02,  3.8047e-03,  2.1160e-02, -8.6266e-03,\n",
       "          5.6027e-02,  2.3905e-02, -3.8246e-02, -3.1602e-02, -5.5579e-02,\n",
       "         -1.2723e-02, -2.1895e-02, -5.8697e-02,  3.6265e-02, -1.1922e-02,\n",
       "          1.4217e-02, -5.4253e-02, -8.3605e-03,  1.4653e-02, -2.0844e-02,\n",
       "          5.0872e-02,  2.2001e-02,  3.9565e-02, -2.4360e-02,  6.8826e-02,\n",
       "          6.5870e-02,  6.5985e-02, -5.9895e-02, -1.3327e-02, -1.2805e-03,\n",
       "          1.9579e-02,  2.9860e-02, -1.0895e-02,  5.9092e-02, -2.9626e-02,\n",
       "         -5.8702e-02, -1.7214e-02, -3.7431e-02,  1.1830e-02, -4.8494e-02,\n",
       "          2.4650e-02,  2.8296e-02, -4.4551e-02,  3.8843e-02,  1.4685e-02,\n",
       "         -6.8745e-02,  6.7645e-02, -2.8662e-02, -5.4345e-02, -2.0166e-02,\n",
       "         -4.0966e-02, -9.7003e-03,  5.4845e-02, -6.3723e-02,  4.4494e-02,\n",
       "         -6.0499e-02, -3.8506e-02,  2.2155e-03, -5.6921e-02,  1.7191e-02,\n",
       "          1.7255e-02,  5.1286e-03, -4.0179e-02, -3.2008e-02,  2.6934e-02,\n",
       "          6.1284e-02,  1.0275e-02, -4.2690e-02, -5.0470e-02, -2.2448e-02,\n",
       "          5.2619e-03,  9.1262e-03,  7.1129e-02,  1.6629e-02,  3.0181e-02,\n",
       "         -5.6007e-02, -4.2950e-02,  4.7452e-02,  3.1813e-02,  6.2442e-02,\n",
       "         -6.6517e-02,  5.5509e-02,  6.8133e-03,  3.2056e-02,  1.3556e-02,\n",
       "         -1.5717e-02, -4.2206e-02,  1.9830e-02,  1.9907e-02,  1.9233e-02,\n",
       "         -3.6130e-03,  7.7828e-03, -4.6393e-02, -1.6671e-02,  2.3401e-03,\n",
       "          2.2028e-02,  5.3854e-02,  2.5417e-02, -4.7949e-02, -3.4246e-02,\n",
       "         -1.2688e-02,  7.7582e-03,  2.8796e-02,  1.2933e-02, -3.2931e-02,\n",
       "         -1.3397e-02,  3.4144e-02, -4.2399e-02,  7.3364e-02, -5.4246e-02,\n",
       "         -1.7328e-03, -3.7654e-02, -3.4650e-02,  5.3889e-02,  3.8748e-02,\n",
       "          2.6289e-02, -6.0870e-02,  8.0902e-03,  4.6591e-02,  1.0677e-03,\n",
       "          5.3237e-02,  1.3377e-02, -4.1055e-02,  7.4465e-02,  3.7701e-02,\n",
       "          2.5027e-03, -6.9885e-02, -5.7303e-04,  2.3024e-02, -5.6316e-02,\n",
       "          1.0734e-02,  3.8530e-02, -6.5989e-02,  1.4675e-02,  4.5593e-02,\n",
       "          4.5171e-02,  8.7379e-03, -2.3677e-02, -4.4902e-02, -3.4210e-02,\n",
       "         -2.0315e-02,  1.5920e-03,  2.1090e-02,  6.4938e-02,  3.9393e-02,\n",
       "         -3.5247e-02,  1.7984e-02,  1.5516e-02,  4.2520e-02, -4.9438e-02,\n",
       "         -5.1455e-03, -1.7634e-02,  2.1198e-02,  5.1244e-02,  2.5595e-02,\n",
       "         -2.6453e-02, -3.5530e-02,  6.1417e-02, -5.7692e-02, -5.1154e-02,\n",
       "         -2.3108e-02, -1.0214e-02, -3.6637e-02, -3.5234e-02,  1.6245e-02,\n",
       "         -1.2253e-02,  1.4728e-02, -3.0333e-02, -7.1442e-02, -5.4276e-02,\n",
       "         -4.9431e-02,  3.7987e-02, -2.3532e-02,  2.2046e-02, -4.2212e-02,\n",
       "         -1.3939e-02,  7.8666e-02,  1.0789e-02, -9.9244e-03, -2.9449e-02,\n",
       "          5.2245e-02, -2.9107e-02,  6.7296e-02, -3.9522e-02,  3.4103e-02,\n",
       "          1.8179e-02,  4.7190e-02, -4.1400e-02,  2.5830e-02,  4.6885e-02,\n",
       "          8.0720e-04,  2.3617e-02, -2.5559e-02,  5.2103e-02,  3.0620e-02,\n",
       "          2.7343e-02,  2.3774e-02,  6.5041e-02,  1.7920e-02,  2.0059e-02,\n",
       "          4.7686e-02, -3.1488e-02, -4.6570e-02,  4.3699e-02,  2.2412e-02,\n",
       "          2.5779e-02,  4.4303e-02,  4.4146e-02,  3.2239e-02,  1.7994e-02,\n",
       "         -2.8498e-02, -6.5059e-02, -2.1559e-02,  8.5732e-03, -1.0845e-02,\n",
       "         -2.4776e-02,  2.2986e-02,  5.0232e-02,  4.2896e-02, -3.3624e-02,\n",
       "          2.3576e-02, -2.8978e-02, -2.8962e-03,  2.0774e-02,  2.3592e-02,\n",
       "         -3.3239e-02,  1.8204e-02,  5.8280e-03, -1.5910e-02,  1.1291e-03,\n",
       "         -2.5298e-02, -2.6614e-03,  2.3881e-02,  4.3394e-02,  1.6159e-02,\n",
       "         -2.6515e-02, -5.2777e-02, -6.2214e-02,  4.8676e-02,  2.2522e-02,\n",
       "          1.0060e-02,  1.3181e-02,  1.9712e-02,  5.7876e-02,  9.0690e-03,\n",
       "         -3.4185e-02,  1.9898e-02, -4.2022e-02, -6.7044e-02,  4.9588e-02,\n",
       "         -1.7131e-02, -2.7607e-02,  5.7200e-02,  4.7424e-02, -1.4057e-02,\n",
       "          3.2313e-02,  2.1801e-02, -1.7373e-02,  2.5728e-02, -1.4489e-02,\n",
       "          1.3378e-02, -1.1112e-02, -5.8010e-03,  2.9811e-03,  1.6043e-02,\n",
       "          7.0684e-02, -3.5820e-02,  4.9454e-02, -1.3302e-02, -1.9623e-02,\n",
       "          7.1097e-02, -5.8014e-02,  2.7793e-02, -5.0233e-02, -1.3570e-02,\n",
       "         -2.6005e-02, -1.2737e-02, -7.8420e-02,  2.9300e-02, -4.1696e-02,\n",
       "          5.8123e-02, -4.4072e-02, -4.6118e-02, -6.8207e-02,  2.4010e-02,\n",
       "          3.2764e-02,  3.8934e-02, -3.2808e-02, -4.2861e-02,  2.5805e-03,\n",
       "         -2.9975e-02, -3.0720e-02, -3.6948e-02,  4.7243e-02,  5.7058e-02,\n",
       "         -2.8944e-02, -1.9099e-02, -1.6765e-02,  3.1969e-02,  3.0468e-02,\n",
       "         -1.1480e-02, -1.6492e-02, -3.9964e-02, -1.4061e-02, -5.1912e-02,\n",
       "          3.4791e-02,  2.3532e-02,  4.1045e-02,  2.5603e-03,  4.0703e-02,\n",
       "         -4.6852e-02, -5.5515e-02, -2.0056e-02, -6.5662e-02, -2.9039e-02,\n",
       "          4.1035e-02, -3.2312e-02, -6.0723e-02, -2.7836e-02, -3.6453e-02,\n",
       "          5.6652e-02, -1.8086e-02, -2.0447e-02,  5.0672e-02,  5.5027e-02,\n",
       "         -1.9524e-02, -3.8471e-02, -2.6618e-02, -1.0782e-02, -1.6415e-02,\n",
       "          3.3178e-02, -6.5554e-02, -2.9173e-02,  6.4340e-02, -1.6039e-02,\n",
       "         -5.7575e-02, -6.7752e-02,  5.5882e-02,  5.8282e-02,  7.1117e-02,\n",
       "          6.0685e-02,  3.8344e-02,  3.6669e-02, -1.5611e-02, -5.6729e-02,\n",
       "         -1.0548e-02, -1.1122e-02,  5.6098e-03, -1.0256e-02,  4.6051e-02,\n",
       "          5.1439e-02,  3.4749e-02, -5.2679e-02,  2.5067e-02, -3.4309e-02,\n",
       "         -3.4290e-02, -3.2295e-02,  2.5228e-02,  1.8913e-02,  2.9727e-02,\n",
       "          4.9527e-02, -6.1984e-02,  7.6024e-02, -3.1888e-03,  7.1756e-02,\n",
       "          6.2344e-02, -6.1730e-02,  3.5141e-02,  2.8548e-02, -9.2979e-03,\n",
       "         -3.5581e-02,  6.0971e-05], device='cuda:0', requires_grad=True),\n",
       " 39407011074: Parameter containing:\n",
       " tensor([[-0.0999, -0.0044,  0.0213,  ...,  0.0034,  0.1289,  0.0070],\n",
       "         [ 0.0647,  0.0547, -0.0092,  ..., -0.0093, -0.1138,  0.0290]],\n",
       "        device='cuda:0', requires_grad=True),\n",
       " 62658043697: Parameter containing:\n",
       " tensor([-0.0339,  0.0142], device='cuda:0', requires_grad=True)}"
      ]
     },
     "execution_count": 29,
     "metadata": {},
     "output_type": "execute_result"
    }
   ],
   "source": [
    "bob._objects"
   ]
  },
  {
   "cell_type": "code",
   "execution_count": null,
   "metadata": {},
   "outputs": [],
   "source": []
  }
 ],
 "metadata": {
  "kernelspec": {
   "display_name": "Python 3",
   "language": "python",
   "name": "python3"
  },
  "language_info": {
   "codemirror_mode": {
    "name": "ipython",
    "version": 3
   },
   "file_extension": ".py",
   "mimetype": "text/x-python",
   "name": "python",
   "nbconvert_exporter": "python",
   "pygments_lexer": "ipython3",
   "version": "3.6.9"
  }
 },
 "nbformat": 4,
 "nbformat_minor": 4
}
